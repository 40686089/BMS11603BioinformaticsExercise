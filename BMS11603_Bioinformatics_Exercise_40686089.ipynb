{
  "nbformat": 4,
  "nbformat_minor": 0,
  "metadata": {
    "colab": {
      "provenance": [],
      "authorship_tag": "ABX9TyOhcIM1pRgbFHxx8D+7oVMH",
      "include_colab_link": true
    },
    "kernelspec": {
      "name": "ir",
      "display_name": "R"
    },
    "language_info": {
      "name": "R"
    }
  },
  "cells": [
    {
      "cell_type": "markdown",
      "metadata": {
        "id": "view-in-github",
        "colab_type": "text"
      },
      "source": [
        "<a href=\"https://colab.research.google.com/github/40686089/BMS11603BioinformaticsExercise/blob/main/BMS11603_Bioinformatics_Exercise_40686089.ipynb\" target=\"_parent\"><img src=\"https://colab.research.google.com/assets/colab-badge.svg\" alt=\"Open In Colab\"/></a>"
      ]
    },
    {
      "cell_type": "markdown",
      "source": [
        "# **Bioinformatics Exercise**\n",
        "\n",
        "---\n",
        "\n"
      ],
      "metadata": {
        "id": "jfMMnFCsjniZ"
      }
    },
    {
      "cell_type": "markdown",
      "source": [
        "## **1. Introduction to Bioinformatics Data Skills**\n",
        "The following bioinformatics exercise will be focusing on analyzing bioinformatics data of given SARS-CoV-2 sequences (in FASTA format) using Biostrings in R. Well organised Colab notebook files will be created, with clear and reproducible outcomes. By working with the provided SAR-CoV-2 sequences, the assessment will be demonstrating the importance of data cleanup, calculation of coverage, setting of random seed for results reproducibility, calculation of GC contents of selected sequences, filtering out low coverage sequences to produce higher quality results for analysis and identification of spike gene region. Each code block will be accompanied by text for code usage explanation.\n",
        "\n",
        "---\n",
        "\n",
        "\n"
      ],
      "metadata": {
        "id": "-3Mj_dlPj9Dg"
      }
    },
    {
      "cell_type": "markdown",
      "source": [
        "## **2. Data Cleaning and Quality Control**"
      ],
      "metadata": {
        "id": "rWd7ms0VmKbd"
      }
    },
    {
      "cell_type": "code",
      "source": [
        "# This is to install the necessary \"Biostrings\" library and then load it after installation\n",
        "if (!require(\"BiocManager\", quietly = TRUE))\n",
        "    install.packages(\"BiocManager\")\n",
        "\n",
        "BiocManager::install(\"Biostrings\")\n",
        "library(Biostrings)"
      ],
      "metadata": {
        "colab": {
          "base_uri": "https://localhost:8080/"
        },
        "id": "G3WL2FJ2KGty",
        "outputId": "be4ca856-8f4a-4397-e41f-59a968d10821"
      },
      "execution_count": null,
      "outputs": [
        {
          "output_type": "stream",
          "name": "stderr",
          "text": [
            "'getOption(\"repos\")' replaces Bioconductor standard repositories, see\n",
            "'help(\"repositories\", package = \"BiocManager\")' for details.\n",
            "Replacement repositories:\n",
            "    CRAN: https://cran.rstudio.com\n",
            "\n",
            "Bioconductor version 3.20 (BiocManager 1.30.25), R 4.4.2 (2024-10-31)\n",
            "\n",
            "Warning message:\n",
            "“package(s) not installed when version(s) same as or greater than current; use\n",
            "  `force = TRUE` to re-install: 'Biostrings'”\n",
            "Old packages: 'httr2', 'later', 'promises', 'usethis'\n",
            "\n"
          ]
        }
      ]
    },
    {
      "cell_type": "code",
      "source": [
        "# Load the SARS-CoV-2 FASTA file required as instructed by the coursework into the colab notebook\n",
        "fasta_file <- \"https://raw.githubusercontent.com/Koohoko/HKU_Space_Data_handling_bioinformatics_lessons_2024/refs/heads/main/sequence_data/selected_seqs.fasta\"\n",
        "sequences <- readDNAStringSet(fasta_file)"
      ],
      "metadata": {
        "id": "plaOhL3oMGxN"
      },
      "execution_count": null,
      "outputs": []
    },
    {
      "cell_type": "code",
      "source": [
        "# Print the 20 sequences and it should contain 29903 bp for each sequence\n",
        "print(sequences)"
      ],
      "metadata": {
        "colab": {
          "base_uri": "https://localhost:8080/"
        },
        "id": "pXQpMf9oQJKz",
        "outputId": "e32af2f3-468c-4218-b6fe-3c82a3f833f2"
      },
      "execution_count": null,
      "outputs": [
        {
          "output_type": "stream",
          "name": "stdout",
          "text": [
            "DNAStringSet object of length 20:\n",
            "     width seq                                              names               \n",
            " [1] 29903 \u001b[47m\u001b[37mN\u001b[39m\u001b[49m\u001b[47m\u001b[37mN\u001b[39m\u001b[49m\u001b[47m\u001b[37mN\u001b[39m\u001b[49m\u001b[47m\u001b[37mN\u001b[39m\u001b[49m\u001b[47m\u001b[30mA\u001b[39m\u001b[49m\u001b[47m\u001b[30mA\u001b[39m\u001b[49m\u001b[47m\u001b[30mG\u001b[39m\u001b[49m\u001b[47m\u001b[30mG\u001b[39m\u001b[49m\u001b[47m\u001b[30mT\u001b[39m\u001b[49m\u001b[47m\u001b[30mT\u001b[39m\u001b[49m\u001b[47m\u001b[30mT\u001b[39m\u001b[49m\u001b[47m\u001b[30mA\u001b[39m\u001b[49m\u001b[47m\u001b[30mT\u001b[39m\u001b[49m\u001b[47m\u001b[30mA\u001b[39m\u001b[49m\u001b[47m\u001b[30mC\u001b[39m\u001b[49m\u001b[47m\u001b[30mC\u001b[39m\u001b[49m\u001b[47m\u001b[30mT\u001b[39m\u001b[49m\u001b[47m\u001b[30mT\u001b[39m\u001b[49m\u001b[47m\u001b[30mC\u001b[39m\u001b[49m\u001b[47m\u001b[30mC\u001b[39m\u001b[49m\u001b[47m\u001b[30mC\u001b[39m\u001b[49m\u001b[47m\u001b[30mA\u001b[39m\u001b[49m\u001b[47m\u001b[30mG\u001b[39m\u001b[49m...\u001b[47m\u001b[30mA\u001b[39m\u001b[49m\u001b[47m\u001b[30mA\u001b[39m\u001b[49m\u001b[47m\u001b[30mA\u001b[39m\u001b[49m\u001b[47m\u001b[30mA\u001b[39m\u001b[49m\u001b[47m\u001b[30mA\u001b[39m\u001b[49m\u001b[47m\u001b[30mA\u001b[39m\u001b[49m\u001b[47m\u001b[30mA\u001b[39m\u001b[49m\u001b[47m\u001b[30mA\u001b[39m\u001b[49m\u001b[47m\u001b[30mA\u001b[39m\u001b[49m\u001b[47m\u001b[30mA\u001b[39m\u001b[49m\u001b[47m\u001b[30mA\u001b[39m\u001b[49m\u001b[47m\u001b[30mA\u001b[39m\u001b[49m\u001b[47m\u001b[30mA\u001b[39m\u001b[49m\u001b[47m\u001b[30mA\u001b[39m\u001b[49m\u001b[47m\u001b[30mA\u001b[39m\u001b[49m\u001b[47m\u001b[30mA\u001b[39m\u001b[49m\u001b[47m\u001b[30mA\u001b[39m\u001b[49m\u001b[47m\u001b[30mA\u001b[39m\u001b[49m\u001b[47m\u001b[30mA\u001b[39m\u001b[49m\u001b[47m\u001b[30mA\u001b[39m\u001b[49m\u001b[47m\u001b[30mA\u001b[39m\u001b[49m\u001b[47m\u001b[30mA\u001b[39m\u001b[49m WHP10644-AV41_RC8...\n",
            " [2] 29903 \u001b[47m\u001b[37mN\u001b[39m\u001b[49m\u001b[47m\u001b[37mN\u001b[39m\u001b[49m\u001b[47m\u001b[37mN\u001b[39m\u001b[49m\u001b[47m\u001b[37mN\u001b[39m\u001b[49m\u001b[47m\u001b[37mN\u001b[39m\u001b[49m\u001b[47m\u001b[37mN\u001b[39m\u001b[49m\u001b[47m\u001b[37mN\u001b[39m\u001b[49m\u001b[47m\u001b[30mG\u001b[39m\u001b[49m\u001b[47m\u001b[30mT\u001b[39m\u001b[49m\u001b[47m\u001b[30mT\u001b[39m\u001b[49m\u001b[47m\u001b[30mT\u001b[39m\u001b[49m\u001b[47m\u001b[30mA\u001b[39m\u001b[49m\u001b[47m\u001b[30mT\u001b[39m\u001b[49m\u001b[47m\u001b[30mA\u001b[39m\u001b[49m\u001b[47m\u001b[30mC\u001b[39m\u001b[49m\u001b[47m\u001b[30mC\u001b[39m\u001b[49m\u001b[47m\u001b[30mT\u001b[39m\u001b[49m\u001b[47m\u001b[30mT\u001b[39m\u001b[49m\u001b[47m\u001b[30mC\u001b[39m\u001b[49m\u001b[47m\u001b[30mC\u001b[39m\u001b[49m\u001b[47m\u001b[30mC\u001b[39m\u001b[49m\u001b[47m\u001b[30mA\u001b[39m\u001b[49m\u001b[47m\u001b[30mG\u001b[39m\u001b[49m...\u001b[47m\u001b[37mN\u001b[39m\u001b[49m\u001b[47m\u001b[37mN\u001b[39m\u001b[49m\u001b[47m\u001b[37mN\u001b[39m\u001b[49m\u001b[47m\u001b[37mN\u001b[39m\u001b[49m\u001b[47m\u001b[37mN\u001b[39m\u001b[49m\u001b[47m\u001b[37mN\u001b[39m\u001b[49m\u001b[47m\u001b[37mN\u001b[39m\u001b[49m\u001b[47m\u001b[37mN\u001b[39m\u001b[49m\u001b[47m\u001b[37mN\u001b[39m\u001b[49m\u001b[47m\u001b[37mN\u001b[39m\u001b[49m\u001b[47m\u001b[37mN\u001b[39m\u001b[49m\u001b[47m\u001b[37mN\u001b[39m\u001b[49m\u001b[47m\u001b[37mN\u001b[39m\u001b[49m\u001b[47m\u001b[37mN\u001b[39m\u001b[49m\u001b[47m\u001b[37mN\u001b[39m\u001b[49m\u001b[47m\u001b[37mN\u001b[39m\u001b[49m\u001b[47m\u001b[37mN\u001b[39m\u001b[49m\u001b[47m\u001b[37mN\u001b[39m\u001b[49m\u001b[47m\u001b[37mN\u001b[39m\u001b[49m\u001b[47m\u001b[37mN\u001b[39m\u001b[49m\u001b[47m\u001b[37mN\u001b[39m\u001b[49m\u001b[47m\u001b[37mN\u001b[39m\u001b[49m WHP7426-H2-iseq_1...\n",
            " [3] 29903 \u001b[47m\u001b[37mN\u001b[39m\u001b[49m\u001b[47m\u001b[37mN\u001b[39m\u001b[49m\u001b[47m\u001b[37mN\u001b[39m\u001b[49m\u001b[47m\u001b[37mN\u001b[39m\u001b[49m\u001b[47m\u001b[37mN\u001b[39m\u001b[49m\u001b[47m\u001b[37mN\u001b[39m\u001b[49m\u001b[47m\u001b[37mN\u001b[39m\u001b[49m\u001b[47m\u001b[37mN\u001b[39m\u001b[49m\u001b[47m\u001b[37mN\u001b[39m\u001b[49m\u001b[47m\u001b[37mN\u001b[39m\u001b[49m\u001b[47m\u001b[37mN\u001b[39m\u001b[49m\u001b[47m\u001b[37mN\u001b[39m\u001b[49m\u001b[47m\u001b[37mN\u001b[39m\u001b[49m\u001b[47m\u001b[37mN\u001b[39m\u001b[49m\u001b[47m\u001b[37mN\u001b[39m\u001b[49m\u001b[47m\u001b[37mN\u001b[39m\u001b[49m\u001b[47m\u001b[37mN\u001b[39m\u001b[49m\u001b[47m\u001b[37mN\u001b[39m\u001b[49m\u001b[47m\u001b[37mN\u001b[39m\u001b[49m\u001b[47m\u001b[37mN\u001b[39m\u001b[49m\u001b[47m\u001b[37mN\u001b[39m\u001b[49m\u001b[47m\u001b[37mN\u001b[39m\u001b[49m\u001b[47m\u001b[37mN\u001b[39m\u001b[49m...\u001b[47m\u001b[30mA\u001b[39m\u001b[49m\u001b[47m\u001b[30mA\u001b[39m\u001b[49m\u001b[47m\u001b[30mA\u001b[39m\u001b[49m\u001b[47m\u001b[30mA\u001b[39m\u001b[49m\u001b[47m\u001b[30mA\u001b[39m\u001b[49m\u001b[47m\u001b[30mA\u001b[39m\u001b[49m\u001b[47m\u001b[30mA\u001b[39m\u001b[49m\u001b[47m\u001b[30mA\u001b[39m\u001b[49m\u001b[47m\u001b[30mA\u001b[39m\u001b[49m\u001b[47m\u001b[30mA\u001b[39m\u001b[49m\u001b[47m\u001b[30mA\u001b[39m\u001b[49m\u001b[47m\u001b[30mA\u001b[39m\u001b[49m\u001b[47m\u001b[30mA\u001b[39m\u001b[49m\u001b[47m\u001b[30mA\u001b[39m\u001b[49m\u001b[47m\u001b[30mA\u001b[39m\u001b[49m\u001b[47m\u001b[30mA\u001b[39m\u001b[49m\u001b[47m\u001b[30mA\u001b[39m\u001b[49m\u001b[47m\u001b[30mA\u001b[39m\u001b[49m\u001b[47m\u001b[30mA\u001b[39m\u001b[49m\u001b[47m\u001b[30mA\u001b[39m\u001b[49m\u001b[47m\u001b[30mA\u001b[39m\u001b[49m\u001b[47m\u001b[30mA\u001b[39m\u001b[49m WHP3916_10681\n",
            " [4] 29903 \u001b[47m\u001b[37mN\u001b[39m\u001b[49m\u001b[47m\u001b[37mN\u001b[39m\u001b[49m\u001b[47m\u001b[37mN\u001b[39m\u001b[49m\u001b[47m\u001b[37mN\u001b[39m\u001b[49m\u001b[47m\u001b[30mA\u001b[39m\u001b[49m\u001b[47m\u001b[30mA\u001b[39m\u001b[49m\u001b[47m\u001b[30mG\u001b[39m\u001b[49m\u001b[47m\u001b[30mG\u001b[39m\u001b[49m\u001b[47m\u001b[30mT\u001b[39m\u001b[49m\u001b[47m\u001b[30mT\u001b[39m\u001b[49m\u001b[47m\u001b[30mT\u001b[39m\u001b[49m\u001b[47m\u001b[30mA\u001b[39m\u001b[49m\u001b[47m\u001b[30mT\u001b[39m\u001b[49m\u001b[47m\u001b[30mA\u001b[39m\u001b[49m\u001b[47m\u001b[30mC\u001b[39m\u001b[49m\u001b[47m\u001b[30mC\u001b[39m\u001b[49m\u001b[47m\u001b[30mT\u001b[39m\u001b[49m\u001b[47m\u001b[30mT\u001b[39m\u001b[49m\u001b[47m\u001b[30mC\u001b[39m\u001b[49m\u001b[47m\u001b[30mC\u001b[39m\u001b[49m\u001b[47m\u001b[30mC\u001b[39m\u001b[49m\u001b[47m\u001b[30mA\u001b[39m\u001b[49m\u001b[47m\u001b[30mG\u001b[39m\u001b[49m...\u001b[47m\u001b[30mA\u001b[39m\u001b[49m\u001b[47m\u001b[30mA\u001b[39m\u001b[49m\u001b[47m\u001b[30mA\u001b[39m\u001b[49m\u001b[47m\u001b[30mA\u001b[39m\u001b[49m\u001b[47m\u001b[30mA\u001b[39m\u001b[49m\u001b[47m\u001b[30mA\u001b[39m\u001b[49m\u001b[47m\u001b[30mA\u001b[39m\u001b[49m\u001b[47m\u001b[30mA\u001b[39m\u001b[49m\u001b[47m\u001b[30mA\u001b[39m\u001b[49m\u001b[47m\u001b[30mA\u001b[39m\u001b[49m\u001b[47m\u001b[30mA\u001b[39m\u001b[49m\u001b[47m\u001b[30mA\u001b[39m\u001b[49m\u001b[47m\u001b[30mA\u001b[39m\u001b[49m\u001b[47m\u001b[30mA\u001b[39m\u001b[49m\u001b[47m\u001b[30mA\u001b[39m\u001b[49m\u001b[47m\u001b[30mA\u001b[39m\u001b[49m\u001b[47m\u001b[30mA\u001b[39m\u001b[49m\u001b[47m\u001b[30mA\u001b[39m\u001b[49m\u001b[47m\u001b[30mA\u001b[39m\u001b[49m\u001b[47m\u001b[30mA\u001b[39m\u001b[49m\u001b[47m\u001b[30mA\u001b[39m\u001b[49m\u001b[47m\u001b[30mA\u001b[39m\u001b[49m WHP1939_3582\n",
            " [5] 29903 \u001b[47m\u001b[37mN\u001b[39m\u001b[49m\u001b[47m\u001b[37mN\u001b[39m\u001b[49m\u001b[47m\u001b[37mN\u001b[39m\u001b[49m\u001b[47m\u001b[37mN\u001b[39m\u001b[49m\u001b[47m\u001b[37mN\u001b[39m\u001b[49m\u001b[47m\u001b[37mN\u001b[39m\u001b[49m\u001b[47m\u001b[37mN\u001b[39m\u001b[49m\u001b[47m\u001b[37mN\u001b[39m\u001b[49m\u001b[47m\u001b[37mN\u001b[39m\u001b[49m\u001b[47m\u001b[37mN\u001b[39m\u001b[49m\u001b[47m\u001b[37mN\u001b[39m\u001b[49m\u001b[47m\u001b[37mN\u001b[39m\u001b[49m\u001b[47m\u001b[37mN\u001b[39m\u001b[49m\u001b[47m\u001b[37mN\u001b[39m\u001b[49m\u001b[47m\u001b[37mN\u001b[39m\u001b[49m\u001b[47m\u001b[37mN\u001b[39m\u001b[49m\u001b[47m\u001b[37mN\u001b[39m\u001b[49m\u001b[47m\u001b[37mN\u001b[39m\u001b[49m\u001b[47m\u001b[37mN\u001b[39m\u001b[49m\u001b[47m\u001b[37mN\u001b[39m\u001b[49m\u001b[47m\u001b[37mN\u001b[39m\u001b[49m\u001b[47m\u001b[37mN\u001b[39m\u001b[49m\u001b[47m\u001b[37mN\u001b[39m\u001b[49m...\u001b[47m\u001b[30mA\u001b[39m\u001b[49m\u001b[47m\u001b[30mA\u001b[39m\u001b[49m\u001b[47m\u001b[30mA\u001b[39m\u001b[49m\u001b[47m\u001b[30mA\u001b[39m\u001b[49m\u001b[47m\u001b[30mA\u001b[39m\u001b[49m\u001b[47m\u001b[30mA\u001b[39m\u001b[49m\u001b[47m\u001b[30mA\u001b[39m\u001b[49m\u001b[47m\u001b[30mA\u001b[39m\u001b[49m\u001b[47m\u001b[30mA\u001b[39m\u001b[49m\u001b[47m\u001b[30mA\u001b[39m\u001b[49m\u001b[47m\u001b[30mA\u001b[39m\u001b[49m\u001b[47m\u001b[30mA\u001b[39m\u001b[49m\u001b[47m\u001b[30mA\u001b[39m\u001b[49m\u001b[47m\u001b[30mA\u001b[39m\u001b[49m\u001b[47m\u001b[30mA\u001b[39m\u001b[49m\u001b[47m\u001b[30mA\u001b[39m\u001b[49m\u001b[47m\u001b[30mA\u001b[39m\u001b[49m\u001b[47m\u001b[30mA\u001b[39m\u001b[49m\u001b[47m\u001b[30mA\u001b[39m\u001b[49m\u001b[47m\u001b[30mA\u001b[39m\u001b[49m\u001b[47m\u001b[30mA\u001b[39m\u001b[49m\u001b[47m\u001b[30mA\u001b[39m\u001b[49m GSR4-S14-iseq_NA\n",
            " ...   ... ...\n",
            "[16] 29903 \u001b[47m\u001b[37mN\u001b[39m\u001b[49m\u001b[47m\u001b[37mN\u001b[39m\u001b[49m\u001b[47m\u001b[37mN\u001b[39m\u001b[49m\u001b[47m\u001b[37mN\u001b[39m\u001b[49m\u001b[47m\u001b[37mN\u001b[39m\u001b[49m\u001b[47m\u001b[37mN\u001b[39m\u001b[49m\u001b[47m\u001b[37mN\u001b[39m\u001b[49m\u001b[47m\u001b[30mG\u001b[39m\u001b[49m\u001b[47m\u001b[30mT\u001b[39m\u001b[49m\u001b[47m\u001b[30mT\u001b[39m\u001b[49m\u001b[47m\u001b[30mT\u001b[39m\u001b[49m\u001b[47m\u001b[30mA\u001b[39m\u001b[49m\u001b[47m\u001b[30mT\u001b[39m\u001b[49m\u001b[47m\u001b[30mA\u001b[39m\u001b[49m\u001b[47m\u001b[30mC\u001b[39m\u001b[49m\u001b[47m\u001b[30mC\u001b[39m\u001b[49m\u001b[47m\u001b[30mT\u001b[39m\u001b[49m\u001b[47m\u001b[30mT\u001b[39m\u001b[49m\u001b[47m\u001b[30mC\u001b[39m\u001b[49m\u001b[47m\u001b[30mC\u001b[39m\u001b[49m\u001b[47m\u001b[30mC\u001b[39m\u001b[49m\u001b[47m\u001b[30mA\u001b[39m\u001b[49m\u001b[47m\u001b[30mG\u001b[39m\u001b[49m...\u001b[47m\u001b[30mA\u001b[39m\u001b[49m\u001b[47m\u001b[30mA\u001b[39m\u001b[49m\u001b[47m\u001b[30mA\u001b[39m\u001b[49m\u001b[47m\u001b[30mA\u001b[39m\u001b[49m\u001b[47m\u001b[30mA\u001b[39m\u001b[49m\u001b[47m\u001b[30mA\u001b[39m\u001b[49m\u001b[47m\u001b[30mA\u001b[39m\u001b[49m\u001b[47m\u001b[30mA\u001b[39m\u001b[49m\u001b[47m\u001b[30mA\u001b[39m\u001b[49m\u001b[47m\u001b[30mA\u001b[39m\u001b[49m\u001b[47m\u001b[30mA\u001b[39m\u001b[49m\u001b[47m\u001b[30mA\u001b[39m\u001b[49m\u001b[47m\u001b[30mA\u001b[39m\u001b[49m\u001b[47m\u001b[30mA\u001b[39m\u001b[49m\u001b[47m\u001b[30mA\u001b[39m\u001b[49m\u001b[47m\u001b[30mA\u001b[39m\u001b[49m\u001b[47m\u001b[30mA\u001b[39m\u001b[49m\u001b[47m\u001b[30mA\u001b[39m\u001b[49m\u001b[47m\u001b[30mA\u001b[39m\u001b[49m\u001b[47m\u001b[30mA\u001b[39m\u001b[49m\u001b[47m\u001b[30mA\u001b[39m\u001b[49m\u001b[47m\u001b[30mA\u001b[39m\u001b[49m VOC1980-H2-iseq_NA\n",
            "[17] 29903 \u001b[47m\u001b[37mN\u001b[39m\u001b[49m\u001b[47m\u001b[37mN\u001b[39m\u001b[49m\u001b[47m\u001b[37mN\u001b[39m\u001b[49m\u001b[47m\u001b[37mN\u001b[39m\u001b[49m\u001b[47m\u001b[30mA\u001b[39m\u001b[49m\u001b[47m\u001b[30mA\u001b[39m\u001b[49m\u001b[47m\u001b[30mG\u001b[39m\u001b[49m\u001b[47m\u001b[30mG\u001b[39m\u001b[49m\u001b[47m\u001b[30mT\u001b[39m\u001b[49m\u001b[47m\u001b[30mT\u001b[39m\u001b[49m\u001b[47m\u001b[30mT\u001b[39m\u001b[49m\u001b[47m\u001b[30mA\u001b[39m\u001b[49m\u001b[47m\u001b[30mT\u001b[39m\u001b[49m\u001b[47m\u001b[30mA\u001b[39m\u001b[49m\u001b[47m\u001b[30mC\u001b[39m\u001b[49m\u001b[47m\u001b[30mC\u001b[39m\u001b[49m\u001b[47m\u001b[30mT\u001b[39m\u001b[49m\u001b[47m\u001b[30mT\u001b[39m\u001b[49m\u001b[47m\u001b[30mC\u001b[39m\u001b[49m\u001b[47m\u001b[30mC\u001b[39m\u001b[49m\u001b[47m\u001b[30mC\u001b[39m\u001b[49m\u001b[47m\u001b[30mA\u001b[39m\u001b[49m\u001b[47m\u001b[30mG\u001b[39m\u001b[49m...\u001b[47m\u001b[30mA\u001b[39m\u001b[49m\u001b[47m\u001b[30mA\u001b[39m\u001b[49m\u001b[47m\u001b[30mA\u001b[39m\u001b[49m\u001b[47m\u001b[30mA\u001b[39m\u001b[49m\u001b[47m\u001b[30mA\u001b[39m\u001b[49m\u001b[47m\u001b[30mA\u001b[39m\u001b[49m\u001b[47m\u001b[30mA\u001b[39m\u001b[49m\u001b[47m\u001b[30mA\u001b[39m\u001b[49m\u001b[47m\u001b[30mA\u001b[39m\u001b[49m\u001b[47m\u001b[30mA\u001b[39m\u001b[49m\u001b[47m\u001b[30mA\u001b[39m\u001b[49m\u001b[47m\u001b[30mA\u001b[39m\u001b[49m\u001b[47m\u001b[30mA\u001b[39m\u001b[49m\u001b[47m\u001b[30mA\u001b[39m\u001b[49m\u001b[47m\u001b[30mA\u001b[39m\u001b[49m\u001b[47m\u001b[30mA\u001b[39m\u001b[49m\u001b[47m\u001b[30mA\u001b[39m\u001b[49m\u001b[47m\u001b[30mA\u001b[39m\u001b[49m\u001b[47m\u001b[30mA\u001b[39m\u001b[49m\u001b[47m\u001b[30mA\u001b[39m\u001b[49m\u001b[47m\u001b[30mA\u001b[39m\u001b[49m\u001b[47m\u001b[30mA\u001b[39m\u001b[49m WHP7692-A4v1_1024583\n",
            "[18] 29903 \u001b[47m\u001b[37mN\u001b[39m\u001b[49m\u001b[47m\u001b[37mN\u001b[39m\u001b[49m\u001b[47m\u001b[37mN\u001b[39m\u001b[49m\u001b[47m\u001b[37mN\u001b[39m\u001b[49m\u001b[47m\u001b[37mN\u001b[39m\u001b[49m\u001b[47m\u001b[30mA\u001b[39m\u001b[49m\u001b[47m\u001b[30mG\u001b[39m\u001b[49m\u001b[47m\u001b[30mG\u001b[39m\u001b[49m\u001b[47m\u001b[30mT\u001b[39m\u001b[49m\u001b[47m\u001b[30mT\u001b[39m\u001b[49m\u001b[47m\u001b[30mT\u001b[39m\u001b[49m\u001b[47m\u001b[30mA\u001b[39m\u001b[49m\u001b[47m\u001b[30mT\u001b[39m\u001b[49m\u001b[47m\u001b[30mA\u001b[39m\u001b[49m\u001b[47m\u001b[30mC\u001b[39m\u001b[49m\u001b[47m\u001b[30mC\u001b[39m\u001b[49m\u001b[47m\u001b[30mT\u001b[39m\u001b[49m\u001b[47m\u001b[30mT\u001b[39m\u001b[49m\u001b[47m\u001b[30mC\u001b[39m\u001b[49m\u001b[47m\u001b[30mC\u001b[39m\u001b[49m\u001b[47m\u001b[30mC\u001b[39m\u001b[49m\u001b[47m\u001b[30mA\u001b[39m\u001b[49m\u001b[47m\u001b[30mG\u001b[39m\u001b[49m...\u001b[47m\u001b[30mA\u001b[39m\u001b[49m\u001b[47m\u001b[30mA\u001b[39m\u001b[49m\u001b[47m\u001b[30mA\u001b[39m\u001b[49m\u001b[47m\u001b[30mA\u001b[39m\u001b[49m\u001b[47m\u001b[30mA\u001b[39m\u001b[49m\u001b[47m\u001b[30mA\u001b[39m\u001b[49m\u001b[47m\u001b[30mA\u001b[39m\u001b[49m\u001b[47m\u001b[30mA\u001b[39m\u001b[49m\u001b[47m\u001b[30mA\u001b[39m\u001b[49m\u001b[47m\u001b[30mA\u001b[39m\u001b[49m\u001b[47m\u001b[30mA\u001b[39m\u001b[49m\u001b[47m\u001b[30mA\u001b[39m\u001b[49m\u001b[47m\u001b[30mA\u001b[39m\u001b[49m\u001b[47m\u001b[30mA\u001b[39m\u001b[49m\u001b[47m\u001b[30mA\u001b[39m\u001b[49m\u001b[47m\u001b[30mA\u001b[39m\u001b[49m\u001b[47m\u001b[30mA\u001b[39m\u001b[49m\u001b[47m\u001b[30mA\u001b[39m\u001b[49m\u001b[47m\u001b[30mA\u001b[39m\u001b[49m\u001b[47m\u001b[30mA\u001b[39m\u001b[49m\u001b[47m\u001b[30mA\u001b[39m\u001b[49m\u001b[47m\u001b[30mA\u001b[39m\u001b[49m WHP9591-A4v1_1283879\n",
            "[19] 29903 \u001b[47m\u001b[30mA\u001b[39m\u001b[49m\u001b[47m\u001b[37mY\u001b[39m\u001b[49m\u001b[47m\u001b[30mT\u001b[39m\u001b[49m\u001b[47m\u001b[30mA\u001b[39m\u001b[49m\u001b[47m\u001b[30mA\u001b[39m\u001b[49m\u001b[47m\u001b[30mA\u001b[39m\u001b[49m\u001b[47m\u001b[30mG\u001b[39m\u001b[49m\u001b[47m\u001b[30mG\u001b[39m\u001b[49m\u001b[47m\u001b[30mT\u001b[39m\u001b[49m\u001b[47m\u001b[30mT\u001b[39m\u001b[49m\u001b[47m\u001b[30mT\u001b[39m\u001b[49m\u001b[47m\u001b[30mA\u001b[39m\u001b[49m\u001b[47m\u001b[30mT\u001b[39m\u001b[49m\u001b[47m\u001b[30mA\u001b[39m\u001b[49m\u001b[47m\u001b[30mC\u001b[39m\u001b[49m\u001b[47m\u001b[30mC\u001b[39m\u001b[49m\u001b[47m\u001b[30mT\u001b[39m\u001b[49m\u001b[47m\u001b[30mT\u001b[39m\u001b[49m\u001b[47m\u001b[30mC\u001b[39m\u001b[49m\u001b[47m\u001b[30mC\u001b[39m\u001b[49m\u001b[47m\u001b[30mC\u001b[39m\u001b[49m\u001b[47m\u001b[30mA\u001b[39m\u001b[49m\u001b[47m\u001b[30mG\u001b[39m\u001b[49m...\u001b[47m\u001b[30mA\u001b[39m\u001b[49m\u001b[47m\u001b[30mA\u001b[39m\u001b[49m\u001b[47m\u001b[30mA\u001b[39m\u001b[49m\u001b[47m\u001b[30mA\u001b[39m\u001b[49m\u001b[47m\u001b[30mA\u001b[39m\u001b[49m\u001b[47m\u001b[30mA\u001b[39m\u001b[49m\u001b[47m\u001b[30mA\u001b[39m\u001b[49m\u001b[47m\u001b[30mA\u001b[39m\u001b[49m\u001b[47m\u001b[30mA\u001b[39m\u001b[49m\u001b[47m\u001b[30mA\u001b[39m\u001b[49m\u001b[47m\u001b[30mA\u001b[39m\u001b[49m\u001b[47m\u001b[30mA\u001b[39m\u001b[49m\u001b[47m\u001b[30mA\u001b[39m\u001b[49m\u001b[47m\u001b[30mA\u001b[39m\u001b[49m\u001b[47m\u001b[30mA\u001b[39m\u001b[49m\u001b[47m\u001b[30mA\u001b[39m\u001b[49m\u001b[47m\u001b[30mA\u001b[39m\u001b[49m\u001b[47m\u001b[30mA\u001b[39m\u001b[49m\u001b[47m\u001b[30mA\u001b[39m\u001b[49m\u001b[47m\u001b[30mA\u001b[39m\u001b[49m\u001b[47m\u001b[30mA\u001b[39m\u001b[49m\u001b[47m\u001b[30mA\u001b[39m\u001b[49m WHP6749-H2-iseq_R...\n",
            "[20] 29903 \u001b[47m\u001b[37mN\u001b[39m\u001b[49m\u001b[47m\u001b[37mN\u001b[39m\u001b[49m\u001b[47m\u001b[37mN\u001b[39m\u001b[49m\u001b[47m\u001b[37mN\u001b[39m\u001b[49m\u001b[47m\u001b[37mN\u001b[39m\u001b[49m\u001b[47m\u001b[37mN\u001b[39m\u001b[49m\u001b[47m\u001b[37mN\u001b[39m\u001b[49m\u001b[47m\u001b[37mN\u001b[39m\u001b[49m\u001b[47m\u001b[37mN\u001b[39m\u001b[49m\u001b[47m\u001b[37mN\u001b[39m\u001b[49m\u001b[47m\u001b[37mN\u001b[39m\u001b[49m\u001b[47m\u001b[37mN\u001b[39m\u001b[49m\u001b[47m\u001b[37mN\u001b[39m\u001b[49m\u001b[47m\u001b[37mN\u001b[39m\u001b[49m\u001b[47m\u001b[37mN\u001b[39m\u001b[49m\u001b[47m\u001b[37mN\u001b[39m\u001b[49m\u001b[47m\u001b[37mN\u001b[39m\u001b[49m\u001b[47m\u001b[37mN\u001b[39m\u001b[49m\u001b[47m\u001b[37mN\u001b[39m\u001b[49m\u001b[47m\u001b[37mN\u001b[39m\u001b[49m\u001b[47m\u001b[37mN\u001b[39m\u001b[49m\u001b[47m\u001b[37mN\u001b[39m\u001b[49m\u001b[47m\u001b[37mN\u001b[39m\u001b[49m...\u001b[47m\u001b[30mA\u001b[39m\u001b[49m\u001b[47m\u001b[30mA\u001b[39m\u001b[49m\u001b[47m\u001b[30mA\u001b[39m\u001b[49m\u001b[47m\u001b[30mA\u001b[39m\u001b[49m\u001b[47m\u001b[30mA\u001b[39m\u001b[49m\u001b[47m\u001b[30mA\u001b[39m\u001b[49m\u001b[47m\u001b[30mA\u001b[39m\u001b[49m\u001b[47m\u001b[30mA\u001b[39m\u001b[49m\u001b[47m\u001b[30mA\u001b[39m\u001b[49m\u001b[47m\u001b[30mA\u001b[39m\u001b[49m\u001b[47m\u001b[30mA\u001b[39m\u001b[49m\u001b[47m\u001b[30mA\u001b[39m\u001b[49m\u001b[47m\u001b[30mA\u001b[39m\u001b[49m\u001b[47m\u001b[30mA\u001b[39m\u001b[49m\u001b[47m\u001b[30mA\u001b[39m\u001b[49m\u001b[47m\u001b[30mA\u001b[39m\u001b[49m\u001b[47m\u001b[30mA\u001b[39m\u001b[49m\u001b[47m\u001b[30mA\u001b[39m\u001b[49m\u001b[47m\u001b[30mA\u001b[39m\u001b[49m\u001b[47m\u001b[30mA\u001b[39m\u001b[49m\u001b[47m\u001b[30mA\u001b[39m\u001b[49m\u001b[47m\u001b[30mA\u001b[39m\u001b[49m WHP4969_12214\n"
          ]
        }
      ]
    },
    {
      "cell_type": "code",
      "source": [
        "# Calculation of the total length of each sequence (it should be 29903 bp each as instructed by the coursework description)\n",
        "total_length <- width(sequences)"
      ],
      "metadata": {
        "id": "1UvuegYSPbbc"
      },
      "execution_count": null,
      "outputs": []
    },
    {
      "cell_type": "code",
      "source": [
        "# Print the total length of each sequence\n",
        "print(total_length)"
      ],
      "metadata": {
        "colab": {
          "base_uri": "https://localhost:8080/"
        },
        "id": "dpKtWv2kQYqx",
        "outputId": "518f7c7b-68b2-4bfa-9c2a-aa00c86f3295"
      },
      "execution_count": null,
      "outputs": [
        {
          "output_type": "stream",
          "name": "stdout",
          "text": [
            " [1] 29903 29903 29903 29903 29903 29903 29903 29903 29903 29903 29903 29903\n",
            "[13] 29903 29903 29903 29903 29903 29903 29903 29903\n"
          ]
        }
      ]
    },
    {
      "cell_type": "code",
      "source": [
        "# Calculation of A,C,T,G frequency in each sequence\n",
        "atcg_counts <- letterFrequency(sequences, letters = c(\"A\", \"C\", \"T\", \"G\"))"
      ],
      "metadata": {
        "id": "f19UyPU3RN3T"
      },
      "execution_count": null,
      "outputs": []
    },
    {
      "cell_type": "code",
      "source": [
        "# Print the A,C,T,G frequency of each sequence\n",
        "print(atcg_counts)"
      ],
      "metadata": {
        "colab": {
          "base_uri": "https://localhost:8080/"
        },
        "id": "Bc5invwCRwRn",
        "outputId": "d919e3ae-fccd-4c55-d000-2394a38cf210"
      },
      "execution_count": null,
      "outputs": [
        {
          "output_type": "stream",
          "name": "stdout",
          "text": [
            "         A    C    T    G\n",
            " [1,] 8934 5452 9599 5838\n",
            " [2,] 8883 5434 9574 5827\n",
            " [3,] 8940 5474 9587 5848\n",
            " [4,] 8953 5485 9600 5861\n",
            " [5,]   33    0    0    0\n",
            " [6,] 8928 5467 9577 5844\n",
            " [7,] 7787 4783 8208 5147\n",
            " [8,]   48    2    7   10\n",
            " [9,] 8930 5450 9590 5838\n",
            "[10,] 8933 5451 9586 5832\n",
            "[11,] 8880 5436 9584 5829\n",
            "[12,] 8931 5454 9588 5834\n",
            "[13,] 8891 5437 9585 5827\n",
            "[14,] 7041 4329 7577 4629\n",
            "[15,] 8952 5484 9602 5858\n",
            "[16,] 8906 5442 9567 5814\n",
            "[17,] 8931 5450 9591 5839\n",
            "[18,] 8926 5439 9602 5838\n",
            "[19,] 8913 5440 9572 5829\n",
            "[20,] 8919 5458 9564 5835\n"
          ]
        }
      ]
    },
    {
      "cell_type": "code",
      "source": [
        "# Calculation of the coverage in each sequence\n",
        "coverage <- rowSums(atcg_counts) / total_length"
      ],
      "metadata": {
        "id": "Cb8gGBTRX53Z"
      },
      "execution_count": null,
      "outputs": []
    },
    {
      "cell_type": "code",
      "source": [
        "# Print the coverage in each sequence\n",
        "print(coverage)"
      ],
      "metadata": {
        "colab": {
          "base_uri": "https://localhost:8080/"
        },
        "id": "PjWMyGibYUoA",
        "outputId": "f66407de-0ed5-4c2d-e999-db986995741c"
      },
      "execution_count": null,
      "outputs": [
        {
          "output_type": "stream",
          "name": "stdout",
          "text": [
            " [1] 0.997324683 0.993813330 0.998194161 0.999866234 0.001103568 0.997090593\n",
            " [7] 0.866969869 0.002240578 0.996823061 0.996622412 0.994181186 0.996789620\n",
            "[13] 0.994549042 0.788415878 0.999765910 0.994181186 0.996923386 0.996722737\n",
            "[19] 0.995017222 0.995752934\n"
          ]
        }
      ]
    },
    {
      "cell_type": "markdown",
      "source": [
        "From the coverage showing above, there are 3 sequences (#5,8,14) below 85% of coverage"
      ],
      "metadata": {
        "id": "kEZSW1y6ZUMZ"
      }
    },
    {
      "cell_type": "code",
      "source": [
        "# Sequences with coverage less than 85% is filtered out and load the filtered sequences\n",
        "filtered_sequences <- sequences[coverage >=0.85]\n",
        "filtered_sequences"
      ],
      "metadata": {
        "colab": {
          "base_uri": "https://localhost:8080/",
          "height": 399
        },
        "id": "-JzMhmiDSR2e",
        "outputId": "87e3a72b-a4f5-415e-c1fb-1502147ad68a"
      },
      "execution_count": null,
      "outputs": [
        {
          "output_type": "display_data",
          "data": {
            "text/plain": [
              "DNAStringSet object of length 17:\n",
              "     width seq                                              names               \n",
              " [1] 29903 \u001b[47m\u001b[37mN\u001b[39m\u001b[49m\u001b[47m\u001b[37mN\u001b[39m\u001b[49m\u001b[47m\u001b[37mN\u001b[39m\u001b[49m\u001b[47m\u001b[37mN\u001b[39m\u001b[49m\u001b[47m\u001b[30mA\u001b[39m\u001b[49m\u001b[47m\u001b[30mA\u001b[39m\u001b[49m\u001b[47m\u001b[30mG\u001b[39m\u001b[49m\u001b[47m\u001b[30mG\u001b[39m\u001b[49m\u001b[47m\u001b[30mT\u001b[39m\u001b[49m\u001b[47m\u001b[30mT\u001b[39m\u001b[49m\u001b[47m\u001b[30mT\u001b[39m\u001b[49m\u001b[47m\u001b[30mA\u001b[39m\u001b[49m\u001b[47m\u001b[30mT\u001b[39m\u001b[49m\u001b[47m\u001b[30mA\u001b[39m\u001b[49m\u001b[47m\u001b[30mC\u001b[39m\u001b[49m\u001b[47m\u001b[30mC\u001b[39m\u001b[49m\u001b[47m\u001b[30mT\u001b[39m\u001b[49m\u001b[47m\u001b[30mT\u001b[39m\u001b[49m\u001b[47m\u001b[30mC\u001b[39m\u001b[49m\u001b[47m\u001b[30mC\u001b[39m\u001b[49m\u001b[47m\u001b[30mC\u001b[39m\u001b[49m\u001b[47m\u001b[30mA\u001b[39m\u001b[49m\u001b[47m\u001b[30mG\u001b[39m\u001b[49m...\u001b[47m\u001b[30mA\u001b[39m\u001b[49m\u001b[47m\u001b[30mA\u001b[39m\u001b[49m\u001b[47m\u001b[30mA\u001b[39m\u001b[49m\u001b[47m\u001b[30mA\u001b[39m\u001b[49m\u001b[47m\u001b[30mA\u001b[39m\u001b[49m\u001b[47m\u001b[30mA\u001b[39m\u001b[49m\u001b[47m\u001b[30mA\u001b[39m\u001b[49m\u001b[47m\u001b[30mA\u001b[39m\u001b[49m\u001b[47m\u001b[30mA\u001b[39m\u001b[49m\u001b[47m\u001b[30mA\u001b[39m\u001b[49m\u001b[47m\u001b[30mA\u001b[39m\u001b[49m\u001b[47m\u001b[30mA\u001b[39m\u001b[49m\u001b[47m\u001b[30mA\u001b[39m\u001b[49m\u001b[47m\u001b[30mA\u001b[39m\u001b[49m\u001b[47m\u001b[30mA\u001b[39m\u001b[49m\u001b[47m\u001b[30mA\u001b[39m\u001b[49m\u001b[47m\u001b[30mA\u001b[39m\u001b[49m\u001b[47m\u001b[30mA\u001b[39m\u001b[49m\u001b[47m\u001b[30mA\u001b[39m\u001b[49m\u001b[47m\u001b[30mA\u001b[39m\u001b[49m\u001b[47m\u001b[30mA\u001b[39m\u001b[49m\u001b[47m\u001b[30mA\u001b[39m\u001b[49m WHP10644-AV41_RC8...\n",
              " [2] 29903 \u001b[47m\u001b[37mN\u001b[39m\u001b[49m\u001b[47m\u001b[37mN\u001b[39m\u001b[49m\u001b[47m\u001b[37mN\u001b[39m\u001b[49m\u001b[47m\u001b[37mN\u001b[39m\u001b[49m\u001b[47m\u001b[37mN\u001b[39m\u001b[49m\u001b[47m\u001b[37mN\u001b[39m\u001b[49m\u001b[47m\u001b[37mN\u001b[39m\u001b[49m\u001b[47m\u001b[30mG\u001b[39m\u001b[49m\u001b[47m\u001b[30mT\u001b[39m\u001b[49m\u001b[47m\u001b[30mT\u001b[39m\u001b[49m\u001b[47m\u001b[30mT\u001b[39m\u001b[49m\u001b[47m\u001b[30mA\u001b[39m\u001b[49m\u001b[47m\u001b[30mT\u001b[39m\u001b[49m\u001b[47m\u001b[30mA\u001b[39m\u001b[49m\u001b[47m\u001b[30mC\u001b[39m\u001b[49m\u001b[47m\u001b[30mC\u001b[39m\u001b[49m\u001b[47m\u001b[30mT\u001b[39m\u001b[49m\u001b[47m\u001b[30mT\u001b[39m\u001b[49m\u001b[47m\u001b[30mC\u001b[39m\u001b[49m\u001b[47m\u001b[30mC\u001b[39m\u001b[49m\u001b[47m\u001b[30mC\u001b[39m\u001b[49m\u001b[47m\u001b[30mA\u001b[39m\u001b[49m\u001b[47m\u001b[30mG\u001b[39m\u001b[49m...\u001b[47m\u001b[37mN\u001b[39m\u001b[49m\u001b[47m\u001b[37mN\u001b[39m\u001b[49m\u001b[47m\u001b[37mN\u001b[39m\u001b[49m\u001b[47m\u001b[37mN\u001b[39m\u001b[49m\u001b[47m\u001b[37mN\u001b[39m\u001b[49m\u001b[47m\u001b[37mN\u001b[39m\u001b[49m\u001b[47m\u001b[37mN\u001b[39m\u001b[49m\u001b[47m\u001b[37mN\u001b[39m\u001b[49m\u001b[47m\u001b[37mN\u001b[39m\u001b[49m\u001b[47m\u001b[37mN\u001b[39m\u001b[49m\u001b[47m\u001b[37mN\u001b[39m\u001b[49m\u001b[47m\u001b[37mN\u001b[39m\u001b[49m\u001b[47m\u001b[37mN\u001b[39m\u001b[49m\u001b[47m\u001b[37mN\u001b[39m\u001b[49m\u001b[47m\u001b[37mN\u001b[39m\u001b[49m\u001b[47m\u001b[37mN\u001b[39m\u001b[49m\u001b[47m\u001b[37mN\u001b[39m\u001b[49m\u001b[47m\u001b[37mN\u001b[39m\u001b[49m\u001b[47m\u001b[37mN\u001b[39m\u001b[49m\u001b[47m\u001b[37mN\u001b[39m\u001b[49m\u001b[47m\u001b[37mN\u001b[39m\u001b[49m\u001b[47m\u001b[37mN\u001b[39m\u001b[49m WHP7426-H2-iseq_1...\n",
              " [3] 29903 \u001b[47m\u001b[37mN\u001b[39m\u001b[49m\u001b[47m\u001b[37mN\u001b[39m\u001b[49m\u001b[47m\u001b[37mN\u001b[39m\u001b[49m\u001b[47m\u001b[37mN\u001b[39m\u001b[49m\u001b[47m\u001b[37mN\u001b[39m\u001b[49m\u001b[47m\u001b[37mN\u001b[39m\u001b[49m\u001b[47m\u001b[37mN\u001b[39m\u001b[49m\u001b[47m\u001b[37mN\u001b[39m\u001b[49m\u001b[47m\u001b[37mN\u001b[39m\u001b[49m\u001b[47m\u001b[37mN\u001b[39m\u001b[49m\u001b[47m\u001b[37mN\u001b[39m\u001b[49m\u001b[47m\u001b[37mN\u001b[39m\u001b[49m\u001b[47m\u001b[37mN\u001b[39m\u001b[49m\u001b[47m\u001b[37mN\u001b[39m\u001b[49m\u001b[47m\u001b[37mN\u001b[39m\u001b[49m\u001b[47m\u001b[37mN\u001b[39m\u001b[49m\u001b[47m\u001b[37mN\u001b[39m\u001b[49m\u001b[47m\u001b[37mN\u001b[39m\u001b[49m\u001b[47m\u001b[37mN\u001b[39m\u001b[49m\u001b[47m\u001b[37mN\u001b[39m\u001b[49m\u001b[47m\u001b[37mN\u001b[39m\u001b[49m\u001b[47m\u001b[37mN\u001b[39m\u001b[49m\u001b[47m\u001b[37mN\u001b[39m\u001b[49m...\u001b[47m\u001b[30mA\u001b[39m\u001b[49m\u001b[47m\u001b[30mA\u001b[39m\u001b[49m\u001b[47m\u001b[30mA\u001b[39m\u001b[49m\u001b[47m\u001b[30mA\u001b[39m\u001b[49m\u001b[47m\u001b[30mA\u001b[39m\u001b[49m\u001b[47m\u001b[30mA\u001b[39m\u001b[49m\u001b[47m\u001b[30mA\u001b[39m\u001b[49m\u001b[47m\u001b[30mA\u001b[39m\u001b[49m\u001b[47m\u001b[30mA\u001b[39m\u001b[49m\u001b[47m\u001b[30mA\u001b[39m\u001b[49m\u001b[47m\u001b[30mA\u001b[39m\u001b[49m\u001b[47m\u001b[30mA\u001b[39m\u001b[49m\u001b[47m\u001b[30mA\u001b[39m\u001b[49m\u001b[47m\u001b[30mA\u001b[39m\u001b[49m\u001b[47m\u001b[30mA\u001b[39m\u001b[49m\u001b[47m\u001b[30mA\u001b[39m\u001b[49m\u001b[47m\u001b[30mA\u001b[39m\u001b[49m\u001b[47m\u001b[30mA\u001b[39m\u001b[49m\u001b[47m\u001b[30mA\u001b[39m\u001b[49m\u001b[47m\u001b[30mA\u001b[39m\u001b[49m\u001b[47m\u001b[30mA\u001b[39m\u001b[49m\u001b[47m\u001b[30mA\u001b[39m\u001b[49m WHP3916_10681\n",
              " [4] 29903 \u001b[47m\u001b[37mN\u001b[39m\u001b[49m\u001b[47m\u001b[37mN\u001b[39m\u001b[49m\u001b[47m\u001b[37mN\u001b[39m\u001b[49m\u001b[47m\u001b[37mN\u001b[39m\u001b[49m\u001b[47m\u001b[30mA\u001b[39m\u001b[49m\u001b[47m\u001b[30mA\u001b[39m\u001b[49m\u001b[47m\u001b[30mG\u001b[39m\u001b[49m\u001b[47m\u001b[30mG\u001b[39m\u001b[49m\u001b[47m\u001b[30mT\u001b[39m\u001b[49m\u001b[47m\u001b[30mT\u001b[39m\u001b[49m\u001b[47m\u001b[30mT\u001b[39m\u001b[49m\u001b[47m\u001b[30mA\u001b[39m\u001b[49m\u001b[47m\u001b[30mT\u001b[39m\u001b[49m\u001b[47m\u001b[30mA\u001b[39m\u001b[49m\u001b[47m\u001b[30mC\u001b[39m\u001b[49m\u001b[47m\u001b[30mC\u001b[39m\u001b[49m\u001b[47m\u001b[30mT\u001b[39m\u001b[49m\u001b[47m\u001b[30mT\u001b[39m\u001b[49m\u001b[47m\u001b[30mC\u001b[39m\u001b[49m\u001b[47m\u001b[30mC\u001b[39m\u001b[49m\u001b[47m\u001b[30mC\u001b[39m\u001b[49m\u001b[47m\u001b[30mA\u001b[39m\u001b[49m\u001b[47m\u001b[30mG\u001b[39m\u001b[49m...\u001b[47m\u001b[30mA\u001b[39m\u001b[49m\u001b[47m\u001b[30mA\u001b[39m\u001b[49m\u001b[47m\u001b[30mA\u001b[39m\u001b[49m\u001b[47m\u001b[30mA\u001b[39m\u001b[49m\u001b[47m\u001b[30mA\u001b[39m\u001b[49m\u001b[47m\u001b[30mA\u001b[39m\u001b[49m\u001b[47m\u001b[30mA\u001b[39m\u001b[49m\u001b[47m\u001b[30mA\u001b[39m\u001b[49m\u001b[47m\u001b[30mA\u001b[39m\u001b[49m\u001b[47m\u001b[30mA\u001b[39m\u001b[49m\u001b[47m\u001b[30mA\u001b[39m\u001b[49m\u001b[47m\u001b[30mA\u001b[39m\u001b[49m\u001b[47m\u001b[30mA\u001b[39m\u001b[49m\u001b[47m\u001b[30mA\u001b[39m\u001b[49m\u001b[47m\u001b[30mA\u001b[39m\u001b[49m\u001b[47m\u001b[30mA\u001b[39m\u001b[49m\u001b[47m\u001b[30mA\u001b[39m\u001b[49m\u001b[47m\u001b[30mA\u001b[39m\u001b[49m\u001b[47m\u001b[30mA\u001b[39m\u001b[49m\u001b[47m\u001b[30mA\u001b[39m\u001b[49m\u001b[47m\u001b[30mA\u001b[39m\u001b[49m\u001b[47m\u001b[30mA\u001b[39m\u001b[49m WHP1939_3582\n",
              " [5] 29903 \u001b[47m\u001b[37mN\u001b[39m\u001b[49m\u001b[47m\u001b[37mN\u001b[39m\u001b[49m\u001b[47m\u001b[37mN\u001b[39m\u001b[49m\u001b[47m\u001b[37mN\u001b[39m\u001b[49m\u001b[47m\u001b[37mN\u001b[39m\u001b[49m\u001b[47m\u001b[37mN\u001b[39m\u001b[49m\u001b[47m\u001b[37mN\u001b[39m\u001b[49m\u001b[47m\u001b[37mN\u001b[39m\u001b[49m\u001b[47m\u001b[37mN\u001b[39m\u001b[49m\u001b[47m\u001b[37mN\u001b[39m\u001b[49m\u001b[47m\u001b[37mN\u001b[39m\u001b[49m\u001b[47m\u001b[37mN\u001b[39m\u001b[49m\u001b[47m\u001b[37mN\u001b[39m\u001b[49m\u001b[47m\u001b[37mN\u001b[39m\u001b[49m\u001b[47m\u001b[37mN\u001b[39m\u001b[49m\u001b[47m\u001b[37mN\u001b[39m\u001b[49m\u001b[47m\u001b[37mN\u001b[39m\u001b[49m\u001b[47m\u001b[37mN\u001b[39m\u001b[49m\u001b[47m\u001b[37mN\u001b[39m\u001b[49m\u001b[47m\u001b[37mN\u001b[39m\u001b[49m\u001b[47m\u001b[37mN\u001b[39m\u001b[49m\u001b[47m\u001b[37mN\u001b[39m\u001b[49m\u001b[47m\u001b[37mN\u001b[39m\u001b[49m...\u001b[47m\u001b[30mA\u001b[39m\u001b[49m\u001b[47m\u001b[30mA\u001b[39m\u001b[49m\u001b[47m\u001b[30mA\u001b[39m\u001b[49m\u001b[47m\u001b[30mA\u001b[39m\u001b[49m\u001b[47m\u001b[30mA\u001b[39m\u001b[49m\u001b[47m\u001b[30mA\u001b[39m\u001b[49m\u001b[47m\u001b[30mA\u001b[39m\u001b[49m\u001b[47m\u001b[30mA\u001b[39m\u001b[49m\u001b[47m\u001b[30mA\u001b[39m\u001b[49m\u001b[47m\u001b[30mA\u001b[39m\u001b[49m\u001b[47m\u001b[30mA\u001b[39m\u001b[49m\u001b[47m\u001b[30mA\u001b[39m\u001b[49m\u001b[47m\u001b[30mA\u001b[39m\u001b[49m\u001b[47m\u001b[30mA\u001b[39m\u001b[49m\u001b[47m\u001b[30mA\u001b[39m\u001b[49m\u001b[47m\u001b[30mA\u001b[39m\u001b[49m\u001b[47m\u001b[30mA\u001b[39m\u001b[49m\u001b[47m\u001b[30mA\u001b[39m\u001b[49m\u001b[47m\u001b[30mA\u001b[39m\u001b[49m\u001b[47m\u001b[30mA\u001b[39m\u001b[49m\u001b[47m\u001b[30mA\u001b[39m\u001b[49m\u001b[47m\u001b[30mA\u001b[39m\u001b[49m WHP3977_10906\n",
              " ...   ... ...\n",
              "[13] 29903 \u001b[47m\u001b[37mN\u001b[39m\u001b[49m\u001b[47m\u001b[37mN\u001b[39m\u001b[49m\u001b[47m\u001b[37mN\u001b[39m\u001b[49m\u001b[47m\u001b[37mN\u001b[39m\u001b[49m\u001b[47m\u001b[37mN\u001b[39m\u001b[49m\u001b[47m\u001b[37mN\u001b[39m\u001b[49m\u001b[47m\u001b[37mN\u001b[39m\u001b[49m\u001b[47m\u001b[30mG\u001b[39m\u001b[49m\u001b[47m\u001b[30mT\u001b[39m\u001b[49m\u001b[47m\u001b[30mT\u001b[39m\u001b[49m\u001b[47m\u001b[30mT\u001b[39m\u001b[49m\u001b[47m\u001b[30mA\u001b[39m\u001b[49m\u001b[47m\u001b[30mT\u001b[39m\u001b[49m\u001b[47m\u001b[30mA\u001b[39m\u001b[49m\u001b[47m\u001b[30mC\u001b[39m\u001b[49m\u001b[47m\u001b[30mC\u001b[39m\u001b[49m\u001b[47m\u001b[30mT\u001b[39m\u001b[49m\u001b[47m\u001b[30mT\u001b[39m\u001b[49m\u001b[47m\u001b[30mC\u001b[39m\u001b[49m\u001b[47m\u001b[30mC\u001b[39m\u001b[49m\u001b[47m\u001b[30mC\u001b[39m\u001b[49m\u001b[47m\u001b[30mA\u001b[39m\u001b[49m\u001b[47m\u001b[30mG\u001b[39m\u001b[49m...\u001b[47m\u001b[30mA\u001b[39m\u001b[49m\u001b[47m\u001b[30mA\u001b[39m\u001b[49m\u001b[47m\u001b[30mA\u001b[39m\u001b[49m\u001b[47m\u001b[30mA\u001b[39m\u001b[49m\u001b[47m\u001b[30mA\u001b[39m\u001b[49m\u001b[47m\u001b[30mA\u001b[39m\u001b[49m\u001b[47m\u001b[30mA\u001b[39m\u001b[49m\u001b[47m\u001b[30mA\u001b[39m\u001b[49m\u001b[47m\u001b[30mA\u001b[39m\u001b[49m\u001b[47m\u001b[30mA\u001b[39m\u001b[49m\u001b[47m\u001b[30mA\u001b[39m\u001b[49m\u001b[47m\u001b[30mA\u001b[39m\u001b[49m\u001b[47m\u001b[30mA\u001b[39m\u001b[49m\u001b[47m\u001b[30mA\u001b[39m\u001b[49m\u001b[47m\u001b[30mA\u001b[39m\u001b[49m\u001b[47m\u001b[30mA\u001b[39m\u001b[49m\u001b[47m\u001b[30mA\u001b[39m\u001b[49m\u001b[47m\u001b[30mA\u001b[39m\u001b[49m\u001b[47m\u001b[30mA\u001b[39m\u001b[49m\u001b[47m\u001b[30mA\u001b[39m\u001b[49m\u001b[47m\u001b[30mA\u001b[39m\u001b[49m\u001b[47m\u001b[30mA\u001b[39m\u001b[49m VOC1980-H2-iseq_NA\n",
              "[14] 29903 \u001b[47m\u001b[37mN\u001b[39m\u001b[49m\u001b[47m\u001b[37mN\u001b[39m\u001b[49m\u001b[47m\u001b[37mN\u001b[39m\u001b[49m\u001b[47m\u001b[37mN\u001b[39m\u001b[49m\u001b[47m\u001b[30mA\u001b[39m\u001b[49m\u001b[47m\u001b[30mA\u001b[39m\u001b[49m\u001b[47m\u001b[30mG\u001b[39m\u001b[49m\u001b[47m\u001b[30mG\u001b[39m\u001b[49m\u001b[47m\u001b[30mT\u001b[39m\u001b[49m\u001b[47m\u001b[30mT\u001b[39m\u001b[49m\u001b[47m\u001b[30mT\u001b[39m\u001b[49m\u001b[47m\u001b[30mA\u001b[39m\u001b[49m\u001b[47m\u001b[30mT\u001b[39m\u001b[49m\u001b[47m\u001b[30mA\u001b[39m\u001b[49m\u001b[47m\u001b[30mC\u001b[39m\u001b[49m\u001b[47m\u001b[30mC\u001b[39m\u001b[49m\u001b[47m\u001b[30mT\u001b[39m\u001b[49m\u001b[47m\u001b[30mT\u001b[39m\u001b[49m\u001b[47m\u001b[30mC\u001b[39m\u001b[49m\u001b[47m\u001b[30mC\u001b[39m\u001b[49m\u001b[47m\u001b[30mC\u001b[39m\u001b[49m\u001b[47m\u001b[30mA\u001b[39m\u001b[49m\u001b[47m\u001b[30mG\u001b[39m\u001b[49m...\u001b[47m\u001b[30mA\u001b[39m\u001b[49m\u001b[47m\u001b[30mA\u001b[39m\u001b[49m\u001b[47m\u001b[30mA\u001b[39m\u001b[49m\u001b[47m\u001b[30mA\u001b[39m\u001b[49m\u001b[47m\u001b[30mA\u001b[39m\u001b[49m\u001b[47m\u001b[30mA\u001b[39m\u001b[49m\u001b[47m\u001b[30mA\u001b[39m\u001b[49m\u001b[47m\u001b[30mA\u001b[39m\u001b[49m\u001b[47m\u001b[30mA\u001b[39m\u001b[49m\u001b[47m\u001b[30mA\u001b[39m\u001b[49m\u001b[47m\u001b[30mA\u001b[39m\u001b[49m\u001b[47m\u001b[30mA\u001b[39m\u001b[49m\u001b[47m\u001b[30mA\u001b[39m\u001b[49m\u001b[47m\u001b[30mA\u001b[39m\u001b[49m\u001b[47m\u001b[30mA\u001b[39m\u001b[49m\u001b[47m\u001b[30mA\u001b[39m\u001b[49m\u001b[47m\u001b[30mA\u001b[39m\u001b[49m\u001b[47m\u001b[30mA\u001b[39m\u001b[49m\u001b[47m\u001b[30mA\u001b[39m\u001b[49m\u001b[47m\u001b[30mA\u001b[39m\u001b[49m\u001b[47m\u001b[30mA\u001b[39m\u001b[49m\u001b[47m\u001b[30mA\u001b[39m\u001b[49m WHP7692-A4v1_1024583\n",
              "[15] 29903 \u001b[47m\u001b[37mN\u001b[39m\u001b[49m\u001b[47m\u001b[37mN\u001b[39m\u001b[49m\u001b[47m\u001b[37mN\u001b[39m\u001b[49m\u001b[47m\u001b[37mN\u001b[39m\u001b[49m\u001b[47m\u001b[37mN\u001b[39m\u001b[49m\u001b[47m\u001b[30mA\u001b[39m\u001b[49m\u001b[47m\u001b[30mG\u001b[39m\u001b[49m\u001b[47m\u001b[30mG\u001b[39m\u001b[49m\u001b[47m\u001b[30mT\u001b[39m\u001b[49m\u001b[47m\u001b[30mT\u001b[39m\u001b[49m\u001b[47m\u001b[30mT\u001b[39m\u001b[49m\u001b[47m\u001b[30mA\u001b[39m\u001b[49m\u001b[47m\u001b[30mT\u001b[39m\u001b[49m\u001b[47m\u001b[30mA\u001b[39m\u001b[49m\u001b[47m\u001b[30mC\u001b[39m\u001b[49m\u001b[47m\u001b[30mC\u001b[39m\u001b[49m\u001b[47m\u001b[30mT\u001b[39m\u001b[49m\u001b[47m\u001b[30mT\u001b[39m\u001b[49m\u001b[47m\u001b[30mC\u001b[39m\u001b[49m\u001b[47m\u001b[30mC\u001b[39m\u001b[49m\u001b[47m\u001b[30mC\u001b[39m\u001b[49m\u001b[47m\u001b[30mA\u001b[39m\u001b[49m\u001b[47m\u001b[30mG\u001b[39m\u001b[49m...\u001b[47m\u001b[30mA\u001b[39m\u001b[49m\u001b[47m\u001b[30mA\u001b[39m\u001b[49m\u001b[47m\u001b[30mA\u001b[39m\u001b[49m\u001b[47m\u001b[30mA\u001b[39m\u001b[49m\u001b[47m\u001b[30mA\u001b[39m\u001b[49m\u001b[47m\u001b[30mA\u001b[39m\u001b[49m\u001b[47m\u001b[30mA\u001b[39m\u001b[49m\u001b[47m\u001b[30mA\u001b[39m\u001b[49m\u001b[47m\u001b[30mA\u001b[39m\u001b[49m\u001b[47m\u001b[30mA\u001b[39m\u001b[49m\u001b[47m\u001b[30mA\u001b[39m\u001b[49m\u001b[47m\u001b[30mA\u001b[39m\u001b[49m\u001b[47m\u001b[30mA\u001b[39m\u001b[49m\u001b[47m\u001b[30mA\u001b[39m\u001b[49m\u001b[47m\u001b[30mA\u001b[39m\u001b[49m\u001b[47m\u001b[30mA\u001b[39m\u001b[49m\u001b[47m\u001b[30mA\u001b[39m\u001b[49m\u001b[47m\u001b[30mA\u001b[39m\u001b[49m\u001b[47m\u001b[30mA\u001b[39m\u001b[49m\u001b[47m\u001b[30mA\u001b[39m\u001b[49m\u001b[47m\u001b[30mA\u001b[39m\u001b[49m\u001b[47m\u001b[30mA\u001b[39m\u001b[49m WHP9591-A4v1_1283879\n",
              "[16] 29903 \u001b[47m\u001b[30mA\u001b[39m\u001b[49m\u001b[47m\u001b[37mY\u001b[39m\u001b[49m\u001b[47m\u001b[30mT\u001b[39m\u001b[49m\u001b[47m\u001b[30mA\u001b[39m\u001b[49m\u001b[47m\u001b[30mA\u001b[39m\u001b[49m\u001b[47m\u001b[30mA\u001b[39m\u001b[49m\u001b[47m\u001b[30mG\u001b[39m\u001b[49m\u001b[47m\u001b[30mG\u001b[39m\u001b[49m\u001b[47m\u001b[30mT\u001b[39m\u001b[49m\u001b[47m\u001b[30mT\u001b[39m\u001b[49m\u001b[47m\u001b[30mT\u001b[39m\u001b[49m\u001b[47m\u001b[30mA\u001b[39m\u001b[49m\u001b[47m\u001b[30mT\u001b[39m\u001b[49m\u001b[47m\u001b[30mA\u001b[39m\u001b[49m\u001b[47m\u001b[30mC\u001b[39m\u001b[49m\u001b[47m\u001b[30mC\u001b[39m\u001b[49m\u001b[47m\u001b[30mT\u001b[39m\u001b[49m\u001b[47m\u001b[30mT\u001b[39m\u001b[49m\u001b[47m\u001b[30mC\u001b[39m\u001b[49m\u001b[47m\u001b[30mC\u001b[39m\u001b[49m\u001b[47m\u001b[30mC\u001b[39m\u001b[49m\u001b[47m\u001b[30mA\u001b[39m\u001b[49m\u001b[47m\u001b[30mG\u001b[39m\u001b[49m...\u001b[47m\u001b[30mA\u001b[39m\u001b[49m\u001b[47m\u001b[30mA\u001b[39m\u001b[49m\u001b[47m\u001b[30mA\u001b[39m\u001b[49m\u001b[47m\u001b[30mA\u001b[39m\u001b[49m\u001b[47m\u001b[30mA\u001b[39m\u001b[49m\u001b[47m\u001b[30mA\u001b[39m\u001b[49m\u001b[47m\u001b[30mA\u001b[39m\u001b[49m\u001b[47m\u001b[30mA\u001b[39m\u001b[49m\u001b[47m\u001b[30mA\u001b[39m\u001b[49m\u001b[47m\u001b[30mA\u001b[39m\u001b[49m\u001b[47m\u001b[30mA\u001b[39m\u001b[49m\u001b[47m\u001b[30mA\u001b[39m\u001b[49m\u001b[47m\u001b[30mA\u001b[39m\u001b[49m\u001b[47m\u001b[30mA\u001b[39m\u001b[49m\u001b[47m\u001b[30mA\u001b[39m\u001b[49m\u001b[47m\u001b[30mA\u001b[39m\u001b[49m\u001b[47m\u001b[30mA\u001b[39m\u001b[49m\u001b[47m\u001b[30mA\u001b[39m\u001b[49m\u001b[47m\u001b[30mA\u001b[39m\u001b[49m\u001b[47m\u001b[30mA\u001b[39m\u001b[49m\u001b[47m\u001b[30mA\u001b[39m\u001b[49m\u001b[47m\u001b[30mA\u001b[39m\u001b[49m WHP6749-H2-iseq_R...\n",
              "[17] 29903 \u001b[47m\u001b[37mN\u001b[39m\u001b[49m\u001b[47m\u001b[37mN\u001b[39m\u001b[49m\u001b[47m\u001b[37mN\u001b[39m\u001b[49m\u001b[47m\u001b[37mN\u001b[39m\u001b[49m\u001b[47m\u001b[37mN\u001b[39m\u001b[49m\u001b[47m\u001b[37mN\u001b[39m\u001b[49m\u001b[47m\u001b[37mN\u001b[39m\u001b[49m\u001b[47m\u001b[37mN\u001b[39m\u001b[49m\u001b[47m\u001b[37mN\u001b[39m\u001b[49m\u001b[47m\u001b[37mN\u001b[39m\u001b[49m\u001b[47m\u001b[37mN\u001b[39m\u001b[49m\u001b[47m\u001b[37mN\u001b[39m\u001b[49m\u001b[47m\u001b[37mN\u001b[39m\u001b[49m\u001b[47m\u001b[37mN\u001b[39m\u001b[49m\u001b[47m\u001b[37mN\u001b[39m\u001b[49m\u001b[47m\u001b[37mN\u001b[39m\u001b[49m\u001b[47m\u001b[37mN\u001b[39m\u001b[49m\u001b[47m\u001b[37mN\u001b[39m\u001b[49m\u001b[47m\u001b[37mN\u001b[39m\u001b[49m\u001b[47m\u001b[37mN\u001b[39m\u001b[49m\u001b[47m\u001b[37mN\u001b[39m\u001b[49m\u001b[47m\u001b[37mN\u001b[39m\u001b[49m\u001b[47m\u001b[37mN\u001b[39m\u001b[49m...\u001b[47m\u001b[30mA\u001b[39m\u001b[49m\u001b[47m\u001b[30mA\u001b[39m\u001b[49m\u001b[47m\u001b[30mA\u001b[39m\u001b[49m\u001b[47m\u001b[30mA\u001b[39m\u001b[49m\u001b[47m\u001b[30mA\u001b[39m\u001b[49m\u001b[47m\u001b[30mA\u001b[39m\u001b[49m\u001b[47m\u001b[30mA\u001b[39m\u001b[49m\u001b[47m\u001b[30mA\u001b[39m\u001b[49m\u001b[47m\u001b[30mA\u001b[39m\u001b[49m\u001b[47m\u001b[30mA\u001b[39m\u001b[49m\u001b[47m\u001b[30mA\u001b[39m\u001b[49m\u001b[47m\u001b[30mA\u001b[39m\u001b[49m\u001b[47m\u001b[30mA\u001b[39m\u001b[49m\u001b[47m\u001b[30mA\u001b[39m\u001b[49m\u001b[47m\u001b[30mA\u001b[39m\u001b[49m\u001b[47m\u001b[30mA\u001b[39m\u001b[49m\u001b[47m\u001b[30mA\u001b[39m\u001b[49m\u001b[47m\u001b[30mA\u001b[39m\u001b[49m\u001b[47m\u001b[30mA\u001b[39m\u001b[49m\u001b[47m\u001b[30mA\u001b[39m\u001b[49m\u001b[47m\u001b[30mA\u001b[39m\u001b[49m\u001b[47m\u001b[30mA\u001b[39m\u001b[49m WHP4969_12214"
            ]
          },
          "metadata": {}
        }
      ]
    },
    {
      "cell_type": "markdown",
      "source": [
        "After filtering out the 3 sequences with coverage below 85%, the total number of sequences filtered are 17 in total."
      ],
      "metadata": {
        "id": "D_do6IiTaQO_"
      }
    },
    {
      "cell_type": "code",
      "source": [
        "# The filtered sequences (coverage>=85%) is saved to a FASTA file named \"filtered_sequences.fasta\"\n",
        "dir.create(\"Bioinformatics Exercise\")\n",
        "writeXStringSet(filtered_sequences, filepath = \"./Bioinformatics Exercise/filtered_sequences.fasta\")"
      ],
      "metadata": {
        "id": "WBA4NekTWjkQ",
        "colab": {
          "base_uri": "https://localhost:8080/"
        },
        "outputId": "54bb0f1a-2389-4ee6-d2fb-b98fe14359ff"
      },
      "execution_count": null,
      "outputs": [
        {
          "output_type": "stream",
          "name": "stderr",
          "text": [
            "Warning message in dir.create(\"Bioinformatics Exercise\"):\n",
            "“'Bioinformatics Exercise' already exists”\n"
          ]
        }
      ]
    },
    {
      "cell_type": "markdown",
      "source": [
        "### *Summary of cleaning process*\n",
        "20 sequences with base pairs of 29903 each are selected for data analysis in this exercise. Firstly, the frequency of each nucleotide is calculated. From the ATCG counts results, it can be seen that sequences #5, #8 and #14 have comparatively low number of bases in total. In order to ensure accurate and confident data analysis thereafter, high sequence coverage is required. Therefore, any sequence with coverage below 85% is filtered out. As a result, these 3 sequences with coverage below 85% is filtered out and leave 17 sequences with coverage over 85%. (Note: sequence #7 is 86.7% and just made to be included in the later data analysis while the rest of the filtered sequences achieve an average of 99% of coverage).\n",
        "\n",
        "---\n",
        "\n"
      ],
      "metadata": {
        "id": "n1n6wW8jfjpn"
      }
    },
    {
      "cell_type": "markdown",
      "source": [
        "## **3. Sequence Analysis**\n",
        "### 3.1 Calculate GC content for each of two randomly selected sequences"
      ],
      "metadata": {
        "id": "fmS70EKtiWfP"
      }
    },
    {
      "cell_type": "code",
      "source": [
        "# Load the library\n",
        "library(Biostrings)"
      ],
      "metadata": {
        "id": "Xo0bv9bAoki4"
      },
      "execution_count": null,
      "outputs": []
    },
    {
      "cell_type": "code",
      "source": [
        "# Set seed for reproducibility and filtered sequences are loaded\n",
        "set.seed(1)\n",
        "filtered_sequences <- readDNAStringSet(\"./Bioinformatics Exercise/filtered_sequences.fasta\")\n",
        "filtered_sequences"
      ],
      "metadata": {
        "id": "4YvYa2XdnL2C",
        "colab": {
          "base_uri": "https://localhost:8080/",
          "height": 399
        },
        "outputId": "f8a3e526-a9ef-480b-ad20-66b5e3e18beb"
      },
      "execution_count": null,
      "outputs": [
        {
          "output_type": "display_data",
          "data": {
            "text/plain": [
              "DNAStringSet object of length 17:\n",
              "     width seq                                              names               \n",
              " [1] 29903 \u001b[47m\u001b[37mN\u001b[39m\u001b[49m\u001b[47m\u001b[37mN\u001b[39m\u001b[49m\u001b[47m\u001b[37mN\u001b[39m\u001b[49m\u001b[47m\u001b[37mN\u001b[39m\u001b[49m\u001b[47m\u001b[30mA\u001b[39m\u001b[49m\u001b[47m\u001b[30mA\u001b[39m\u001b[49m\u001b[47m\u001b[30mG\u001b[39m\u001b[49m\u001b[47m\u001b[30mG\u001b[39m\u001b[49m\u001b[47m\u001b[30mT\u001b[39m\u001b[49m\u001b[47m\u001b[30mT\u001b[39m\u001b[49m\u001b[47m\u001b[30mT\u001b[39m\u001b[49m\u001b[47m\u001b[30mA\u001b[39m\u001b[49m\u001b[47m\u001b[30mT\u001b[39m\u001b[49m\u001b[47m\u001b[30mA\u001b[39m\u001b[49m\u001b[47m\u001b[30mC\u001b[39m\u001b[49m\u001b[47m\u001b[30mC\u001b[39m\u001b[49m\u001b[47m\u001b[30mT\u001b[39m\u001b[49m\u001b[47m\u001b[30mT\u001b[39m\u001b[49m\u001b[47m\u001b[30mC\u001b[39m\u001b[49m\u001b[47m\u001b[30mC\u001b[39m\u001b[49m\u001b[47m\u001b[30mC\u001b[39m\u001b[49m\u001b[47m\u001b[30mA\u001b[39m\u001b[49m\u001b[47m\u001b[30mG\u001b[39m\u001b[49m...\u001b[47m\u001b[30mA\u001b[39m\u001b[49m\u001b[47m\u001b[30mA\u001b[39m\u001b[49m\u001b[47m\u001b[30mA\u001b[39m\u001b[49m\u001b[47m\u001b[30mA\u001b[39m\u001b[49m\u001b[47m\u001b[30mA\u001b[39m\u001b[49m\u001b[47m\u001b[30mA\u001b[39m\u001b[49m\u001b[47m\u001b[30mA\u001b[39m\u001b[49m\u001b[47m\u001b[30mA\u001b[39m\u001b[49m\u001b[47m\u001b[30mA\u001b[39m\u001b[49m\u001b[47m\u001b[30mA\u001b[39m\u001b[49m\u001b[47m\u001b[30mA\u001b[39m\u001b[49m\u001b[47m\u001b[30mA\u001b[39m\u001b[49m\u001b[47m\u001b[30mA\u001b[39m\u001b[49m\u001b[47m\u001b[30mA\u001b[39m\u001b[49m\u001b[47m\u001b[30mA\u001b[39m\u001b[49m\u001b[47m\u001b[30mA\u001b[39m\u001b[49m\u001b[47m\u001b[30mA\u001b[39m\u001b[49m\u001b[47m\u001b[30mA\u001b[39m\u001b[49m\u001b[47m\u001b[30mA\u001b[39m\u001b[49m\u001b[47m\u001b[30mA\u001b[39m\u001b[49m\u001b[47m\u001b[30mA\u001b[39m\u001b[49m\u001b[47m\u001b[30mA\u001b[39m\u001b[49m WHP10644-AV41_RC8...\n",
              " [2] 29903 \u001b[47m\u001b[37mN\u001b[39m\u001b[49m\u001b[47m\u001b[37mN\u001b[39m\u001b[49m\u001b[47m\u001b[37mN\u001b[39m\u001b[49m\u001b[47m\u001b[37mN\u001b[39m\u001b[49m\u001b[47m\u001b[37mN\u001b[39m\u001b[49m\u001b[47m\u001b[37mN\u001b[39m\u001b[49m\u001b[47m\u001b[37mN\u001b[39m\u001b[49m\u001b[47m\u001b[30mG\u001b[39m\u001b[49m\u001b[47m\u001b[30mT\u001b[39m\u001b[49m\u001b[47m\u001b[30mT\u001b[39m\u001b[49m\u001b[47m\u001b[30mT\u001b[39m\u001b[49m\u001b[47m\u001b[30mA\u001b[39m\u001b[49m\u001b[47m\u001b[30mT\u001b[39m\u001b[49m\u001b[47m\u001b[30mA\u001b[39m\u001b[49m\u001b[47m\u001b[30mC\u001b[39m\u001b[49m\u001b[47m\u001b[30mC\u001b[39m\u001b[49m\u001b[47m\u001b[30mT\u001b[39m\u001b[49m\u001b[47m\u001b[30mT\u001b[39m\u001b[49m\u001b[47m\u001b[30mC\u001b[39m\u001b[49m\u001b[47m\u001b[30mC\u001b[39m\u001b[49m\u001b[47m\u001b[30mC\u001b[39m\u001b[49m\u001b[47m\u001b[30mA\u001b[39m\u001b[49m\u001b[47m\u001b[30mG\u001b[39m\u001b[49m...\u001b[47m\u001b[37mN\u001b[39m\u001b[49m\u001b[47m\u001b[37mN\u001b[39m\u001b[49m\u001b[47m\u001b[37mN\u001b[39m\u001b[49m\u001b[47m\u001b[37mN\u001b[39m\u001b[49m\u001b[47m\u001b[37mN\u001b[39m\u001b[49m\u001b[47m\u001b[37mN\u001b[39m\u001b[49m\u001b[47m\u001b[37mN\u001b[39m\u001b[49m\u001b[47m\u001b[37mN\u001b[39m\u001b[49m\u001b[47m\u001b[37mN\u001b[39m\u001b[49m\u001b[47m\u001b[37mN\u001b[39m\u001b[49m\u001b[47m\u001b[37mN\u001b[39m\u001b[49m\u001b[47m\u001b[37mN\u001b[39m\u001b[49m\u001b[47m\u001b[37mN\u001b[39m\u001b[49m\u001b[47m\u001b[37mN\u001b[39m\u001b[49m\u001b[47m\u001b[37mN\u001b[39m\u001b[49m\u001b[47m\u001b[37mN\u001b[39m\u001b[49m\u001b[47m\u001b[37mN\u001b[39m\u001b[49m\u001b[47m\u001b[37mN\u001b[39m\u001b[49m\u001b[47m\u001b[37mN\u001b[39m\u001b[49m\u001b[47m\u001b[37mN\u001b[39m\u001b[49m\u001b[47m\u001b[37mN\u001b[39m\u001b[49m\u001b[47m\u001b[37mN\u001b[39m\u001b[49m WHP7426-H2-iseq_1...\n",
              " [3] 29903 \u001b[47m\u001b[37mN\u001b[39m\u001b[49m\u001b[47m\u001b[37mN\u001b[39m\u001b[49m\u001b[47m\u001b[37mN\u001b[39m\u001b[49m\u001b[47m\u001b[37mN\u001b[39m\u001b[49m\u001b[47m\u001b[37mN\u001b[39m\u001b[49m\u001b[47m\u001b[37mN\u001b[39m\u001b[49m\u001b[47m\u001b[37mN\u001b[39m\u001b[49m\u001b[47m\u001b[37mN\u001b[39m\u001b[49m\u001b[47m\u001b[37mN\u001b[39m\u001b[49m\u001b[47m\u001b[37mN\u001b[39m\u001b[49m\u001b[47m\u001b[37mN\u001b[39m\u001b[49m\u001b[47m\u001b[37mN\u001b[39m\u001b[49m\u001b[47m\u001b[37mN\u001b[39m\u001b[49m\u001b[47m\u001b[37mN\u001b[39m\u001b[49m\u001b[47m\u001b[37mN\u001b[39m\u001b[49m\u001b[47m\u001b[37mN\u001b[39m\u001b[49m\u001b[47m\u001b[37mN\u001b[39m\u001b[49m\u001b[47m\u001b[37mN\u001b[39m\u001b[49m\u001b[47m\u001b[37mN\u001b[39m\u001b[49m\u001b[47m\u001b[37mN\u001b[39m\u001b[49m\u001b[47m\u001b[37mN\u001b[39m\u001b[49m\u001b[47m\u001b[37mN\u001b[39m\u001b[49m\u001b[47m\u001b[37mN\u001b[39m\u001b[49m...\u001b[47m\u001b[30mA\u001b[39m\u001b[49m\u001b[47m\u001b[30mA\u001b[39m\u001b[49m\u001b[47m\u001b[30mA\u001b[39m\u001b[49m\u001b[47m\u001b[30mA\u001b[39m\u001b[49m\u001b[47m\u001b[30mA\u001b[39m\u001b[49m\u001b[47m\u001b[30mA\u001b[39m\u001b[49m\u001b[47m\u001b[30mA\u001b[39m\u001b[49m\u001b[47m\u001b[30mA\u001b[39m\u001b[49m\u001b[47m\u001b[30mA\u001b[39m\u001b[49m\u001b[47m\u001b[30mA\u001b[39m\u001b[49m\u001b[47m\u001b[30mA\u001b[39m\u001b[49m\u001b[47m\u001b[30mA\u001b[39m\u001b[49m\u001b[47m\u001b[30mA\u001b[39m\u001b[49m\u001b[47m\u001b[30mA\u001b[39m\u001b[49m\u001b[47m\u001b[30mA\u001b[39m\u001b[49m\u001b[47m\u001b[30mA\u001b[39m\u001b[49m\u001b[47m\u001b[30mA\u001b[39m\u001b[49m\u001b[47m\u001b[30mA\u001b[39m\u001b[49m\u001b[47m\u001b[30mA\u001b[39m\u001b[49m\u001b[47m\u001b[30mA\u001b[39m\u001b[49m\u001b[47m\u001b[30mA\u001b[39m\u001b[49m\u001b[47m\u001b[30mA\u001b[39m\u001b[49m WHP3916_10681\n",
              " [4] 29903 \u001b[47m\u001b[37mN\u001b[39m\u001b[49m\u001b[47m\u001b[37mN\u001b[39m\u001b[49m\u001b[47m\u001b[37mN\u001b[39m\u001b[49m\u001b[47m\u001b[37mN\u001b[39m\u001b[49m\u001b[47m\u001b[30mA\u001b[39m\u001b[49m\u001b[47m\u001b[30mA\u001b[39m\u001b[49m\u001b[47m\u001b[30mG\u001b[39m\u001b[49m\u001b[47m\u001b[30mG\u001b[39m\u001b[49m\u001b[47m\u001b[30mT\u001b[39m\u001b[49m\u001b[47m\u001b[30mT\u001b[39m\u001b[49m\u001b[47m\u001b[30mT\u001b[39m\u001b[49m\u001b[47m\u001b[30mA\u001b[39m\u001b[49m\u001b[47m\u001b[30mT\u001b[39m\u001b[49m\u001b[47m\u001b[30mA\u001b[39m\u001b[49m\u001b[47m\u001b[30mC\u001b[39m\u001b[49m\u001b[47m\u001b[30mC\u001b[39m\u001b[49m\u001b[47m\u001b[30mT\u001b[39m\u001b[49m\u001b[47m\u001b[30mT\u001b[39m\u001b[49m\u001b[47m\u001b[30mC\u001b[39m\u001b[49m\u001b[47m\u001b[30mC\u001b[39m\u001b[49m\u001b[47m\u001b[30mC\u001b[39m\u001b[49m\u001b[47m\u001b[30mA\u001b[39m\u001b[49m\u001b[47m\u001b[30mG\u001b[39m\u001b[49m...\u001b[47m\u001b[30mA\u001b[39m\u001b[49m\u001b[47m\u001b[30mA\u001b[39m\u001b[49m\u001b[47m\u001b[30mA\u001b[39m\u001b[49m\u001b[47m\u001b[30mA\u001b[39m\u001b[49m\u001b[47m\u001b[30mA\u001b[39m\u001b[49m\u001b[47m\u001b[30mA\u001b[39m\u001b[49m\u001b[47m\u001b[30mA\u001b[39m\u001b[49m\u001b[47m\u001b[30mA\u001b[39m\u001b[49m\u001b[47m\u001b[30mA\u001b[39m\u001b[49m\u001b[47m\u001b[30mA\u001b[39m\u001b[49m\u001b[47m\u001b[30mA\u001b[39m\u001b[49m\u001b[47m\u001b[30mA\u001b[39m\u001b[49m\u001b[47m\u001b[30mA\u001b[39m\u001b[49m\u001b[47m\u001b[30mA\u001b[39m\u001b[49m\u001b[47m\u001b[30mA\u001b[39m\u001b[49m\u001b[47m\u001b[30mA\u001b[39m\u001b[49m\u001b[47m\u001b[30mA\u001b[39m\u001b[49m\u001b[47m\u001b[30mA\u001b[39m\u001b[49m\u001b[47m\u001b[30mA\u001b[39m\u001b[49m\u001b[47m\u001b[30mA\u001b[39m\u001b[49m\u001b[47m\u001b[30mA\u001b[39m\u001b[49m\u001b[47m\u001b[30mA\u001b[39m\u001b[49m WHP1939_3582\n",
              " [5] 29903 \u001b[47m\u001b[37mN\u001b[39m\u001b[49m\u001b[47m\u001b[37mN\u001b[39m\u001b[49m\u001b[47m\u001b[37mN\u001b[39m\u001b[49m\u001b[47m\u001b[37mN\u001b[39m\u001b[49m\u001b[47m\u001b[37mN\u001b[39m\u001b[49m\u001b[47m\u001b[37mN\u001b[39m\u001b[49m\u001b[47m\u001b[37mN\u001b[39m\u001b[49m\u001b[47m\u001b[37mN\u001b[39m\u001b[49m\u001b[47m\u001b[37mN\u001b[39m\u001b[49m\u001b[47m\u001b[37mN\u001b[39m\u001b[49m\u001b[47m\u001b[37mN\u001b[39m\u001b[49m\u001b[47m\u001b[37mN\u001b[39m\u001b[49m\u001b[47m\u001b[37mN\u001b[39m\u001b[49m\u001b[47m\u001b[37mN\u001b[39m\u001b[49m\u001b[47m\u001b[37mN\u001b[39m\u001b[49m\u001b[47m\u001b[37mN\u001b[39m\u001b[49m\u001b[47m\u001b[37mN\u001b[39m\u001b[49m\u001b[47m\u001b[37mN\u001b[39m\u001b[49m\u001b[47m\u001b[37mN\u001b[39m\u001b[49m\u001b[47m\u001b[37mN\u001b[39m\u001b[49m\u001b[47m\u001b[37mN\u001b[39m\u001b[49m\u001b[47m\u001b[37mN\u001b[39m\u001b[49m\u001b[47m\u001b[37mN\u001b[39m\u001b[49m...\u001b[47m\u001b[30mA\u001b[39m\u001b[49m\u001b[47m\u001b[30mA\u001b[39m\u001b[49m\u001b[47m\u001b[30mA\u001b[39m\u001b[49m\u001b[47m\u001b[30mA\u001b[39m\u001b[49m\u001b[47m\u001b[30mA\u001b[39m\u001b[49m\u001b[47m\u001b[30mA\u001b[39m\u001b[49m\u001b[47m\u001b[30mA\u001b[39m\u001b[49m\u001b[47m\u001b[30mA\u001b[39m\u001b[49m\u001b[47m\u001b[30mA\u001b[39m\u001b[49m\u001b[47m\u001b[30mA\u001b[39m\u001b[49m\u001b[47m\u001b[30mA\u001b[39m\u001b[49m\u001b[47m\u001b[30mA\u001b[39m\u001b[49m\u001b[47m\u001b[30mA\u001b[39m\u001b[49m\u001b[47m\u001b[30mA\u001b[39m\u001b[49m\u001b[47m\u001b[30mA\u001b[39m\u001b[49m\u001b[47m\u001b[30mA\u001b[39m\u001b[49m\u001b[47m\u001b[30mA\u001b[39m\u001b[49m\u001b[47m\u001b[30mA\u001b[39m\u001b[49m\u001b[47m\u001b[30mA\u001b[39m\u001b[49m\u001b[47m\u001b[30mA\u001b[39m\u001b[49m\u001b[47m\u001b[30mA\u001b[39m\u001b[49m\u001b[47m\u001b[30mA\u001b[39m\u001b[49m WHP3977_10906\n",
              " ...   ... ...\n",
              "[13] 29903 \u001b[47m\u001b[37mN\u001b[39m\u001b[49m\u001b[47m\u001b[37mN\u001b[39m\u001b[49m\u001b[47m\u001b[37mN\u001b[39m\u001b[49m\u001b[47m\u001b[37mN\u001b[39m\u001b[49m\u001b[47m\u001b[37mN\u001b[39m\u001b[49m\u001b[47m\u001b[37mN\u001b[39m\u001b[49m\u001b[47m\u001b[37mN\u001b[39m\u001b[49m\u001b[47m\u001b[30mG\u001b[39m\u001b[49m\u001b[47m\u001b[30mT\u001b[39m\u001b[49m\u001b[47m\u001b[30mT\u001b[39m\u001b[49m\u001b[47m\u001b[30mT\u001b[39m\u001b[49m\u001b[47m\u001b[30mA\u001b[39m\u001b[49m\u001b[47m\u001b[30mT\u001b[39m\u001b[49m\u001b[47m\u001b[30mA\u001b[39m\u001b[49m\u001b[47m\u001b[30mC\u001b[39m\u001b[49m\u001b[47m\u001b[30mC\u001b[39m\u001b[49m\u001b[47m\u001b[30mT\u001b[39m\u001b[49m\u001b[47m\u001b[30mT\u001b[39m\u001b[49m\u001b[47m\u001b[30mC\u001b[39m\u001b[49m\u001b[47m\u001b[30mC\u001b[39m\u001b[49m\u001b[47m\u001b[30mC\u001b[39m\u001b[49m\u001b[47m\u001b[30mA\u001b[39m\u001b[49m\u001b[47m\u001b[30mG\u001b[39m\u001b[49m...\u001b[47m\u001b[30mA\u001b[39m\u001b[49m\u001b[47m\u001b[30mA\u001b[39m\u001b[49m\u001b[47m\u001b[30mA\u001b[39m\u001b[49m\u001b[47m\u001b[30mA\u001b[39m\u001b[49m\u001b[47m\u001b[30mA\u001b[39m\u001b[49m\u001b[47m\u001b[30mA\u001b[39m\u001b[49m\u001b[47m\u001b[30mA\u001b[39m\u001b[49m\u001b[47m\u001b[30mA\u001b[39m\u001b[49m\u001b[47m\u001b[30mA\u001b[39m\u001b[49m\u001b[47m\u001b[30mA\u001b[39m\u001b[49m\u001b[47m\u001b[30mA\u001b[39m\u001b[49m\u001b[47m\u001b[30mA\u001b[39m\u001b[49m\u001b[47m\u001b[30mA\u001b[39m\u001b[49m\u001b[47m\u001b[30mA\u001b[39m\u001b[49m\u001b[47m\u001b[30mA\u001b[39m\u001b[49m\u001b[47m\u001b[30mA\u001b[39m\u001b[49m\u001b[47m\u001b[30mA\u001b[39m\u001b[49m\u001b[47m\u001b[30mA\u001b[39m\u001b[49m\u001b[47m\u001b[30mA\u001b[39m\u001b[49m\u001b[47m\u001b[30mA\u001b[39m\u001b[49m\u001b[47m\u001b[30mA\u001b[39m\u001b[49m\u001b[47m\u001b[30mA\u001b[39m\u001b[49m VOC1980-H2-iseq_NA\n",
              "[14] 29903 \u001b[47m\u001b[37mN\u001b[39m\u001b[49m\u001b[47m\u001b[37mN\u001b[39m\u001b[49m\u001b[47m\u001b[37mN\u001b[39m\u001b[49m\u001b[47m\u001b[37mN\u001b[39m\u001b[49m\u001b[47m\u001b[30mA\u001b[39m\u001b[49m\u001b[47m\u001b[30mA\u001b[39m\u001b[49m\u001b[47m\u001b[30mG\u001b[39m\u001b[49m\u001b[47m\u001b[30mG\u001b[39m\u001b[49m\u001b[47m\u001b[30mT\u001b[39m\u001b[49m\u001b[47m\u001b[30mT\u001b[39m\u001b[49m\u001b[47m\u001b[30mT\u001b[39m\u001b[49m\u001b[47m\u001b[30mA\u001b[39m\u001b[49m\u001b[47m\u001b[30mT\u001b[39m\u001b[49m\u001b[47m\u001b[30mA\u001b[39m\u001b[49m\u001b[47m\u001b[30mC\u001b[39m\u001b[49m\u001b[47m\u001b[30mC\u001b[39m\u001b[49m\u001b[47m\u001b[30mT\u001b[39m\u001b[49m\u001b[47m\u001b[30mT\u001b[39m\u001b[49m\u001b[47m\u001b[30mC\u001b[39m\u001b[49m\u001b[47m\u001b[30mC\u001b[39m\u001b[49m\u001b[47m\u001b[30mC\u001b[39m\u001b[49m\u001b[47m\u001b[30mA\u001b[39m\u001b[49m\u001b[47m\u001b[30mG\u001b[39m\u001b[49m...\u001b[47m\u001b[30mA\u001b[39m\u001b[49m\u001b[47m\u001b[30mA\u001b[39m\u001b[49m\u001b[47m\u001b[30mA\u001b[39m\u001b[49m\u001b[47m\u001b[30mA\u001b[39m\u001b[49m\u001b[47m\u001b[30mA\u001b[39m\u001b[49m\u001b[47m\u001b[30mA\u001b[39m\u001b[49m\u001b[47m\u001b[30mA\u001b[39m\u001b[49m\u001b[47m\u001b[30mA\u001b[39m\u001b[49m\u001b[47m\u001b[30mA\u001b[39m\u001b[49m\u001b[47m\u001b[30mA\u001b[39m\u001b[49m\u001b[47m\u001b[30mA\u001b[39m\u001b[49m\u001b[47m\u001b[30mA\u001b[39m\u001b[49m\u001b[47m\u001b[30mA\u001b[39m\u001b[49m\u001b[47m\u001b[30mA\u001b[39m\u001b[49m\u001b[47m\u001b[30mA\u001b[39m\u001b[49m\u001b[47m\u001b[30mA\u001b[39m\u001b[49m\u001b[47m\u001b[30mA\u001b[39m\u001b[49m\u001b[47m\u001b[30mA\u001b[39m\u001b[49m\u001b[47m\u001b[30mA\u001b[39m\u001b[49m\u001b[47m\u001b[30mA\u001b[39m\u001b[49m\u001b[47m\u001b[30mA\u001b[39m\u001b[49m\u001b[47m\u001b[30mA\u001b[39m\u001b[49m WHP7692-A4v1_1024583\n",
              "[15] 29903 \u001b[47m\u001b[37mN\u001b[39m\u001b[49m\u001b[47m\u001b[37mN\u001b[39m\u001b[49m\u001b[47m\u001b[37mN\u001b[39m\u001b[49m\u001b[47m\u001b[37mN\u001b[39m\u001b[49m\u001b[47m\u001b[37mN\u001b[39m\u001b[49m\u001b[47m\u001b[30mA\u001b[39m\u001b[49m\u001b[47m\u001b[30mG\u001b[39m\u001b[49m\u001b[47m\u001b[30mG\u001b[39m\u001b[49m\u001b[47m\u001b[30mT\u001b[39m\u001b[49m\u001b[47m\u001b[30mT\u001b[39m\u001b[49m\u001b[47m\u001b[30mT\u001b[39m\u001b[49m\u001b[47m\u001b[30mA\u001b[39m\u001b[49m\u001b[47m\u001b[30mT\u001b[39m\u001b[49m\u001b[47m\u001b[30mA\u001b[39m\u001b[49m\u001b[47m\u001b[30mC\u001b[39m\u001b[49m\u001b[47m\u001b[30mC\u001b[39m\u001b[49m\u001b[47m\u001b[30mT\u001b[39m\u001b[49m\u001b[47m\u001b[30mT\u001b[39m\u001b[49m\u001b[47m\u001b[30mC\u001b[39m\u001b[49m\u001b[47m\u001b[30mC\u001b[39m\u001b[49m\u001b[47m\u001b[30mC\u001b[39m\u001b[49m\u001b[47m\u001b[30mA\u001b[39m\u001b[49m\u001b[47m\u001b[30mG\u001b[39m\u001b[49m...\u001b[47m\u001b[30mA\u001b[39m\u001b[49m\u001b[47m\u001b[30mA\u001b[39m\u001b[49m\u001b[47m\u001b[30mA\u001b[39m\u001b[49m\u001b[47m\u001b[30mA\u001b[39m\u001b[49m\u001b[47m\u001b[30mA\u001b[39m\u001b[49m\u001b[47m\u001b[30mA\u001b[39m\u001b[49m\u001b[47m\u001b[30mA\u001b[39m\u001b[49m\u001b[47m\u001b[30mA\u001b[39m\u001b[49m\u001b[47m\u001b[30mA\u001b[39m\u001b[49m\u001b[47m\u001b[30mA\u001b[39m\u001b[49m\u001b[47m\u001b[30mA\u001b[39m\u001b[49m\u001b[47m\u001b[30mA\u001b[39m\u001b[49m\u001b[47m\u001b[30mA\u001b[39m\u001b[49m\u001b[47m\u001b[30mA\u001b[39m\u001b[49m\u001b[47m\u001b[30mA\u001b[39m\u001b[49m\u001b[47m\u001b[30mA\u001b[39m\u001b[49m\u001b[47m\u001b[30mA\u001b[39m\u001b[49m\u001b[47m\u001b[30mA\u001b[39m\u001b[49m\u001b[47m\u001b[30mA\u001b[39m\u001b[49m\u001b[47m\u001b[30mA\u001b[39m\u001b[49m\u001b[47m\u001b[30mA\u001b[39m\u001b[49m\u001b[47m\u001b[30mA\u001b[39m\u001b[49m WHP9591-A4v1_1283879\n",
              "[16] 29903 \u001b[47m\u001b[30mA\u001b[39m\u001b[49m\u001b[47m\u001b[37mY\u001b[39m\u001b[49m\u001b[47m\u001b[30mT\u001b[39m\u001b[49m\u001b[47m\u001b[30mA\u001b[39m\u001b[49m\u001b[47m\u001b[30mA\u001b[39m\u001b[49m\u001b[47m\u001b[30mA\u001b[39m\u001b[49m\u001b[47m\u001b[30mG\u001b[39m\u001b[49m\u001b[47m\u001b[30mG\u001b[39m\u001b[49m\u001b[47m\u001b[30mT\u001b[39m\u001b[49m\u001b[47m\u001b[30mT\u001b[39m\u001b[49m\u001b[47m\u001b[30mT\u001b[39m\u001b[49m\u001b[47m\u001b[30mA\u001b[39m\u001b[49m\u001b[47m\u001b[30mT\u001b[39m\u001b[49m\u001b[47m\u001b[30mA\u001b[39m\u001b[49m\u001b[47m\u001b[30mC\u001b[39m\u001b[49m\u001b[47m\u001b[30mC\u001b[39m\u001b[49m\u001b[47m\u001b[30mT\u001b[39m\u001b[49m\u001b[47m\u001b[30mT\u001b[39m\u001b[49m\u001b[47m\u001b[30mC\u001b[39m\u001b[49m\u001b[47m\u001b[30mC\u001b[39m\u001b[49m\u001b[47m\u001b[30mC\u001b[39m\u001b[49m\u001b[47m\u001b[30mA\u001b[39m\u001b[49m\u001b[47m\u001b[30mG\u001b[39m\u001b[49m...\u001b[47m\u001b[30mA\u001b[39m\u001b[49m\u001b[47m\u001b[30mA\u001b[39m\u001b[49m\u001b[47m\u001b[30mA\u001b[39m\u001b[49m\u001b[47m\u001b[30mA\u001b[39m\u001b[49m\u001b[47m\u001b[30mA\u001b[39m\u001b[49m\u001b[47m\u001b[30mA\u001b[39m\u001b[49m\u001b[47m\u001b[30mA\u001b[39m\u001b[49m\u001b[47m\u001b[30mA\u001b[39m\u001b[49m\u001b[47m\u001b[30mA\u001b[39m\u001b[49m\u001b[47m\u001b[30mA\u001b[39m\u001b[49m\u001b[47m\u001b[30mA\u001b[39m\u001b[49m\u001b[47m\u001b[30mA\u001b[39m\u001b[49m\u001b[47m\u001b[30mA\u001b[39m\u001b[49m\u001b[47m\u001b[30mA\u001b[39m\u001b[49m\u001b[47m\u001b[30mA\u001b[39m\u001b[49m\u001b[47m\u001b[30mA\u001b[39m\u001b[49m\u001b[47m\u001b[30mA\u001b[39m\u001b[49m\u001b[47m\u001b[30mA\u001b[39m\u001b[49m\u001b[47m\u001b[30mA\u001b[39m\u001b[49m\u001b[47m\u001b[30mA\u001b[39m\u001b[49m\u001b[47m\u001b[30mA\u001b[39m\u001b[49m\u001b[47m\u001b[30mA\u001b[39m\u001b[49m WHP6749-H2-iseq_R...\n",
              "[17] 29903 \u001b[47m\u001b[37mN\u001b[39m\u001b[49m\u001b[47m\u001b[37mN\u001b[39m\u001b[49m\u001b[47m\u001b[37mN\u001b[39m\u001b[49m\u001b[47m\u001b[37mN\u001b[39m\u001b[49m\u001b[47m\u001b[37mN\u001b[39m\u001b[49m\u001b[47m\u001b[37mN\u001b[39m\u001b[49m\u001b[47m\u001b[37mN\u001b[39m\u001b[49m\u001b[47m\u001b[37mN\u001b[39m\u001b[49m\u001b[47m\u001b[37mN\u001b[39m\u001b[49m\u001b[47m\u001b[37mN\u001b[39m\u001b[49m\u001b[47m\u001b[37mN\u001b[39m\u001b[49m\u001b[47m\u001b[37mN\u001b[39m\u001b[49m\u001b[47m\u001b[37mN\u001b[39m\u001b[49m\u001b[47m\u001b[37mN\u001b[39m\u001b[49m\u001b[47m\u001b[37mN\u001b[39m\u001b[49m\u001b[47m\u001b[37mN\u001b[39m\u001b[49m\u001b[47m\u001b[37mN\u001b[39m\u001b[49m\u001b[47m\u001b[37mN\u001b[39m\u001b[49m\u001b[47m\u001b[37mN\u001b[39m\u001b[49m\u001b[47m\u001b[37mN\u001b[39m\u001b[49m\u001b[47m\u001b[37mN\u001b[39m\u001b[49m\u001b[47m\u001b[37mN\u001b[39m\u001b[49m\u001b[47m\u001b[37mN\u001b[39m\u001b[49m...\u001b[47m\u001b[30mA\u001b[39m\u001b[49m\u001b[47m\u001b[30mA\u001b[39m\u001b[49m\u001b[47m\u001b[30mA\u001b[39m\u001b[49m\u001b[47m\u001b[30mA\u001b[39m\u001b[49m\u001b[47m\u001b[30mA\u001b[39m\u001b[49m\u001b[47m\u001b[30mA\u001b[39m\u001b[49m\u001b[47m\u001b[30mA\u001b[39m\u001b[49m\u001b[47m\u001b[30mA\u001b[39m\u001b[49m\u001b[47m\u001b[30mA\u001b[39m\u001b[49m\u001b[47m\u001b[30mA\u001b[39m\u001b[49m\u001b[47m\u001b[30mA\u001b[39m\u001b[49m\u001b[47m\u001b[30mA\u001b[39m\u001b[49m\u001b[47m\u001b[30mA\u001b[39m\u001b[49m\u001b[47m\u001b[30mA\u001b[39m\u001b[49m\u001b[47m\u001b[30mA\u001b[39m\u001b[49m\u001b[47m\u001b[30mA\u001b[39m\u001b[49m\u001b[47m\u001b[30mA\u001b[39m\u001b[49m\u001b[47m\u001b[30mA\u001b[39m\u001b[49m\u001b[47m\u001b[30mA\u001b[39m\u001b[49m\u001b[47m\u001b[30mA\u001b[39m\u001b[49m\u001b[47m\u001b[30mA\u001b[39m\u001b[49m\u001b[47m\u001b[30mA\u001b[39m\u001b[49m WHP4969_12214"
            ]
          },
          "metadata": {}
        }
      ]
    },
    {
      "cell_type": "code",
      "source": [
        "# Two random sequences are selected\n",
        "random_indices <- sample(length(filtered_sequences), 2)\n",
        "selected_sequences <- filtered_sequences[random_indices]\n",
        "filtered_sequences[random_indices]"
      ],
      "metadata": {
        "colab": {
          "base_uri": "https://localhost:8080/",
          "height": 104
        },
        "id": "NcGfe5Ilc5uQ",
        "outputId": "c957001c-6eda-4260-85f7-5c3062b27a14"
      },
      "execution_count": null,
      "outputs": [
        {
          "output_type": "display_data",
          "data": {
            "text/plain": [
              "DNAStringSet object of length 2:\n",
              "    width seq                                               names               \n",
              "[1] 29903 \u001b[47m\u001b[37mN\u001b[39m\u001b[49m\u001b[47m\u001b[37mN\u001b[39m\u001b[49m\u001b[47m\u001b[37mN\u001b[39m\u001b[49m\u001b[47m\u001b[37mN\u001b[39m\u001b[49m\u001b[47m\u001b[30mA\u001b[39m\u001b[49m\u001b[47m\u001b[30mA\u001b[39m\u001b[49m\u001b[47m\u001b[30mG\u001b[39m\u001b[49m\u001b[47m\u001b[30mG\u001b[39m\u001b[49m\u001b[47m\u001b[30mT\u001b[39m\u001b[49m\u001b[47m\u001b[30mT\u001b[39m\u001b[49m\u001b[47m\u001b[30mT\u001b[39m\u001b[49m\u001b[47m\u001b[30mA\u001b[39m\u001b[49m\u001b[47m\u001b[30mT\u001b[39m\u001b[49m\u001b[47m\u001b[30mA\u001b[39m\u001b[49m\u001b[47m\u001b[30mC\u001b[39m\u001b[49m\u001b[47m\u001b[30mC\u001b[39m\u001b[49m\u001b[47m\u001b[30mT\u001b[39m\u001b[49m\u001b[47m\u001b[30mT\u001b[39m\u001b[49m\u001b[47m\u001b[30mC\u001b[39m\u001b[49m\u001b[47m\u001b[30mC\u001b[39m\u001b[49m\u001b[47m\u001b[30mC\u001b[39m\u001b[49m\u001b[47m\u001b[30mA\u001b[39m\u001b[49m\u001b[47m\u001b[30mG\u001b[39m\u001b[49m...\u001b[47m\u001b[30mA\u001b[39m\u001b[49m\u001b[47m\u001b[30mA\u001b[39m\u001b[49m\u001b[47m\u001b[30mA\u001b[39m\u001b[49m\u001b[47m\u001b[30mA\u001b[39m\u001b[49m\u001b[47m\u001b[30mA\u001b[39m\u001b[49m\u001b[47m\u001b[30mA\u001b[39m\u001b[49m\u001b[47m\u001b[30mA\u001b[39m\u001b[49m\u001b[47m\u001b[30mA\u001b[39m\u001b[49m\u001b[47m\u001b[30mA\u001b[39m\u001b[49m\u001b[47m\u001b[30mA\u001b[39m\u001b[49m\u001b[47m\u001b[30mA\u001b[39m\u001b[49m\u001b[47m\u001b[30mA\u001b[39m\u001b[49m\u001b[47m\u001b[30mA\u001b[39m\u001b[49m\u001b[47m\u001b[30mA\u001b[39m\u001b[49m\u001b[47m\u001b[30mA\u001b[39m\u001b[49m\u001b[47m\u001b[30mA\u001b[39m\u001b[49m\u001b[47m\u001b[30mA\u001b[39m\u001b[49m\u001b[47m\u001b[30mA\u001b[39m\u001b[49m\u001b[47m\u001b[30mA\u001b[39m\u001b[49m\u001b[47m\u001b[30mA\u001b[39m\u001b[49m\u001b[47m\u001b[30mA\u001b[39m\u001b[49m\u001b[47m\u001b[30mA\u001b[39m\u001b[49m\u001b[47m\u001b[30mA\u001b[39m\u001b[49m WHP1939_3582\n",
              "[2] 29903 \u001b[47m\u001b[37mN\u001b[39m\u001b[49m\u001b[47m\u001b[30mT\u001b[39m\u001b[49m\u001b[47m\u001b[30mT\u001b[39m\u001b[49m\u001b[47m\u001b[30mA\u001b[39m\u001b[49m\u001b[47m\u001b[30mA\u001b[39m\u001b[49m\u001b[47m\u001b[30mA\u001b[39m\u001b[49m\u001b[47m\u001b[30mG\u001b[39m\u001b[49m\u001b[47m\u001b[30mG\u001b[39m\u001b[49m\u001b[47m\u001b[30mT\u001b[39m\u001b[49m\u001b[47m\u001b[30mT\u001b[39m\u001b[49m\u001b[47m\u001b[30mT\u001b[39m\u001b[49m\u001b[47m\u001b[30mA\u001b[39m\u001b[49m\u001b[47m\u001b[30mT\u001b[39m\u001b[49m\u001b[47m\u001b[30mA\u001b[39m\u001b[49m\u001b[47m\u001b[30mC\u001b[39m\u001b[49m\u001b[47m\u001b[30mC\u001b[39m\u001b[49m\u001b[47m\u001b[30mT\u001b[39m\u001b[49m\u001b[47m\u001b[30mT\u001b[39m\u001b[49m\u001b[47m\u001b[30mC\u001b[39m\u001b[49m\u001b[47m\u001b[30mC\u001b[39m\u001b[49m\u001b[47m\u001b[30mC\u001b[39m\u001b[49m\u001b[47m\u001b[30mA\u001b[39m\u001b[49m\u001b[47m\u001b[30mG\u001b[39m\u001b[49m...\u001b[47m\u001b[30mA\u001b[39m\u001b[49m\u001b[47m\u001b[30mA\u001b[39m\u001b[49m\u001b[47m\u001b[30mA\u001b[39m\u001b[49m\u001b[47m\u001b[30mA\u001b[39m\u001b[49m\u001b[47m\u001b[30mA\u001b[39m\u001b[49m\u001b[47m\u001b[30mA\u001b[39m\u001b[49m\u001b[47m\u001b[30mA\u001b[39m\u001b[49m\u001b[47m\u001b[30mA\u001b[39m\u001b[49m\u001b[47m\u001b[30mA\u001b[39m\u001b[49m\u001b[47m\u001b[30mA\u001b[39m\u001b[49m\u001b[47m\u001b[30mA\u001b[39m\u001b[49m\u001b[47m\u001b[30mA\u001b[39m\u001b[49m\u001b[47m\u001b[30mA\u001b[39m\u001b[49m\u001b[47m\u001b[30mA\u001b[39m\u001b[49m\u001b[47m\u001b[30mA\u001b[39m\u001b[49m\u001b[47m\u001b[30mA\u001b[39m\u001b[49m\u001b[47m\u001b[30mA\u001b[39m\u001b[49m\u001b[47m\u001b[30mA\u001b[39m\u001b[49m\u001b[47m\u001b[30mA\u001b[39m\u001b[49m\u001b[47m\u001b[30mA\u001b[39m\u001b[49m\u001b[47m\u001b[30mA\u001b[39m\u001b[49m\u001b[47m\u001b[30mA\u001b[39m\u001b[49m\u001b[47m\u001b[30mA\u001b[39m\u001b[49m WHP8107-A4v1_1082351"
            ]
          },
          "metadata": {}
        }
      ]
    },
    {
      "cell_type": "markdown",
      "source": [
        "Since the two sequences are randomly selected, by setting seed, the same results can be reproduced everytime."
      ],
      "metadata": {
        "id": "rodxZoTFHNUy"
      }
    },
    {
      "cell_type": "code",
      "source": [
        "# The GC content of each of the two randomly selected sequence is calculated\n",
        "gc_counts <- letterFrequency(selected_sequences, letters = c(\"G\", \"C\"))\n",
        "total_lengths <- width(selected_sequences)\n",
        "gc_content <- rowSums(gc_counts) / total_lengths\n",
        "gc_content"
      ],
      "metadata": {
        "colab": {
          "base_uri": "https://localhost:8080/",
          "height": 34
        },
        "id": "Iu9iSWjWdUT9",
        "outputId": "c1b24b5d-8e19-4d6f-f2a4-ef3416b1a874"
      },
      "execution_count": null,
      "outputs": [
        {
          "output_type": "display_data",
          "data": {
            "text/html": [
              "<style>\n",
              ".list-inline {list-style: none; margin:0; padding: 0}\n",
              ".list-inline>li {display: inline-block}\n",
              ".list-inline>li:not(:last-child)::after {content: \"\\00b7\"; padding: 0 .5ex}\n",
              "</style>\n",
              "<ol class=list-inline><li>0.379426813363208</li><li>0.377487208641273</li></ol>\n"
            ],
            "text/markdown": "1. 0.379426813363208\n2. 0.377487208641273\n\n\n",
            "text/latex": "\\begin{enumerate*}\n\\item 0.379426813363208\n\\item 0.377487208641273\n\\end{enumerate*}\n",
            "text/plain": [
              "[1] 0.3794268 0.3774872"
            ]
          },
          "metadata": {}
        }
      ]
    },
    {
      "cell_type": "markdown",
      "source": [
        "From global studies of SARS-CoV-2 virus genome, the GC content of its coding sequence is around 38%. According to the above GC content results of the two randomly selected sequences, the GC contents are 37.9% and 37.7% respectively, which match the GC content for SARS-CoV-2 virus."
      ],
      "metadata": {
        "id": "oXsnnzutH1GL"
      }
    },
    {
      "cell_type": "code",
      "source": [
        "# Output the GC content in FASTA format named \"filtered_sequences.gc.fasta\" and save the filtered sequences\n",
        "output <- paste0(names(selected_sequences), \": \", round(gc_content, 5))\n",
        "output\n",
        "writeXStringSet(selected_sequences, filepath = \"./Bioinformatics Exercise/filtered_sequences.gc.fasta\")"
      ],
      "metadata": {
        "colab": {
          "base_uri": "https://localhost:8080/",
          "height": 52
        },
        "id": "_SkeQVvneF77",
        "outputId": "72ae34c5-6414-4acc-8382-d60a3cdf1517"
      },
      "execution_count": null,
      "outputs": [
        {
          "output_type": "display_data",
          "data": {
            "text/html": [
              "<style>\n",
              ".list-inline {list-style: none; margin:0; padding: 0}\n",
              ".list-inline>li {display: inline-block}\n",
              ".list-inline>li:not(:last-child)::after {content: \"\\00b7\"; padding: 0 .5ex}\n",
              "</style>\n",
              "<ol class=list-inline><li>'WHP1939_3582: 0.37943'</li><li>'WHP8107-A4v1_1082351: 0.37749'</li></ol>\n"
            ],
            "text/markdown": "1. 'WHP1939_3582: 0.37943'\n2. 'WHP8107-A4v1_1082351: 0.37749'\n\n\n",
            "text/latex": "\\begin{enumerate*}\n\\item 'WHP1939\\_3582: 0.37943'\n\\item 'WHP8107-A4v1\\_1082351: 0.37749'\n\\end{enumerate*}\n",
            "text/plain": [
              "[1] \"WHP1939_3582: 0.37943\"         \"WHP8107-A4v1_1082351: 0.37749\""
            ]
          },
          "metadata": {}
        }
      ]
    },
    {
      "cell_type": "markdown",
      "source": [
        "### 3.2 Extract the spike gene region (positions 21,563 to 25,384) for both sequences"
      ],
      "metadata": {
        "id": "Qr2yGpR8kOW6"
      }
    },
    {
      "cell_type": "code",
      "source": [
        "# Load the library\n",
        "library(Biostrings)"
      ],
      "metadata": {
        "id": "MEV2xoDakpxZ"
      },
      "execution_count": null,
      "outputs": []
    },
    {
      "cell_type": "code",
      "source": [
        "# The filtered randomly selected 2 sequences are loaded\n",
        "filtered_sequences <- readDNAStringSet(\"./Bioinformatics Exercise/filtered_sequences.gc.fasta\")\n",
        "filtered_sequences"
      ],
      "metadata": {
        "colab": {
          "base_uri": "https://localhost:8080/",
          "height": 104
        },
        "id": "TmgdaLjwlTdE",
        "outputId": "d797276d-68ef-4e2f-8b9e-df1dc0fa8762"
      },
      "execution_count": null,
      "outputs": [
        {
          "output_type": "display_data",
          "data": {
            "text/plain": [
              "DNAStringSet object of length 2:\n",
              "    width seq                                               names               \n",
              "[1] 29903 \u001b[47m\u001b[37mN\u001b[39m\u001b[49m\u001b[47m\u001b[37mN\u001b[39m\u001b[49m\u001b[47m\u001b[37mN\u001b[39m\u001b[49m\u001b[47m\u001b[37mN\u001b[39m\u001b[49m\u001b[47m\u001b[30mA\u001b[39m\u001b[49m\u001b[47m\u001b[30mA\u001b[39m\u001b[49m\u001b[47m\u001b[30mG\u001b[39m\u001b[49m\u001b[47m\u001b[30mG\u001b[39m\u001b[49m\u001b[47m\u001b[30mT\u001b[39m\u001b[49m\u001b[47m\u001b[30mT\u001b[39m\u001b[49m\u001b[47m\u001b[30mT\u001b[39m\u001b[49m\u001b[47m\u001b[30mA\u001b[39m\u001b[49m\u001b[47m\u001b[30mT\u001b[39m\u001b[49m\u001b[47m\u001b[30mA\u001b[39m\u001b[49m\u001b[47m\u001b[30mC\u001b[39m\u001b[49m\u001b[47m\u001b[30mC\u001b[39m\u001b[49m\u001b[47m\u001b[30mT\u001b[39m\u001b[49m\u001b[47m\u001b[30mT\u001b[39m\u001b[49m\u001b[47m\u001b[30mC\u001b[39m\u001b[49m\u001b[47m\u001b[30mC\u001b[39m\u001b[49m\u001b[47m\u001b[30mC\u001b[39m\u001b[49m\u001b[47m\u001b[30mA\u001b[39m\u001b[49m\u001b[47m\u001b[30mG\u001b[39m\u001b[49m...\u001b[47m\u001b[30mA\u001b[39m\u001b[49m\u001b[47m\u001b[30mA\u001b[39m\u001b[49m\u001b[47m\u001b[30mA\u001b[39m\u001b[49m\u001b[47m\u001b[30mA\u001b[39m\u001b[49m\u001b[47m\u001b[30mA\u001b[39m\u001b[49m\u001b[47m\u001b[30mA\u001b[39m\u001b[49m\u001b[47m\u001b[30mA\u001b[39m\u001b[49m\u001b[47m\u001b[30mA\u001b[39m\u001b[49m\u001b[47m\u001b[30mA\u001b[39m\u001b[49m\u001b[47m\u001b[30mA\u001b[39m\u001b[49m\u001b[47m\u001b[30mA\u001b[39m\u001b[49m\u001b[47m\u001b[30mA\u001b[39m\u001b[49m\u001b[47m\u001b[30mA\u001b[39m\u001b[49m\u001b[47m\u001b[30mA\u001b[39m\u001b[49m\u001b[47m\u001b[30mA\u001b[39m\u001b[49m\u001b[47m\u001b[30mA\u001b[39m\u001b[49m\u001b[47m\u001b[30mA\u001b[39m\u001b[49m\u001b[47m\u001b[30mA\u001b[39m\u001b[49m\u001b[47m\u001b[30mA\u001b[39m\u001b[49m\u001b[47m\u001b[30mA\u001b[39m\u001b[49m\u001b[47m\u001b[30mA\u001b[39m\u001b[49m\u001b[47m\u001b[30mA\u001b[39m\u001b[49m\u001b[47m\u001b[30mA\u001b[39m\u001b[49m WHP1939_3582\n",
              "[2] 29903 \u001b[47m\u001b[37mN\u001b[39m\u001b[49m\u001b[47m\u001b[30mT\u001b[39m\u001b[49m\u001b[47m\u001b[30mT\u001b[39m\u001b[49m\u001b[47m\u001b[30mA\u001b[39m\u001b[49m\u001b[47m\u001b[30mA\u001b[39m\u001b[49m\u001b[47m\u001b[30mA\u001b[39m\u001b[49m\u001b[47m\u001b[30mG\u001b[39m\u001b[49m\u001b[47m\u001b[30mG\u001b[39m\u001b[49m\u001b[47m\u001b[30mT\u001b[39m\u001b[49m\u001b[47m\u001b[30mT\u001b[39m\u001b[49m\u001b[47m\u001b[30mT\u001b[39m\u001b[49m\u001b[47m\u001b[30mA\u001b[39m\u001b[49m\u001b[47m\u001b[30mT\u001b[39m\u001b[49m\u001b[47m\u001b[30mA\u001b[39m\u001b[49m\u001b[47m\u001b[30mC\u001b[39m\u001b[49m\u001b[47m\u001b[30mC\u001b[39m\u001b[49m\u001b[47m\u001b[30mT\u001b[39m\u001b[49m\u001b[47m\u001b[30mT\u001b[39m\u001b[49m\u001b[47m\u001b[30mC\u001b[39m\u001b[49m\u001b[47m\u001b[30mC\u001b[39m\u001b[49m\u001b[47m\u001b[30mC\u001b[39m\u001b[49m\u001b[47m\u001b[30mA\u001b[39m\u001b[49m\u001b[47m\u001b[30mG\u001b[39m\u001b[49m...\u001b[47m\u001b[30mA\u001b[39m\u001b[49m\u001b[47m\u001b[30mA\u001b[39m\u001b[49m\u001b[47m\u001b[30mA\u001b[39m\u001b[49m\u001b[47m\u001b[30mA\u001b[39m\u001b[49m\u001b[47m\u001b[30mA\u001b[39m\u001b[49m\u001b[47m\u001b[30mA\u001b[39m\u001b[49m\u001b[47m\u001b[30mA\u001b[39m\u001b[49m\u001b[47m\u001b[30mA\u001b[39m\u001b[49m\u001b[47m\u001b[30mA\u001b[39m\u001b[49m\u001b[47m\u001b[30mA\u001b[39m\u001b[49m\u001b[47m\u001b[30mA\u001b[39m\u001b[49m\u001b[47m\u001b[30mA\u001b[39m\u001b[49m\u001b[47m\u001b[30mA\u001b[39m\u001b[49m\u001b[47m\u001b[30mA\u001b[39m\u001b[49m\u001b[47m\u001b[30mA\u001b[39m\u001b[49m\u001b[47m\u001b[30mA\u001b[39m\u001b[49m\u001b[47m\u001b[30mA\u001b[39m\u001b[49m\u001b[47m\u001b[30mA\u001b[39m\u001b[49m\u001b[47m\u001b[30mA\u001b[39m\u001b[49m\u001b[47m\u001b[30mA\u001b[39m\u001b[49m\u001b[47m\u001b[30mA\u001b[39m\u001b[49m\u001b[47m\u001b[30mA\u001b[39m\u001b[49m\u001b[47m\u001b[30mA\u001b[39m\u001b[49m WHP8107-A4v1_1082351"
            ]
          },
          "metadata": {}
        }
      ]
    },
    {
      "cell_type": "markdown",
      "source": [
        "The two sequences can be reproduced again and the names appear to be identical to the filtered sequences selected before."
      ],
      "metadata": {
        "id": "2aZsG78uJyCQ"
      }
    },
    {
      "cell_type": "code",
      "source": [
        "# The spike gene region for these two sequences are defined\n",
        "start_position <- 21563\n",
        "end_position <- 25384"
      ],
      "metadata": {
        "id": "tPaKhYKFkcep"
      },
      "execution_count": null,
      "outputs": []
    },
    {
      "cell_type": "markdown",
      "source": [
        "Define the start position and the end position of the section to be extracted"
      ],
      "metadata": {
        "id": "XLPeXyS3KWrr"
      }
    },
    {
      "cell_type": "code",
      "source": [
        "# The spike gene region for the two sequences are extracted\n",
        "spike_gene_regions <- lapply(filtered_sequences, function(seq) {\n",
        "  subseq(seq, start = start_position, end = end_position)\n",
        "})"
      ],
      "metadata": {
        "id": "Aros8z__mu_l"
      },
      "execution_count": null,
      "outputs": []
    },
    {
      "cell_type": "markdown",
      "source": [
        "Extraction of the spike gene region from starting position of 21563 to ending position of 25384 for both sequences"
      ],
      "metadata": {
        "id": "eiYHckOtK24O"
      }
    },
    {
      "cell_type": "code",
      "source": [
        "# Load the spike gene regions of the two sequences\n",
        "spike_gene_regions"
      ],
      "metadata": {
        "colab": {
          "base_uri": "https://localhost:8080/",
          "height": 193
        },
        "id": "sx12YIlL4S9v",
        "outputId": "c5ed95f9-8d36-49d4-8c13-fe0df8d9c6e4"
      },
      "execution_count": null,
      "outputs": [
        {
          "output_type": "display_data",
          "data": {
            "text/plain": [
              "$WHP1939_3582\n",
              "3822-letter DNAString object\n",
              "seq: \u001b[47m\u001b[30mA\u001b[39m\u001b[49m\u001b[47m\u001b[30mT\u001b[39m\u001b[49m\u001b[47m\u001b[30mG\u001b[39m\u001b[49m\u001b[47m\u001b[30mT\u001b[39m\u001b[49m\u001b[47m\u001b[30mT\u001b[39m\u001b[49m\u001b[47m\u001b[30mT\u001b[39m\u001b[49m\u001b[47m\u001b[30mG\u001b[39m\u001b[49m\u001b[47m\u001b[30mT\u001b[39m\u001b[49m\u001b[47m\u001b[30mT\u001b[39m\u001b[49m\u001b[47m\u001b[30mT\u001b[39m\u001b[49m\u001b[47m\u001b[30mT\u001b[39m\u001b[49m\u001b[47m\u001b[30mT\u001b[39m\u001b[49m\u001b[47m\u001b[30mC\u001b[39m\u001b[49m\u001b[47m\u001b[30mT\u001b[39m\u001b[49m\u001b[47m\u001b[30mT\u001b[39m\u001b[49m\u001b[47m\u001b[30mG\u001b[39m\u001b[49m\u001b[47m\u001b[30mT\u001b[39m\u001b[49m\u001b[47m\u001b[30mT\u001b[39m\u001b[49m\u001b[47m\u001b[30mT\u001b[39m\u001b[49m\u001b[47m\u001b[30mT\u001b[39m\u001b[49m\u001b[47m\u001b[30mA\u001b[39m\u001b[49m\u001b[47m\u001b[30mT\u001b[39m\u001b[49m\u001b[47m\u001b[30mT\u001b[39m\u001b[49m\u001b[47m\u001b[30mG\u001b[39m\u001b[49m\u001b[47m\u001b[30mC\u001b[39m\u001b[49m\u001b[47m\u001b[30mC\u001b[39m\u001b[49m\u001b[47m\u001b[30mA\u001b[39m\u001b[49m\u001b[47m\u001b[30mC\u001b[39m\u001b[49m\u001b[47m\u001b[30mT\u001b[39m\u001b[49m\u001b[47m\u001b[30mA\u001b[39m\u001b[49m\u001b[47m\u001b[30mG\u001b[39m\u001b[49m\u001b[47m\u001b[30mT\u001b[39m\u001b[49m\u001b[47m\u001b[30mC\u001b[39m\u001b[49m\u001b[47m\u001b[30mT\u001b[39m\u001b[49m\u001b[47m\u001b[30mT\u001b[39m\u001b[49m\u001b[47m\u001b[30mT\u001b[39m\u001b[49m...\u001b[47m\u001b[30mC\u001b[39m\u001b[49m\u001b[47m\u001b[30mC\u001b[39m\u001b[49m\u001b[47m\u001b[30mA\u001b[39m\u001b[49m\u001b[47m\u001b[30mG\u001b[39m\u001b[49m\u001b[47m\u001b[30mT\u001b[39m\u001b[49m\u001b[47m\u001b[30mG\u001b[39m\u001b[49m\u001b[47m\u001b[30mC\u001b[39m\u001b[49m\u001b[47m\u001b[30mT\u001b[39m\u001b[49m\u001b[47m\u001b[30mC\u001b[39m\u001b[49m\u001b[47m\u001b[30mA\u001b[39m\u001b[49m\u001b[47m\u001b[30mA\u001b[39m\u001b[49m\u001b[47m\u001b[30mA\u001b[39m\u001b[49m\u001b[47m\u001b[30mG\u001b[39m\u001b[49m\u001b[47m\u001b[30mG\u001b[39m\u001b[49m\u001b[47m\u001b[30mA\u001b[39m\u001b[49m\u001b[47m\u001b[30mG\u001b[39m\u001b[49m\u001b[47m\u001b[30mT\u001b[39m\u001b[49m\u001b[47m\u001b[30mC\u001b[39m\u001b[49m\u001b[47m\u001b[30mA\u001b[39m\u001b[49m\u001b[47m\u001b[30mA\u001b[39m\u001b[49m\u001b[47m\u001b[30mA\u001b[39m\u001b[49m\u001b[47m\u001b[30mT\u001b[39m\u001b[49m\u001b[47m\u001b[30mT\u001b[39m\u001b[49m\u001b[47m\u001b[30mA\u001b[39m\u001b[49m\u001b[47m\u001b[30mC\u001b[39m\u001b[49m\u001b[47m\u001b[30mA\u001b[39m\u001b[49m\u001b[47m\u001b[30mT\u001b[39m\u001b[49m\u001b[47m\u001b[30mT\u001b[39m\u001b[49m\u001b[47m\u001b[30mA\u001b[39m\u001b[49m\u001b[47m\u001b[30mC\u001b[39m\u001b[49m\u001b[47m\u001b[30mA\u001b[39m\u001b[49m\u001b[47m\u001b[30mC\u001b[39m\u001b[49m\u001b[47m\u001b[30mA\u001b[39m\u001b[49m\u001b[47m\u001b[30mT\u001b[39m\u001b[49m\u001b[47m\u001b[30mA\u001b[39m\u001b[49m\u001b[47m\u001b[30mA\u001b[39m\u001b[49m\n",
              "\n",
              "$`WHP8107-A4v1_1082351`\n",
              "3822-letter DNAString object\n",
              "seq: \u001b[47m\u001b[30mA\u001b[39m\u001b[49m\u001b[47m\u001b[30mT\u001b[39m\u001b[49m\u001b[47m\u001b[30mG\u001b[39m\u001b[49m\u001b[47m\u001b[30mT\u001b[39m\u001b[49m\u001b[47m\u001b[30mT\u001b[39m\u001b[49m\u001b[47m\u001b[30mT\u001b[39m\u001b[49m\u001b[47m\u001b[30mG\u001b[39m\u001b[49m\u001b[47m\u001b[30mG\u001b[39m\u001b[49m\u001b[47m\u001b[30mT\u001b[39m\u001b[49m\u001b[47m\u001b[30mT\u001b[39m\u001b[49m\u001b[47m\u001b[30mT\u001b[39m\u001b[49m\u001b[47m\u001b[30mT\u001b[39m\u001b[49m\u001b[47m\u001b[30mC\u001b[39m\u001b[49m\u001b[47m\u001b[30mT\u001b[39m\u001b[49m\u001b[47m\u001b[30mT\u001b[39m\u001b[49m\u001b[47m\u001b[30mG\u001b[39m\u001b[49m\u001b[47m\u001b[30mT\u001b[39m\u001b[49m\u001b[47m\u001b[30mT\u001b[39m\u001b[49m\u001b[47m\u001b[30mT\u001b[39m\u001b[49m\u001b[47m\u001b[30mT\u001b[39m\u001b[49m\u001b[47m\u001b[30mA\u001b[39m\u001b[49m\u001b[47m\u001b[30mT\u001b[39m\u001b[49m\u001b[47m\u001b[30mT\u001b[39m\u001b[49m\u001b[47m\u001b[30mG\u001b[39m\u001b[49m\u001b[47m\u001b[30mC\u001b[39m\u001b[49m\u001b[47m\u001b[30mC\u001b[39m\u001b[49m\u001b[47m\u001b[30mA\u001b[39m\u001b[49m\u001b[47m\u001b[30mC\u001b[39m\u001b[49m\u001b[47m\u001b[30mT\u001b[39m\u001b[49m\u001b[47m\u001b[30mA\u001b[39m\u001b[49m\u001b[47m\u001b[30mG\u001b[39m\u001b[49m\u001b[47m\u001b[30mT\u001b[39m\u001b[49m\u001b[47m\u001b[30mC\u001b[39m\u001b[49m\u001b[47m\u001b[30mT\u001b[39m\u001b[49m\u001b[47m\u001b[30mC\u001b[39m\u001b[49m\u001b[47m\u001b[30mT\u001b[39m\u001b[49m...\u001b[47m\u001b[30mC\u001b[39m\u001b[49m\u001b[47m\u001b[30mC\u001b[39m\u001b[49m\u001b[47m\u001b[30mA\u001b[39m\u001b[49m\u001b[47m\u001b[30mG\u001b[39m\u001b[49m\u001b[47m\u001b[30mT\u001b[39m\u001b[49m\u001b[47m\u001b[30mG\u001b[39m\u001b[49m\u001b[47m\u001b[30mC\u001b[39m\u001b[49m\u001b[47m\u001b[30mT\u001b[39m\u001b[49m\u001b[47m\u001b[30mC\u001b[39m\u001b[49m\u001b[47m\u001b[30mA\u001b[39m\u001b[49m\u001b[47m\u001b[30mA\u001b[39m\u001b[49m\u001b[47m\u001b[30mA\u001b[39m\u001b[49m\u001b[47m\u001b[30mG\u001b[39m\u001b[49m\u001b[47m\u001b[30mG\u001b[39m\u001b[49m\u001b[47m\u001b[30mA\u001b[39m\u001b[49m\u001b[47m\u001b[30mG\u001b[39m\u001b[49m\u001b[47m\u001b[30mT\u001b[39m\u001b[49m\u001b[47m\u001b[30mC\u001b[39m\u001b[49m\u001b[47m\u001b[30mA\u001b[39m\u001b[49m\u001b[47m\u001b[30mA\u001b[39m\u001b[49m\u001b[47m\u001b[30mA\u001b[39m\u001b[49m\u001b[47m\u001b[30mT\u001b[39m\u001b[49m\u001b[47m\u001b[30mT\u001b[39m\u001b[49m\u001b[47m\u001b[30mA\u001b[39m\u001b[49m\u001b[47m\u001b[30mC\u001b[39m\u001b[49m\u001b[47m\u001b[30mA\u001b[39m\u001b[49m\u001b[47m\u001b[30mT\u001b[39m\u001b[49m\u001b[47m\u001b[30mT\u001b[39m\u001b[49m\u001b[47m\u001b[30mA\u001b[39m\u001b[49m\u001b[47m\u001b[30mC\u001b[39m\u001b[49m\u001b[47m\u001b[30mA\u001b[39m\u001b[49m\u001b[47m\u001b[30mC\u001b[39m\u001b[49m\u001b[47m\u001b[30mA\u001b[39m\u001b[49m\u001b[47m\u001b[30mT\u001b[39m\u001b[49m\u001b[47m\u001b[30mA\u001b[39m\u001b[49m\u001b[47m\u001b[30mA\u001b[39m\u001b[49m\n"
            ]
          },
          "metadata": {}
        }
      ]
    },
    {
      "cell_type": "markdown",
      "source": [
        "These are the extracted spike gene region (from position 21563 to 25384) for both sequences"
      ],
      "metadata": {
        "id": "mpJlvkl6LQiB"
      }
    },
    {
      "cell_type": "code",
      "source": [
        "# Output the spike gene regions of the two sequeces and save the sequences\n",
        "names(spike_gene_regions) <- names(filtered_sequences)\n",
        "output <- sapply(spike_gene_regions, function(region) {\n",
        "  paste0(names(region), \": \", as.character(region))\n",
        "})\n",
        "output"
      ],
      "metadata": {
        "colab": {
          "base_uri": "https://localhost:8080/",
          "height": 141
        },
        "id": "hK6Vn0nOnKNo",
        "outputId": "abcc5c27-130c-4073-8080-7a2a41923258"
      },
      "execution_count": null,
      "outputs": [
        {
          "output_type": "display_data",
          "data": {
            "text/html": [
              "<style>\n",
              ".dl-inline {width: auto; margin:0; padding: 0}\n",
              ".dl-inline>dt, .dl-inline>dd {float: none; width: auto; display: inline-block}\n",
              ".dl-inline>dt::after {content: \":\\0020\"; padding-right: .5ex}\n",
              ".dl-inline>dt:not(:first-of-type) {padding-left: .5ex}\n",
              "</style><dl class=dl-inline><dt>WHP1939_3582</dt><dd>': ATGTTTGTTTTTCTTGTTTTATTGCCACTAGTCTTTAGTCAGTGTGTTAATCTTACAACCAGAACTCAATTACCCCCTGCATACACTAATTCTTTCACACGTGGTGTTTATTACCCTGACAAAGTTTTCAGATCCTCAGTTTTACATTCAACTCAGGACTTGTTCTTACCTTTCTTTTCCAATGTTACTTGGTTCCATGCTATACATGTCTCTGGGACCAATGGTACTAAGAGGTTTGATAACCCTGTCCTACCATTTAATGATGGTGTTTATTTTGCTTCCACTGAGAAGTCTAACATAATAAGAGGCTGGATTTTTGGTACTACTTTAGATTCGAAGACCCAGTCCCTACTTATTGTTAATAACGCTACTAATGTTGTTATTAAAGTCTGTGAATTTCAATTTTGTAATGATCCATTTTTGGGTGTTTATTACCACAAAAACAACAAAAGTTGGATGGAAAGTGAGTTCAGAGTTTATTCTAGTGCGAATAATTGCACTTTTGAATATGTCTCTCAGCCTTTTCTTATGGACCTTGAAGGAAAACAGGGTAATTTCAAAAATCTTAGGGAATTTGTGTTTAAGAATATTGATGGTTATTTTAAAATATATTCTAAGCACACGCCTATTAATTTAGTGCGTGATCTCCCTCAGGGTTTTTCGGCTTTAGAACCATTGGTAGATTTGCCAATAGGTATTAACATCACTAGGTTTCAAACTTTACTTGCTTTACATAGAAGTTATTTGACTCCTGGTGATTCTTCTTCAGGTTGGACAGCTGGTGCTGCAGCTTATTATGTGGGTTATCTTCAACCTAGGACTTTTCTATTAAAATATAATGAAAATGGAACCATTACAGATGCTGTAGACTGTGCACTTGACCCTCTCTCAGAAACAAAGTGTACGTTGAAATCCTTCACTGTAGAAAAAGGAATCTATCAAACTTCTAACTTTAGAGTCCAACCAACAGAATCTATTGTTAGATTTCCTAATATTACAAACTTGTGCCCTTTTGGTGAAGTTTTTAACGCCACCAGATTTGCATCTGTTTATGCTTGGAACAGGAAGAGAATCAGCAACTGTGTTGCTGATTATTCTGTCCTATATAATTCCGCATCATTTTCCACTTTTAAGTGTTATGGAGTGTCTCCTACTAAATTAAATGATCTCTGCTTTACTAATGTCTATGCAGATTCATTTGTAATTAGAGGTGATGAAGTCAGACAAATCGCTCCAGGGCAAACTGGAAAGATTGCTGATTATAATTATAAATTACCAGATGATTTTACAGGCTGCGTTATAGCTTGGAATTCTAACAATCTTGATTCTAAGGTTGGTGGTAATTATAATTACCTGTATAGATTGTTTAGGAAGTCTAATCTCAAACCTTTTGAGAGAGATATTTCAACTGAAATCTATCAGGCCGGTAGCACACCTTGTAATGGTGTTGAAGGTTTTAATTGTTACTTTCCTTTACAATCATATGGTTTCCAACCCACTAATGGTGTTGGTTACCAACCATACAGAGTAGTAGTACTTTCTTTTGAACTTCTACATGCACCAGCAACTGTTTGTGGACCTAAAAAGTCTACTAATTTGGTTAAAAACAAATGTGTCAATTTCAACTTCAATGGTTTAACAGGCACAGGTGTTCTTACTGAGTCTAACAAAAAGTTTCTGCCTTTCCAACAATTTGGCAGAGACATTGCTGACACTACTGATGCTGTCCGTGATCCACAGACACTTGAGATTCTTGACATTACACCATGTTCTTTTGGTGGTGTCAGTGTTATAACACCAGGAACAAATACTTCTAACCAGGTTGCTGTTCTTTATCAGGGTGTTAACTGCACAGAAGTCCCTGTTGCTATTCATGCAGATCAACTTACTCCTACTTGGCGTGTTTATTCTACAGGTTCTAATGTTTTTCAAACACGTGCAGGCTGTTTAATAGGGGCTGAACATGTCAACAACTCATATGAGTGTGACATACCCATTGGTGCAGGTATATGCGCTAGTTATCAGACTCAGACTAATTCTCCTCGGCGGGCACGTAGTGTAGCTAGTCAATCCATCATTGCCTACACTATGTCACTTGGTGCAGAAAATTCAGTTGCTTACTCTAATAACTCTATTGCCATACCCACAAATTTTACTATTAGTGTTACCACAGAAATTCTACCAGTGTCTATGACCAAGACATCAGTAGATTGTACAATGTACATTTGTGGTGATTCAACTGAATGCAGCAATCTTTTGTTGCAATATGGCAGTTTTTGTACACAATTAAACCGTGCTTTAACTGGAATAGCTGTTGAACAAGACAAAAACACCCAAGAAGTTTTTGCACAAGTCAAACAAATTTACAAAACACCACCAATTAAAGATTTTGGTGGTTTTAATTTTTCACAAATATTACCAGATCCATCAAAACCAAGCAAGAGGTCATTTATTGAAGATCTACTTTTCAACAAAGTGACACTTGCAGATGCTGGCTTCATCAAACAATATGGTGATTGCCTTGGTGATATTGCTGCTAGAGACCTCATTTGTGCACAAAAGTTTAACGGCCTTACTGTTTTGCCACCTTTGCTCACAGATGAAATGATTGCTCAATACACTTCTGCACTGTTAGCGGGTACAATCACTTCTGGTTGGACCTTTGGTGCAGGTGCTGCATTACAAATACCATTTGCTATGCAAATGGCTTATAGGTTTAATGGTATTGGAGTTACACAGAATGTTCTCTATGAGAACCAAAAATTGATTGCCAACCAATTTAATAGTGCTATTGGCAAAATTCAAGACTCACTTTCTTCCACAGCAAGTGCACTTGGAAAACTTCAAGATGTGGTCAACCAAAATGCACAAGCTTTAAACACGCTTGTTAAACAACTTAGCTCCAATTTTGGTGCAATTTCAAGTGTTTTAAATGATATCCTTTCACGTCTTGACAAAGTTGAGGCTGAAGTGCAAATTGATAGGTTGATCACAGGCAGACTTCAAAGTTTGCAGACATATGTGACTCAACAATTAATTAGAGCTGCAGAAATCAGAGCTTCTGCTAATCTTGCTGCTACTAAAATGTCAGAGTGTGTACTTGGACAATCAAAAAGAGTTGATTTTTGTGGAAAGGGCTATCATCTTATGTCCTTCCCTCAGTCAGCACCTCATGGTGTAGTCTTCTTGCATGTGACTTATGTCCCTGCACAAGAAAAGAACTTCACAACTGCTCCTGCCATTTGTCATGATGGAAAAGCACACTTTCCTCGTGAAGGTGTCTTTGTTTCAAATGGCACACACTGGTTTGTAACACAAAGGAATTTTTATGAACCACAAATCATTACTACAGACAACACATTTGTGTCTGGTAACTGTGATGTTGTAATAGGAATTGTCAACAACACAGTTTATGATCCTTTGCAACCTGAATTAGACTCATTCAAGGAGGAGTTAGATAAATATTTTAAGAATCATACATCACCAGATGTTGATTTAGGTGACATCTCTGGCATTAATGCTTCAGTTGTAAACATTCAAAAAGAAATTGACCGCCTCAATGAGGTTGCCAAGAATTTAAATGAATCTCTCATCGATCTCCAAGAACTTGGAAAGTATGAGCAGTATATAAAATGGCCATGGTACATTTGGCTAGGTTTTATAGCTGGCTTGATTGCCATAGTAATGGTGACAATTATGCTTTGCTGTATGACCAGTTGCTGTAGTTGTCTCAAGGGCTGTTGTTCTTGTGGATCCTGCTGCAAATTTGATGAAGACGACTCTGAGCCAGTGCTCAAAGGAGTCAAATTACATTACACATAA'</dd><dt>WHP8107-A4v1_1082351</dt><dd>': ATGTTTGGTTTTCTTGTTTTATTGCCACTAGTCTCTAGTCAGTGTGTTAATCTTATAACCAGAACTCAAT---------CATACACTAATTCTTTCACACGTGGTGTTTATTACCCTGACAAAGTTTTCAGATCCTCAGTTTTACATTCAACTCAGGACTTGTTCTTACCTTTCTTTTCCAATGTTACTTGGTTCCATGCTA------TCTCTGGGACCAATGGTACTAAGAGGTTTGATAACCCTGTCCTACCATTTAATGATGGTGTTTATTTTGCTTCCACTGAGAAGTCTAACATAATAAGAGGCTGGATTTTTGGTACTACTTTAGATTCGAAGACCCAGTCCCTACTTATTGTTAATAACGCTACTAATGTTGTTATTAAAGTCTGTGAATTTCAATTTTGTAATGATCCATTTTTGGATGTTTATTACCACAAAAACAACAAAAGTTGGATGGAAAGTGAGTTCAGAGTTTATTCTAGTGCGAATAATTGCACTTTTGAATATGTCTCTCAGCCTTTTCTTATGGACCTTGAAGGAAAACAGGGTAATTTCAAAAATCTTAGGGAATTTGTGTTTAAGAATATTGATGGTTATTTTAAAATATATTCTAAGCACACGCCTATTAATTTAGGGCGTGATCTCCCTCAGGGTTTTTCGGCTTTAGAACCATTGGTAGATTTGCCAATAGGTATTAACATCACTAGGTTTCAAACTTTACTTGCTTTACATAGAAGTTATTTGACTCCTGGTGATTCTTCTTCAGGTTGGACAGCTGGTGCTGCAGCTTATTATGTGGGTTATCTTCAACCTAGGACTTTTCTATTAAAATATAATGAAAATGGAACCATTACAGATGCTGTAGACTGTGCACTTGACCCTCTCTCAGAAACAAAGTGTACGTTGAAATCCTTCACTGTAGAAAAAGGAATCTATCAAACTTCTAACTTTAGAGTCCAACCAACAGAATCTATTGTTAGATTTCCTAATATTACAAACTTGTGCCCTTTTGATGAAGTTTTTAACGCCACCAGATTTGCATCTGTTTATGCTTGGAACAGGAAGAAAATCAGCAACTGTGTTGCTGATTATTCTGTCCTATATAATTTCGCACCATTTTTCGCTTTTAAGTGTTATGGAGTGTCTCCTACTAAATTAAATGATCTCTGCTTTACTAATGTCTATGCAGATTCATTTGTAATTAGAGGTAATGAAGTCAGCCAAATCGCTCCAGGGCAAACTGGAAATATTGCTGATTATAATTATAAATTACCAGATGATTTTACAGGCTGCGTTATAGCTTGGAATTCTAACAAGCTTGATTCTAAGGTTGGTGGTAATTATAATTACCGGTATAGATTGTTTAGGAAGTCTAATCTCAAACCTTTTGAGAGAGATATTTCAACTGAAATCTATCAGGCCGGTAACAAACCTTGTAATGGTGTTGCAGGTGTTAATTGTTACTTTCCTTTACAATCATATGGTTTCCGACCCACTTATGGTGTTGGTCACCAACCATACAGAGTAGTAGTACTTTCTTTTGAACTTCTACATGCACCAGCAACTGTTTGTGGACCTAAAAAGTCTACTAATTTGGTTAAAAACAAATGTGTCAATTTCAACTTCAATGGTTTAACAGGCACAGGTGTTCTTACTGAGTCTAACAAAAAGTTTCTGCCTTTCCAACAATTTGGCAGAGACATTGCTGACACTACTGATGCTGTCCGTGATCCACAGACACTTGAGATTCTTGACATTACACCATGTTCTTTTGGTGGTGTCAGTGTTATAACACCAGGAACAAATACTTCTAACCAGGTTGCTGTTCTTTATCAGGGTGTTAACTGCACAGAAGTCCCTGTTGCTATTCATGCAGATCAACTTACTCCTACTTGGCGTGTTTATTCTACAGGTTCTAATGTTTTTCAAACACGTGCAGGCTGTTTAATAGGGGCTGAATATGTCAACAACTCATATGAGTGTGACATACCCATTGGTGCAGGTATATGCGCTAGTTATCAGACTCAGACTAAGTCTCATCGGCGGGCACGTAGTGTAGTTAGTCAATCCATCATTGCCTACACTATGTCACTTGGTGCAGAAAATTCAGTTGCTTACTCTAATAACTCTATTGCCATACCCACAAATTTTACTATTAGTGTTACCACAGAAATTCTACCAGTGTCTATGACCAAGACATCAGTAGATTGTACAATGTACATTTGTGGTGATTCAACTGAATGCAGCAATCTTTTGTTGCAATATGGCAGTTTTTGTACACAATTAAAACGTGCTTTAACTGGAATAGCTGTTGAACAAGACAAAAACACCCAAGAAGTTTTTGCACAAGTCAAACAAATTTACAAAACACCACCAATTAAATATTTTGGTGGTTTTAATTTTTCACAAATATTACCAGATCCATCAAAACCAAGCAAGAGGTCATTTATTGAAGATCTACTTTTCAACAAAGTGACACTTGCAGATGCTGGCTTCATCAAACAATATGGTGATTGCCTTGGTGATATTGCTGCTAGAGACCTCATTTGTGCACAAAAGTTTAATGGCCTTACTGTTTTGCCACCTTTGCTCACAGATGAAATGATTGCTCAATACACTTCTGCACTGTTAGCGGGTACAATCACTTCTGGTTGGACCTTTGGTGCAGGTGCTGCATTACAAATACCATTTGCTATGCAAATGGCTTATAGGTTTAATGGTATTGGAGTTACACAGAATGTTCTCTATGAGAACCAAAAATTGATTGCCAACCAATTTAATAGTGCTATTGGCAAAATTCAAGACTCACTTTCTTCCACAGCAAGTGCACTTGGAAAACTTCAAGATGTGGTCAACCATAATGCACAAGCTTTAAACACGCTTGTTAAACAACTTAGCTCCAAATTTGGTGCAATTTCAAGTGTTTTAAATGATATCCTTTCACGTCTTGACAAAGTTGAGGCTGAAGTGCAAATTGATAGGTTGATCACAGGCAGACTTCAAAGTTTGCAGACATATGTGACTCAACAATTAATTAGAGCTGCAGAAATCAGAGCTTCTGCTAATCTTGCTGCTACTAAAATGTCAGAGTGTGTACTTGGACAATCAAAAAGAGTTGATTTTTGTGGAAAGGGCTATCATCTTATGTCCTTCCCTCAGTCAGCACCTCATGGTGTAGTCTTCTTGCATGTGACTTATGTCCCTGCACAAGAAAAGAACTTCACAACTGCTCCTGCCATTTGTCATGATGGAAAAGCACACTTTCCTCGTGAAGGTGTCTTTGTTTCAAATGGCACACACTGGTTTGTAACACAAAGGAATTTTTATGAACCACAAATCATTACTACAGACAACACATTTGTGTCTGGTAACTGTGATGTTGTAATAGGAATTGTCAACAACACAGTTTATGATCCTTTGCAACCTGAATTAGATTCATTCAAGGAGGAGTTAGATAAATATTTTAAGAATCATACATCACCAGATGTTGATTTAGGTGACATCTCTGGCATTAATGCTTCAGTTGTAAACATTCAAAAAGAAATTGACCGCCTCAATGAGGTTGCCAAGAATTTAAATGAATCTCTCATCGATCTCCAAGAACTTGGAAAGTATGAGCAGTATATAAAATGGCCATGGTACATTTGGCTAGGTTTTATAGCTGGCTTGATTGCCATAGTAATGGTGACAATTATGCTTTGCTGTATGACCAGTTGCTGTAGTTGTCTCAAGGGCTGTTGTTCTTGTGGATCCTGCTGCAAATTTGATGAAGACGACTCTGAGCCAGTGCTCAAAGGAGTCAAATTACATTACACATAA'</dd></dl>\n"
            ],
            "text/markdown": "WHP1939_3582\n:   ': ATGTTTGTTTTTCTTGTTTTATTGCCACTAGTCTTTAGTCAGTGTGTTAATCTTACAACCAGAACTCAATTACCCCCTGCATACACTAATTCTTTCACACGTGGTGTTTATTACCCTGACAAAGTTTTCAGATCCTCAGTTTTACATTCAACTCAGGACTTGTTCTTACCTTTCTTTTCCAATGTTACTTGGTTCCATGCTATACATGTCTCTGGGACCAATGGTACTAAGAGGTTTGATAACCCTGTCCTACCATTTAATGATGGTGTTTATTTTGCTTCCACTGAGAAGTCTAACATAATAAGAGGCTGGATTTTTGGTACTACTTTAGATTCGAAGACCCAGTCCCTACTTATTGTTAATAACGCTACTAATGTTGTTATTAAAGTCTGTGAATTTCAATTTTGTAATGATCCATTTTTGGGTGTTTATTACCACAAAAACAACAAAAGTTGGATGGAAAGTGAGTTCAGAGTTTATTCTAGTGCGAATAATTGCACTTTTGAATATGTCTCTCAGCCTTTTCTTATGGACCTTGAAGGAAAACAGGGTAATTTCAAAAATCTTAGGGAATTTGTGTTTAAGAATATTGATGGTTATTTTAAAATATATTCTAAGCACACGCCTATTAATTTAGTGCGTGATCTCCCTCAGGGTTTTTCGGCTTTAGAACCATTGGTAGATTTGCCAATAGGTATTAACATCACTAGGTTTCAAACTTTACTTGCTTTACATAGAAGTTATTTGACTCCTGGTGATTCTTCTTCAGGTTGGACAGCTGGTGCTGCAGCTTATTATGTGGGTTATCTTCAACCTAGGACTTTTCTATTAAAATATAATGAAAATGGAACCATTACAGATGCTGTAGACTGTGCACTTGACCCTCTCTCAGAAACAAAGTGTACGTTGAAATCCTTCACTGTAGAAAAAGGAATCTATCAAACTTCTAACTTTAGAGTCCAACCAACAGAATCTATTGTTAGATTTCCTAATATTACAAACTTGTGCCCTTTTGGTGAAGTTTTTAACGCCACCAGATTTGCATCTGTTTATGCTTGGAACAGGAAGAGAATCAGCAACTGTGTTGCTGATTATTCTGTCCTATATAATTCCGCATCATTTTCCACTTTTAAGTGTTATGGAGTGTCTCCTACTAAATTAAATGATCTCTGCTTTACTAATGTCTATGCAGATTCATTTGTAATTAGAGGTGATGAAGTCAGACAAATCGCTCCAGGGCAAACTGGAAAGATTGCTGATTATAATTATAAATTACCAGATGATTTTACAGGCTGCGTTATAGCTTGGAATTCTAACAATCTTGATTCTAAGGTTGGTGGTAATTATAATTACCTGTATAGATTGTTTAGGAAGTCTAATCTCAAACCTTTTGAGAGAGATATTTCAACTGAAATCTATCAGGCCGGTAGCACACCTTGTAATGGTGTTGAAGGTTTTAATTGTTACTTTCCTTTACAATCATATGGTTTCCAACCCACTAATGGTGTTGGTTACCAACCATACAGAGTAGTAGTACTTTCTTTTGAACTTCTACATGCACCAGCAACTGTTTGTGGACCTAAAAAGTCTACTAATTTGGTTAAAAACAAATGTGTCAATTTCAACTTCAATGGTTTAACAGGCACAGGTGTTCTTACTGAGTCTAACAAAAAGTTTCTGCCTTTCCAACAATTTGGCAGAGACATTGCTGACACTACTGATGCTGTCCGTGATCCACAGACACTTGAGATTCTTGACATTACACCATGTTCTTTTGGTGGTGTCAGTGTTATAACACCAGGAACAAATACTTCTAACCAGGTTGCTGTTCTTTATCAGGGTGTTAACTGCACAGAAGTCCCTGTTGCTATTCATGCAGATCAACTTACTCCTACTTGGCGTGTTTATTCTACAGGTTCTAATGTTTTTCAAACACGTGCAGGCTGTTTAATAGGGGCTGAACATGTCAACAACTCATATGAGTGTGACATACCCATTGGTGCAGGTATATGCGCTAGTTATCAGACTCAGACTAATTCTCCTCGGCGGGCACGTAGTGTAGCTAGTCAATCCATCATTGCCTACACTATGTCACTTGGTGCAGAAAATTCAGTTGCTTACTCTAATAACTCTATTGCCATACCCACAAATTTTACTATTAGTGTTACCACAGAAATTCTACCAGTGTCTATGACCAAGACATCAGTAGATTGTACAATGTACATTTGTGGTGATTCAACTGAATGCAGCAATCTTTTGTTGCAATATGGCAGTTTTTGTACACAATTAAACCGTGCTTTAACTGGAATAGCTGTTGAACAAGACAAAAACACCCAAGAAGTTTTTGCACAAGTCAAACAAATTTACAAAACACCACCAATTAAAGATTTTGGTGGTTTTAATTTTTCACAAATATTACCAGATCCATCAAAACCAAGCAAGAGGTCATTTATTGAAGATCTACTTTTCAACAAAGTGACACTTGCAGATGCTGGCTTCATCAAACAATATGGTGATTGCCTTGGTGATATTGCTGCTAGAGACCTCATTTGTGCACAAAAGTTTAACGGCCTTACTGTTTTGCCACCTTTGCTCACAGATGAAATGATTGCTCAATACACTTCTGCACTGTTAGCGGGTACAATCACTTCTGGTTGGACCTTTGGTGCAGGTGCTGCATTACAAATACCATTTGCTATGCAAATGGCTTATAGGTTTAATGGTATTGGAGTTACACAGAATGTTCTCTATGAGAACCAAAAATTGATTGCCAACCAATTTAATAGTGCTATTGGCAAAATTCAAGACTCACTTTCTTCCACAGCAAGTGCACTTGGAAAACTTCAAGATGTGGTCAACCAAAATGCACAAGCTTTAAACACGCTTGTTAAACAACTTAGCTCCAATTTTGGTGCAATTTCAAGTGTTTTAAATGATATCCTTTCACGTCTTGACAAAGTTGAGGCTGAAGTGCAAATTGATAGGTTGATCACAGGCAGACTTCAAAGTTTGCAGACATATGTGACTCAACAATTAATTAGAGCTGCAGAAATCAGAGCTTCTGCTAATCTTGCTGCTACTAAAATGTCAGAGTGTGTACTTGGACAATCAAAAAGAGTTGATTTTTGTGGAAAGGGCTATCATCTTATGTCCTTCCCTCAGTCAGCACCTCATGGTGTAGTCTTCTTGCATGTGACTTATGTCCCTGCACAAGAAAAGAACTTCACAACTGCTCCTGCCATTTGTCATGATGGAAAAGCACACTTTCCTCGTGAAGGTGTCTTTGTTTCAAATGGCACACACTGGTTTGTAACACAAAGGAATTTTTATGAACCACAAATCATTACTACAGACAACACATTTGTGTCTGGTAACTGTGATGTTGTAATAGGAATTGTCAACAACACAGTTTATGATCCTTTGCAACCTGAATTAGACTCATTCAAGGAGGAGTTAGATAAATATTTTAAGAATCATACATCACCAGATGTTGATTTAGGTGACATCTCTGGCATTAATGCTTCAGTTGTAAACATTCAAAAAGAAATTGACCGCCTCAATGAGGTTGCCAAGAATTTAAATGAATCTCTCATCGATCTCCAAGAACTTGGAAAGTATGAGCAGTATATAAAATGGCCATGGTACATTTGGCTAGGTTTTATAGCTGGCTTGATTGCCATAGTAATGGTGACAATTATGCTTTGCTGTATGACCAGTTGCTGTAGTTGTCTCAAGGGCTGTTGTTCTTGTGGATCCTGCTGCAAATTTGATGAAGACGACTCTGAGCCAGTGCTCAAAGGAGTCAAATTACATTACACATAA'WHP8107-A4v1_1082351\n:   ': ATGTTTGGTTTTCTTGTTTTATTGCCACTAGTCTCTAGTCAGTGTGTTAATCTTATAACCAGAACTCAAT---------CATACACTAATTCTTTCACACGTGGTGTTTATTACCCTGACAAAGTTTTCAGATCCTCAGTTTTACATTCAACTCAGGACTTGTTCTTACCTTTCTTTTCCAATGTTACTTGGTTCCATGCTA------TCTCTGGGACCAATGGTACTAAGAGGTTTGATAACCCTGTCCTACCATTTAATGATGGTGTTTATTTTGCTTCCACTGAGAAGTCTAACATAATAAGAGGCTGGATTTTTGGTACTACTTTAGATTCGAAGACCCAGTCCCTACTTATTGTTAATAACGCTACTAATGTTGTTATTAAAGTCTGTGAATTTCAATTTTGTAATGATCCATTTTTGGATGTTTATTACCACAAAAACAACAAAAGTTGGATGGAAAGTGAGTTCAGAGTTTATTCTAGTGCGAATAATTGCACTTTTGAATATGTCTCTCAGCCTTTTCTTATGGACCTTGAAGGAAAACAGGGTAATTTCAAAAATCTTAGGGAATTTGTGTTTAAGAATATTGATGGTTATTTTAAAATATATTCTAAGCACACGCCTATTAATTTAGGGCGTGATCTCCCTCAGGGTTTTTCGGCTTTAGAACCATTGGTAGATTTGCCAATAGGTATTAACATCACTAGGTTTCAAACTTTACTTGCTTTACATAGAAGTTATTTGACTCCTGGTGATTCTTCTTCAGGTTGGACAGCTGGTGCTGCAGCTTATTATGTGGGTTATCTTCAACCTAGGACTTTTCTATTAAAATATAATGAAAATGGAACCATTACAGATGCTGTAGACTGTGCACTTGACCCTCTCTCAGAAACAAAGTGTACGTTGAAATCCTTCACTGTAGAAAAAGGAATCTATCAAACTTCTAACTTTAGAGTCCAACCAACAGAATCTATTGTTAGATTTCCTAATATTACAAACTTGTGCCCTTTTGATGAAGTTTTTAACGCCACCAGATTTGCATCTGTTTATGCTTGGAACAGGAAGAAAATCAGCAACTGTGTTGCTGATTATTCTGTCCTATATAATTTCGCACCATTTTTCGCTTTTAAGTGTTATGGAGTGTCTCCTACTAAATTAAATGATCTCTGCTTTACTAATGTCTATGCAGATTCATTTGTAATTAGAGGTAATGAAGTCAGCCAAATCGCTCCAGGGCAAACTGGAAATATTGCTGATTATAATTATAAATTACCAGATGATTTTACAGGCTGCGTTATAGCTTGGAATTCTAACAAGCTTGATTCTAAGGTTGGTGGTAATTATAATTACCGGTATAGATTGTTTAGGAAGTCTAATCTCAAACCTTTTGAGAGAGATATTTCAACTGAAATCTATCAGGCCGGTAACAAACCTTGTAATGGTGTTGCAGGTGTTAATTGTTACTTTCCTTTACAATCATATGGTTTCCGACCCACTTATGGTGTTGGTCACCAACCATACAGAGTAGTAGTACTTTCTTTTGAACTTCTACATGCACCAGCAACTGTTTGTGGACCTAAAAAGTCTACTAATTTGGTTAAAAACAAATGTGTCAATTTCAACTTCAATGGTTTAACAGGCACAGGTGTTCTTACTGAGTCTAACAAAAAGTTTCTGCCTTTCCAACAATTTGGCAGAGACATTGCTGACACTACTGATGCTGTCCGTGATCCACAGACACTTGAGATTCTTGACATTACACCATGTTCTTTTGGTGGTGTCAGTGTTATAACACCAGGAACAAATACTTCTAACCAGGTTGCTGTTCTTTATCAGGGTGTTAACTGCACAGAAGTCCCTGTTGCTATTCATGCAGATCAACTTACTCCTACTTGGCGTGTTTATTCTACAGGTTCTAATGTTTTTCAAACACGTGCAGGCTGTTTAATAGGGGCTGAATATGTCAACAACTCATATGAGTGTGACATACCCATTGGTGCAGGTATATGCGCTAGTTATCAGACTCAGACTAAGTCTCATCGGCGGGCACGTAGTGTAGTTAGTCAATCCATCATTGCCTACACTATGTCACTTGGTGCAGAAAATTCAGTTGCTTACTCTAATAACTCTATTGCCATACCCACAAATTTTACTATTAGTGTTACCACAGAAATTCTACCAGTGTCTATGACCAAGACATCAGTAGATTGTACAATGTACATTTGTGGTGATTCAACTGAATGCAGCAATCTTTTGTTGCAATATGGCAGTTTTTGTACACAATTAAAACGTGCTTTAACTGGAATAGCTGTTGAACAAGACAAAAACACCCAAGAAGTTTTTGCACAAGTCAAACAAATTTACAAAACACCACCAATTAAATATTTTGGTGGTTTTAATTTTTCACAAATATTACCAGATCCATCAAAACCAAGCAAGAGGTCATTTATTGAAGATCTACTTTTCAACAAAGTGACACTTGCAGATGCTGGCTTCATCAAACAATATGGTGATTGCCTTGGTGATATTGCTGCTAGAGACCTCATTTGTGCACAAAAGTTTAATGGCCTTACTGTTTTGCCACCTTTGCTCACAGATGAAATGATTGCTCAATACACTTCTGCACTGTTAGCGGGTACAATCACTTCTGGTTGGACCTTTGGTGCAGGTGCTGCATTACAAATACCATTTGCTATGCAAATGGCTTATAGGTTTAATGGTATTGGAGTTACACAGAATGTTCTCTATGAGAACCAAAAATTGATTGCCAACCAATTTAATAGTGCTATTGGCAAAATTCAAGACTCACTTTCTTCCACAGCAAGTGCACTTGGAAAACTTCAAGATGTGGTCAACCATAATGCACAAGCTTTAAACACGCTTGTTAAACAACTTAGCTCCAAATTTGGTGCAATTTCAAGTGTTTTAAATGATATCCTTTCACGTCTTGACAAAGTTGAGGCTGAAGTGCAAATTGATAGGTTGATCACAGGCAGACTTCAAAGTTTGCAGACATATGTGACTCAACAATTAATTAGAGCTGCAGAAATCAGAGCTTCTGCTAATCTTGCTGCTACTAAAATGTCAGAGTGTGTACTTGGACAATCAAAAAGAGTTGATTTTTGTGGAAAGGGCTATCATCTTATGTCCTTCCCTCAGTCAGCACCTCATGGTGTAGTCTTCTTGCATGTGACTTATGTCCCTGCACAAGAAAAGAACTTCACAACTGCTCCTGCCATTTGTCATGATGGAAAAGCACACTTTCCTCGTGAAGGTGTCTTTGTTTCAAATGGCACACACTGGTTTGTAACACAAAGGAATTTTTATGAACCACAAATCATTACTACAGACAACACATTTGTGTCTGGTAACTGTGATGTTGTAATAGGAATTGTCAACAACACAGTTTATGATCCTTTGCAACCTGAATTAGATTCATTCAAGGAGGAGTTAGATAAATATTTTAAGAATCATACATCACCAGATGTTGATTTAGGTGACATCTCTGGCATTAATGCTTCAGTTGTAAACATTCAAAAAGAAATTGACCGCCTCAATGAGGTTGCCAAGAATTTAAATGAATCTCTCATCGATCTCCAAGAACTTGGAAAGTATGAGCAGTATATAAAATGGCCATGGTACATTTGGCTAGGTTTTATAGCTGGCTTGATTGCCATAGTAATGGTGACAATTATGCTTTGCTGTATGACCAGTTGCTGTAGTTGTCTCAAGGGCTGTTGTTCTTGTGGATCCTGCTGCAAATTTGATGAAGACGACTCTGAGCCAGTGCTCAAAGGAGTCAAATTACATTACACATAA'\n\n",
            "text/latex": "\\begin{description*}\n\\item[WHP1939\\textbackslash{}\\_3582] ': ATGTTTGTTTTTCTTGTTTTATTGCCACTAGTCTTTAGTCAGTGTGTTAATCTTACAACCAGAACTCAATTACCCCCTGCATACACTAATTCTTTCACACGTGGTGTTTATTACCCTGACAAAGTTTTCAGATCCTCAGTTTTACATTCAACTCAGGACTTGTTCTTACCTTTCTTTTCCAATGTTACTTGGTTCCATGCTATACATGTCTCTGGGACCAATGGTACTAAGAGGTTTGATAACCCTGTCCTACCATTTAATGATGGTGTTTATTTTGCTTCCACTGAGAAGTCTAACATAATAAGAGGCTGGATTTTTGGTACTACTTTAGATTCGAAGACCCAGTCCCTACTTATTGTTAATAACGCTACTAATGTTGTTATTAAAGTCTGTGAATTTCAATTTTGTAATGATCCATTTTTGGGTGTTTATTACCACAAAAACAACAAAAGTTGGATGGAAAGTGAGTTCAGAGTTTATTCTAGTGCGAATAATTGCACTTTTGAATATGTCTCTCAGCCTTTTCTTATGGACCTTGAAGGAAAACAGGGTAATTTCAAAAATCTTAGGGAATTTGTGTTTAAGAATATTGATGGTTATTTTAAAATATATTCTAAGCACACGCCTATTAATTTAGTGCGTGATCTCCCTCAGGGTTTTTCGGCTTTAGAACCATTGGTAGATTTGCCAATAGGTATTAACATCACTAGGTTTCAAACTTTACTTGCTTTACATAGAAGTTATTTGACTCCTGGTGATTCTTCTTCAGGTTGGACAGCTGGTGCTGCAGCTTATTATGTGGGTTATCTTCAACCTAGGACTTTTCTATTAAAATATAATGAAAATGGAACCATTACAGATGCTGTAGACTGTGCACTTGACCCTCTCTCAGAAACAAAGTGTACGTTGAAATCCTTCACTGTAGAAAAAGGAATCTATCAAACTTCTAACTTTAGAGTCCAACCAACAGAATCTATTGTTAGATTTCCTAATATTACAAACTTGTGCCCTTTTGGTGAAGTTTTTAACGCCACCAGATTTGCATCTGTTTATGCTTGGAACAGGAAGAGAATCAGCAACTGTGTTGCTGATTATTCTGTCCTATATAATTCCGCATCATTTTCCACTTTTAAGTGTTATGGAGTGTCTCCTACTAAATTAAATGATCTCTGCTTTACTAATGTCTATGCAGATTCATTTGTAATTAGAGGTGATGAAGTCAGACAAATCGCTCCAGGGCAAACTGGAAAGATTGCTGATTATAATTATAAATTACCAGATGATTTTACAGGCTGCGTTATAGCTTGGAATTCTAACAATCTTGATTCTAAGGTTGGTGGTAATTATAATTACCTGTATAGATTGTTTAGGAAGTCTAATCTCAAACCTTTTGAGAGAGATATTTCAACTGAAATCTATCAGGCCGGTAGCACACCTTGTAATGGTGTTGAAGGTTTTAATTGTTACTTTCCTTTACAATCATATGGTTTCCAACCCACTAATGGTGTTGGTTACCAACCATACAGAGTAGTAGTACTTTCTTTTGAACTTCTACATGCACCAGCAACTGTTTGTGGACCTAAAAAGTCTACTAATTTGGTTAAAAACAAATGTGTCAATTTCAACTTCAATGGTTTAACAGGCACAGGTGTTCTTACTGAGTCTAACAAAAAGTTTCTGCCTTTCCAACAATTTGGCAGAGACATTGCTGACACTACTGATGCTGTCCGTGATCCACAGACACTTGAGATTCTTGACATTACACCATGTTCTTTTGGTGGTGTCAGTGTTATAACACCAGGAACAAATACTTCTAACCAGGTTGCTGTTCTTTATCAGGGTGTTAACTGCACAGAAGTCCCTGTTGCTATTCATGCAGATCAACTTACTCCTACTTGGCGTGTTTATTCTACAGGTTCTAATGTTTTTCAAACACGTGCAGGCTGTTTAATAGGGGCTGAACATGTCAACAACTCATATGAGTGTGACATACCCATTGGTGCAGGTATATGCGCTAGTTATCAGACTCAGACTAATTCTCCTCGGCGGGCACGTAGTGTAGCTAGTCAATCCATCATTGCCTACACTATGTCACTTGGTGCAGAAAATTCAGTTGCTTACTCTAATAACTCTATTGCCATACCCACAAATTTTACTATTAGTGTTACCACAGAAATTCTACCAGTGTCTATGACCAAGACATCAGTAGATTGTACAATGTACATTTGTGGTGATTCAACTGAATGCAGCAATCTTTTGTTGCAATATGGCAGTTTTTGTACACAATTAAACCGTGCTTTAACTGGAATAGCTGTTGAACAAGACAAAAACACCCAAGAAGTTTTTGCACAAGTCAAACAAATTTACAAAACACCACCAATTAAAGATTTTGGTGGTTTTAATTTTTCACAAATATTACCAGATCCATCAAAACCAAGCAAGAGGTCATTTATTGAAGATCTACTTTTCAACAAAGTGACACTTGCAGATGCTGGCTTCATCAAACAATATGGTGATTGCCTTGGTGATATTGCTGCTAGAGACCTCATTTGTGCACAAAAGTTTAACGGCCTTACTGTTTTGCCACCTTTGCTCACAGATGAAATGATTGCTCAATACACTTCTGCACTGTTAGCGGGTACAATCACTTCTGGTTGGACCTTTGGTGCAGGTGCTGCATTACAAATACCATTTGCTATGCAAATGGCTTATAGGTTTAATGGTATTGGAGTTACACAGAATGTTCTCTATGAGAACCAAAAATTGATTGCCAACCAATTTAATAGTGCTATTGGCAAAATTCAAGACTCACTTTCTTCCACAGCAAGTGCACTTGGAAAACTTCAAGATGTGGTCAACCAAAATGCACAAGCTTTAAACACGCTTGTTAAACAACTTAGCTCCAATTTTGGTGCAATTTCAAGTGTTTTAAATGATATCCTTTCACGTCTTGACAAAGTTGAGGCTGAAGTGCAAATTGATAGGTTGATCACAGGCAGACTTCAAAGTTTGCAGACATATGTGACTCAACAATTAATTAGAGCTGCAGAAATCAGAGCTTCTGCTAATCTTGCTGCTACTAAAATGTCAGAGTGTGTACTTGGACAATCAAAAAGAGTTGATTTTTGTGGAAAGGGCTATCATCTTATGTCCTTCCCTCAGTCAGCACCTCATGGTGTAGTCTTCTTGCATGTGACTTATGTCCCTGCACAAGAAAAGAACTTCACAACTGCTCCTGCCATTTGTCATGATGGAAAAGCACACTTTCCTCGTGAAGGTGTCTTTGTTTCAAATGGCACACACTGGTTTGTAACACAAAGGAATTTTTATGAACCACAAATCATTACTACAGACAACACATTTGTGTCTGGTAACTGTGATGTTGTAATAGGAATTGTCAACAACACAGTTTATGATCCTTTGCAACCTGAATTAGACTCATTCAAGGAGGAGTTAGATAAATATTTTAAGAATCATACATCACCAGATGTTGATTTAGGTGACATCTCTGGCATTAATGCTTCAGTTGTAAACATTCAAAAAGAAATTGACCGCCTCAATGAGGTTGCCAAGAATTTAAATGAATCTCTCATCGATCTCCAAGAACTTGGAAAGTATGAGCAGTATATAAAATGGCCATGGTACATTTGGCTAGGTTTTATAGCTGGCTTGATTGCCATAGTAATGGTGACAATTATGCTTTGCTGTATGACCAGTTGCTGTAGTTGTCTCAAGGGCTGTTGTTCTTGTGGATCCTGCTGCAAATTTGATGAAGACGACTCTGAGCCAGTGCTCAAAGGAGTCAAATTACATTACACATAA'\n\\item[WHP8107-A4v1\\textbackslash{}\\_1082351] ': ATGTTTGGTTTTCTTGTTTTATTGCCACTAGTCTCTAGTCAGTGTGTTAATCTTATAACCAGAACTCAAT---------CATACACTAATTCTTTCACACGTGGTGTTTATTACCCTGACAAAGTTTTCAGATCCTCAGTTTTACATTCAACTCAGGACTTGTTCTTACCTTTCTTTTCCAATGTTACTTGGTTCCATGCTA------TCTCTGGGACCAATGGTACTAAGAGGTTTGATAACCCTGTCCTACCATTTAATGATGGTGTTTATTTTGCTTCCACTGAGAAGTCTAACATAATAAGAGGCTGGATTTTTGGTACTACTTTAGATTCGAAGACCCAGTCCCTACTTATTGTTAATAACGCTACTAATGTTGTTATTAAAGTCTGTGAATTTCAATTTTGTAATGATCCATTTTTGGATGTTTATTACCACAAAAACAACAAAAGTTGGATGGAAAGTGAGTTCAGAGTTTATTCTAGTGCGAATAATTGCACTTTTGAATATGTCTCTCAGCCTTTTCTTATGGACCTTGAAGGAAAACAGGGTAATTTCAAAAATCTTAGGGAATTTGTGTTTAAGAATATTGATGGTTATTTTAAAATATATTCTAAGCACACGCCTATTAATTTAGGGCGTGATCTCCCTCAGGGTTTTTCGGCTTTAGAACCATTGGTAGATTTGCCAATAGGTATTAACATCACTAGGTTTCAAACTTTACTTGCTTTACATAGAAGTTATTTGACTCCTGGTGATTCTTCTTCAGGTTGGACAGCTGGTGCTGCAGCTTATTATGTGGGTTATCTTCAACCTAGGACTTTTCTATTAAAATATAATGAAAATGGAACCATTACAGATGCTGTAGACTGTGCACTTGACCCTCTCTCAGAAACAAAGTGTACGTTGAAATCCTTCACTGTAGAAAAAGGAATCTATCAAACTTCTAACTTTAGAGTCCAACCAACAGAATCTATTGTTAGATTTCCTAATATTACAAACTTGTGCCCTTTTGATGAAGTTTTTAACGCCACCAGATTTGCATCTGTTTATGCTTGGAACAGGAAGAAAATCAGCAACTGTGTTGCTGATTATTCTGTCCTATATAATTTCGCACCATTTTTCGCTTTTAAGTGTTATGGAGTGTCTCCTACTAAATTAAATGATCTCTGCTTTACTAATGTCTATGCAGATTCATTTGTAATTAGAGGTAATGAAGTCAGCCAAATCGCTCCAGGGCAAACTGGAAATATTGCTGATTATAATTATAAATTACCAGATGATTTTACAGGCTGCGTTATAGCTTGGAATTCTAACAAGCTTGATTCTAAGGTTGGTGGTAATTATAATTACCGGTATAGATTGTTTAGGAAGTCTAATCTCAAACCTTTTGAGAGAGATATTTCAACTGAAATCTATCAGGCCGGTAACAAACCTTGTAATGGTGTTGCAGGTGTTAATTGTTACTTTCCTTTACAATCATATGGTTTCCGACCCACTTATGGTGTTGGTCACCAACCATACAGAGTAGTAGTACTTTCTTTTGAACTTCTACATGCACCAGCAACTGTTTGTGGACCTAAAAAGTCTACTAATTTGGTTAAAAACAAATGTGTCAATTTCAACTTCAATGGTTTAACAGGCACAGGTGTTCTTACTGAGTCTAACAAAAAGTTTCTGCCTTTCCAACAATTTGGCAGAGACATTGCTGACACTACTGATGCTGTCCGTGATCCACAGACACTTGAGATTCTTGACATTACACCATGTTCTTTTGGTGGTGTCAGTGTTATAACACCAGGAACAAATACTTCTAACCAGGTTGCTGTTCTTTATCAGGGTGTTAACTGCACAGAAGTCCCTGTTGCTATTCATGCAGATCAACTTACTCCTACTTGGCGTGTTTATTCTACAGGTTCTAATGTTTTTCAAACACGTGCAGGCTGTTTAATAGGGGCTGAATATGTCAACAACTCATATGAGTGTGACATACCCATTGGTGCAGGTATATGCGCTAGTTATCAGACTCAGACTAAGTCTCATCGGCGGGCACGTAGTGTAGTTAGTCAATCCATCATTGCCTACACTATGTCACTTGGTGCAGAAAATTCAGTTGCTTACTCTAATAACTCTATTGCCATACCCACAAATTTTACTATTAGTGTTACCACAGAAATTCTACCAGTGTCTATGACCAAGACATCAGTAGATTGTACAATGTACATTTGTGGTGATTCAACTGAATGCAGCAATCTTTTGTTGCAATATGGCAGTTTTTGTACACAATTAAAACGTGCTTTAACTGGAATAGCTGTTGAACAAGACAAAAACACCCAAGAAGTTTTTGCACAAGTCAAACAAATTTACAAAACACCACCAATTAAATATTTTGGTGGTTTTAATTTTTCACAAATATTACCAGATCCATCAAAACCAAGCAAGAGGTCATTTATTGAAGATCTACTTTTCAACAAAGTGACACTTGCAGATGCTGGCTTCATCAAACAATATGGTGATTGCCTTGGTGATATTGCTGCTAGAGACCTCATTTGTGCACAAAAGTTTAATGGCCTTACTGTTTTGCCACCTTTGCTCACAGATGAAATGATTGCTCAATACACTTCTGCACTGTTAGCGGGTACAATCACTTCTGGTTGGACCTTTGGTGCAGGTGCTGCATTACAAATACCATTTGCTATGCAAATGGCTTATAGGTTTAATGGTATTGGAGTTACACAGAATGTTCTCTATGAGAACCAAAAATTGATTGCCAACCAATTTAATAGTGCTATTGGCAAAATTCAAGACTCACTTTCTTCCACAGCAAGTGCACTTGGAAAACTTCAAGATGTGGTCAACCATAATGCACAAGCTTTAAACACGCTTGTTAAACAACTTAGCTCCAAATTTGGTGCAATTTCAAGTGTTTTAAATGATATCCTTTCACGTCTTGACAAAGTTGAGGCTGAAGTGCAAATTGATAGGTTGATCACAGGCAGACTTCAAAGTTTGCAGACATATGTGACTCAACAATTAATTAGAGCTGCAGAAATCAGAGCTTCTGCTAATCTTGCTGCTACTAAAATGTCAGAGTGTGTACTTGGACAATCAAAAAGAGTTGATTTTTGTGGAAAGGGCTATCATCTTATGTCCTTCCCTCAGTCAGCACCTCATGGTGTAGTCTTCTTGCATGTGACTTATGTCCCTGCACAAGAAAAGAACTTCACAACTGCTCCTGCCATTTGTCATGATGGAAAAGCACACTTTCCTCGTGAAGGTGTCTTTGTTTCAAATGGCACACACTGGTTTGTAACACAAAGGAATTTTTATGAACCACAAATCATTACTACAGACAACACATTTGTGTCTGGTAACTGTGATGTTGTAATAGGAATTGTCAACAACACAGTTTATGATCCTTTGCAACCTGAATTAGATTCATTCAAGGAGGAGTTAGATAAATATTTTAAGAATCATACATCACCAGATGTTGATTTAGGTGACATCTCTGGCATTAATGCTTCAGTTGTAAACATTCAAAAAGAAATTGACCGCCTCAATGAGGTTGCCAAGAATTTAAATGAATCTCTCATCGATCTCCAAGAACTTGGAAAGTATGAGCAGTATATAAAATGGCCATGGTACATTTGGCTAGGTTTTATAGCTGGCTTGATTGCCATAGTAATGGTGACAATTATGCTTTGCTGTATGACCAGTTGCTGTAGTTGTCTCAAGGGCTGTTGTTCTTGTGGATCCTGCTGCAAATTTGATGAAGACGACTCTGAGCCAGTGCTCAAAGGAGTCAAATTACATTACACATAA'\n\\end{description*}\n",
            "text/plain": [
              "                                                                                                                                                                                                                                                                                                                                                                                                                                                                                                                                                                                                                                                                                                                                                                                                                                                                                                                                                                                                                                                                                                                                                                                                                                                                                                                                                                                                                                                                                                                                                                                                                                                                                                                                                                                                                                                                                                                                                                                                                                                                                                                                                                                                                                                                                                                                                                                                                                                                                                                                                                                                                                                                                                                                                                                                                                                                                                                                                                                                                                                                                                                                                                                                                                                                                                                                                                                                                                                                                                                                                                                                                                                                                                                                                                                                                                                                                                                                                                      WHP1939_3582 \n",
              "\": ATGTTTGTTTTTCTTGTTTTATTGCCACTAGTCTTTAGTCAGTGTGTTAATCTTACAACCAGAACTCAATTACCCCCTGCATACACTAATTCTTTCACACGTGGTGTTTATTACCCTGACAAAGTTTTCAGATCCTCAGTTTTACATTCAACTCAGGACTTGTTCTTACCTTTCTTTTCCAATGTTACTTGGTTCCATGCTATACATGTCTCTGGGACCAATGGTACTAAGAGGTTTGATAACCCTGTCCTACCATTTAATGATGGTGTTTATTTTGCTTCCACTGAGAAGTCTAACATAATAAGAGGCTGGATTTTTGGTACTACTTTAGATTCGAAGACCCAGTCCCTACTTATTGTTAATAACGCTACTAATGTTGTTATTAAAGTCTGTGAATTTCAATTTTGTAATGATCCATTTTTGGGTGTTTATTACCACAAAAACAACAAAAGTTGGATGGAAAGTGAGTTCAGAGTTTATTCTAGTGCGAATAATTGCACTTTTGAATATGTCTCTCAGCCTTTTCTTATGGACCTTGAAGGAAAACAGGGTAATTTCAAAAATCTTAGGGAATTTGTGTTTAAGAATATTGATGGTTATTTTAAAATATATTCTAAGCACACGCCTATTAATTTAGTGCGTGATCTCCCTCAGGGTTTTTCGGCTTTAGAACCATTGGTAGATTTGCCAATAGGTATTAACATCACTAGGTTTCAAACTTTACTTGCTTTACATAGAAGTTATTTGACTCCTGGTGATTCTTCTTCAGGTTGGACAGCTGGTGCTGCAGCTTATTATGTGGGTTATCTTCAACCTAGGACTTTTCTATTAAAATATAATGAAAATGGAACCATTACAGATGCTGTAGACTGTGCACTTGACCCTCTCTCAGAAACAAAGTGTACGTTGAAATCCTTCACTGTAGAAAAAGGAATCTATCAAACTTCTAACTTTAGAGTCCAACCAACAGAATCTATTGTTAGATTTCCTAATATTACAAACTTGTGCCCTTTTGGTGAAGTTTTTAACGCCACCAGATTTGCATCTGTTTATGCTTGGAACAGGAAGAGAATCAGCAACTGTGTTGCTGATTATTCTGTCCTATATAATTCCGCATCATTTTCCACTTTTAAGTGTTATGGAGTGTCTCCTACTAAATTAAATGATCTCTGCTTTACTAATGTCTATGCAGATTCATTTGTAATTAGAGGTGATGAAGTCAGACAAATCGCTCCAGGGCAAACTGGAAAGATTGCTGATTATAATTATAAATTACCAGATGATTTTACAGGCTGCGTTATAGCTTGGAATTCTAACAATCTTGATTCTAAGGTTGGTGGTAATTATAATTACCTGTATAGATTGTTTAGGAAGTCTAATCTCAAACCTTTTGAGAGAGATATTTCAACTGAAATCTATCAGGCCGGTAGCACACCTTGTAATGGTGTTGAAGGTTTTAATTGTTACTTTCCTTTACAATCATATGGTTTCCAACCCACTAATGGTGTTGGTTACCAACCATACAGAGTAGTAGTACTTTCTTTTGAACTTCTACATGCACCAGCAACTGTTTGTGGACCTAAAAAGTCTACTAATTTGGTTAAAAACAAATGTGTCAATTTCAACTTCAATGGTTTAACAGGCACAGGTGTTCTTACTGAGTCTAACAAAAAGTTTCTGCCTTTCCAACAATTTGGCAGAGACATTGCTGACACTACTGATGCTGTCCGTGATCCACAGACACTTGAGATTCTTGACATTACACCATGTTCTTTTGGTGGTGTCAGTGTTATAACACCAGGAACAAATACTTCTAACCAGGTTGCTGTTCTTTATCAGGGTGTTAACTGCACAGAAGTCCCTGTTGCTATTCATGCAGATCAACTTACTCCTACTTGGCGTGTTTATTCTACAGGTTCTAATGTTTTTCAAACACGTGCAGGCTGTTTAATAGGGGCTGAACATGTCAACAACTCATATGAGTGTGACATACCCATTGGTGCAGGTATATGCGCTAGTTATCAGACTCAGACTAATTCTCCTCGGCGGGCACGTAGTGTAGCTAGTCAATCCATCATTGCCTACACTATGTCACTTGGTGCAGAAAATTCAGTTGCTTACTCTAATAACTCTATTGCCATACCCACAAATTTTACTATTAGTGTTACCACAGAAATTCTACCAGTGTCTATGACCAAGACATCAGTAGATTGTACAATGTACATTTGTGGTGATTCAACTGAATGCAGCAATCTTTTGTTGCAATATGGCAGTTTTTGTACACAATTAAACCGTGCTTTAACTGGAATAGCTGTTGAACAAGACAAAAACACCCAAGAAGTTTTTGCACAAGTCAAACAAATTTACAAAACACCACCAATTAAAGATTTTGGTGGTTTTAATTTTTCACAAATATTACCAGATCCATCAAAACCAAGCAAGAGGTCATTTATTGAAGATCTACTTTTCAACAAAGTGACACTTGCAGATGCTGGCTTCATCAAACAATATGGTGATTGCCTTGGTGATATTGCTGCTAGAGACCTCATTTGTGCACAAAAGTTTAACGGCCTTACTGTTTTGCCACCTTTGCTCACAGATGAAATGATTGCTCAATACACTTCTGCACTGTTAGCGGGTACAATCACTTCTGGTTGGACCTTTGGTGCAGGTGCTGCATTACAAATACCATTTGCTATGCAAATGGCTTATAGGTTTAATGGTATTGGAGTTACACAGAATGTTCTCTATGAGAACCAAAAATTGATTGCCAACCAATTTAATAGTGCTATTGGCAAAATTCAAGACTCACTTTCTTCCACAGCAAGTGCACTTGGAAAACTTCAAGATGTGGTCAACCAAAATGCACAAGCTTTAAACACGCTTGTTAAACAACTTAGCTCCAATTTTGGTGCAATTTCAAGTGTTTTAAATGATATCCTTTCACGTCTTGACAAAGTTGAGGCTGAAGTGCAAATTGATAGGTTGATCACAGGCAGACTTCAAAGTTTGCAGACATATGTGACTCAACAATTAATTAGAGCTGCAGAAATCAGAGCTTCTGCTAATCTTGCTGCTACTAAAATGTCAGAGTGTGTACTTGGACAATCAAAAAGAGTTGATTTTTGTGGAAAGGGCTATCATCTTATGTCCTTCCCTCAGTCAGCACCTCATGGTGTAGTCTTCTTGCATGTGACTTATGTCCCTGCACAAGAAAAGAACTTCACAACTGCTCCTGCCATTTGTCATGATGGAAAAGCACACTTTCCTCGTGAAGGTGTCTTTGTTTCAAATGGCACACACTGGTTTGTAACACAAAGGAATTTTTATGAACCACAAATCATTACTACAGACAACACATTTGTGTCTGGTAACTGTGATGTTGTAATAGGAATTGTCAACAACACAGTTTATGATCCTTTGCAACCTGAATTAGACTCATTCAAGGAGGAGTTAGATAAATATTTTAAGAATCATACATCACCAGATGTTGATTTAGGTGACATCTCTGGCATTAATGCTTCAGTTGTAAACATTCAAAAAGAAATTGACCGCCTCAATGAGGTTGCCAAGAATTTAAATGAATCTCTCATCGATCTCCAAGAACTTGGAAAGTATGAGCAGTATATAAAATGGCCATGGTACATTTGGCTAGGTTTTATAGCTGGCTTGATTGCCATAGTAATGGTGACAATTATGCTTTGCTGTATGACCAGTTGCTGTAGTTGTCTCAAGGGCTGTTGTTCTTGTGGATCCTGCTGCAAATTTGATGAAGACGACTCTGAGCCAGTGCTCAAAGGAGTCAAATTACATTACACATAA\" \n",
              "                                                                                                                                                                                                                                                                                                                                                                                                                                                                                                                                                                                                                                                                                                                                                                                                                                                                                                                                                                                                                                                                                                                                                                                                                                                                                                                                                                                                                                                                                                                                                                                                                                                                                                                                                                                                                                                                                                                                                                                                                                                                                                                                                                                                                                                                                                                                                                                                                                                                                                                                                                                                                                                                                                                                                                                                                                                                                                                                                                                                                                                                                                                                                                                                                                                                                                                                                                                                                                                                                                                                                                                                                                                                                                                                                                                                                                                                                                                                                              WHP8107-A4v1_1082351 \n",
              "\": ATGTTTGGTTTTCTTGTTTTATTGCCACTAGTCTCTAGTCAGTGTGTTAATCTTATAACCAGAACTCAAT---------CATACACTAATTCTTTCACACGTGGTGTTTATTACCCTGACAAAGTTTTCAGATCCTCAGTTTTACATTCAACTCAGGACTTGTTCTTACCTTTCTTTTCCAATGTTACTTGGTTCCATGCTA------TCTCTGGGACCAATGGTACTAAGAGGTTTGATAACCCTGTCCTACCATTTAATGATGGTGTTTATTTTGCTTCCACTGAGAAGTCTAACATAATAAGAGGCTGGATTTTTGGTACTACTTTAGATTCGAAGACCCAGTCCCTACTTATTGTTAATAACGCTACTAATGTTGTTATTAAAGTCTGTGAATTTCAATTTTGTAATGATCCATTTTTGGATGTTTATTACCACAAAAACAACAAAAGTTGGATGGAAAGTGAGTTCAGAGTTTATTCTAGTGCGAATAATTGCACTTTTGAATATGTCTCTCAGCCTTTTCTTATGGACCTTGAAGGAAAACAGGGTAATTTCAAAAATCTTAGGGAATTTGTGTTTAAGAATATTGATGGTTATTTTAAAATATATTCTAAGCACACGCCTATTAATTTAGGGCGTGATCTCCCTCAGGGTTTTTCGGCTTTAGAACCATTGGTAGATTTGCCAATAGGTATTAACATCACTAGGTTTCAAACTTTACTTGCTTTACATAGAAGTTATTTGACTCCTGGTGATTCTTCTTCAGGTTGGACAGCTGGTGCTGCAGCTTATTATGTGGGTTATCTTCAACCTAGGACTTTTCTATTAAAATATAATGAAAATGGAACCATTACAGATGCTGTAGACTGTGCACTTGACCCTCTCTCAGAAACAAAGTGTACGTTGAAATCCTTCACTGTAGAAAAAGGAATCTATCAAACTTCTAACTTTAGAGTCCAACCAACAGAATCTATTGTTAGATTTCCTAATATTACAAACTTGTGCCCTTTTGATGAAGTTTTTAACGCCACCAGATTTGCATCTGTTTATGCTTGGAACAGGAAGAAAATCAGCAACTGTGTTGCTGATTATTCTGTCCTATATAATTTCGCACCATTTTTCGCTTTTAAGTGTTATGGAGTGTCTCCTACTAAATTAAATGATCTCTGCTTTACTAATGTCTATGCAGATTCATTTGTAATTAGAGGTAATGAAGTCAGCCAAATCGCTCCAGGGCAAACTGGAAATATTGCTGATTATAATTATAAATTACCAGATGATTTTACAGGCTGCGTTATAGCTTGGAATTCTAACAAGCTTGATTCTAAGGTTGGTGGTAATTATAATTACCGGTATAGATTGTTTAGGAAGTCTAATCTCAAACCTTTTGAGAGAGATATTTCAACTGAAATCTATCAGGCCGGTAACAAACCTTGTAATGGTGTTGCAGGTGTTAATTGTTACTTTCCTTTACAATCATATGGTTTCCGACCCACTTATGGTGTTGGTCACCAACCATACAGAGTAGTAGTACTTTCTTTTGAACTTCTACATGCACCAGCAACTGTTTGTGGACCTAAAAAGTCTACTAATTTGGTTAAAAACAAATGTGTCAATTTCAACTTCAATGGTTTAACAGGCACAGGTGTTCTTACTGAGTCTAACAAAAAGTTTCTGCCTTTCCAACAATTTGGCAGAGACATTGCTGACACTACTGATGCTGTCCGTGATCCACAGACACTTGAGATTCTTGACATTACACCATGTTCTTTTGGTGGTGTCAGTGTTATAACACCAGGAACAAATACTTCTAACCAGGTTGCTGTTCTTTATCAGGGTGTTAACTGCACAGAAGTCCCTGTTGCTATTCATGCAGATCAACTTACTCCTACTTGGCGTGTTTATTCTACAGGTTCTAATGTTTTTCAAACACGTGCAGGCTGTTTAATAGGGGCTGAATATGTCAACAACTCATATGAGTGTGACATACCCATTGGTGCAGGTATATGCGCTAGTTATCAGACTCAGACTAAGTCTCATCGGCGGGCACGTAGTGTAGTTAGTCAATCCATCATTGCCTACACTATGTCACTTGGTGCAGAAAATTCAGTTGCTTACTCTAATAACTCTATTGCCATACCCACAAATTTTACTATTAGTGTTACCACAGAAATTCTACCAGTGTCTATGACCAAGACATCAGTAGATTGTACAATGTACATTTGTGGTGATTCAACTGAATGCAGCAATCTTTTGTTGCAATATGGCAGTTTTTGTACACAATTAAAACGTGCTTTAACTGGAATAGCTGTTGAACAAGACAAAAACACCCAAGAAGTTTTTGCACAAGTCAAACAAATTTACAAAACACCACCAATTAAATATTTTGGTGGTTTTAATTTTTCACAAATATTACCAGATCCATCAAAACCAAGCAAGAGGTCATTTATTGAAGATCTACTTTTCAACAAAGTGACACTTGCAGATGCTGGCTTCATCAAACAATATGGTGATTGCCTTGGTGATATTGCTGCTAGAGACCTCATTTGTGCACAAAAGTTTAATGGCCTTACTGTTTTGCCACCTTTGCTCACAGATGAAATGATTGCTCAATACACTTCTGCACTGTTAGCGGGTACAATCACTTCTGGTTGGACCTTTGGTGCAGGTGCTGCATTACAAATACCATTTGCTATGCAAATGGCTTATAGGTTTAATGGTATTGGAGTTACACAGAATGTTCTCTATGAGAACCAAAAATTGATTGCCAACCAATTTAATAGTGCTATTGGCAAAATTCAAGACTCACTTTCTTCCACAGCAAGTGCACTTGGAAAACTTCAAGATGTGGTCAACCATAATGCACAAGCTTTAAACACGCTTGTTAAACAACTTAGCTCCAAATTTGGTGCAATTTCAAGTGTTTTAAATGATATCCTTTCACGTCTTGACAAAGTTGAGGCTGAAGTGCAAATTGATAGGTTGATCACAGGCAGACTTCAAAGTTTGCAGACATATGTGACTCAACAATTAATTAGAGCTGCAGAAATCAGAGCTTCTGCTAATCTTGCTGCTACTAAAATGTCAGAGTGTGTACTTGGACAATCAAAAAGAGTTGATTTTTGTGGAAAGGGCTATCATCTTATGTCCTTCCCTCAGTCAGCACCTCATGGTGTAGTCTTCTTGCATGTGACTTATGTCCCTGCACAAGAAAAGAACTTCACAACTGCTCCTGCCATTTGTCATGATGGAAAAGCACACTTTCCTCGTGAAGGTGTCTTTGTTTCAAATGGCACACACTGGTTTGTAACACAAAGGAATTTTTATGAACCACAAATCATTACTACAGACAACACATTTGTGTCTGGTAACTGTGATGTTGTAATAGGAATTGTCAACAACACAGTTTATGATCCTTTGCAACCTGAATTAGATTCATTCAAGGAGGAGTTAGATAAATATTTTAAGAATCATACATCACCAGATGTTGATTTAGGTGACATCTCTGGCATTAATGCTTCAGTTGTAAACATTCAAAAAGAAATTGACCGCCTCAATGAGGTTGCCAAGAATTTAAATGAATCTCTCATCGATCTCCAAGAACTTGGAAAGTATGAGCAGTATATAAAATGGCCATGGTACATTTGGCTAGGTTTTATAGCTGGCTTGATTGCCATAGTAATGGTGACAATTATGCTTTGCTGTATGACCAGTTGCTGTAGTTGTCTCAAGGGCTGTTGTTCTTGTGGATCCTGCTGCAAATTTGATGAAGACGACTCTGAGCCAGTGCTCAAAGGAGTCAAATTACATTACACATAA\" "
            ]
          },
          "metadata": {}
        }
      ]
    },
    {
      "cell_type": "code",
      "source": [
        "# Convert the spike gene regions to DNAStringSet\n",
        "spike_dna_strings <- DNAStringSet(spike_gene_regions)"
      ],
      "metadata": {
        "id": "zBUyVMxjn2Ut"
      },
      "execution_count": null,
      "outputs": []
    },
    {
      "cell_type": "code",
      "source": [
        "# Write the DNAStringSet to FASTA file format and save the file named \"filtered_sequences.spike.fasta\"\n",
        "writeXStringSet(spike_dna_strings, \"./Bioinformatics Exercise/filtered_sequences.spike.fasta\")"
      ],
      "metadata": {
        "id": "M7Jy-gzPoJqk"
      },
      "execution_count": null,
      "outputs": []
    },
    {
      "cell_type": "markdown",
      "source": [
        "The spike gene regions (from position 21563 to 25384) are converted to DNAStringSet and saved in fasta format named \"filtered_sequences.spike.fasta\""
      ],
      "metadata": {
        "id": "KONVZI2fRt0H"
      }
    },
    {
      "cell_type": "markdown",
      "source": [
        "### 3.3 Calculate the codon usage for one of the extracted sequences"
      ],
      "metadata": {
        "id": "TfNfftHCo4U4"
      }
    },
    {
      "cell_type": "code",
      "source": [
        "# Load the library\n",
        "library(Biostrings)"
      ],
      "metadata": {
        "id": "wk8FYcmmpGFO"
      },
      "execution_count": null,
      "outputs": []
    },
    {
      "cell_type": "markdown",
      "source": [
        "Define the codon table"
      ],
      "metadata": {
        "id": "s6i04gE7S_ON"
      }
    },
    {
      "cell_type": "code",
      "source": [
        "# The codon table is defined\n",
        "codon_table <- list('ATA' = 'I', 'ATC' = 'I', 'ATT' = 'I', 'ATG' = 'M',\n",
        "  'ACA' = 'T', 'ACC' = 'T', 'ACG' = 'T', 'ACT' = 'T',\n",
        "  'AAC' = 'N', 'AAT' = 'N', 'AAA' = 'K', 'AAG' = 'K',\n",
        "  'AGC' = 'S', 'AGT' = 'S', 'AGA' = 'R', 'AGG' = 'R',\n",
        "  'CTA' = 'L', 'CTC' = 'L', 'CTG' = 'L', 'CTS' = 'L',\n",
        "  'CCA' = 'P', 'CCC' = 'P', 'CCG' = 'P', 'CCT' = 'P',\n",
        "  'CAC' = 'H', 'CAT' = 'H', 'CAA' = 'Q', 'CAG' = 'Q',\n",
        "  'CGA' = 'R', 'CGC' = 'R', 'CGG' = 'R', 'CGT' = 'R',\n",
        "  'GTA' = 'V', 'GTC' = 'V', 'GTG' = 'V', 'GTT' = 'V',\n",
        "  'GCA' = 'A', 'GCC' = 'A', 'GCG' = 'A', 'GCT' = 'A',\n",
        "  'GAC' = 'D', 'GAT' = 'D', 'GAA' = 'E', 'GAG' = 'E',\n",
        "  'GGA' = 'G', 'GGC' = 'G', 'GGG' = 'G', 'GGT' = 'G',\n",
        "  'TCA' = 'S', 'TCC' = 'S', 'TCG' = 'S', 'TCT' = 'S',\n",
        "  'TTC' = 'F', 'TTT' = 'F', 'TTA' = 'L', 'TTG' = 'L',\n",
        "  'TAC' = 'Y', 'TAT' = 'Y', 'TAA' = 'End', 'TAG' = 'End',\n",
        "  'TGC' = 'C', 'TGT' = 'C', 'TGA' = 'End', 'TGG' = 'W'\n",
        ")"
      ],
      "metadata": {
        "id": "37WoRWmuqpX0"
      },
      "execution_count": null,
      "outputs": []
    },
    {
      "cell_type": "markdown",
      "source": [
        "Define DNA sequences as the specified region sequences extracted previously"
      ],
      "metadata": {
        "id": "LQrJ2oqETPsM"
      }
    },
    {
      "cell_type": "code",
      "source": [
        "# The sequences are read\n",
        "dna_sequences <- readDNAStringSet(\"./Bioinformatics Exercise/filtered_sequences.spike.fasta\")\n",
        "dna_sequences"
      ],
      "metadata": {
        "id": "l_-neuXlrF8v",
        "colab": {
          "base_uri": "https://localhost:8080/",
          "height": 104
        },
        "outputId": "e3c49def-9a9b-45a7-ea6b-5e12f695fdc7"
      },
      "execution_count": null,
      "outputs": [
        {
          "output_type": "display_data",
          "data": {
            "text/plain": [
              "DNAStringSet object of length 2:\n",
              "    width seq                                               names               \n",
              "[1]  3822 \u001b[47m\u001b[30mA\u001b[39m\u001b[49m\u001b[47m\u001b[30mT\u001b[39m\u001b[49m\u001b[47m\u001b[30mG\u001b[39m\u001b[49m\u001b[47m\u001b[30mT\u001b[39m\u001b[49m\u001b[47m\u001b[30mT\u001b[39m\u001b[49m\u001b[47m\u001b[30mT\u001b[39m\u001b[49m\u001b[47m\u001b[30mG\u001b[39m\u001b[49m\u001b[47m\u001b[30mT\u001b[39m\u001b[49m\u001b[47m\u001b[30mT\u001b[39m\u001b[49m\u001b[47m\u001b[30mT\u001b[39m\u001b[49m\u001b[47m\u001b[30mT\u001b[39m\u001b[49m\u001b[47m\u001b[30mT\u001b[39m\u001b[49m\u001b[47m\u001b[30mC\u001b[39m\u001b[49m\u001b[47m\u001b[30mT\u001b[39m\u001b[49m\u001b[47m\u001b[30mT\u001b[39m\u001b[49m\u001b[47m\u001b[30mG\u001b[39m\u001b[49m\u001b[47m\u001b[30mT\u001b[39m\u001b[49m\u001b[47m\u001b[30mT\u001b[39m\u001b[49m\u001b[47m\u001b[30mT\u001b[39m\u001b[49m\u001b[47m\u001b[30mT\u001b[39m\u001b[49m\u001b[47m\u001b[30mA\u001b[39m\u001b[49m\u001b[47m\u001b[30mT\u001b[39m\u001b[49m\u001b[47m\u001b[30mT\u001b[39m\u001b[49m...\u001b[47m\u001b[30mG\u001b[39m\u001b[49m\u001b[47m\u001b[30mA\u001b[39m\u001b[49m\u001b[47m\u001b[30mG\u001b[39m\u001b[49m\u001b[47m\u001b[30mT\u001b[39m\u001b[49m\u001b[47m\u001b[30mC\u001b[39m\u001b[49m\u001b[47m\u001b[30mA\u001b[39m\u001b[49m\u001b[47m\u001b[30mA\u001b[39m\u001b[49m\u001b[47m\u001b[30mA\u001b[39m\u001b[49m\u001b[47m\u001b[30mT\u001b[39m\u001b[49m\u001b[47m\u001b[30mT\u001b[39m\u001b[49m\u001b[47m\u001b[30mA\u001b[39m\u001b[49m\u001b[47m\u001b[30mC\u001b[39m\u001b[49m\u001b[47m\u001b[30mA\u001b[39m\u001b[49m\u001b[47m\u001b[30mT\u001b[39m\u001b[49m\u001b[47m\u001b[30mT\u001b[39m\u001b[49m\u001b[47m\u001b[30mA\u001b[39m\u001b[49m\u001b[47m\u001b[30mC\u001b[39m\u001b[49m\u001b[47m\u001b[30mA\u001b[39m\u001b[49m\u001b[47m\u001b[30mC\u001b[39m\u001b[49m\u001b[47m\u001b[30mA\u001b[39m\u001b[49m\u001b[47m\u001b[30mT\u001b[39m\u001b[49m\u001b[47m\u001b[30mA\u001b[39m\u001b[49m\u001b[47m\u001b[30mA\u001b[39m\u001b[49m WHP1939_3582\n",
              "[2]  3822 \u001b[47m\u001b[30mA\u001b[39m\u001b[49m\u001b[47m\u001b[30mT\u001b[39m\u001b[49m\u001b[47m\u001b[30mG\u001b[39m\u001b[49m\u001b[47m\u001b[30mT\u001b[39m\u001b[49m\u001b[47m\u001b[30mT\u001b[39m\u001b[49m\u001b[47m\u001b[30mT\u001b[39m\u001b[49m\u001b[47m\u001b[30mG\u001b[39m\u001b[49m\u001b[47m\u001b[30mG\u001b[39m\u001b[49m\u001b[47m\u001b[30mT\u001b[39m\u001b[49m\u001b[47m\u001b[30mT\u001b[39m\u001b[49m\u001b[47m\u001b[30mT\u001b[39m\u001b[49m\u001b[47m\u001b[30mT\u001b[39m\u001b[49m\u001b[47m\u001b[30mC\u001b[39m\u001b[49m\u001b[47m\u001b[30mT\u001b[39m\u001b[49m\u001b[47m\u001b[30mT\u001b[39m\u001b[49m\u001b[47m\u001b[30mG\u001b[39m\u001b[49m\u001b[47m\u001b[30mT\u001b[39m\u001b[49m\u001b[47m\u001b[30mT\u001b[39m\u001b[49m\u001b[47m\u001b[30mT\u001b[39m\u001b[49m\u001b[47m\u001b[30mT\u001b[39m\u001b[49m\u001b[47m\u001b[30mA\u001b[39m\u001b[49m\u001b[47m\u001b[30mT\u001b[39m\u001b[49m\u001b[47m\u001b[30mT\u001b[39m\u001b[49m...\u001b[47m\u001b[30mG\u001b[39m\u001b[49m\u001b[47m\u001b[30mA\u001b[39m\u001b[49m\u001b[47m\u001b[30mG\u001b[39m\u001b[49m\u001b[47m\u001b[30mT\u001b[39m\u001b[49m\u001b[47m\u001b[30mC\u001b[39m\u001b[49m\u001b[47m\u001b[30mA\u001b[39m\u001b[49m\u001b[47m\u001b[30mA\u001b[39m\u001b[49m\u001b[47m\u001b[30mA\u001b[39m\u001b[49m\u001b[47m\u001b[30mT\u001b[39m\u001b[49m\u001b[47m\u001b[30mT\u001b[39m\u001b[49m\u001b[47m\u001b[30mA\u001b[39m\u001b[49m\u001b[47m\u001b[30mC\u001b[39m\u001b[49m\u001b[47m\u001b[30mA\u001b[39m\u001b[49m\u001b[47m\u001b[30mT\u001b[39m\u001b[49m\u001b[47m\u001b[30mT\u001b[39m\u001b[49m\u001b[47m\u001b[30mA\u001b[39m\u001b[49m\u001b[47m\u001b[30mC\u001b[39m\u001b[49m\u001b[47m\u001b[30mA\u001b[39m\u001b[49m\u001b[47m\u001b[30mC\u001b[39m\u001b[49m\u001b[47m\u001b[30mA\u001b[39m\u001b[49m\u001b[47m\u001b[30mT\u001b[39m\u001b[49m\u001b[47m\u001b[30mA\u001b[39m\u001b[49m\u001b[47m\u001b[30mA\u001b[39m\u001b[49m WHP8107-A4v1_1082351"
            ]
          },
          "metadata": {}
        }
      ]
    },
    {
      "cell_type": "code",
      "source": [
        "# The first sequence is extracted and converted to a string\n",
        "first_sequence <- dna_sequences[[1]]\n",
        "dna_sequence_1 <- as.character(first_sequence)\n",
        "dna_sequence_1"
      ],
      "metadata": {
        "colab": {
          "base_uri": "https://localhost:8080/",
          "height": 54
        },
        "id": "YIlA5uQFrR1g",
        "outputId": "e80b2334-bd91-4481-e1b5-eff6a6feee56"
      },
      "execution_count": null,
      "outputs": [
        {
          "output_type": "display_data",
          "data": {
            "text/html": [
              "'ATGTTTGTTTTTCTTGTTTTATTGCCACTAGTCTTTAGTCAGTGTGTTAATCTTACAACCAGAACTCAATTACCCCCTGCATACACTAATTCTTTCACACGTGGTGTTTATTACCCTGACAAAGTTTTCAGATCCTCAGTTTTACATTCAACTCAGGACTTGTTCTTACCTTTCTTTTCCAATGTTACTTGGTTCCATGCTATACATGTCTCTGGGACCAATGGTACTAAGAGGTTTGATAACCCTGTCCTACCATTTAATGATGGTGTTTATTTTGCTTCCACTGAGAAGTCTAACATAATAAGAGGCTGGATTTTTGGTACTACTTTAGATTCGAAGACCCAGTCCCTACTTATTGTTAATAACGCTACTAATGTTGTTATTAAAGTCTGTGAATTTCAATTTTGTAATGATCCATTTTTGGGTGTTTATTACCACAAAAACAACAAAAGTTGGATGGAAAGTGAGTTCAGAGTTTATTCTAGTGCGAATAATTGCACTTTTGAATATGTCTCTCAGCCTTTTCTTATGGACCTTGAAGGAAAACAGGGTAATTTCAAAAATCTTAGGGAATTTGTGTTTAAGAATATTGATGGTTATTTTAAAATATATTCTAAGCACACGCCTATTAATTTAGTGCGTGATCTCCCTCAGGGTTTTTCGGCTTTAGAACCATTGGTAGATTTGCCAATAGGTATTAACATCACTAGGTTTCAAACTTTACTTGCTTTACATAGAAGTTATTTGACTCCTGGTGATTCTTCTTCAGGTTGGACAGCTGGTGCTGCAGCTTATTATGTGGGTTATCTTCAACCTAGGACTTTTCTATTAAAATATAATGAAAATGGAACCATTACAGATGCTGTAGACTGTGCACTTGACCCTCTCTCAGAAACAAAGTGTACGTTGAAATCCTTCACTGTAGAAAAAGGAATCTATCAAACTTCTAACTTTAGAGTCCAACCAACAGAATCTATTGTTAGATTTCCTAATATTACAAACTTGTGCCCTTTTGGTGAAGTTTTTAACGCCACCAGATTTGCATCTGTTTATGCTTGGAACAGGAAGAGAATCAGCAACTGTGTTGCTGATTATTCTGTCCTATATAATTCCGCATCATTTTCCACTTTTAAGTGTTATGGAGTGTCTCCTACTAAATTAAATGATCTCTGCTTTACTAATGTCTATGCAGATTCATTTGTAATTAGAGGTGATGAAGTCAGACAAATCGCTCCAGGGCAAACTGGAAAGATTGCTGATTATAATTATAAATTACCAGATGATTTTACAGGCTGCGTTATAGCTTGGAATTCTAACAATCTTGATTCTAAGGTTGGTGGTAATTATAATTACCTGTATAGATTGTTTAGGAAGTCTAATCTCAAACCTTTTGAGAGAGATATTTCAACTGAAATCTATCAGGCCGGTAGCACACCTTGTAATGGTGTTGAAGGTTTTAATTGTTACTTTCCTTTACAATCATATGGTTTCCAACCCACTAATGGTGTTGGTTACCAACCATACAGAGTAGTAGTACTTTCTTTTGAACTTCTACATGCACCAGCAACTGTTTGTGGACCTAAAAAGTCTACTAATTTGGTTAAAAACAAATGTGTCAATTTCAACTTCAATGGTTTAACAGGCACAGGTGTTCTTACTGAGTCTAACAAAAAGTTTCTGCCTTTCCAACAATTTGGCAGAGACATTGCTGACACTACTGATGCTGTCCGTGATCCACAGACACTTGAGATTCTTGACATTACACCATGTTCTTTTGGTGGTGTCAGTGTTATAACACCAGGAACAAATACTTCTAACCAGGTTGCTGTTCTTTATCAGGGTGTTAACTGCACAGAAGTCCCTGTTGCTATTCATGCAGATCAACTTACTCCTACTTGGCGTGTTTATTCTACAGGTTCTAATGTTTTTCAAACACGTGCAGGCTGTTTAATAGGGGCTGAACATGTCAACAACTCATATGAGTGTGACATACCCATTGGTGCAGGTATATGCGCTAGTTATCAGACTCAGACTAATTCTCCTCGGCGGGCACGTAGTGTAGCTAGTCAATCCATCATTGCCTACACTATGTCACTTGGTGCAGAAAATTCAGTTGCTTACTCTAATAACTCTATTGCCATACCCACAAATTTTACTATTAGTGTTACCACAGAAATTCTACCAGTGTCTATGACCAAGACATCAGTAGATTGTACAATGTACATTTGTGGTGATTCAACTGAATGCAGCAATCTTTTGTTGCAATATGGCAGTTTTTGTACACAATTAAACCGTGCTTTAACTGGAATAGCTGTTGAACAAGACAAAAACACCCAAGAAGTTTTTGCACAAGTCAAACAAATTTACAAAACACCACCAATTAAAGATTTTGGTGGTTTTAATTTTTCACAAATATTACCAGATCCATCAAAACCAAGCAAGAGGTCATTTATTGAAGATCTACTTTTCAACAAAGTGACACTTGCAGATGCTGGCTTCATCAAACAATATGGTGATTGCCTTGGTGATATTGCTGCTAGAGACCTCATTTGTGCACAAAAGTTTAACGGCCTTACTGTTTTGCCACCTTTGCTCACAGATGAAATGATTGCTCAATACACTTCTGCACTGTTAGCGGGTACAATCACTTCTGGTTGGACCTTTGGTGCAGGTGCTGCATTACAAATACCATTTGCTATGCAAATGGCTTATAGGTTTAATGGTATTGGAGTTACACAGAATGTTCTCTATGAGAACCAAAAATTGATTGCCAACCAATTTAATAGTGCTATTGGCAAAATTCAAGACTCACTTTCTTCCACAGCAAGTGCACTTGGAAAACTTCAAGATGTGGTCAACCAAAATGCACAAGCTTTAAACACGCTTGTTAAACAACTTAGCTCCAATTTTGGTGCAATTTCAAGTGTTTTAAATGATATCCTTTCACGTCTTGACAAAGTTGAGGCTGAAGTGCAAATTGATAGGTTGATCACAGGCAGACTTCAAAGTTTGCAGACATATGTGACTCAACAATTAATTAGAGCTGCAGAAATCAGAGCTTCTGCTAATCTTGCTGCTACTAAAATGTCAGAGTGTGTACTTGGACAATCAAAAAGAGTTGATTTTTGTGGAAAGGGCTATCATCTTATGTCCTTCCCTCAGTCAGCACCTCATGGTGTAGTCTTCTTGCATGTGACTTATGTCCCTGCACAAGAAAAGAACTTCACAACTGCTCCTGCCATTTGTCATGATGGAAAAGCACACTTTCCTCGTGAAGGTGTCTTTGTTTCAAATGGCACACACTGGTTTGTAACACAAAGGAATTTTTATGAACCACAAATCATTACTACAGACAACACATTTGTGTCTGGTAACTGTGATGTTGTAATAGGAATTGTCAACAACACAGTTTATGATCCTTTGCAACCTGAATTAGACTCATTCAAGGAGGAGTTAGATAAATATTTTAAGAATCATACATCACCAGATGTTGATTTAGGTGACATCTCTGGCATTAATGCTTCAGTTGTAAACATTCAAAAAGAAATTGACCGCCTCAATGAGGTTGCCAAGAATTTAAATGAATCTCTCATCGATCTCCAAGAACTTGGAAAGTATGAGCAGTATATAAAATGGCCATGGTACATTTGGCTAGGTTTTATAGCTGGCTTGATTGCCATAGTAATGGTGACAATTATGCTTTGCTGTATGACCAGTTGCTGTAGTTGTCTCAAGGGCTGTTGTTCTTGTGGATCCTGCTGCAAATTTGATGAAGACGACTCTGAGCCAGTGCTCAAAGGAGTCAAATTACATTACACATAA'"
            ],
            "text/markdown": "'ATGTTTGTTTTTCTTGTTTTATTGCCACTAGTCTTTAGTCAGTGTGTTAATCTTACAACCAGAACTCAATTACCCCCTGCATACACTAATTCTTTCACACGTGGTGTTTATTACCCTGACAAAGTTTTCAGATCCTCAGTTTTACATTCAACTCAGGACTTGTTCTTACCTTTCTTTTCCAATGTTACTTGGTTCCATGCTATACATGTCTCTGGGACCAATGGTACTAAGAGGTTTGATAACCCTGTCCTACCATTTAATGATGGTGTTTATTTTGCTTCCACTGAGAAGTCTAACATAATAAGAGGCTGGATTTTTGGTACTACTTTAGATTCGAAGACCCAGTCCCTACTTATTGTTAATAACGCTACTAATGTTGTTATTAAAGTCTGTGAATTTCAATTTTGTAATGATCCATTTTTGGGTGTTTATTACCACAAAAACAACAAAAGTTGGATGGAAAGTGAGTTCAGAGTTTATTCTAGTGCGAATAATTGCACTTTTGAATATGTCTCTCAGCCTTTTCTTATGGACCTTGAAGGAAAACAGGGTAATTTCAAAAATCTTAGGGAATTTGTGTTTAAGAATATTGATGGTTATTTTAAAATATATTCTAAGCACACGCCTATTAATTTAGTGCGTGATCTCCCTCAGGGTTTTTCGGCTTTAGAACCATTGGTAGATTTGCCAATAGGTATTAACATCACTAGGTTTCAAACTTTACTTGCTTTACATAGAAGTTATTTGACTCCTGGTGATTCTTCTTCAGGTTGGACAGCTGGTGCTGCAGCTTATTATGTGGGTTATCTTCAACCTAGGACTTTTCTATTAAAATATAATGAAAATGGAACCATTACAGATGCTGTAGACTGTGCACTTGACCCTCTCTCAGAAACAAAGTGTACGTTGAAATCCTTCACTGTAGAAAAAGGAATCTATCAAACTTCTAACTTTAGAGTCCAACCAACAGAATCTATTGTTAGATTTCCTAATATTACAAACTTGTGCCCTTTTGGTGAAGTTTTTAACGCCACCAGATTTGCATCTGTTTATGCTTGGAACAGGAAGAGAATCAGCAACTGTGTTGCTGATTATTCTGTCCTATATAATTCCGCATCATTTTCCACTTTTAAGTGTTATGGAGTGTCTCCTACTAAATTAAATGATCTCTGCTTTACTAATGTCTATGCAGATTCATTTGTAATTAGAGGTGATGAAGTCAGACAAATCGCTCCAGGGCAAACTGGAAAGATTGCTGATTATAATTATAAATTACCAGATGATTTTACAGGCTGCGTTATAGCTTGGAATTCTAACAATCTTGATTCTAAGGTTGGTGGTAATTATAATTACCTGTATAGATTGTTTAGGAAGTCTAATCTCAAACCTTTTGAGAGAGATATTTCAACTGAAATCTATCAGGCCGGTAGCACACCTTGTAATGGTGTTGAAGGTTTTAATTGTTACTTTCCTTTACAATCATATGGTTTCCAACCCACTAATGGTGTTGGTTACCAACCATACAGAGTAGTAGTACTTTCTTTTGAACTTCTACATGCACCAGCAACTGTTTGTGGACCTAAAAAGTCTACTAATTTGGTTAAAAACAAATGTGTCAATTTCAACTTCAATGGTTTAACAGGCACAGGTGTTCTTACTGAGTCTAACAAAAAGTTTCTGCCTTTCCAACAATTTGGCAGAGACATTGCTGACACTACTGATGCTGTCCGTGATCCACAGACACTTGAGATTCTTGACATTACACCATGTTCTTTTGGTGGTGTCAGTGTTATAACACCAGGAACAAATACTTCTAACCAGGTTGCTGTTCTTTATCAGGGTGTTAACTGCACAGAAGTCCCTGTTGCTATTCATGCAGATCAACTTACTCCTACTTGGCGTGTTTATTCTACAGGTTCTAATGTTTTTCAAACACGTGCAGGCTGTTTAATAGGGGCTGAACATGTCAACAACTCATATGAGTGTGACATACCCATTGGTGCAGGTATATGCGCTAGTTATCAGACTCAGACTAATTCTCCTCGGCGGGCACGTAGTGTAGCTAGTCAATCCATCATTGCCTACACTATGTCACTTGGTGCAGAAAATTCAGTTGCTTACTCTAATAACTCTATTGCCATACCCACAAATTTTACTATTAGTGTTACCACAGAAATTCTACCAGTGTCTATGACCAAGACATCAGTAGATTGTACAATGTACATTTGTGGTGATTCAACTGAATGCAGCAATCTTTTGTTGCAATATGGCAGTTTTTGTACACAATTAAACCGTGCTTTAACTGGAATAGCTGTTGAACAAGACAAAAACACCCAAGAAGTTTTTGCACAAGTCAAACAAATTTACAAAACACCACCAATTAAAGATTTTGGTGGTTTTAATTTTTCACAAATATTACCAGATCCATCAAAACCAAGCAAGAGGTCATTTATTGAAGATCTACTTTTCAACAAAGTGACACTTGCAGATGCTGGCTTCATCAAACAATATGGTGATTGCCTTGGTGATATTGCTGCTAGAGACCTCATTTGTGCACAAAAGTTTAACGGCCTTACTGTTTTGCCACCTTTGCTCACAGATGAAATGATTGCTCAATACACTTCTGCACTGTTAGCGGGTACAATCACTTCTGGTTGGACCTTTGGTGCAGGTGCTGCATTACAAATACCATTTGCTATGCAAATGGCTTATAGGTTTAATGGTATTGGAGTTACACAGAATGTTCTCTATGAGAACCAAAAATTGATTGCCAACCAATTTAATAGTGCTATTGGCAAAATTCAAGACTCACTTTCTTCCACAGCAAGTGCACTTGGAAAACTTCAAGATGTGGTCAACCAAAATGCACAAGCTTTAAACACGCTTGTTAAACAACTTAGCTCCAATTTTGGTGCAATTTCAAGTGTTTTAAATGATATCCTTTCACGTCTTGACAAAGTTGAGGCTGAAGTGCAAATTGATAGGTTGATCACAGGCAGACTTCAAAGTTTGCAGACATATGTGACTCAACAATTAATTAGAGCTGCAGAAATCAGAGCTTCTGCTAATCTTGCTGCTACTAAAATGTCAGAGTGTGTACTTGGACAATCAAAAAGAGTTGATTTTTGTGGAAAGGGCTATCATCTTATGTCCTTCCCTCAGTCAGCACCTCATGGTGTAGTCTTCTTGCATGTGACTTATGTCCCTGCACAAGAAAAGAACTTCACAACTGCTCCTGCCATTTGTCATGATGGAAAAGCACACTTTCCTCGTGAAGGTGTCTTTGTTTCAAATGGCACACACTGGTTTGTAACACAAAGGAATTTTTATGAACCACAAATCATTACTACAGACAACACATTTGTGTCTGGTAACTGTGATGTTGTAATAGGAATTGTCAACAACACAGTTTATGATCCTTTGCAACCTGAATTAGACTCATTCAAGGAGGAGTTAGATAAATATTTTAAGAATCATACATCACCAGATGTTGATTTAGGTGACATCTCTGGCATTAATGCTTCAGTTGTAAACATTCAAAAAGAAATTGACCGCCTCAATGAGGTTGCCAAGAATTTAAATGAATCTCTCATCGATCTCCAAGAACTTGGAAAGTATGAGCAGTATATAAAATGGCCATGGTACATTTGGCTAGGTTTTATAGCTGGCTTGATTGCCATAGTAATGGTGACAATTATGCTTTGCTGTATGACCAGTTGCTGTAGTTGTCTCAAGGGCTGTTGTTCTTGTGGATCCTGCTGCAAATTTGATGAAGACGACTCTGAGCCAGTGCTCAAAGGAGTCAAATTACATTACACATAA'",
            "text/latex": "'ATGTTTGTTTTTCTTGTTTTATTGCCACTAGTCTTTAGTCAGTGTGTTAATCTTACAACCAGAACTCAATTACCCCCTGCATACACTAATTCTTTCACACGTGGTGTTTATTACCCTGACAAAGTTTTCAGATCCTCAGTTTTACATTCAACTCAGGACTTGTTCTTACCTTTCTTTTCCAATGTTACTTGGTTCCATGCTATACATGTCTCTGGGACCAATGGTACTAAGAGGTTTGATAACCCTGTCCTACCATTTAATGATGGTGTTTATTTTGCTTCCACTGAGAAGTCTAACATAATAAGAGGCTGGATTTTTGGTACTACTTTAGATTCGAAGACCCAGTCCCTACTTATTGTTAATAACGCTACTAATGTTGTTATTAAAGTCTGTGAATTTCAATTTTGTAATGATCCATTTTTGGGTGTTTATTACCACAAAAACAACAAAAGTTGGATGGAAAGTGAGTTCAGAGTTTATTCTAGTGCGAATAATTGCACTTTTGAATATGTCTCTCAGCCTTTTCTTATGGACCTTGAAGGAAAACAGGGTAATTTCAAAAATCTTAGGGAATTTGTGTTTAAGAATATTGATGGTTATTTTAAAATATATTCTAAGCACACGCCTATTAATTTAGTGCGTGATCTCCCTCAGGGTTTTTCGGCTTTAGAACCATTGGTAGATTTGCCAATAGGTATTAACATCACTAGGTTTCAAACTTTACTTGCTTTACATAGAAGTTATTTGACTCCTGGTGATTCTTCTTCAGGTTGGACAGCTGGTGCTGCAGCTTATTATGTGGGTTATCTTCAACCTAGGACTTTTCTATTAAAATATAATGAAAATGGAACCATTACAGATGCTGTAGACTGTGCACTTGACCCTCTCTCAGAAACAAAGTGTACGTTGAAATCCTTCACTGTAGAAAAAGGAATCTATCAAACTTCTAACTTTAGAGTCCAACCAACAGAATCTATTGTTAGATTTCCTAATATTACAAACTTGTGCCCTTTTGGTGAAGTTTTTAACGCCACCAGATTTGCATCTGTTTATGCTTGGAACAGGAAGAGAATCAGCAACTGTGTTGCTGATTATTCTGTCCTATATAATTCCGCATCATTTTCCACTTTTAAGTGTTATGGAGTGTCTCCTACTAAATTAAATGATCTCTGCTTTACTAATGTCTATGCAGATTCATTTGTAATTAGAGGTGATGAAGTCAGACAAATCGCTCCAGGGCAAACTGGAAAGATTGCTGATTATAATTATAAATTACCAGATGATTTTACAGGCTGCGTTATAGCTTGGAATTCTAACAATCTTGATTCTAAGGTTGGTGGTAATTATAATTACCTGTATAGATTGTTTAGGAAGTCTAATCTCAAACCTTTTGAGAGAGATATTTCAACTGAAATCTATCAGGCCGGTAGCACACCTTGTAATGGTGTTGAAGGTTTTAATTGTTACTTTCCTTTACAATCATATGGTTTCCAACCCACTAATGGTGTTGGTTACCAACCATACAGAGTAGTAGTACTTTCTTTTGAACTTCTACATGCACCAGCAACTGTTTGTGGACCTAAAAAGTCTACTAATTTGGTTAAAAACAAATGTGTCAATTTCAACTTCAATGGTTTAACAGGCACAGGTGTTCTTACTGAGTCTAACAAAAAGTTTCTGCCTTTCCAACAATTTGGCAGAGACATTGCTGACACTACTGATGCTGTCCGTGATCCACAGACACTTGAGATTCTTGACATTACACCATGTTCTTTTGGTGGTGTCAGTGTTATAACACCAGGAACAAATACTTCTAACCAGGTTGCTGTTCTTTATCAGGGTGTTAACTGCACAGAAGTCCCTGTTGCTATTCATGCAGATCAACTTACTCCTACTTGGCGTGTTTATTCTACAGGTTCTAATGTTTTTCAAACACGTGCAGGCTGTTTAATAGGGGCTGAACATGTCAACAACTCATATGAGTGTGACATACCCATTGGTGCAGGTATATGCGCTAGTTATCAGACTCAGACTAATTCTCCTCGGCGGGCACGTAGTGTAGCTAGTCAATCCATCATTGCCTACACTATGTCACTTGGTGCAGAAAATTCAGTTGCTTACTCTAATAACTCTATTGCCATACCCACAAATTTTACTATTAGTGTTACCACAGAAATTCTACCAGTGTCTATGACCAAGACATCAGTAGATTGTACAATGTACATTTGTGGTGATTCAACTGAATGCAGCAATCTTTTGTTGCAATATGGCAGTTTTTGTACACAATTAAACCGTGCTTTAACTGGAATAGCTGTTGAACAAGACAAAAACACCCAAGAAGTTTTTGCACAAGTCAAACAAATTTACAAAACACCACCAATTAAAGATTTTGGTGGTTTTAATTTTTCACAAATATTACCAGATCCATCAAAACCAAGCAAGAGGTCATTTATTGAAGATCTACTTTTCAACAAAGTGACACTTGCAGATGCTGGCTTCATCAAACAATATGGTGATTGCCTTGGTGATATTGCTGCTAGAGACCTCATTTGTGCACAAAAGTTTAACGGCCTTACTGTTTTGCCACCTTTGCTCACAGATGAAATGATTGCTCAATACACTTCTGCACTGTTAGCGGGTACAATCACTTCTGGTTGGACCTTTGGTGCAGGTGCTGCATTACAAATACCATTTGCTATGCAAATGGCTTATAGGTTTAATGGTATTGGAGTTACACAGAATGTTCTCTATGAGAACCAAAAATTGATTGCCAACCAATTTAATAGTGCTATTGGCAAAATTCAAGACTCACTTTCTTCCACAGCAAGTGCACTTGGAAAACTTCAAGATGTGGTCAACCAAAATGCACAAGCTTTAAACACGCTTGTTAAACAACTTAGCTCCAATTTTGGTGCAATTTCAAGTGTTTTAAATGATATCCTTTCACGTCTTGACAAAGTTGAGGCTGAAGTGCAAATTGATAGGTTGATCACAGGCAGACTTCAAAGTTTGCAGACATATGTGACTCAACAATTAATTAGAGCTGCAGAAATCAGAGCTTCTGCTAATCTTGCTGCTACTAAAATGTCAGAGTGTGTACTTGGACAATCAAAAAGAGTTGATTTTTGTGGAAAGGGCTATCATCTTATGTCCTTCCCTCAGTCAGCACCTCATGGTGTAGTCTTCTTGCATGTGACTTATGTCCCTGCACAAGAAAAGAACTTCACAACTGCTCCTGCCATTTGTCATGATGGAAAAGCACACTTTCCTCGTGAAGGTGTCTTTGTTTCAAATGGCACACACTGGTTTGTAACACAAAGGAATTTTTATGAACCACAAATCATTACTACAGACAACACATTTGTGTCTGGTAACTGTGATGTTGTAATAGGAATTGTCAACAACACAGTTTATGATCCTTTGCAACCTGAATTAGACTCATTCAAGGAGGAGTTAGATAAATATTTTAAGAATCATACATCACCAGATGTTGATTTAGGTGACATCTCTGGCATTAATGCTTCAGTTGTAAACATTCAAAAAGAAATTGACCGCCTCAATGAGGTTGCCAAGAATTTAAATGAATCTCTCATCGATCTCCAAGAACTTGGAAAGTATGAGCAGTATATAAAATGGCCATGGTACATTTGGCTAGGTTTTATAGCTGGCTTGATTGCCATAGTAATGGTGACAATTATGCTTTGCTGTATGACCAGTTGCTGTAGTTGTCTCAAGGGCTGTTGTTCTTGTGGATCCTGCTGCAAATTTGATGAAGACGACTCTGAGCCAGTGCTCAAAGGAGTCAAATTACATTACACATAA'",
            "text/plain": [
              "[1] \"ATGTTTGTTTTTCTTGTTTTATTGCCACTAGTCTTTAGTCAGTGTGTTAATCTTACAACCAGAACTCAATTACCCCCTGCATACACTAATTCTTTCACACGTGGTGTTTATTACCCTGACAAAGTTTTCAGATCCTCAGTTTTACATTCAACTCAGGACTTGTTCTTACCTTTCTTTTCCAATGTTACTTGGTTCCATGCTATACATGTCTCTGGGACCAATGGTACTAAGAGGTTTGATAACCCTGTCCTACCATTTAATGATGGTGTTTATTTTGCTTCCACTGAGAAGTCTAACATAATAAGAGGCTGGATTTTTGGTACTACTTTAGATTCGAAGACCCAGTCCCTACTTATTGTTAATAACGCTACTAATGTTGTTATTAAAGTCTGTGAATTTCAATTTTGTAATGATCCATTTTTGGGTGTTTATTACCACAAAAACAACAAAAGTTGGATGGAAAGTGAGTTCAGAGTTTATTCTAGTGCGAATAATTGCACTTTTGAATATGTCTCTCAGCCTTTTCTTATGGACCTTGAAGGAAAACAGGGTAATTTCAAAAATCTTAGGGAATTTGTGTTTAAGAATATTGATGGTTATTTTAAAATATATTCTAAGCACACGCCTATTAATTTAGTGCGTGATCTCCCTCAGGGTTTTTCGGCTTTAGAACCATTGGTAGATTTGCCAATAGGTATTAACATCACTAGGTTTCAAACTTTACTTGCTTTACATAGAAGTTATTTGACTCCTGGTGATTCTTCTTCAGGTTGGACAGCTGGTGCTGCAGCTTATTATGTGGGTTATCTTCAACCTAGGACTTTTCTATTAAAATATAATGAAAATGGAACCATTACAGATGCTGTAGACTGTGCACTTGACCCTCTCTCAGAAACAAAGTGTACGTTGAAATCCTTCACTGTAGAAAAAGGAATCTATCAAACTTCTAACTTTAGAGTCCAACCAACAGAATCTATTGTTAGATTTCCTAATATTACAAACTTGTGCCCTTTTGGTGAAGTTTTTAACGCCACCAGATTTGCATCTGTTTATGCTTGGAACAGGAAGAGAATCAGCAACTGTGTTGCTGATTATTCTGTCCTATATAATTCCGCATCATTTTCCACTTTTAAGTGTTATGGAGTGTCTCCTACTAAATTAAATGATCTCTGCTTTACTAATGTCTATGCAGATTCATTTGTAATTAGAGGTGATGAAGTCAGACAAATCGCTCCAGGGCAAACTGGAAAGATTGCTGATTATAATTATAAATTACCAGATGATTTTACAGGCTGCGTTATAGCTTGGAATTCTAACAATCTTGATTCTAAGGTTGGTGGTAATTATAATTACCTGTATAGATTGTTTAGGAAGTCTAATCTCAAACCTTTTGAGAGAGATATTTCAACTGAAATCTATCAGGCCGGTAGCACACCTTGTAATGGTGTTGAAGGTTTTAATTGTTACTTTCCTTTACAATCATATGGTTTCCAACCCACTAATGGTGTTGGTTACCAACCATACAGAGTAGTAGTACTTTCTTTTGAACTTCTACATGCACCAGCAACTGTTTGTGGACCTAAAAAGTCTACTAATTTGGTTAAAAACAAATGTGTCAATTTCAACTTCAATGGTTTAACAGGCACAGGTGTTCTTACTGAGTCTAACAAAAAGTTTCTGCCTTTCCAACAATTTGGCAGAGACATTGCTGACACTACTGATGCTGTCCGTGATCCACAGACACTTGAGATTCTTGACATTACACCATGTTCTTTTGGTGGTGTCAGTGTTATAACACCAGGAACAAATACTTCTAACCAGGTTGCTGTTCTTTATCAGGGTGTTAACTGCACAGAAGTCCCTGTTGCTATTCATGCAGATCAACTTACTCCTACTTGGCGTGTTTATTCTACAGGTTCTAATGTTTTTCAAACACGTGCAGGCTGTTTAATAGGGGCTGAACATGTCAACAACTCATATGAGTGTGACATACCCATTGGTGCAGGTATATGCGCTAGTTATCAGACTCAGACTAATTCTCCTCGGCGGGCACGTAGTGTAGCTAGTCAATCCATCATTGCCTACACTATGTCACTTGGTGCAGAAAATTCAGTTGCTTACTCTAATAACTCTATTGCCATACCCACAAATTTTACTATTAGTGTTACCACAGAAATTCTACCAGTGTCTATGACCAAGACATCAGTAGATTGTACAATGTACATTTGTGGTGATTCAACTGAATGCAGCAATCTTTTGTTGCAATATGGCAGTTTTTGTACACAATTAAACCGTGCTTTAACTGGAATAGCTGTTGAACAAGACAAAAACACCCAAGAAGTTTTTGCACAAGTCAAACAAATTTACAAAACACCACCAATTAAAGATTTTGGTGGTTTTAATTTTTCACAAATATTACCAGATCCATCAAAACCAAGCAAGAGGTCATTTATTGAAGATCTACTTTTCAACAAAGTGACACTTGCAGATGCTGGCTTCATCAAACAATATGGTGATTGCCTTGGTGATATTGCTGCTAGAGACCTCATTTGTGCACAAAAGTTTAACGGCCTTACTGTTTTGCCACCTTTGCTCACAGATGAAATGATTGCTCAATACACTTCTGCACTGTTAGCGGGTACAATCACTTCTGGTTGGACCTTTGGTGCAGGTGCTGCATTACAAATACCATTTGCTATGCAAATGGCTTATAGGTTTAATGGTATTGGAGTTACACAGAATGTTCTCTATGAGAACCAAAAATTGATTGCCAACCAATTTAATAGTGCTATTGGCAAAATTCAAGACTCACTTTCTTCCACAGCAAGTGCACTTGGAAAACTTCAAGATGTGGTCAACCAAAATGCACAAGCTTTAAACACGCTTGTTAAACAACTTAGCTCCAATTTTGGTGCAATTTCAAGTGTTTTAAATGATATCCTTTCACGTCTTGACAAAGTTGAGGCTGAAGTGCAAATTGATAGGTTGATCACAGGCAGACTTCAAAGTTTGCAGACATATGTGACTCAACAATTAATTAGAGCTGCAGAAATCAGAGCTTCTGCTAATCTTGCTGCTACTAAAATGTCAGAGTGTGTACTTGGACAATCAAAAAGAGTTGATTTTTGTGGAAAGGGCTATCATCTTATGTCCTTCCCTCAGTCAGCACCTCATGGTGTAGTCTTCTTGCATGTGACTTATGTCCCTGCACAAGAAAAGAACTTCACAACTGCTCCTGCCATTTGTCATGATGGAAAAGCACACTTTCCTCGTGAAGGTGTCTTTGTTTCAAATGGCACACACTGGTTTGTAACACAAAGGAATTTTTATGAACCACAAATCATTACTACAGACAACACATTTGTGTCTGGTAACTGTGATGTTGTAATAGGAATTGTCAACAACACAGTTTATGATCCTTTGCAACCTGAATTAGACTCATTCAAGGAGGAGTTAGATAAATATTTTAAGAATCATACATCACCAGATGTTGATTTAGGTGACATCTCTGGCATTAATGCTTCAGTTGTAAACATTCAAAAAGAAATTGACCGCCTCAATGAGGTTGCCAAGAATTTAAATGAATCTCTCATCGATCTCCAAGAACTTGGAAAGTATGAGCAGTATATAAAATGGCCATGGTACATTTGGCTAGGTTTTATAGCTGGCTTGATTGCCATAGTAATGGTGACAATTATGCTTTGCTGTATGACCAGTTGCTGTAGTTGTCTCAAGGGCTGTTGTTCTTGTGGATCCTGCTGCAAATTTGATGAAGACGACTCTGAGCCAGTGCTCAAAGGAGTCAAATTACATTACACATAA\""
            ]
          },
          "metadata": {}
        }
      ]
    },
    {
      "cell_type": "code",
      "source": [
        "# Split the first sequence into codons\n",
        "codons <- sapply(seq(1, nchar(dna_sequence_1) - 2, by = 3),\n",
        "                 function(i) substring(dna_sequence_1, i, i + 2))\n",
        "codons"
      ],
      "metadata": {
        "id": "aGBHZGhqrlbX",
        "colab": {
          "base_uri": "https://localhost:8080/",
          "height": 607
        },
        "outputId": "b9a5d17d-a5f5-4132-a5e3-eb8b7fca1cbd"
      },
      "execution_count": null,
      "outputs": [
        {
          "output_type": "display_data",
          "data": {
            "text/html": [
              "<style>\n",
              ".list-inline {list-style: none; margin:0; padding: 0}\n",
              ".list-inline>li {display: inline-block}\n",
              ".list-inline>li:not(:last-child)::after {content: \"\\00b7\"; padding: 0 .5ex}\n",
              "</style>\n",
              "<ol class=list-inline><li>'ATG'</li><li>'TTT'</li><li>'GTT'</li><li>'TTT'</li><li>'CTT'</li><li>'GTT'</li><li>'TTA'</li><li>'TTG'</li><li>'CCA'</li><li>'CTA'</li><li>'GTC'</li><li>'TTT'</li><li>'AGT'</li><li>'CAG'</li><li>'TGT'</li><li>'GTT'</li><li>'AAT'</li><li>'CTT'</li><li>'ACA'</li><li>'ACC'</li><li>'AGA'</li><li>'ACT'</li><li>'CAA'</li><li>'TTA'</li><li>'CCC'</li><li>'CCT'</li><li>'GCA'</li><li>'TAC'</li><li>'ACT'</li><li>'AAT'</li><li>'TCT'</li><li>'TTC'</li><li>'ACA'</li><li>'CGT'</li><li>'GGT'</li><li>'GTT'</li><li>'TAT'</li><li>'TAC'</li><li>'CCT'</li><li>'GAC'</li><li>'AAA'</li><li>'GTT'</li><li>'TTC'</li><li>'AGA'</li><li>'TCC'</li><li>'TCA'</li><li>'GTT'</li><li>'TTA'</li><li>'CAT'</li><li>'TCA'</li><li>'ACT'</li><li>'CAG'</li><li>'GAC'</li><li>'TTG'</li><li>'TTC'</li><li>'TTA'</li><li>'CCT'</li><li>'TTC'</li><li>'TTT'</li><li>'TCC'</li><li>'AAT'</li><li>'GTT'</li><li>'ACT'</li><li>'TGG'</li><li>'TTC'</li><li>'CAT'</li><li>'GCT'</li><li>'ATA'</li><li>'CAT'</li><li>'GTC'</li><li>'TCT'</li><li>'GGG'</li><li>'ACC'</li><li>'AAT'</li><li>'GGT'</li><li>'ACT'</li><li>'AAG'</li><li>'AGG'</li><li>'TTT'</li><li>'GAT'</li><li>'AAC'</li><li>'CCT'</li><li>'GTC'</li><li>'CTA'</li><li>'CCA'</li><li>'TTT'</li><li>'AAT'</li><li>'GAT'</li><li>'GGT'</li><li>'GTT'</li><li>'TAT'</li><li>'TTT'</li><li>'GCT'</li><li>'TCC'</li><li>'ACT'</li><li>'GAG'</li><li>'AAG'</li><li>'TCT'</li><li>'AAC'</li><li>'ATA'</li><li>'ATA'</li><li>'AGA'</li><li>'GGC'</li><li>'TGG'</li><li>'ATT'</li><li>'TTT'</li><li>'GGT'</li><li>'ACT'</li><li>'ACT'</li><li>'TTA'</li><li>'GAT'</li><li>'TCG'</li><li>'AAG'</li><li>'ACC'</li><li>'CAG'</li><li>'TCC'</li><li>'CTA'</li><li>'CTT'</li><li>'ATT'</li><li>'GTT'</li><li>'AAT'</li><li>'AAC'</li><li>'GCT'</li><li>'ACT'</li><li>'AAT'</li><li>'GTT'</li><li>'GTT'</li><li>'ATT'</li><li>'AAA'</li><li>'GTC'</li><li>'TGT'</li><li>'GAA'</li><li>'TTT'</li><li>'CAA'</li><li>'TTT'</li><li>'TGT'</li><li>'AAT'</li><li>'GAT'</li><li>'CCA'</li><li>'TTT'</li><li>'TTG'</li><li>'GGT'</li><li>'GTT'</li><li>'TAT'</li><li>'TAC'</li><li>'CAC'</li><li>'AAA'</li><li>'AAC'</li><li>'AAC'</li><li>'AAA'</li><li>'AGT'</li><li>'TGG'</li><li>'ATG'</li><li>'GAA'</li><li>'AGT'</li><li>'GAG'</li><li>'TTC'</li><li>'AGA'</li><li>'GTT'</li><li>'TAT'</li><li>'TCT'</li><li>'AGT'</li><li>'GCG'</li><li>'AAT'</li><li>'AAT'</li><li>'TGC'</li><li>'ACT'</li><li>'TTT'</li><li>'GAA'</li><li>'TAT'</li><li>'GTC'</li><li>'TCT'</li><li>'CAG'</li><li>'CCT'</li><li>'TTT'</li><li>'CTT'</li><li>'ATG'</li><li>'GAC'</li><li>'CTT'</li><li>'GAA'</li><li>'GGA'</li><li>'AAA'</li><li>'CAG'</li><li>'GGT'</li><li>'AAT'</li><li>'TTC'</li><li>'AAA'</li><li>'AAT'</li><li>'CTT'</li><li>'AGG'</li><li>'GAA'</li><li>'TTT'</li><li>'GTG'</li><li>'TTT'</li><li>'AAG'</li><li>'AAT'</li><li>'ATT'</li><li>'GAT'</li><li>'GGT'</li><li>'TAT'</li><li>⋯</li><li>'TTC'</li><li>'ACA'</li><li>'ACT'</li><li>'GCT'</li><li>'CCT'</li><li>'GCC'</li><li>'ATT'</li><li>'TGT'</li><li>'CAT'</li><li>'GAT'</li><li>'GGA'</li><li>'AAA'</li><li>'GCA'</li><li>'CAC'</li><li>'TTT'</li><li>'CCT'</li><li>'CGT'</li><li>'GAA'</li><li>'GGT'</li><li>'GTC'</li><li>'TTT'</li><li>'GTT'</li><li>'TCA'</li><li>'AAT'</li><li>'GGC'</li><li>'ACA'</li><li>'CAC'</li><li>'TGG'</li><li>'TTT'</li><li>'GTA'</li><li>'ACA'</li><li>'CAA'</li><li>'AGG'</li><li>'AAT'</li><li>'TTT'</li><li>'TAT'</li><li>'GAA'</li><li>'CCA'</li><li>'CAA'</li><li>'ATC'</li><li>'ATT'</li><li>'ACT'</li><li>'ACA'</li><li>'GAC'</li><li>'AAC'</li><li>'ACA'</li><li>'TTT'</li><li>'GTG'</li><li>'TCT'</li><li>'GGT'</li><li>'AAC'</li><li>'TGT'</li><li>'GAT'</li><li>'GTT'</li><li>'GTA'</li><li>'ATA'</li><li>'GGA'</li><li>'ATT'</li><li>'GTC'</li><li>'AAC'</li><li>'AAC'</li><li>'ACA'</li><li>'GTT'</li><li>'TAT'</li><li>'GAT'</li><li>'CCT'</li><li>'TTG'</li><li>'CAA'</li><li>'CCT'</li><li>'GAA'</li><li>'TTA'</li><li>'GAC'</li><li>'TCA'</li><li>'TTC'</li><li>'AAG'</li><li>'GAG'</li><li>'GAG'</li><li>'TTA'</li><li>'GAT'</li><li>'AAA'</li><li>'TAT'</li><li>'TTT'</li><li>'AAG'</li><li>'AAT'</li><li>'CAT'</li><li>'ACA'</li><li>'TCA'</li><li>'CCA'</li><li>'GAT'</li><li>'GTT'</li><li>'GAT'</li><li>'TTA'</li><li>'GGT'</li><li>'GAC'</li><li>'ATC'</li><li>'TCT'</li><li>'GGC'</li><li>'ATT'</li><li>'AAT'</li><li>'GCT'</li><li>'TCA'</li><li>'GTT'</li><li>'GTA'</li><li>'AAC'</li><li>'ATT'</li><li>'CAA'</li><li>'AAA'</li><li>'GAA'</li><li>'ATT'</li><li>'GAC'</li><li>'CGC'</li><li>'CTC'</li><li>'AAT'</li><li>'GAG'</li><li>'GTT'</li><li>'GCC'</li><li>'AAG'</li><li>'AAT'</li><li>'TTA'</li><li>'AAT'</li><li>'GAA'</li><li>'TCT'</li><li>'CTC'</li><li>'ATC'</li><li>'GAT'</li><li>'CTC'</li><li>'CAA'</li><li>'GAA'</li><li>'CTT'</li><li>'GGA'</li><li>'AAG'</li><li>'TAT'</li><li>'GAG'</li><li>'CAG'</li><li>'TAT'</li><li>'ATA'</li><li>'AAA'</li><li>'TGG'</li><li>'CCA'</li><li>'TGG'</li><li>'TAC'</li><li>'ATT'</li><li>'TGG'</li><li>'CTA'</li><li>'GGT'</li><li>'TTT'</li><li>'ATA'</li><li>'GCT'</li><li>'GGC'</li><li>'TTG'</li><li>'ATT'</li><li>'GCC'</li><li>'ATA'</li><li>'GTA'</li><li>'ATG'</li><li>'GTG'</li><li>'ACA'</li><li>'ATT'</li><li>'ATG'</li><li>'CTT'</li><li>'TGC'</li><li>'TGT'</li><li>'ATG'</li><li>'ACC'</li><li>'AGT'</li><li>'TGC'</li><li>'TGT'</li><li>'AGT'</li><li>'TGT'</li><li>'CTC'</li><li>'AAG'</li><li>'GGC'</li><li>'TGT'</li><li>'TGT'</li><li>'TCT'</li><li>'TGT'</li><li>'GGA'</li><li>'TCC'</li><li>'TGC'</li><li>'TGC'</li><li>'AAA'</li><li>'TTT'</li><li>'GAT'</li><li>'GAA'</li><li>'GAC'</li><li>'GAC'</li><li>'TCT'</li><li>'GAG'</li><li>'CCA'</li><li>'GTG'</li><li>'CTC'</li><li>'AAA'</li><li>'GGA'</li><li>'GTC'</li><li>'AAA'</li><li>'TTA'</li><li>'CAT'</li><li>'TAC'</li><li>'ACA'</li><li>'TAA'</li></ol>\n"
            ],
            "text/markdown": "1. 'ATG'\n2. 'TTT'\n3. 'GTT'\n4. 'TTT'\n5. 'CTT'\n6. 'GTT'\n7. 'TTA'\n8. 'TTG'\n9. 'CCA'\n10. 'CTA'\n11. 'GTC'\n12. 'TTT'\n13. 'AGT'\n14. 'CAG'\n15. 'TGT'\n16. 'GTT'\n17. 'AAT'\n18. 'CTT'\n19. 'ACA'\n20. 'ACC'\n21. 'AGA'\n22. 'ACT'\n23. 'CAA'\n24. 'TTA'\n25. 'CCC'\n26. 'CCT'\n27. 'GCA'\n28. 'TAC'\n29. 'ACT'\n30. 'AAT'\n31. 'TCT'\n32. 'TTC'\n33. 'ACA'\n34. 'CGT'\n35. 'GGT'\n36. 'GTT'\n37. 'TAT'\n38. 'TAC'\n39. 'CCT'\n40. 'GAC'\n41. 'AAA'\n42. 'GTT'\n43. 'TTC'\n44. 'AGA'\n45. 'TCC'\n46. 'TCA'\n47. 'GTT'\n48. 'TTA'\n49. 'CAT'\n50. 'TCA'\n51. 'ACT'\n52. 'CAG'\n53. 'GAC'\n54. 'TTG'\n55. 'TTC'\n56. 'TTA'\n57. 'CCT'\n58. 'TTC'\n59. 'TTT'\n60. 'TCC'\n61. 'AAT'\n62. 'GTT'\n63. 'ACT'\n64. 'TGG'\n65. 'TTC'\n66. 'CAT'\n67. 'GCT'\n68. 'ATA'\n69. 'CAT'\n70. 'GTC'\n71. 'TCT'\n72. 'GGG'\n73. 'ACC'\n74. 'AAT'\n75. 'GGT'\n76. 'ACT'\n77. 'AAG'\n78. 'AGG'\n79. 'TTT'\n80. 'GAT'\n81. 'AAC'\n82. 'CCT'\n83. 'GTC'\n84. 'CTA'\n85. 'CCA'\n86. 'TTT'\n87. 'AAT'\n88. 'GAT'\n89. 'GGT'\n90. 'GTT'\n91. 'TAT'\n92. 'TTT'\n93. 'GCT'\n94. 'TCC'\n95. 'ACT'\n96. 'GAG'\n97. 'AAG'\n98. 'TCT'\n99. 'AAC'\n100. 'ATA'\n101. 'ATA'\n102. 'AGA'\n103. 'GGC'\n104. 'TGG'\n105. 'ATT'\n106. 'TTT'\n107. 'GGT'\n108. 'ACT'\n109. 'ACT'\n110. 'TTA'\n111. 'GAT'\n112. 'TCG'\n113. 'AAG'\n114. 'ACC'\n115. 'CAG'\n116. 'TCC'\n117. 'CTA'\n118. 'CTT'\n119. 'ATT'\n120. 'GTT'\n121. 'AAT'\n122. 'AAC'\n123. 'GCT'\n124. 'ACT'\n125. 'AAT'\n126. 'GTT'\n127. 'GTT'\n128. 'ATT'\n129. 'AAA'\n130. 'GTC'\n131. 'TGT'\n132. 'GAA'\n133. 'TTT'\n134. 'CAA'\n135. 'TTT'\n136. 'TGT'\n137. 'AAT'\n138. 'GAT'\n139. 'CCA'\n140. 'TTT'\n141. 'TTG'\n142. 'GGT'\n143. 'GTT'\n144. 'TAT'\n145. 'TAC'\n146. 'CAC'\n147. 'AAA'\n148. 'AAC'\n149. 'AAC'\n150. 'AAA'\n151. 'AGT'\n152. 'TGG'\n153. 'ATG'\n154. 'GAA'\n155. 'AGT'\n156. 'GAG'\n157. 'TTC'\n158. 'AGA'\n159. 'GTT'\n160. 'TAT'\n161. 'TCT'\n162. 'AGT'\n163. 'GCG'\n164. 'AAT'\n165. 'AAT'\n166. 'TGC'\n167. 'ACT'\n168. 'TTT'\n169. 'GAA'\n170. 'TAT'\n171. 'GTC'\n172. 'TCT'\n173. 'CAG'\n174. 'CCT'\n175. 'TTT'\n176. 'CTT'\n177. 'ATG'\n178. 'GAC'\n179. 'CTT'\n180. 'GAA'\n181. 'GGA'\n182. 'AAA'\n183. 'CAG'\n184. 'GGT'\n185. 'AAT'\n186. 'TTC'\n187. 'AAA'\n188. 'AAT'\n189. 'CTT'\n190. 'AGG'\n191. 'GAA'\n192. 'TTT'\n193. 'GTG'\n194. 'TTT'\n195. 'AAG'\n196. 'AAT'\n197. 'ATT'\n198. 'GAT'\n199. 'GGT'\n200. 'TAT'\n201. ⋯\n202. 'TTC'\n203. 'ACA'\n204. 'ACT'\n205. 'GCT'\n206. 'CCT'\n207. 'GCC'\n208. 'ATT'\n209. 'TGT'\n210. 'CAT'\n211. 'GAT'\n212. 'GGA'\n213. 'AAA'\n214. 'GCA'\n215. 'CAC'\n216. 'TTT'\n217. 'CCT'\n218. 'CGT'\n219. 'GAA'\n220. 'GGT'\n221. 'GTC'\n222. 'TTT'\n223. 'GTT'\n224. 'TCA'\n225. 'AAT'\n226. 'GGC'\n227. 'ACA'\n228. 'CAC'\n229. 'TGG'\n230. 'TTT'\n231. 'GTA'\n232. 'ACA'\n233. 'CAA'\n234. 'AGG'\n235. 'AAT'\n236. 'TTT'\n237. 'TAT'\n238. 'GAA'\n239. 'CCA'\n240. 'CAA'\n241. 'ATC'\n242. 'ATT'\n243. 'ACT'\n244. 'ACA'\n245. 'GAC'\n246. 'AAC'\n247. 'ACA'\n248. 'TTT'\n249. 'GTG'\n250. 'TCT'\n251. 'GGT'\n252. 'AAC'\n253. 'TGT'\n254. 'GAT'\n255. 'GTT'\n256. 'GTA'\n257. 'ATA'\n258. 'GGA'\n259. 'ATT'\n260. 'GTC'\n261. 'AAC'\n262. 'AAC'\n263. 'ACA'\n264. 'GTT'\n265. 'TAT'\n266. 'GAT'\n267. 'CCT'\n268. 'TTG'\n269. 'CAA'\n270. 'CCT'\n271. 'GAA'\n272. 'TTA'\n273. 'GAC'\n274. 'TCA'\n275. 'TTC'\n276. 'AAG'\n277. 'GAG'\n278. 'GAG'\n279. 'TTA'\n280. 'GAT'\n281. 'AAA'\n282. 'TAT'\n283. 'TTT'\n284. 'AAG'\n285. 'AAT'\n286. 'CAT'\n287. 'ACA'\n288. 'TCA'\n289. 'CCA'\n290. 'GAT'\n291. 'GTT'\n292. 'GAT'\n293. 'TTA'\n294. 'GGT'\n295. 'GAC'\n296. 'ATC'\n297. 'TCT'\n298. 'GGC'\n299. 'ATT'\n300. 'AAT'\n301. 'GCT'\n302. 'TCA'\n303. 'GTT'\n304. 'GTA'\n305. 'AAC'\n306. 'ATT'\n307. 'CAA'\n308. 'AAA'\n309. 'GAA'\n310. 'ATT'\n311. 'GAC'\n312. 'CGC'\n313. 'CTC'\n314. 'AAT'\n315. 'GAG'\n316. 'GTT'\n317. 'GCC'\n318. 'AAG'\n319. 'AAT'\n320. 'TTA'\n321. 'AAT'\n322. 'GAA'\n323. 'TCT'\n324. 'CTC'\n325. 'ATC'\n326. 'GAT'\n327. 'CTC'\n328. 'CAA'\n329. 'GAA'\n330. 'CTT'\n331. 'GGA'\n332. 'AAG'\n333. 'TAT'\n334. 'GAG'\n335. 'CAG'\n336. 'TAT'\n337. 'ATA'\n338. 'AAA'\n339. 'TGG'\n340. 'CCA'\n341. 'TGG'\n342. 'TAC'\n343. 'ATT'\n344. 'TGG'\n345. 'CTA'\n346. 'GGT'\n347. 'TTT'\n348. 'ATA'\n349. 'GCT'\n350. 'GGC'\n351. 'TTG'\n352. 'ATT'\n353. 'GCC'\n354. 'ATA'\n355. 'GTA'\n356. 'ATG'\n357. 'GTG'\n358. 'ACA'\n359. 'ATT'\n360. 'ATG'\n361. 'CTT'\n362. 'TGC'\n363. 'TGT'\n364. 'ATG'\n365. 'ACC'\n366. 'AGT'\n367. 'TGC'\n368. 'TGT'\n369. 'AGT'\n370. 'TGT'\n371. 'CTC'\n372. 'AAG'\n373. 'GGC'\n374. 'TGT'\n375. 'TGT'\n376. 'TCT'\n377. 'TGT'\n378. 'GGA'\n379. 'TCC'\n380. 'TGC'\n381. 'TGC'\n382. 'AAA'\n383. 'TTT'\n384. 'GAT'\n385. 'GAA'\n386. 'GAC'\n387. 'GAC'\n388. 'TCT'\n389. 'GAG'\n390. 'CCA'\n391. 'GTG'\n392. 'CTC'\n393. 'AAA'\n394. 'GGA'\n395. 'GTC'\n396. 'AAA'\n397. 'TTA'\n398. 'CAT'\n399. 'TAC'\n400. 'ACA'\n401. 'TAA'\n\n\n",
            "text/latex": "\\begin{enumerate*}\n\\item 'ATG'\n\\item 'TTT'\n\\item 'GTT'\n\\item 'TTT'\n\\item 'CTT'\n\\item 'GTT'\n\\item 'TTA'\n\\item 'TTG'\n\\item 'CCA'\n\\item 'CTA'\n\\item 'GTC'\n\\item 'TTT'\n\\item 'AGT'\n\\item 'CAG'\n\\item 'TGT'\n\\item 'GTT'\n\\item 'AAT'\n\\item 'CTT'\n\\item 'ACA'\n\\item 'ACC'\n\\item 'AGA'\n\\item 'ACT'\n\\item 'CAA'\n\\item 'TTA'\n\\item 'CCC'\n\\item 'CCT'\n\\item 'GCA'\n\\item 'TAC'\n\\item 'ACT'\n\\item 'AAT'\n\\item 'TCT'\n\\item 'TTC'\n\\item 'ACA'\n\\item 'CGT'\n\\item 'GGT'\n\\item 'GTT'\n\\item 'TAT'\n\\item 'TAC'\n\\item 'CCT'\n\\item 'GAC'\n\\item 'AAA'\n\\item 'GTT'\n\\item 'TTC'\n\\item 'AGA'\n\\item 'TCC'\n\\item 'TCA'\n\\item 'GTT'\n\\item 'TTA'\n\\item 'CAT'\n\\item 'TCA'\n\\item 'ACT'\n\\item 'CAG'\n\\item 'GAC'\n\\item 'TTG'\n\\item 'TTC'\n\\item 'TTA'\n\\item 'CCT'\n\\item 'TTC'\n\\item 'TTT'\n\\item 'TCC'\n\\item 'AAT'\n\\item 'GTT'\n\\item 'ACT'\n\\item 'TGG'\n\\item 'TTC'\n\\item 'CAT'\n\\item 'GCT'\n\\item 'ATA'\n\\item 'CAT'\n\\item 'GTC'\n\\item 'TCT'\n\\item 'GGG'\n\\item 'ACC'\n\\item 'AAT'\n\\item 'GGT'\n\\item 'ACT'\n\\item 'AAG'\n\\item 'AGG'\n\\item 'TTT'\n\\item 'GAT'\n\\item 'AAC'\n\\item 'CCT'\n\\item 'GTC'\n\\item 'CTA'\n\\item 'CCA'\n\\item 'TTT'\n\\item 'AAT'\n\\item 'GAT'\n\\item 'GGT'\n\\item 'GTT'\n\\item 'TAT'\n\\item 'TTT'\n\\item 'GCT'\n\\item 'TCC'\n\\item 'ACT'\n\\item 'GAG'\n\\item 'AAG'\n\\item 'TCT'\n\\item 'AAC'\n\\item 'ATA'\n\\item 'ATA'\n\\item 'AGA'\n\\item 'GGC'\n\\item 'TGG'\n\\item 'ATT'\n\\item 'TTT'\n\\item 'GGT'\n\\item 'ACT'\n\\item 'ACT'\n\\item 'TTA'\n\\item 'GAT'\n\\item 'TCG'\n\\item 'AAG'\n\\item 'ACC'\n\\item 'CAG'\n\\item 'TCC'\n\\item 'CTA'\n\\item 'CTT'\n\\item 'ATT'\n\\item 'GTT'\n\\item 'AAT'\n\\item 'AAC'\n\\item 'GCT'\n\\item 'ACT'\n\\item 'AAT'\n\\item 'GTT'\n\\item 'GTT'\n\\item 'ATT'\n\\item 'AAA'\n\\item 'GTC'\n\\item 'TGT'\n\\item 'GAA'\n\\item 'TTT'\n\\item 'CAA'\n\\item 'TTT'\n\\item 'TGT'\n\\item 'AAT'\n\\item 'GAT'\n\\item 'CCA'\n\\item 'TTT'\n\\item 'TTG'\n\\item 'GGT'\n\\item 'GTT'\n\\item 'TAT'\n\\item 'TAC'\n\\item 'CAC'\n\\item 'AAA'\n\\item 'AAC'\n\\item 'AAC'\n\\item 'AAA'\n\\item 'AGT'\n\\item 'TGG'\n\\item 'ATG'\n\\item 'GAA'\n\\item 'AGT'\n\\item 'GAG'\n\\item 'TTC'\n\\item 'AGA'\n\\item 'GTT'\n\\item 'TAT'\n\\item 'TCT'\n\\item 'AGT'\n\\item 'GCG'\n\\item 'AAT'\n\\item 'AAT'\n\\item 'TGC'\n\\item 'ACT'\n\\item 'TTT'\n\\item 'GAA'\n\\item 'TAT'\n\\item 'GTC'\n\\item 'TCT'\n\\item 'CAG'\n\\item 'CCT'\n\\item 'TTT'\n\\item 'CTT'\n\\item 'ATG'\n\\item 'GAC'\n\\item 'CTT'\n\\item 'GAA'\n\\item 'GGA'\n\\item 'AAA'\n\\item 'CAG'\n\\item 'GGT'\n\\item 'AAT'\n\\item 'TTC'\n\\item 'AAA'\n\\item 'AAT'\n\\item 'CTT'\n\\item 'AGG'\n\\item 'GAA'\n\\item 'TTT'\n\\item 'GTG'\n\\item 'TTT'\n\\item 'AAG'\n\\item 'AAT'\n\\item 'ATT'\n\\item 'GAT'\n\\item 'GGT'\n\\item 'TAT'\n\\item ⋯\n\\item 'TTC'\n\\item 'ACA'\n\\item 'ACT'\n\\item 'GCT'\n\\item 'CCT'\n\\item 'GCC'\n\\item 'ATT'\n\\item 'TGT'\n\\item 'CAT'\n\\item 'GAT'\n\\item 'GGA'\n\\item 'AAA'\n\\item 'GCA'\n\\item 'CAC'\n\\item 'TTT'\n\\item 'CCT'\n\\item 'CGT'\n\\item 'GAA'\n\\item 'GGT'\n\\item 'GTC'\n\\item 'TTT'\n\\item 'GTT'\n\\item 'TCA'\n\\item 'AAT'\n\\item 'GGC'\n\\item 'ACA'\n\\item 'CAC'\n\\item 'TGG'\n\\item 'TTT'\n\\item 'GTA'\n\\item 'ACA'\n\\item 'CAA'\n\\item 'AGG'\n\\item 'AAT'\n\\item 'TTT'\n\\item 'TAT'\n\\item 'GAA'\n\\item 'CCA'\n\\item 'CAA'\n\\item 'ATC'\n\\item 'ATT'\n\\item 'ACT'\n\\item 'ACA'\n\\item 'GAC'\n\\item 'AAC'\n\\item 'ACA'\n\\item 'TTT'\n\\item 'GTG'\n\\item 'TCT'\n\\item 'GGT'\n\\item 'AAC'\n\\item 'TGT'\n\\item 'GAT'\n\\item 'GTT'\n\\item 'GTA'\n\\item 'ATA'\n\\item 'GGA'\n\\item 'ATT'\n\\item 'GTC'\n\\item 'AAC'\n\\item 'AAC'\n\\item 'ACA'\n\\item 'GTT'\n\\item 'TAT'\n\\item 'GAT'\n\\item 'CCT'\n\\item 'TTG'\n\\item 'CAA'\n\\item 'CCT'\n\\item 'GAA'\n\\item 'TTA'\n\\item 'GAC'\n\\item 'TCA'\n\\item 'TTC'\n\\item 'AAG'\n\\item 'GAG'\n\\item 'GAG'\n\\item 'TTA'\n\\item 'GAT'\n\\item 'AAA'\n\\item 'TAT'\n\\item 'TTT'\n\\item 'AAG'\n\\item 'AAT'\n\\item 'CAT'\n\\item 'ACA'\n\\item 'TCA'\n\\item 'CCA'\n\\item 'GAT'\n\\item 'GTT'\n\\item 'GAT'\n\\item 'TTA'\n\\item 'GGT'\n\\item 'GAC'\n\\item 'ATC'\n\\item 'TCT'\n\\item 'GGC'\n\\item 'ATT'\n\\item 'AAT'\n\\item 'GCT'\n\\item 'TCA'\n\\item 'GTT'\n\\item 'GTA'\n\\item 'AAC'\n\\item 'ATT'\n\\item 'CAA'\n\\item 'AAA'\n\\item 'GAA'\n\\item 'ATT'\n\\item 'GAC'\n\\item 'CGC'\n\\item 'CTC'\n\\item 'AAT'\n\\item 'GAG'\n\\item 'GTT'\n\\item 'GCC'\n\\item 'AAG'\n\\item 'AAT'\n\\item 'TTA'\n\\item 'AAT'\n\\item 'GAA'\n\\item 'TCT'\n\\item 'CTC'\n\\item 'ATC'\n\\item 'GAT'\n\\item 'CTC'\n\\item 'CAA'\n\\item 'GAA'\n\\item 'CTT'\n\\item 'GGA'\n\\item 'AAG'\n\\item 'TAT'\n\\item 'GAG'\n\\item 'CAG'\n\\item 'TAT'\n\\item 'ATA'\n\\item 'AAA'\n\\item 'TGG'\n\\item 'CCA'\n\\item 'TGG'\n\\item 'TAC'\n\\item 'ATT'\n\\item 'TGG'\n\\item 'CTA'\n\\item 'GGT'\n\\item 'TTT'\n\\item 'ATA'\n\\item 'GCT'\n\\item 'GGC'\n\\item 'TTG'\n\\item 'ATT'\n\\item 'GCC'\n\\item 'ATA'\n\\item 'GTA'\n\\item 'ATG'\n\\item 'GTG'\n\\item 'ACA'\n\\item 'ATT'\n\\item 'ATG'\n\\item 'CTT'\n\\item 'TGC'\n\\item 'TGT'\n\\item 'ATG'\n\\item 'ACC'\n\\item 'AGT'\n\\item 'TGC'\n\\item 'TGT'\n\\item 'AGT'\n\\item 'TGT'\n\\item 'CTC'\n\\item 'AAG'\n\\item 'GGC'\n\\item 'TGT'\n\\item 'TGT'\n\\item 'TCT'\n\\item 'TGT'\n\\item 'GGA'\n\\item 'TCC'\n\\item 'TGC'\n\\item 'TGC'\n\\item 'AAA'\n\\item 'TTT'\n\\item 'GAT'\n\\item 'GAA'\n\\item 'GAC'\n\\item 'GAC'\n\\item 'TCT'\n\\item 'GAG'\n\\item 'CCA'\n\\item 'GTG'\n\\item 'CTC'\n\\item 'AAA'\n\\item 'GGA'\n\\item 'GTC'\n\\item 'AAA'\n\\item 'TTA'\n\\item 'CAT'\n\\item 'TAC'\n\\item 'ACA'\n\\item 'TAA'\n\\end{enumerate*}\n",
            "text/plain": [
              "   [1] \"ATG\" \"TTT\" \"GTT\" \"TTT\" \"CTT\" \"GTT\" \"TTA\" \"TTG\" \"CCA\" \"CTA\" \"GTC\" \"TTT\"\n",
              "  [13] \"AGT\" \"CAG\" \"TGT\" \"GTT\" \"AAT\" \"CTT\" \"ACA\" \"ACC\" \"AGA\" \"ACT\" \"CAA\" \"TTA\"\n",
              "  [25] \"CCC\" \"CCT\" \"GCA\" \"TAC\" \"ACT\" \"AAT\" \"TCT\" \"TTC\" \"ACA\" \"CGT\" \"GGT\" \"GTT\"\n",
              "  [37] \"TAT\" \"TAC\" \"CCT\" \"GAC\" \"AAA\" \"GTT\" \"TTC\" \"AGA\" \"TCC\" \"TCA\" \"GTT\" \"TTA\"\n",
              "  [49] \"CAT\" \"TCA\" \"ACT\" \"CAG\" \"GAC\" \"TTG\" \"TTC\" \"TTA\" \"CCT\" \"TTC\" \"TTT\" \"TCC\"\n",
              "  [61] \"AAT\" \"GTT\" \"ACT\" \"TGG\" \"TTC\" \"CAT\" \"GCT\" \"ATA\" \"CAT\" \"GTC\" \"TCT\" \"GGG\"\n",
              "  [73] \"ACC\" \"AAT\" \"GGT\" \"ACT\" \"AAG\" \"AGG\" \"TTT\" \"GAT\" \"AAC\" \"CCT\" \"GTC\" \"CTA\"\n",
              "  [85] \"CCA\" \"TTT\" \"AAT\" \"GAT\" \"GGT\" \"GTT\" \"TAT\" \"TTT\" \"GCT\" \"TCC\" \"ACT\" \"GAG\"\n",
              "  [97] \"AAG\" \"TCT\" \"AAC\" \"ATA\" \"ATA\" \"AGA\" \"GGC\" \"TGG\" \"ATT\" \"TTT\" \"GGT\" \"ACT\"\n",
              " [109] \"ACT\" \"TTA\" \"GAT\" \"TCG\" \"AAG\" \"ACC\" \"CAG\" \"TCC\" \"CTA\" \"CTT\" \"ATT\" \"GTT\"\n",
              " [121] \"AAT\" \"AAC\" \"GCT\" \"ACT\" \"AAT\" \"GTT\" \"GTT\" \"ATT\" \"AAA\" \"GTC\" \"TGT\" \"GAA\"\n",
              " [133] \"TTT\" \"CAA\" \"TTT\" \"TGT\" \"AAT\" \"GAT\" \"CCA\" \"TTT\" \"TTG\" \"GGT\" \"GTT\" \"TAT\"\n",
              " [145] \"TAC\" \"CAC\" \"AAA\" \"AAC\" \"AAC\" \"AAA\" \"AGT\" \"TGG\" \"ATG\" \"GAA\" \"AGT\" \"GAG\"\n",
              " [157] \"TTC\" \"AGA\" \"GTT\" \"TAT\" \"TCT\" \"AGT\" \"GCG\" \"AAT\" \"AAT\" \"TGC\" \"ACT\" \"TTT\"\n",
              " [169] \"GAA\" \"TAT\" \"GTC\" \"TCT\" \"CAG\" \"CCT\" \"TTT\" \"CTT\" \"ATG\" \"GAC\" \"CTT\" \"GAA\"\n",
              " [181] \"GGA\" \"AAA\" \"CAG\" \"GGT\" \"AAT\" \"TTC\" \"AAA\" \"AAT\" \"CTT\" \"AGG\" \"GAA\" \"TTT\"\n",
              " [193] \"GTG\" \"TTT\" \"AAG\" \"AAT\" \"ATT\" \"GAT\" \"GGT\" \"TAT\" \"TTT\" \"AAA\" \"ATA\" \"TAT\"\n",
              " [205] \"TCT\" \"AAG\" \"CAC\" \"ACG\" \"CCT\" \"ATT\" \"AAT\" \"TTA\" \"GTG\" \"CGT\" \"GAT\" \"CTC\"\n",
              " [217] \"CCT\" \"CAG\" \"GGT\" \"TTT\" \"TCG\" \"GCT\" \"TTA\" \"GAA\" \"CCA\" \"TTG\" \"GTA\" \"GAT\"\n",
              " [229] \"TTG\" \"CCA\" \"ATA\" \"GGT\" \"ATT\" \"AAC\" \"ATC\" \"ACT\" \"AGG\" \"TTT\" \"CAA\" \"ACT\"\n",
              " [241] \"TTA\" \"CTT\" \"GCT\" \"TTA\" \"CAT\" \"AGA\" \"AGT\" \"TAT\" \"TTG\" \"ACT\" \"CCT\" \"GGT\"\n",
              " [253] \"GAT\" \"TCT\" \"TCT\" \"TCA\" \"GGT\" \"TGG\" \"ACA\" \"GCT\" \"GGT\" \"GCT\" \"GCA\" \"GCT\"\n",
              " [265] \"TAT\" \"TAT\" \"GTG\" \"GGT\" \"TAT\" \"CTT\" \"CAA\" \"CCT\" \"AGG\" \"ACT\" \"TTT\" \"CTA\"\n",
              " [277] \"TTA\" \"AAA\" \"TAT\" \"AAT\" \"GAA\" \"AAT\" \"GGA\" \"ACC\" \"ATT\" \"ACA\" \"GAT\" \"GCT\"\n",
              " [289] \"GTA\" \"GAC\" \"TGT\" \"GCA\" \"CTT\" \"GAC\" \"CCT\" \"CTC\" \"TCA\" \"GAA\" \"ACA\" \"AAG\"\n",
              " [301] \"TGT\" \"ACG\" \"TTG\" \"AAA\" \"TCC\" \"TTC\" \"ACT\" \"GTA\" \"GAA\" \"AAA\" \"GGA\" \"ATC\"\n",
              " [313] \"TAT\" \"CAA\" \"ACT\" \"TCT\" \"AAC\" \"TTT\" \"AGA\" \"GTC\" \"CAA\" \"CCA\" \"ACA\" \"GAA\"\n",
              " [325] \"TCT\" \"ATT\" \"GTT\" \"AGA\" \"TTT\" \"CCT\" \"AAT\" \"ATT\" \"ACA\" \"AAC\" \"TTG\" \"TGC\"\n",
              " [337] \"CCT\" \"TTT\" \"GGT\" \"GAA\" \"GTT\" \"TTT\" \"AAC\" \"GCC\" \"ACC\" \"AGA\" \"TTT\" \"GCA\"\n",
              " [349] \"TCT\" \"GTT\" \"TAT\" \"GCT\" \"TGG\" \"AAC\" \"AGG\" \"AAG\" \"AGA\" \"ATC\" \"AGC\" \"AAC\"\n",
              " [361] \"TGT\" \"GTT\" \"GCT\" \"GAT\" \"TAT\" \"TCT\" \"GTC\" \"CTA\" \"TAT\" \"AAT\" \"TCC\" \"GCA\"\n",
              " [373] \"TCA\" \"TTT\" \"TCC\" \"ACT\" \"TTT\" \"AAG\" \"TGT\" \"TAT\" \"GGA\" \"GTG\" \"TCT\" \"CCT\"\n",
              " [385] \"ACT\" \"AAA\" \"TTA\" \"AAT\" \"GAT\" \"CTC\" \"TGC\" \"TTT\" \"ACT\" \"AAT\" \"GTC\" \"TAT\"\n",
              " [397] \"GCA\" \"GAT\" \"TCA\" \"TTT\" \"GTA\" \"ATT\" \"AGA\" \"GGT\" \"GAT\" \"GAA\" \"GTC\" \"AGA\"\n",
              " [409] \"CAA\" \"ATC\" \"GCT\" \"CCA\" \"GGG\" \"CAA\" \"ACT\" \"GGA\" \"AAG\" \"ATT\" \"GCT\" \"GAT\"\n",
              " [421] \"TAT\" \"AAT\" \"TAT\" \"AAA\" \"TTA\" \"CCA\" \"GAT\" \"GAT\" \"TTT\" \"ACA\" \"GGC\" \"TGC\"\n",
              " [433] \"GTT\" \"ATA\" \"GCT\" \"TGG\" \"AAT\" \"TCT\" \"AAC\" \"AAT\" \"CTT\" \"GAT\" \"TCT\" \"AAG\"\n",
              " [445] \"GTT\" \"GGT\" \"GGT\" \"AAT\" \"TAT\" \"AAT\" \"TAC\" \"CTG\" \"TAT\" \"AGA\" \"TTG\" \"TTT\"\n",
              " [457] \"AGG\" \"AAG\" \"TCT\" \"AAT\" \"CTC\" \"AAA\" \"CCT\" \"TTT\" \"GAG\" \"AGA\" \"GAT\" \"ATT\"\n",
              " [469] \"TCA\" \"ACT\" \"GAA\" \"ATC\" \"TAT\" \"CAG\" \"GCC\" \"GGT\" \"AGC\" \"ACA\" \"CCT\" \"TGT\"\n",
              " [481] \"AAT\" \"GGT\" \"GTT\" \"GAA\" \"GGT\" \"TTT\" \"AAT\" \"TGT\" \"TAC\" \"TTT\" \"CCT\" \"TTA\"\n",
              " [493] \"CAA\" \"TCA\" \"TAT\" \"GGT\" \"TTC\" \"CAA\" \"CCC\" \"ACT\" \"AAT\" \"GGT\" \"GTT\" \"GGT\"\n",
              " [505] \"TAC\" \"CAA\" \"CCA\" \"TAC\" \"AGA\" \"GTA\" \"GTA\" \"GTA\" \"CTT\" \"TCT\" \"TTT\" \"GAA\"\n",
              " [517] \"CTT\" \"CTA\" \"CAT\" \"GCA\" \"CCA\" \"GCA\" \"ACT\" \"GTT\" \"TGT\" \"GGA\" \"CCT\" \"AAA\"\n",
              " [529] \"AAG\" \"TCT\" \"ACT\" \"AAT\" \"TTG\" \"GTT\" \"AAA\" \"AAC\" \"AAA\" \"TGT\" \"GTC\" \"AAT\"\n",
              " [541] \"TTC\" \"AAC\" \"TTC\" \"AAT\" \"GGT\" \"TTA\" \"ACA\" \"GGC\" \"ACA\" \"GGT\" \"GTT\" \"CTT\"\n",
              " [553] \"ACT\" \"GAG\" \"TCT\" \"AAC\" \"AAA\" \"AAG\" \"TTT\" \"CTG\" \"CCT\" \"TTC\" \"CAA\" \"CAA\"\n",
              " [565] \"TTT\" \"GGC\" \"AGA\" \"GAC\" \"ATT\" \"GCT\" \"GAC\" \"ACT\" \"ACT\" \"GAT\" \"GCT\" \"GTC\"\n",
              " [577] \"CGT\" \"GAT\" \"CCA\" \"CAG\" \"ACA\" \"CTT\" \"GAG\" \"ATT\" \"CTT\" \"GAC\" \"ATT\" \"ACA\"\n",
              " [589] \"CCA\" \"TGT\" \"TCT\" \"TTT\" \"GGT\" \"GGT\" \"GTC\" \"AGT\" \"GTT\" \"ATA\" \"ACA\" \"CCA\"\n",
              " [601] \"GGA\" \"ACA\" \"AAT\" \"ACT\" \"TCT\" \"AAC\" \"CAG\" \"GTT\" \"GCT\" \"GTT\" \"CTT\" \"TAT\"\n",
              " [613] \"CAG\" \"GGT\" \"GTT\" \"AAC\" \"TGC\" \"ACA\" \"GAA\" \"GTC\" \"CCT\" \"GTT\" \"GCT\" \"ATT\"\n",
              " [625] \"CAT\" \"GCA\" \"GAT\" \"CAA\" \"CTT\" \"ACT\" \"CCT\" \"ACT\" \"TGG\" \"CGT\" \"GTT\" \"TAT\"\n",
              " [637] \"TCT\" \"ACA\" \"GGT\" \"TCT\" \"AAT\" \"GTT\" \"TTT\" \"CAA\" \"ACA\" \"CGT\" \"GCA\" \"GGC\"\n",
              " [649] \"TGT\" \"TTA\" \"ATA\" \"GGG\" \"GCT\" \"GAA\" \"CAT\" \"GTC\" \"AAC\" \"AAC\" \"TCA\" \"TAT\"\n",
              " [661] \"GAG\" \"TGT\" \"GAC\" \"ATA\" \"CCC\" \"ATT\" \"GGT\" \"GCA\" \"GGT\" \"ATA\" \"TGC\" \"GCT\"\n",
              " [673] \"AGT\" \"TAT\" \"CAG\" \"ACT\" \"CAG\" \"ACT\" \"AAT\" \"TCT\" \"CCT\" \"CGG\" \"CGG\" \"GCA\"\n",
              " [685] \"CGT\" \"AGT\" \"GTA\" \"GCT\" \"AGT\" \"CAA\" \"TCC\" \"ATC\" \"ATT\" \"GCC\" \"TAC\" \"ACT\"\n",
              " [697] \"ATG\" \"TCA\" \"CTT\" \"GGT\" \"GCA\" \"GAA\" \"AAT\" \"TCA\" \"GTT\" \"GCT\" \"TAC\" \"TCT\"\n",
              " [709] \"AAT\" \"AAC\" \"TCT\" \"ATT\" \"GCC\" \"ATA\" \"CCC\" \"ACA\" \"AAT\" \"TTT\" \"ACT\" \"ATT\"\n",
              " [721] \"AGT\" \"GTT\" \"ACC\" \"ACA\" \"GAA\" \"ATT\" \"CTA\" \"CCA\" \"GTG\" \"TCT\" \"ATG\" \"ACC\"\n",
              " [733] \"AAG\" \"ACA\" \"TCA\" \"GTA\" \"GAT\" \"TGT\" \"ACA\" \"ATG\" \"TAC\" \"ATT\" \"TGT\" \"GGT\"\n",
              " [745] \"GAT\" \"TCA\" \"ACT\" \"GAA\" \"TGC\" \"AGC\" \"AAT\" \"CTT\" \"TTG\" \"TTG\" \"CAA\" \"TAT\"\n",
              " [757] \"GGC\" \"AGT\" \"TTT\" \"TGT\" \"ACA\" \"CAA\" \"TTA\" \"AAC\" \"CGT\" \"GCT\" \"TTA\" \"ACT\"\n",
              " [769] \"GGA\" \"ATA\" \"GCT\" \"GTT\" \"GAA\" \"CAA\" \"GAC\" \"AAA\" \"AAC\" \"ACC\" \"CAA\" \"GAA\"\n",
              " [781] \"GTT\" \"TTT\" \"GCA\" \"CAA\" \"GTC\" \"AAA\" \"CAA\" \"ATT\" \"TAC\" \"AAA\" \"ACA\" \"CCA\"\n",
              " [793] \"CCA\" \"ATT\" \"AAA\" \"GAT\" \"TTT\" \"GGT\" \"GGT\" \"TTT\" \"AAT\" \"TTT\" \"TCA\" \"CAA\"\n",
              " [805] \"ATA\" \"TTA\" \"CCA\" \"GAT\" \"CCA\" \"TCA\" \"AAA\" \"CCA\" \"AGC\" \"AAG\" \"AGG\" \"TCA\"\n",
              " [817] \"TTT\" \"ATT\" \"GAA\" \"GAT\" \"CTA\" \"CTT\" \"TTC\" \"AAC\" \"AAA\" \"GTG\" \"ACA\" \"CTT\"\n",
              " [829] \"GCA\" \"GAT\" \"GCT\" \"GGC\" \"TTC\" \"ATC\" \"AAA\" \"CAA\" \"TAT\" \"GGT\" \"GAT\" \"TGC\"\n",
              " [841] \"CTT\" \"GGT\" \"GAT\" \"ATT\" \"GCT\" \"GCT\" \"AGA\" \"GAC\" \"CTC\" \"ATT\" \"TGT\" \"GCA\"\n",
              " [853] \"CAA\" \"AAG\" \"TTT\" \"AAC\" \"GGC\" \"CTT\" \"ACT\" \"GTT\" \"TTG\" \"CCA\" \"CCT\" \"TTG\"\n",
              " [865] \"CTC\" \"ACA\" \"GAT\" \"GAA\" \"ATG\" \"ATT\" \"GCT\" \"CAA\" \"TAC\" \"ACT\" \"TCT\" \"GCA\"\n",
              " [877] \"CTG\" \"TTA\" \"GCG\" \"GGT\" \"ACA\" \"ATC\" \"ACT\" \"TCT\" \"GGT\" \"TGG\" \"ACC\" \"TTT\"\n",
              " [889] \"GGT\" \"GCA\" \"GGT\" \"GCT\" \"GCA\" \"TTA\" \"CAA\" \"ATA\" \"CCA\" \"TTT\" \"GCT\" \"ATG\"\n",
              " [901] \"CAA\" \"ATG\" \"GCT\" \"TAT\" \"AGG\" \"TTT\" \"AAT\" \"GGT\" \"ATT\" \"GGA\" \"GTT\" \"ACA\"\n",
              " [913] \"CAG\" \"AAT\" \"GTT\" \"CTC\" \"TAT\" \"GAG\" \"AAC\" \"CAA\" \"AAA\" \"TTG\" \"ATT\" \"GCC\"\n",
              " [925] \"AAC\" \"CAA\" \"TTT\" \"AAT\" \"AGT\" \"GCT\" \"ATT\" \"GGC\" \"AAA\" \"ATT\" \"CAA\" \"GAC\"\n",
              " [937] \"TCA\" \"CTT\" \"TCT\" \"TCC\" \"ACA\" \"GCA\" \"AGT\" \"GCA\" \"CTT\" \"GGA\" \"AAA\" \"CTT\"\n",
              " [949] \"CAA\" \"GAT\" \"GTG\" \"GTC\" \"AAC\" \"CAA\" \"AAT\" \"GCA\" \"CAA\" \"GCT\" \"TTA\" \"AAC\"\n",
              " [961] \"ACG\" \"CTT\" \"GTT\" \"AAA\" \"CAA\" \"CTT\" \"AGC\" \"TCC\" \"AAT\" \"TTT\" \"GGT\" \"GCA\"\n",
              " [973] \"ATT\" \"TCA\" \"AGT\" \"GTT\" \"TTA\" \"AAT\" \"GAT\" \"ATC\" \"CTT\" \"TCA\" \"CGT\" \"CTT\"\n",
              " [985] \"GAC\" \"AAA\" \"GTT\" \"GAG\" \"GCT\" \"GAA\" \"GTG\" \"CAA\" \"ATT\" \"GAT\" \"AGG\" \"TTG\"\n",
              " [997] \"ATC\" \"ACA\" \"GGC\" \"AGA\" \"CTT\" \"CAA\" \"AGT\" \"TTG\" \"CAG\" \"ACA\" \"TAT\" \"GTG\"\n",
              "[1009] \"ACT\" \"CAA\" \"CAA\" \"TTA\" \"ATT\" \"AGA\" \"GCT\" \"GCA\" \"GAA\" \"ATC\" \"AGA\" \"GCT\"\n",
              "[1021] \"TCT\" \"GCT\" \"AAT\" \"CTT\" \"GCT\" \"GCT\" \"ACT\" \"AAA\" \"ATG\" \"TCA\" \"GAG\" \"TGT\"\n",
              "[1033] \"GTA\" \"CTT\" \"GGA\" \"CAA\" \"TCA\" \"AAA\" \"AGA\" \"GTT\" \"GAT\" \"TTT\" \"TGT\" \"GGA\"\n",
              "[1045] \"AAG\" \"GGC\" \"TAT\" \"CAT\" \"CTT\" \"ATG\" \"TCC\" \"TTC\" \"CCT\" \"CAG\" \"TCA\" \"GCA\"\n",
              "[1057] \"CCT\" \"CAT\" \"GGT\" \"GTA\" \"GTC\" \"TTC\" \"TTG\" \"CAT\" \"GTG\" \"ACT\" \"TAT\" \"GTC\"\n",
              "[1069] \"CCT\" \"GCA\" \"CAA\" \"GAA\" \"AAG\" \"AAC\" \"TTC\" \"ACA\" \"ACT\" \"GCT\" \"CCT\" \"GCC\"\n",
              "[1081] \"ATT\" \"TGT\" \"CAT\" \"GAT\" \"GGA\" \"AAA\" \"GCA\" \"CAC\" \"TTT\" \"CCT\" \"CGT\" \"GAA\"\n",
              "[1093] \"GGT\" \"GTC\" \"TTT\" \"GTT\" \"TCA\" \"AAT\" \"GGC\" \"ACA\" \"CAC\" \"TGG\" \"TTT\" \"GTA\"\n",
              "[1105] \"ACA\" \"CAA\" \"AGG\" \"AAT\" \"TTT\" \"TAT\" \"GAA\" \"CCA\" \"CAA\" \"ATC\" \"ATT\" \"ACT\"\n",
              "[1117] \"ACA\" \"GAC\" \"AAC\" \"ACA\" \"TTT\" \"GTG\" \"TCT\" \"GGT\" \"AAC\" \"TGT\" \"GAT\" \"GTT\"\n",
              "[1129] \"GTA\" \"ATA\" \"GGA\" \"ATT\" \"GTC\" \"AAC\" \"AAC\" \"ACA\" \"GTT\" \"TAT\" \"GAT\" \"CCT\"\n",
              "[1141] \"TTG\" \"CAA\" \"CCT\" \"GAA\" \"TTA\" \"GAC\" \"TCA\" \"TTC\" \"AAG\" \"GAG\" \"GAG\" \"TTA\"\n",
              "[1153] \"GAT\" \"AAA\" \"TAT\" \"TTT\" \"AAG\" \"AAT\" \"CAT\" \"ACA\" \"TCA\" \"CCA\" \"GAT\" \"GTT\"\n",
              "[1165] \"GAT\" \"TTA\" \"GGT\" \"GAC\" \"ATC\" \"TCT\" \"GGC\" \"ATT\" \"AAT\" \"GCT\" \"TCA\" \"GTT\"\n",
              "[1177] \"GTA\" \"AAC\" \"ATT\" \"CAA\" \"AAA\" \"GAA\" \"ATT\" \"GAC\" \"CGC\" \"CTC\" \"AAT\" \"GAG\"\n",
              "[1189] \"GTT\" \"GCC\" \"AAG\" \"AAT\" \"TTA\" \"AAT\" \"GAA\" \"TCT\" \"CTC\" \"ATC\" \"GAT\" \"CTC\"\n",
              "[1201] \"CAA\" \"GAA\" \"CTT\" \"GGA\" \"AAG\" \"TAT\" \"GAG\" \"CAG\" \"TAT\" \"ATA\" \"AAA\" \"TGG\"\n",
              "[1213] \"CCA\" \"TGG\" \"TAC\" \"ATT\" \"TGG\" \"CTA\" \"GGT\" \"TTT\" \"ATA\" \"GCT\" \"GGC\" \"TTG\"\n",
              "[1225] \"ATT\" \"GCC\" \"ATA\" \"GTA\" \"ATG\" \"GTG\" \"ACA\" \"ATT\" \"ATG\" \"CTT\" \"TGC\" \"TGT\"\n",
              "[1237] \"ATG\" \"ACC\" \"AGT\" \"TGC\" \"TGT\" \"AGT\" \"TGT\" \"CTC\" \"AAG\" \"GGC\" \"TGT\" \"TGT\"\n",
              "[1249] \"TCT\" \"TGT\" \"GGA\" \"TCC\" \"TGC\" \"TGC\" \"AAA\" \"TTT\" \"GAT\" \"GAA\" \"GAC\" \"GAC\"\n",
              "[1261] \"TCT\" \"GAG\" \"CCA\" \"GTG\" \"CTC\" \"AAA\" \"GGA\" \"GTC\" \"AAA\" \"TTA\" \"CAT\" \"TAC\"\n",
              "[1273] \"ACA\" \"TAA\""
            ]
          },
          "metadata": {}
        }
      ]
    },
    {
      "cell_type": "code",
      "source": [
        "# A data frame is created to store results for the first sequence\n",
        "results_1 <- data.frame(\n",
        "  Codon = codons,\n",
        "  AminoAcid = sapply(codons, function(codon) {\n",
        "    if (codon %in% names(codon_table)) {\n",
        "      return(codon_table[[codon]])  # Return the corresponding amino acid\n",
        "    } else {\n",
        "      return(NA)  # Return NA for codons not in the table\n",
        "    }\n",
        "  })\n",
        ")"
      ],
      "metadata": {
        "id": "3hLsZEMZsA5u"
      },
      "execution_count": null,
      "outputs": []
    },
    {
      "cell_type": "code",
      "source": [
        "# Load the results for the first sequence\n",
        "results_1"
      ],
      "metadata": {
        "colab": {
          "base_uri": "https://localhost:8080/",
          "height": 2028
        },
        "id": "EZfRfRD_K5WA",
        "outputId": "c08b103e-01b6-4ac5-c811-99a61088062c"
      },
      "execution_count": null,
      "outputs": [
        {
          "output_type": "display_data",
          "data": {
            "text/html": [
              "<table class=\"dataframe\">\n",
              "<caption>A data.frame: 1274 × 2</caption>\n",
              "<thead>\n",
              "\t<tr><th scope=col>Codon</th><th scope=col>AminoAcid</th></tr>\n",
              "\t<tr><th scope=col>&lt;chr&gt;</th><th scope=col>&lt;chr&gt;</th></tr>\n",
              "</thead>\n",
              "<tbody>\n",
              "\t<tr><td>ATG</td><td>M </td></tr>\n",
              "\t<tr><td>TTT</td><td>F </td></tr>\n",
              "\t<tr><td>GTT</td><td>V </td></tr>\n",
              "\t<tr><td>TTT</td><td>F </td></tr>\n",
              "\t<tr><td>CTT</td><td>NA</td></tr>\n",
              "\t<tr><td>GTT</td><td>V </td></tr>\n",
              "\t<tr><td>TTA</td><td>L </td></tr>\n",
              "\t<tr><td>TTG</td><td>L </td></tr>\n",
              "\t<tr><td>CCA</td><td>P </td></tr>\n",
              "\t<tr><td>CTA</td><td>L </td></tr>\n",
              "\t<tr><td>GTC</td><td>V </td></tr>\n",
              "\t<tr><td>TTT</td><td>F </td></tr>\n",
              "\t<tr><td>AGT</td><td>S </td></tr>\n",
              "\t<tr><td>CAG</td><td>Q </td></tr>\n",
              "\t<tr><td>TGT</td><td>C </td></tr>\n",
              "\t<tr><td>GTT</td><td>V </td></tr>\n",
              "\t<tr><td>AAT</td><td>N </td></tr>\n",
              "\t<tr><td>CTT</td><td>NA</td></tr>\n",
              "\t<tr><td>ACA</td><td>T </td></tr>\n",
              "\t<tr><td>ACC</td><td>T </td></tr>\n",
              "\t<tr><td>AGA</td><td>R </td></tr>\n",
              "\t<tr><td>ACT</td><td>T </td></tr>\n",
              "\t<tr><td>CAA</td><td>Q </td></tr>\n",
              "\t<tr><td>TTA</td><td>L </td></tr>\n",
              "\t<tr><td>CCC</td><td>P </td></tr>\n",
              "\t<tr><td>CCT</td><td>P </td></tr>\n",
              "\t<tr><td>GCA</td><td>A </td></tr>\n",
              "\t<tr><td>TAC</td><td>Y </td></tr>\n",
              "\t<tr><td>ACT</td><td>T </td></tr>\n",
              "\t<tr><td>AAT</td><td>N </td></tr>\n",
              "\t<tr><td>⋮</td><td>⋮</td></tr>\n",
              "\t<tr><td>AAG</td><td>K  </td></tr>\n",
              "\t<tr><td>GGC</td><td>G  </td></tr>\n",
              "\t<tr><td>TGT</td><td>C  </td></tr>\n",
              "\t<tr><td>TGT</td><td>C  </td></tr>\n",
              "\t<tr><td>TCT</td><td>S  </td></tr>\n",
              "\t<tr><td>TGT</td><td>C  </td></tr>\n",
              "\t<tr><td>GGA</td><td>G  </td></tr>\n",
              "\t<tr><td>TCC</td><td>S  </td></tr>\n",
              "\t<tr><td>TGC</td><td>C  </td></tr>\n",
              "\t<tr><td>TGC</td><td>C  </td></tr>\n",
              "\t<tr><td>AAA</td><td>K  </td></tr>\n",
              "\t<tr><td>TTT</td><td>F  </td></tr>\n",
              "\t<tr><td>GAT</td><td>D  </td></tr>\n",
              "\t<tr><td>GAA</td><td>E  </td></tr>\n",
              "\t<tr><td>GAC</td><td>D  </td></tr>\n",
              "\t<tr><td>GAC</td><td>D  </td></tr>\n",
              "\t<tr><td>TCT</td><td>S  </td></tr>\n",
              "\t<tr><td>GAG</td><td>E  </td></tr>\n",
              "\t<tr><td>CCA</td><td>P  </td></tr>\n",
              "\t<tr><td>GTG</td><td>V  </td></tr>\n",
              "\t<tr><td>CTC</td><td>L  </td></tr>\n",
              "\t<tr><td>AAA</td><td>K  </td></tr>\n",
              "\t<tr><td>GGA</td><td>G  </td></tr>\n",
              "\t<tr><td>GTC</td><td>V  </td></tr>\n",
              "\t<tr><td>AAA</td><td>K  </td></tr>\n",
              "\t<tr><td>TTA</td><td>L  </td></tr>\n",
              "\t<tr><td>CAT</td><td>H  </td></tr>\n",
              "\t<tr><td>TAC</td><td>Y  </td></tr>\n",
              "\t<tr><td>ACA</td><td>T  </td></tr>\n",
              "\t<tr><td>TAA</td><td>End</td></tr>\n",
              "</tbody>\n",
              "</table>\n"
            ],
            "text/markdown": "\nA data.frame: 1274 × 2\n\n| Codon &lt;chr&gt; | AminoAcid &lt;chr&gt; |\n|---|---|\n| ATG | M  |\n| TTT | F  |\n| GTT | V  |\n| TTT | F  |\n| CTT | NA |\n| GTT | V  |\n| TTA | L  |\n| TTG | L  |\n| CCA | P  |\n| CTA | L  |\n| GTC | V  |\n| TTT | F  |\n| AGT | S  |\n| CAG | Q  |\n| TGT | C  |\n| GTT | V  |\n| AAT | N  |\n| CTT | NA |\n| ACA | T  |\n| ACC | T  |\n| AGA | R  |\n| ACT | T  |\n| CAA | Q  |\n| TTA | L  |\n| CCC | P  |\n| CCT | P  |\n| GCA | A  |\n| TAC | Y  |\n| ACT | T  |\n| AAT | N  |\n| ⋮ | ⋮ |\n| AAG | K   |\n| GGC | G   |\n| TGT | C   |\n| TGT | C   |\n| TCT | S   |\n| TGT | C   |\n| GGA | G   |\n| TCC | S   |\n| TGC | C   |\n| TGC | C   |\n| AAA | K   |\n| TTT | F   |\n| GAT | D   |\n| GAA | E   |\n| GAC | D   |\n| GAC | D   |\n| TCT | S   |\n| GAG | E   |\n| CCA | P   |\n| GTG | V   |\n| CTC | L   |\n| AAA | K   |\n| GGA | G   |\n| GTC | V   |\n| AAA | K   |\n| TTA | L   |\n| CAT | H   |\n| TAC | Y   |\n| ACA | T   |\n| TAA | End |\n\n",
            "text/latex": "A data.frame: 1274 × 2\n\\begin{tabular}{ll}\n Codon & AminoAcid\\\\\n <chr> & <chr>\\\\\n\\hline\n\t ATG & M \\\\\n\t TTT & F \\\\\n\t GTT & V \\\\\n\t TTT & F \\\\\n\t CTT & NA\\\\\n\t GTT & V \\\\\n\t TTA & L \\\\\n\t TTG & L \\\\\n\t CCA & P \\\\\n\t CTA & L \\\\\n\t GTC & V \\\\\n\t TTT & F \\\\\n\t AGT & S \\\\\n\t CAG & Q \\\\\n\t TGT & C \\\\\n\t GTT & V \\\\\n\t AAT & N \\\\\n\t CTT & NA\\\\\n\t ACA & T \\\\\n\t ACC & T \\\\\n\t AGA & R \\\\\n\t ACT & T \\\\\n\t CAA & Q \\\\\n\t TTA & L \\\\\n\t CCC & P \\\\\n\t CCT & P \\\\\n\t GCA & A \\\\\n\t TAC & Y \\\\\n\t ACT & T \\\\\n\t AAT & N \\\\\n\t ⋮ & ⋮\\\\\n\t AAG & K  \\\\\n\t GGC & G  \\\\\n\t TGT & C  \\\\\n\t TGT & C  \\\\\n\t TCT & S  \\\\\n\t TGT & C  \\\\\n\t GGA & G  \\\\\n\t TCC & S  \\\\\n\t TGC & C  \\\\\n\t TGC & C  \\\\\n\t AAA & K  \\\\\n\t TTT & F  \\\\\n\t GAT & D  \\\\\n\t GAA & E  \\\\\n\t GAC & D  \\\\\n\t GAC & D  \\\\\n\t TCT & S  \\\\\n\t GAG & E  \\\\\n\t CCA & P  \\\\\n\t GTG & V  \\\\\n\t CTC & L  \\\\\n\t AAA & K  \\\\\n\t GGA & G  \\\\\n\t GTC & V  \\\\\n\t AAA & K  \\\\\n\t TTA & L  \\\\\n\t CAT & H  \\\\\n\t TAC & Y  \\\\\n\t ACA & T  \\\\\n\t TAA & End\\\\\n\\end{tabular}\n",
            "text/plain": [
              "     Codon AminoAcid\n",
              "1    ATG   M        \n",
              "2    TTT   F        \n",
              "3    GTT   V        \n",
              "4    TTT   F        \n",
              "5    CTT   NA       \n",
              "6    GTT   V        \n",
              "7    TTA   L        \n",
              "8    TTG   L        \n",
              "9    CCA   P        \n",
              "10   CTA   L        \n",
              "11   GTC   V        \n",
              "12   TTT   F        \n",
              "13   AGT   S        \n",
              "14   CAG   Q        \n",
              "15   TGT   C        \n",
              "16   GTT   V        \n",
              "17   AAT   N        \n",
              "18   CTT   NA       \n",
              "19   ACA   T        \n",
              "20   ACC   T        \n",
              "21   AGA   R        \n",
              "22   ACT   T        \n",
              "23   CAA   Q        \n",
              "24   TTA   L        \n",
              "25   CCC   P        \n",
              "26   CCT   P        \n",
              "27   GCA   A        \n",
              "28   TAC   Y        \n",
              "29   ACT   T        \n",
              "30   AAT   N        \n",
              "⋮    ⋮     ⋮        \n",
              "1245 AAG   K        \n",
              "1246 GGC   G        \n",
              "1247 TGT   C        \n",
              "1248 TGT   C        \n",
              "1249 TCT   S        \n",
              "1250 TGT   C        \n",
              "1251 GGA   G        \n",
              "1252 TCC   S        \n",
              "1253 TGC   C        \n",
              "1254 TGC   C        \n",
              "1255 AAA   K        \n",
              "1256 TTT   F        \n",
              "1257 GAT   D        \n",
              "1258 GAA   E        \n",
              "1259 GAC   D        \n",
              "1260 GAC   D        \n",
              "1261 TCT   S        \n",
              "1262 GAG   E        \n",
              "1263 CCA   P        \n",
              "1264 GTG   V        \n",
              "1265 CTC   L        \n",
              "1266 AAA   K        \n",
              "1267 GGA   G        \n",
              "1268 GTC   V        \n",
              "1269 AAA   K        \n",
              "1270 TTA   L        \n",
              "1271 CAT   H        \n",
              "1272 TAC   Y        \n",
              "1273 ACA   T        \n",
              "1274 TAA   End      "
            ]
          },
          "metadata": {}
        }
      ]
    },
    {
      "cell_type": "code",
      "source": [
        "# NA values are filtered out\n",
        "results_1 <- results_1[!is.na(results_1$AminoAcid), ]"
      ],
      "metadata": {
        "id": "hrnSd66XL9W-"
      },
      "execution_count": null,
      "outputs": []
    },
    {
      "cell_type": "markdown",
      "source": [
        "As seen from the codon results above, there are some codons appear to be \"NA\" which indicating there are missing data when converting the bases into codons. As a result, these \"NA\" codons need to be removed for high quality result interpretation for later use."
      ],
      "metadata": {
        "id": "9cZfR3DzYiu8"
      }
    },
    {
      "cell_type": "code",
      "source": [
        "# Load the results with no NA values\n",
        "results_1"
      ],
      "metadata": {
        "colab": {
          "base_uri": "https://localhost:8080/",
          "height": 2010
        },
        "id": "cMSa4vbPU5Mf",
        "outputId": "5f71232c-b8aa-4ce5-858d-e7c6638b464f"
      },
      "execution_count": null,
      "outputs": [
        {
          "output_type": "display_data",
          "data": {
            "text/html": [
              "<table class=\"dataframe\">\n",
              "<caption>A data.frame: 1238 × 2</caption>\n",
              "<thead>\n",
              "\t<tr><th></th><th scope=col>Codon</th><th scope=col>AminoAcid</th></tr>\n",
              "\t<tr><th></th><th scope=col>&lt;chr&gt;</th><th scope=col>&lt;chr&gt;</th></tr>\n",
              "</thead>\n",
              "<tbody>\n",
              "\t<tr><th scope=row>1</th><td>ATG</td><td>M</td></tr>\n",
              "\t<tr><th scope=row>2</th><td>TTT</td><td>F</td></tr>\n",
              "\t<tr><th scope=row>3</th><td>GTT</td><td>V</td></tr>\n",
              "\t<tr><th scope=row>4</th><td>TTT</td><td>F</td></tr>\n",
              "\t<tr><th scope=row>6</th><td>GTT</td><td>V</td></tr>\n",
              "\t<tr><th scope=row>7</th><td>TTA</td><td>L</td></tr>\n",
              "\t<tr><th scope=row>8</th><td>TTG</td><td>L</td></tr>\n",
              "\t<tr><th scope=row>9</th><td>CCA</td><td>P</td></tr>\n",
              "\t<tr><th scope=row>10</th><td>CTA</td><td>L</td></tr>\n",
              "\t<tr><th scope=row>11</th><td>GTC</td><td>V</td></tr>\n",
              "\t<tr><th scope=row>12</th><td>TTT</td><td>F</td></tr>\n",
              "\t<tr><th scope=row>13</th><td>AGT</td><td>S</td></tr>\n",
              "\t<tr><th scope=row>14</th><td>CAG</td><td>Q</td></tr>\n",
              "\t<tr><th scope=row>15</th><td>TGT</td><td>C</td></tr>\n",
              "\t<tr><th scope=row>16</th><td>GTT</td><td>V</td></tr>\n",
              "\t<tr><th scope=row>17</th><td>AAT</td><td>N</td></tr>\n",
              "\t<tr><th scope=row>19</th><td>ACA</td><td>T</td></tr>\n",
              "\t<tr><th scope=row>20</th><td>ACC</td><td>T</td></tr>\n",
              "\t<tr><th scope=row>21</th><td>AGA</td><td>R</td></tr>\n",
              "\t<tr><th scope=row>22</th><td>ACT</td><td>T</td></tr>\n",
              "\t<tr><th scope=row>23</th><td>CAA</td><td>Q</td></tr>\n",
              "\t<tr><th scope=row>24</th><td>TTA</td><td>L</td></tr>\n",
              "\t<tr><th scope=row>25</th><td>CCC</td><td>P</td></tr>\n",
              "\t<tr><th scope=row>26</th><td>CCT</td><td>P</td></tr>\n",
              "\t<tr><th scope=row>27</th><td>GCA</td><td>A</td></tr>\n",
              "\t<tr><th scope=row>28</th><td>TAC</td><td>Y</td></tr>\n",
              "\t<tr><th scope=row>29</th><td>ACT</td><td>T</td></tr>\n",
              "\t<tr><th scope=row>30</th><td>AAT</td><td>N</td></tr>\n",
              "\t<tr><th scope=row>31</th><td>TCT</td><td>S</td></tr>\n",
              "\t<tr><th scope=row>32</th><td>TTC</td><td>F</td></tr>\n",
              "\t<tr><th scope=row>⋮</th><td>⋮</td><td>⋮</td></tr>\n",
              "\t<tr><th scope=row>1245</th><td>AAG</td><td>K  </td></tr>\n",
              "\t<tr><th scope=row>1246</th><td>GGC</td><td>G  </td></tr>\n",
              "\t<tr><th scope=row>1247</th><td>TGT</td><td>C  </td></tr>\n",
              "\t<tr><th scope=row>1248</th><td>TGT</td><td>C  </td></tr>\n",
              "\t<tr><th scope=row>1249</th><td>TCT</td><td>S  </td></tr>\n",
              "\t<tr><th scope=row>1250</th><td>TGT</td><td>C  </td></tr>\n",
              "\t<tr><th scope=row>1251</th><td>GGA</td><td>G  </td></tr>\n",
              "\t<tr><th scope=row>1252</th><td>TCC</td><td>S  </td></tr>\n",
              "\t<tr><th scope=row>1253</th><td>TGC</td><td>C  </td></tr>\n",
              "\t<tr><th scope=row>1254</th><td>TGC</td><td>C  </td></tr>\n",
              "\t<tr><th scope=row>1255</th><td>AAA</td><td>K  </td></tr>\n",
              "\t<tr><th scope=row>1256</th><td>TTT</td><td>F  </td></tr>\n",
              "\t<tr><th scope=row>1257</th><td>GAT</td><td>D  </td></tr>\n",
              "\t<tr><th scope=row>1258</th><td>GAA</td><td>E  </td></tr>\n",
              "\t<tr><th scope=row>1259</th><td>GAC</td><td>D  </td></tr>\n",
              "\t<tr><th scope=row>1260</th><td>GAC</td><td>D  </td></tr>\n",
              "\t<tr><th scope=row>1261</th><td>TCT</td><td>S  </td></tr>\n",
              "\t<tr><th scope=row>1262</th><td>GAG</td><td>E  </td></tr>\n",
              "\t<tr><th scope=row>1263</th><td>CCA</td><td>P  </td></tr>\n",
              "\t<tr><th scope=row>1264</th><td>GTG</td><td>V  </td></tr>\n",
              "\t<tr><th scope=row>1265</th><td>CTC</td><td>L  </td></tr>\n",
              "\t<tr><th scope=row>1266</th><td>AAA</td><td>K  </td></tr>\n",
              "\t<tr><th scope=row>1267</th><td>GGA</td><td>G  </td></tr>\n",
              "\t<tr><th scope=row>1268</th><td>GTC</td><td>V  </td></tr>\n",
              "\t<tr><th scope=row>1269</th><td>AAA</td><td>K  </td></tr>\n",
              "\t<tr><th scope=row>1270</th><td>TTA</td><td>L  </td></tr>\n",
              "\t<tr><th scope=row>1271</th><td>CAT</td><td>H  </td></tr>\n",
              "\t<tr><th scope=row>1272</th><td>TAC</td><td>Y  </td></tr>\n",
              "\t<tr><th scope=row>1273</th><td>ACA</td><td>T  </td></tr>\n",
              "\t<tr><th scope=row>1274</th><td>TAA</td><td>End</td></tr>\n",
              "</tbody>\n",
              "</table>\n"
            ],
            "text/markdown": "\nA data.frame: 1238 × 2\n\n| <!--/--> | Codon &lt;chr&gt; | AminoAcid &lt;chr&gt; |\n|---|---|---|\n| 1 | ATG | M |\n| 2 | TTT | F |\n| 3 | GTT | V |\n| 4 | TTT | F |\n| 6 | GTT | V |\n| 7 | TTA | L |\n| 8 | TTG | L |\n| 9 | CCA | P |\n| 10 | CTA | L |\n| 11 | GTC | V |\n| 12 | TTT | F |\n| 13 | AGT | S |\n| 14 | CAG | Q |\n| 15 | TGT | C |\n| 16 | GTT | V |\n| 17 | AAT | N |\n| 19 | ACA | T |\n| 20 | ACC | T |\n| 21 | AGA | R |\n| 22 | ACT | T |\n| 23 | CAA | Q |\n| 24 | TTA | L |\n| 25 | CCC | P |\n| 26 | CCT | P |\n| 27 | GCA | A |\n| 28 | TAC | Y |\n| 29 | ACT | T |\n| 30 | AAT | N |\n| 31 | TCT | S |\n| 32 | TTC | F |\n| ⋮ | ⋮ | ⋮ |\n| 1245 | AAG | K   |\n| 1246 | GGC | G   |\n| 1247 | TGT | C   |\n| 1248 | TGT | C   |\n| 1249 | TCT | S   |\n| 1250 | TGT | C   |\n| 1251 | GGA | G   |\n| 1252 | TCC | S   |\n| 1253 | TGC | C   |\n| 1254 | TGC | C   |\n| 1255 | AAA | K   |\n| 1256 | TTT | F   |\n| 1257 | GAT | D   |\n| 1258 | GAA | E   |\n| 1259 | GAC | D   |\n| 1260 | GAC | D   |\n| 1261 | TCT | S   |\n| 1262 | GAG | E   |\n| 1263 | CCA | P   |\n| 1264 | GTG | V   |\n| 1265 | CTC | L   |\n| 1266 | AAA | K   |\n| 1267 | GGA | G   |\n| 1268 | GTC | V   |\n| 1269 | AAA | K   |\n| 1270 | TTA | L   |\n| 1271 | CAT | H   |\n| 1272 | TAC | Y   |\n| 1273 | ACA | T   |\n| 1274 | TAA | End |\n\n",
            "text/latex": "A data.frame: 1238 × 2\n\\begin{tabular}{r|ll}\n  & Codon & AminoAcid\\\\\n  & <chr> & <chr>\\\\\n\\hline\n\t1 & ATG & M\\\\\n\t2 & TTT & F\\\\\n\t3 & GTT & V\\\\\n\t4 & TTT & F\\\\\n\t6 & GTT & V\\\\\n\t7 & TTA & L\\\\\n\t8 & TTG & L\\\\\n\t9 & CCA & P\\\\\n\t10 & CTA & L\\\\\n\t11 & GTC & V\\\\\n\t12 & TTT & F\\\\\n\t13 & AGT & S\\\\\n\t14 & CAG & Q\\\\\n\t15 & TGT & C\\\\\n\t16 & GTT & V\\\\\n\t17 & AAT & N\\\\\n\t19 & ACA & T\\\\\n\t20 & ACC & T\\\\\n\t21 & AGA & R\\\\\n\t22 & ACT & T\\\\\n\t23 & CAA & Q\\\\\n\t24 & TTA & L\\\\\n\t25 & CCC & P\\\\\n\t26 & CCT & P\\\\\n\t27 & GCA & A\\\\\n\t28 & TAC & Y\\\\\n\t29 & ACT & T\\\\\n\t30 & AAT & N\\\\\n\t31 & TCT & S\\\\\n\t32 & TTC & F\\\\\n\t⋮ & ⋮ & ⋮\\\\\n\t1245 & AAG & K  \\\\\n\t1246 & GGC & G  \\\\\n\t1247 & TGT & C  \\\\\n\t1248 & TGT & C  \\\\\n\t1249 & TCT & S  \\\\\n\t1250 & TGT & C  \\\\\n\t1251 & GGA & G  \\\\\n\t1252 & TCC & S  \\\\\n\t1253 & TGC & C  \\\\\n\t1254 & TGC & C  \\\\\n\t1255 & AAA & K  \\\\\n\t1256 & TTT & F  \\\\\n\t1257 & GAT & D  \\\\\n\t1258 & GAA & E  \\\\\n\t1259 & GAC & D  \\\\\n\t1260 & GAC & D  \\\\\n\t1261 & TCT & S  \\\\\n\t1262 & GAG & E  \\\\\n\t1263 & CCA & P  \\\\\n\t1264 & GTG & V  \\\\\n\t1265 & CTC & L  \\\\\n\t1266 & AAA & K  \\\\\n\t1267 & GGA & G  \\\\\n\t1268 & GTC & V  \\\\\n\t1269 & AAA & K  \\\\\n\t1270 & TTA & L  \\\\\n\t1271 & CAT & H  \\\\\n\t1272 & TAC & Y  \\\\\n\t1273 & ACA & T  \\\\\n\t1274 & TAA & End\\\\\n\\end{tabular}\n",
            "text/plain": [
              "     Codon AminoAcid\n",
              "1    ATG   M        \n",
              "2    TTT   F        \n",
              "3    GTT   V        \n",
              "4    TTT   F        \n",
              "6    GTT   V        \n",
              "7    TTA   L        \n",
              "8    TTG   L        \n",
              "9    CCA   P        \n",
              "10   CTA   L        \n",
              "11   GTC   V        \n",
              "12   TTT   F        \n",
              "13   AGT   S        \n",
              "14   CAG   Q        \n",
              "15   TGT   C        \n",
              "16   GTT   V        \n",
              "17   AAT   N        \n",
              "19   ACA   T        \n",
              "20   ACC   T        \n",
              "21   AGA   R        \n",
              "22   ACT   T        \n",
              "23   CAA   Q        \n",
              "24   TTA   L        \n",
              "25   CCC   P        \n",
              "26   CCT   P        \n",
              "27   GCA   A        \n",
              "28   TAC   Y        \n",
              "29   ACT   T        \n",
              "30   AAT   N        \n",
              "31   TCT   S        \n",
              "32   TTC   F        \n",
              "⋮    ⋮     ⋮        \n",
              "1245 AAG   K        \n",
              "1246 GGC   G        \n",
              "1247 TGT   C        \n",
              "1248 TGT   C        \n",
              "1249 TCT   S        \n",
              "1250 TGT   C        \n",
              "1251 GGA   G        \n",
              "1252 TCC   S        \n",
              "1253 TGC   C        \n",
              "1254 TGC   C        \n",
              "1255 AAA   K        \n",
              "1256 TTT   F        \n",
              "1257 GAT   D        \n",
              "1258 GAA   E        \n",
              "1259 GAC   D        \n",
              "1260 GAC   D        \n",
              "1261 TCT   S        \n",
              "1262 GAG   E        \n",
              "1263 CCA   P        \n",
              "1264 GTG   V        \n",
              "1265 CTC   L        \n",
              "1266 AAA   K        \n",
              "1267 GGA   G        \n",
              "1268 GTC   V        \n",
              "1269 AAA   K        \n",
              "1270 TTA   L        \n",
              "1271 CAT   H        \n",
              "1272 TAC   Y        \n",
              "1273 ACA   T        \n",
              "1274 TAA   End      "
            ]
          },
          "metadata": {}
        }
      ]
    },
    {
      "cell_type": "markdown",
      "source": [
        "After filtering out codons with \"NA\" values, the number of codons remaining is 1238 (which indicates (1274-1238=36) 36 codons with name \"NA\" are removed from the list."
      ],
      "metadata": {
        "id": "8j41OL-dZty4"
      }
    },
    {
      "cell_type": "code",
      "source": [
        "# Calculation of the frequency of each codon\n",
        "codon_usage_1 <- as.data.frame(table(results_1$Codon, results_1$AminoAcid))\n",
        "colnames(codon_usage_1) <- c(\"Codon\", \"AminoAcid\", \"Count\")"
      ],
      "metadata": {
        "id": "6dvHXZeaMhCk"
      },
      "execution_count": null,
      "outputs": []
    },
    {
      "cell_type": "code",
      "source": [
        "# Load the codon frequency for the first sequence\n",
        "codon_usage_1"
      ],
      "metadata": {
        "colab": {
          "base_uri": "https://localhost:8080/",
          "height": 2010
        },
        "id": "XWFdUnjrM6LC",
        "outputId": "62245f31-1a8b-4983-9022-85d318ba5642"
      },
      "execution_count": null,
      "outputs": [
        {
          "output_type": "display_data",
          "data": {
            "text/html": [
              "<table class=\"dataframe\">\n",
              "<caption>A data.frame: 1239 × 3</caption>\n",
              "<thead>\n",
              "\t<tr><th scope=col>Codon</th><th scope=col>AminoAcid</th><th scope=col>Count</th></tr>\n",
              "\t<tr><th scope=col>&lt;fct&gt;</th><th scope=col>&lt;fct&gt;</th><th scope=col>&lt;int&gt;</th></tr>\n",
              "</thead>\n",
              "<tbody>\n",
              "\t<tr><td>AAA</td><td>A</td><td>0</td></tr>\n",
              "\t<tr><td>AAC</td><td>A</td><td>0</td></tr>\n",
              "\t<tr><td>AAG</td><td>A</td><td>0</td></tr>\n",
              "\t<tr><td>AAT</td><td>A</td><td>0</td></tr>\n",
              "\t<tr><td>ACA</td><td>A</td><td>0</td></tr>\n",
              "\t<tr><td>ACC</td><td>A</td><td>0</td></tr>\n",
              "\t<tr><td>ACG</td><td>A</td><td>0</td></tr>\n",
              "\t<tr><td>ACT</td><td>A</td><td>0</td></tr>\n",
              "\t<tr><td>AGA</td><td>A</td><td>0</td></tr>\n",
              "\t<tr><td>AGC</td><td>A</td><td>0</td></tr>\n",
              "\t<tr><td>AGG</td><td>A</td><td>0</td></tr>\n",
              "\t<tr><td>AGT</td><td>A</td><td>0</td></tr>\n",
              "\t<tr><td>ATA</td><td>A</td><td>0</td></tr>\n",
              "\t<tr><td>ATC</td><td>A</td><td>0</td></tr>\n",
              "\t<tr><td>ATG</td><td>A</td><td>0</td></tr>\n",
              "\t<tr><td>ATT</td><td>A</td><td>0</td></tr>\n",
              "\t<tr><td>CAA</td><td>A</td><td>0</td></tr>\n",
              "\t<tr><td>CAC</td><td>A</td><td>0</td></tr>\n",
              "\t<tr><td>CAG</td><td>A</td><td>0</td></tr>\n",
              "\t<tr><td>CAT</td><td>A</td><td>0</td></tr>\n",
              "\t<tr><td>CCA</td><td>A</td><td>0</td></tr>\n",
              "\t<tr><td>CCC</td><td>A</td><td>0</td></tr>\n",
              "\t<tr><td>CCT</td><td>A</td><td>0</td></tr>\n",
              "\t<tr><td>CGC</td><td>A</td><td>0</td></tr>\n",
              "\t<tr><td>CGG</td><td>A</td><td>0</td></tr>\n",
              "\t<tr><td>CGT</td><td>A</td><td>0</td></tr>\n",
              "\t<tr><td>CTA</td><td>A</td><td>0</td></tr>\n",
              "\t<tr><td>CTC</td><td>A</td><td>0</td></tr>\n",
              "\t<tr><td>CTG</td><td>A</td><td>0</td></tr>\n",
              "\t<tr><td>GAA</td><td>A</td><td>0</td></tr>\n",
              "\t<tr><td>⋮</td><td>⋮</td><td>⋮</td></tr>\n",
              "\t<tr><td>GAA</td><td>Y</td><td> 0</td></tr>\n",
              "\t<tr><td>GAC</td><td>Y</td><td> 0</td></tr>\n",
              "\t<tr><td>GAG</td><td>Y</td><td> 0</td></tr>\n",
              "\t<tr><td>GAT</td><td>Y</td><td> 0</td></tr>\n",
              "\t<tr><td>GCA</td><td>Y</td><td> 0</td></tr>\n",
              "\t<tr><td>GCC</td><td>Y</td><td> 0</td></tr>\n",
              "\t<tr><td>GCG</td><td>Y</td><td> 0</td></tr>\n",
              "\t<tr><td>GCT</td><td>Y</td><td> 0</td></tr>\n",
              "\t<tr><td>GGA</td><td>Y</td><td> 0</td></tr>\n",
              "\t<tr><td>GGC</td><td>Y</td><td> 0</td></tr>\n",
              "\t<tr><td>GGG</td><td>Y</td><td> 0</td></tr>\n",
              "\t<tr><td>GGT</td><td>Y</td><td> 0</td></tr>\n",
              "\t<tr><td>GTA</td><td>Y</td><td> 0</td></tr>\n",
              "\t<tr><td>GTC</td><td>Y</td><td> 0</td></tr>\n",
              "\t<tr><td>GTG</td><td>Y</td><td> 0</td></tr>\n",
              "\t<tr><td>GTT</td><td>Y</td><td> 0</td></tr>\n",
              "\t<tr><td>TAA</td><td>Y</td><td> 0</td></tr>\n",
              "\t<tr><td>TAC</td><td>Y</td><td>14</td></tr>\n",
              "\t<tr><td>TAT</td><td>Y</td><td>40</td></tr>\n",
              "\t<tr><td>TCA</td><td>Y</td><td> 0</td></tr>\n",
              "\t<tr><td>TCC</td><td>Y</td><td> 0</td></tr>\n",
              "\t<tr><td>TCG</td><td>Y</td><td> 0</td></tr>\n",
              "\t<tr><td>TCT</td><td>Y</td><td> 0</td></tr>\n",
              "\t<tr><td>TGC</td><td>Y</td><td> 0</td></tr>\n",
              "\t<tr><td>TGG</td><td>Y</td><td> 0</td></tr>\n",
              "\t<tr><td>TGT</td><td>Y</td><td> 0</td></tr>\n",
              "\t<tr><td>TTA</td><td>Y</td><td> 0</td></tr>\n",
              "\t<tr><td>TTC</td><td>Y</td><td> 0</td></tr>\n",
              "\t<tr><td>TTG</td><td>Y</td><td> 0</td></tr>\n",
              "\t<tr><td>TTT</td><td>Y</td><td> 0</td></tr>\n",
              "</tbody>\n",
              "</table>\n"
            ],
            "text/markdown": "\nA data.frame: 1239 × 3\n\n| Codon &lt;fct&gt; | AminoAcid &lt;fct&gt; | Count &lt;int&gt; |\n|---|---|---|\n| AAA | A | 0 |\n| AAC | A | 0 |\n| AAG | A | 0 |\n| AAT | A | 0 |\n| ACA | A | 0 |\n| ACC | A | 0 |\n| ACG | A | 0 |\n| ACT | A | 0 |\n| AGA | A | 0 |\n| AGC | A | 0 |\n| AGG | A | 0 |\n| AGT | A | 0 |\n| ATA | A | 0 |\n| ATC | A | 0 |\n| ATG | A | 0 |\n| ATT | A | 0 |\n| CAA | A | 0 |\n| CAC | A | 0 |\n| CAG | A | 0 |\n| CAT | A | 0 |\n| CCA | A | 0 |\n| CCC | A | 0 |\n| CCT | A | 0 |\n| CGC | A | 0 |\n| CGG | A | 0 |\n| CGT | A | 0 |\n| CTA | A | 0 |\n| CTC | A | 0 |\n| CTG | A | 0 |\n| GAA | A | 0 |\n| ⋮ | ⋮ | ⋮ |\n| GAA | Y |  0 |\n| GAC | Y |  0 |\n| GAG | Y |  0 |\n| GAT | Y |  0 |\n| GCA | Y |  0 |\n| GCC | Y |  0 |\n| GCG | Y |  0 |\n| GCT | Y |  0 |\n| GGA | Y |  0 |\n| GGC | Y |  0 |\n| GGG | Y |  0 |\n| GGT | Y |  0 |\n| GTA | Y |  0 |\n| GTC | Y |  0 |\n| GTG | Y |  0 |\n| GTT | Y |  0 |\n| TAA | Y |  0 |\n| TAC | Y | 14 |\n| TAT | Y | 40 |\n| TCA | Y |  0 |\n| TCC | Y |  0 |\n| TCG | Y |  0 |\n| TCT | Y |  0 |\n| TGC | Y |  0 |\n| TGG | Y |  0 |\n| TGT | Y |  0 |\n| TTA | Y |  0 |\n| TTC | Y |  0 |\n| TTG | Y |  0 |\n| TTT | Y |  0 |\n\n",
            "text/latex": "A data.frame: 1239 × 3\n\\begin{tabular}{lll}\n Codon & AminoAcid & Count\\\\\n <fct> & <fct> & <int>\\\\\n\\hline\n\t AAA & A & 0\\\\\n\t AAC & A & 0\\\\\n\t AAG & A & 0\\\\\n\t AAT & A & 0\\\\\n\t ACA & A & 0\\\\\n\t ACC & A & 0\\\\\n\t ACG & A & 0\\\\\n\t ACT & A & 0\\\\\n\t AGA & A & 0\\\\\n\t AGC & A & 0\\\\\n\t AGG & A & 0\\\\\n\t AGT & A & 0\\\\\n\t ATA & A & 0\\\\\n\t ATC & A & 0\\\\\n\t ATG & A & 0\\\\\n\t ATT & A & 0\\\\\n\t CAA & A & 0\\\\\n\t CAC & A & 0\\\\\n\t CAG & A & 0\\\\\n\t CAT & A & 0\\\\\n\t CCA & A & 0\\\\\n\t CCC & A & 0\\\\\n\t CCT & A & 0\\\\\n\t CGC & A & 0\\\\\n\t CGG & A & 0\\\\\n\t CGT & A & 0\\\\\n\t CTA & A & 0\\\\\n\t CTC & A & 0\\\\\n\t CTG & A & 0\\\\\n\t GAA & A & 0\\\\\n\t ⋮ & ⋮ & ⋮\\\\\n\t GAA & Y &  0\\\\\n\t GAC & Y &  0\\\\\n\t GAG & Y &  0\\\\\n\t GAT & Y &  0\\\\\n\t GCA & Y &  0\\\\\n\t GCC & Y &  0\\\\\n\t GCG & Y &  0\\\\\n\t GCT & Y &  0\\\\\n\t GGA & Y &  0\\\\\n\t GGC & Y &  0\\\\\n\t GGG & Y &  0\\\\\n\t GGT & Y &  0\\\\\n\t GTA & Y &  0\\\\\n\t GTC & Y &  0\\\\\n\t GTG & Y &  0\\\\\n\t GTT & Y &  0\\\\\n\t TAA & Y &  0\\\\\n\t TAC & Y & 14\\\\\n\t TAT & Y & 40\\\\\n\t TCA & Y &  0\\\\\n\t TCC & Y &  0\\\\\n\t TCG & Y &  0\\\\\n\t TCT & Y &  0\\\\\n\t TGC & Y &  0\\\\\n\t TGG & Y &  0\\\\\n\t TGT & Y &  0\\\\\n\t TTA & Y &  0\\\\\n\t TTC & Y &  0\\\\\n\t TTG & Y &  0\\\\\n\t TTT & Y &  0\\\\\n\\end{tabular}\n",
            "text/plain": [
              "     Codon AminoAcid Count\n",
              "1    AAA   A         0    \n",
              "2    AAC   A         0    \n",
              "3    AAG   A         0    \n",
              "4    AAT   A         0    \n",
              "5    ACA   A         0    \n",
              "6    ACC   A         0    \n",
              "7    ACG   A         0    \n",
              "8    ACT   A         0    \n",
              "9    AGA   A         0    \n",
              "10   AGC   A         0    \n",
              "11   AGG   A         0    \n",
              "12   AGT   A         0    \n",
              "13   ATA   A         0    \n",
              "14   ATC   A         0    \n",
              "15   ATG   A         0    \n",
              "16   ATT   A         0    \n",
              "17   CAA   A         0    \n",
              "18   CAC   A         0    \n",
              "19   CAG   A         0    \n",
              "20   CAT   A         0    \n",
              "21   CCA   A         0    \n",
              "22   CCC   A         0    \n",
              "23   CCT   A         0    \n",
              "24   CGC   A         0    \n",
              "25   CGG   A         0    \n",
              "26   CGT   A         0    \n",
              "27   CTA   A         0    \n",
              "28   CTC   A         0    \n",
              "29   CTG   A         0    \n",
              "30   GAA   A         0    \n",
              "⋮    ⋮     ⋮         ⋮    \n",
              "1210 GAA   Y          0   \n",
              "1211 GAC   Y          0   \n",
              "1212 GAG   Y          0   \n",
              "1213 GAT   Y          0   \n",
              "1214 GCA   Y          0   \n",
              "1215 GCC   Y          0   \n",
              "1216 GCG   Y          0   \n",
              "1217 GCT   Y          0   \n",
              "1218 GGA   Y          0   \n",
              "1219 GGC   Y          0   \n",
              "1220 GGG   Y          0   \n",
              "1221 GGT   Y          0   \n",
              "1222 GTA   Y          0   \n",
              "1223 GTC   Y          0   \n",
              "1224 GTG   Y          0   \n",
              "1225 GTT   Y          0   \n",
              "1226 TAA   Y          0   \n",
              "1227 TAC   Y         14   \n",
              "1228 TAT   Y         40   \n",
              "1229 TCA   Y          0   \n",
              "1230 TCC   Y          0   \n",
              "1231 TCG   Y          0   \n",
              "1232 TCT   Y          0   \n",
              "1233 TGC   Y          0   \n",
              "1234 TGG   Y          0   \n",
              "1235 TGT   Y          0   \n",
              "1236 TTA   Y          0   \n",
              "1237 TTC   Y          0   \n",
              "1238 TTG   Y          0   \n",
              "1239 TTT   Y          0   "
            ]
          },
          "metadata": {}
        }
      ]
    },
    {
      "cell_type": "code",
      "source": [
        "# Calculation of the total number of codons\n",
        "codon_usage_1$Count"
      ],
      "metadata": {
        "colab": {
          "base_uri": "https://localhost:8080/",
          "height": 277
        },
        "id": "xE8_pCcpO5QQ",
        "outputId": "34fd89c8-eca8-4938-81fb-9b99e8921932"
      },
      "execution_count": null,
      "outputs": [
        {
          "output_type": "display_data",
          "data": {
            "text/html": [
              "<style>\n",
              ".list-inline {list-style: none; margin:0; padding: 0}\n",
              ".list-inline>li {display: inline-block}\n",
              ".list-inline>li:not(:last-child)::after {content: \"\\00b7\"; padding: 0 .5ex}\n",
              "</style>\n",
              "<ol class=list-inline><li>0</li><li>0</li><li>0</li><li>0</li><li>0</li><li>0</li><li>0</li><li>0</li><li>0</li><li>0</li><li>0</li><li>0</li><li>0</li><li>0</li><li>0</li><li>0</li><li>0</li><li>0</li><li>0</li><li>0</li><li>0</li><li>0</li><li>0</li><li>0</li><li>0</li><li>0</li><li>0</li><li>0</li><li>0</li><li>0</li><li>0</li><li>0</li><li>0</li><li>27</li><li>8</li><li>2</li><li>42</li><li>0</li><li>0</li><li>0</li><li>0</li><li>0</li><li>0</li><li>0</li><li>0</li><li>0</li><li>0</li><li>0</li><li>0</li><li>0</li><li>0</li><li>0</li><li>0</li><li>0</li><li>0</li><li>0</li><li>0</li><li>0</li><li>0</li><li>0</li><li>0</li><li>0</li><li>0</li><li>0</li><li>0</li><li>0</li><li>0</li><li>0</li><li>0</li><li>0</li><li>0</li><li>0</li><li>0</li><li>0</li><li>0</li><li>0</li><li>0</li><li>0</li><li>0</li><li>0</li><li>0</li><li>0</li><li>0</li><li>0</li><li>0</li><li>0</li><li>0</li><li>0</li><li>0</li><li>0</li><li>0</li><li>0</li><li>0</li><li>0</li><li>0</li><li>0</li><li>0</li><li>0</li><li>0</li><li>0</li><li>0</li><li>0</li><li>0</li><li>0</li><li>0</li><li>0</li><li>0</li><li>0</li><li>0</li><li>0</li><li>0</li><li>12</li><li>0</li><li>28</li><li>0</li><li>0</li><li>0</li><li>0</li><li>0</li><li>0</li><li>0</li><li>0</li><li>0</li><li>0</li><li>0</li><li>0</li><li>0</li><li>0</li><li>0</li><li>0</li><li>0</li><li>0</li><li>0</li><li>0</li><li>0</li><li>0</li><li>0</li><li>0</li><li>0</li><li>0</li><li>0</li><li>0</li><li>0</li><li>0</li><li>0</li><li>0</li><li>0</li><li>0</li><li>19</li><li>0</li><li>42</li><li>0</li><li>0</li><li>0</li><li>0</li><li>0</li><li>0</li><li>0</li><li>0</li><li>0</li><li>0</li><li>0</li><li>0</li><li>0</li><li>0</li><li>0</li><li>0</li><li>0</li><li>0</li><li>0</li><li>0</li><li>0</li><li>0</li><li>0</li><li>0</li><li>0</li><li>0</li><li>0</li><li>0</li><li>0</li><li>0</li><li>0</li><li>0</li><li>0</li><li>0</li><li>0</li><li>0</li><li>0</li><li>0</li><li>0</li><li>0</li><li>0</li><li>0</li><li>0</li><li>0</li><li>0</li><li>0</li><li>0</li><li>0</li><li>0</li><li>⋯</li><li>0</li><li>0</li><li>0</li><li>0</li><li>0</li><li>0</li><li>0</li><li>0</li><li>0</li><li>0</li><li>0</li><li>0</li><li>0</li><li>0</li><li>0</li><li>0</li><li>0</li><li>0</li><li>0</li><li>0</li><li>0</li><li>0</li><li>0</li><li>0</li><li>0</li><li>0</li><li>0</li><li>0</li><li>0</li><li>0</li><li>0</li><li>0</li><li>0</li><li>0</li><li>0</li><li>0</li><li>0</li><li>0</li><li>0</li><li>0</li><li>0</li><li>0</li><li>0</li><li>0</li><li>0</li><li>0</li><li>0</li><li>0</li><li>0</li><li>0</li><li>0</li><li>0</li><li>0</li><li>0</li><li>0</li><li>0</li><li>0</li><li>0</li><li>0</li><li>0</li><li>0</li><li>0</li><li>0</li><li>0</li><li>15</li><li>21</li><li>13</li><li>48</li><li>0</li><li>0</li><li>0</li><li>0</li><li>0</li><li>0</li><li>0</li><li>0</li><li>0</li><li>0</li><li>0</li><li>0</li><li>0</li><li>0</li><li>0</li><li>0</li><li>0</li><li>0</li><li>0</li><li>0</li><li>0</li><li>0</li><li>0</li><li>0</li><li>0</li><li>0</li><li>0</li><li>0</li><li>0</li><li>0</li><li>0</li><li>0</li><li>0</li><li>0</li><li>0</li><li>0</li><li>0</li><li>0</li><li>0</li><li>0</li><li>0</li><li>0</li><li>0</li><li>0</li><li>0</li><li>0</li><li>0</li><li>0</li><li>0</li><li>0</li><li>0</li><li>0</li><li>0</li><li>0</li><li>0</li><li>0</li><li>0</li><li>0</li><li>0</li><li>0</li><li>0</li><li>0</li><li>0</li><li>0</li><li>0</li><li>0</li><li>0</li><li>12</li><li>0</li><li>0</li><li>0</li><li>0</li><li>0</li><li>0</li><li>0</li><li>0</li><li>0</li><li>0</li><li>0</li><li>0</li><li>0</li><li>0</li><li>0</li><li>0</li><li>0</li><li>0</li><li>0</li><li>0</li><li>0</li><li>0</li><li>0</li><li>0</li><li>0</li><li>0</li><li>0</li><li>0</li><li>0</li><li>0</li><li>0</li><li>0</li><li>0</li><li>0</li><li>0</li><li>0</li><li>0</li><li>0</li><li>0</li><li>0</li><li>0</li><li>0</li><li>0</li><li>0</li><li>0</li><li>0</li><li>0</li><li>0</li><li>0</li><li>0</li><li>0</li><li>14</li><li>40</li><li>0</li><li>0</li><li>0</li><li>0</li><li>0</li><li>0</li><li>0</li><li>0</li><li>0</li><li>0</li><li>0</li></ol>\n"
            ],
            "text/markdown": "1. 0\n2. 0\n3. 0\n4. 0\n5. 0\n6. 0\n7. 0\n8. 0\n9. 0\n10. 0\n11. 0\n12. 0\n13. 0\n14. 0\n15. 0\n16. 0\n17. 0\n18. 0\n19. 0\n20. 0\n21. 0\n22. 0\n23. 0\n24. 0\n25. 0\n26. 0\n27. 0\n28. 0\n29. 0\n30. 0\n31. 0\n32. 0\n33. 0\n34. 27\n35. 8\n36. 2\n37. 42\n38. 0\n39. 0\n40. 0\n41. 0\n42. 0\n43. 0\n44. 0\n45. 0\n46. 0\n47. 0\n48. 0\n49. 0\n50. 0\n51. 0\n52. 0\n53. 0\n54. 0\n55. 0\n56. 0\n57. 0\n58. 0\n59. 0\n60. 0\n61. 0\n62. 0\n63. 0\n64. 0\n65. 0\n66. 0\n67. 0\n68. 0\n69. 0\n70. 0\n71. 0\n72. 0\n73. 0\n74. 0\n75. 0\n76. 0\n77. 0\n78. 0\n79. 0\n80. 0\n81. 0\n82. 0\n83. 0\n84. 0\n85. 0\n86. 0\n87. 0\n88. 0\n89. 0\n90. 0\n91. 0\n92. 0\n93. 0\n94. 0\n95. 0\n96. 0\n97. 0\n98. 0\n99. 0\n100. 0\n101. 0\n102. 0\n103. 0\n104. 0\n105. 0\n106. 0\n107. 0\n108. 0\n109. 0\n110. 0\n111. 0\n112. 12\n113. 0\n114. 28\n115. 0\n116. 0\n117. 0\n118. 0\n119. 0\n120. 0\n121. 0\n122. 0\n123. 0\n124. 0\n125. 0\n126. 0\n127. 0\n128. 0\n129. 0\n130. 0\n131. 0\n132. 0\n133. 0\n134. 0\n135. 0\n136. 0\n137. 0\n138. 0\n139. 0\n140. 0\n141. 0\n142. 0\n143. 0\n144. 0\n145. 0\n146. 0\n147. 0\n148. 0\n149. 19\n150. 0\n151. 42\n152. 0\n153. 0\n154. 0\n155. 0\n156. 0\n157. 0\n158. 0\n159. 0\n160. 0\n161. 0\n162. 0\n163. 0\n164. 0\n165. 0\n166. 0\n167. 0\n168. 0\n169. 0\n170. 0\n171. 0\n172. 0\n173. 0\n174. 0\n175. 0\n176. 0\n177. 0\n178. 0\n179. 0\n180. 0\n181. 0\n182. 0\n183. 0\n184. 0\n185. 0\n186. 0\n187. 0\n188. 0\n189. 0\n190. 0\n191. 0\n192. 0\n193. 0\n194. 0\n195. 0\n196. 0\n197. 0\n198. 0\n199. 0\n200. 0\n201. ⋯\n202. 0\n203. 0\n204. 0\n205. 0\n206. 0\n207. 0\n208. 0\n209. 0\n210. 0\n211. 0\n212. 0\n213. 0\n214. 0\n215. 0\n216. 0\n217. 0\n218. 0\n219. 0\n220. 0\n221. 0\n222. 0\n223. 0\n224. 0\n225. 0\n226. 0\n227. 0\n228. 0\n229. 0\n230. 0\n231. 0\n232. 0\n233. 0\n234. 0\n235. 0\n236. 0\n237. 0\n238. 0\n239. 0\n240. 0\n241. 0\n242. 0\n243. 0\n244. 0\n245. 0\n246. 0\n247. 0\n248. 0\n249. 0\n250. 0\n251. 0\n252. 0\n253. 0\n254. 0\n255. 0\n256. 0\n257. 0\n258. 0\n259. 0\n260. 0\n261. 0\n262. 0\n263. 0\n264. 0\n265. 0\n266. 15\n267. 21\n268. 13\n269. 48\n270. 0\n271. 0\n272. 0\n273. 0\n274. 0\n275. 0\n276. 0\n277. 0\n278. 0\n279. 0\n280. 0\n281. 0\n282. 0\n283. 0\n284. 0\n285. 0\n286. 0\n287. 0\n288. 0\n289. 0\n290. 0\n291. 0\n292. 0\n293. 0\n294. 0\n295. 0\n296. 0\n297. 0\n298. 0\n299. 0\n300. 0\n301. 0\n302. 0\n303. 0\n304. 0\n305. 0\n306. 0\n307. 0\n308. 0\n309. 0\n310. 0\n311. 0\n312. 0\n313. 0\n314. 0\n315. 0\n316. 0\n317. 0\n318. 0\n319. 0\n320. 0\n321. 0\n322. 0\n323. 0\n324. 0\n325. 0\n326. 0\n327. 0\n328. 0\n329. 0\n330. 0\n331. 0\n332. 0\n333. 0\n334. 0\n335. 0\n336. 0\n337. 12\n338. 0\n339. 0\n340. 0\n341. 0\n342. 0\n343. 0\n344. 0\n345. 0\n346. 0\n347. 0\n348. 0\n349. 0\n350. 0\n351. 0\n352. 0\n353. 0\n354. 0\n355. 0\n356. 0\n357. 0\n358. 0\n359. 0\n360. 0\n361. 0\n362. 0\n363. 0\n364. 0\n365. 0\n366. 0\n367. 0\n368. 0\n369. 0\n370. 0\n371. 0\n372. 0\n373. 0\n374. 0\n375. 0\n376. 0\n377. 0\n378. 0\n379. 0\n380. 0\n381. 0\n382. 0\n383. 0\n384. 0\n385. 0\n386. 0\n387. 0\n388. 0\n389. 14\n390. 40\n391. 0\n392. 0\n393. 0\n394. 0\n395. 0\n396. 0\n397. 0\n398. 0\n399. 0\n400. 0\n401. 0\n\n\n",
            "text/latex": "\\begin{enumerate*}\n\\item 0\n\\item 0\n\\item 0\n\\item 0\n\\item 0\n\\item 0\n\\item 0\n\\item 0\n\\item 0\n\\item 0\n\\item 0\n\\item 0\n\\item 0\n\\item 0\n\\item 0\n\\item 0\n\\item 0\n\\item 0\n\\item 0\n\\item 0\n\\item 0\n\\item 0\n\\item 0\n\\item 0\n\\item 0\n\\item 0\n\\item 0\n\\item 0\n\\item 0\n\\item 0\n\\item 0\n\\item 0\n\\item 0\n\\item 27\n\\item 8\n\\item 2\n\\item 42\n\\item 0\n\\item 0\n\\item 0\n\\item 0\n\\item 0\n\\item 0\n\\item 0\n\\item 0\n\\item 0\n\\item 0\n\\item 0\n\\item 0\n\\item 0\n\\item 0\n\\item 0\n\\item 0\n\\item 0\n\\item 0\n\\item 0\n\\item 0\n\\item 0\n\\item 0\n\\item 0\n\\item 0\n\\item 0\n\\item 0\n\\item 0\n\\item 0\n\\item 0\n\\item 0\n\\item 0\n\\item 0\n\\item 0\n\\item 0\n\\item 0\n\\item 0\n\\item 0\n\\item 0\n\\item 0\n\\item 0\n\\item 0\n\\item 0\n\\item 0\n\\item 0\n\\item 0\n\\item 0\n\\item 0\n\\item 0\n\\item 0\n\\item 0\n\\item 0\n\\item 0\n\\item 0\n\\item 0\n\\item 0\n\\item 0\n\\item 0\n\\item 0\n\\item 0\n\\item 0\n\\item 0\n\\item 0\n\\item 0\n\\item 0\n\\item 0\n\\item 0\n\\item 0\n\\item 0\n\\item 0\n\\item 0\n\\item 0\n\\item 0\n\\item 0\n\\item 0\n\\item 12\n\\item 0\n\\item 28\n\\item 0\n\\item 0\n\\item 0\n\\item 0\n\\item 0\n\\item 0\n\\item 0\n\\item 0\n\\item 0\n\\item 0\n\\item 0\n\\item 0\n\\item 0\n\\item 0\n\\item 0\n\\item 0\n\\item 0\n\\item 0\n\\item 0\n\\item 0\n\\item 0\n\\item 0\n\\item 0\n\\item 0\n\\item 0\n\\item 0\n\\item 0\n\\item 0\n\\item 0\n\\item 0\n\\item 0\n\\item 0\n\\item 0\n\\item 0\n\\item 19\n\\item 0\n\\item 42\n\\item 0\n\\item 0\n\\item 0\n\\item 0\n\\item 0\n\\item 0\n\\item 0\n\\item 0\n\\item 0\n\\item 0\n\\item 0\n\\item 0\n\\item 0\n\\item 0\n\\item 0\n\\item 0\n\\item 0\n\\item 0\n\\item 0\n\\item 0\n\\item 0\n\\item 0\n\\item 0\n\\item 0\n\\item 0\n\\item 0\n\\item 0\n\\item 0\n\\item 0\n\\item 0\n\\item 0\n\\item 0\n\\item 0\n\\item 0\n\\item 0\n\\item 0\n\\item 0\n\\item 0\n\\item 0\n\\item 0\n\\item 0\n\\item 0\n\\item 0\n\\item 0\n\\item 0\n\\item 0\n\\item 0\n\\item 0\n\\item 0\n\\item ⋯\n\\item 0\n\\item 0\n\\item 0\n\\item 0\n\\item 0\n\\item 0\n\\item 0\n\\item 0\n\\item 0\n\\item 0\n\\item 0\n\\item 0\n\\item 0\n\\item 0\n\\item 0\n\\item 0\n\\item 0\n\\item 0\n\\item 0\n\\item 0\n\\item 0\n\\item 0\n\\item 0\n\\item 0\n\\item 0\n\\item 0\n\\item 0\n\\item 0\n\\item 0\n\\item 0\n\\item 0\n\\item 0\n\\item 0\n\\item 0\n\\item 0\n\\item 0\n\\item 0\n\\item 0\n\\item 0\n\\item 0\n\\item 0\n\\item 0\n\\item 0\n\\item 0\n\\item 0\n\\item 0\n\\item 0\n\\item 0\n\\item 0\n\\item 0\n\\item 0\n\\item 0\n\\item 0\n\\item 0\n\\item 0\n\\item 0\n\\item 0\n\\item 0\n\\item 0\n\\item 0\n\\item 0\n\\item 0\n\\item 0\n\\item 0\n\\item 15\n\\item 21\n\\item 13\n\\item 48\n\\item 0\n\\item 0\n\\item 0\n\\item 0\n\\item 0\n\\item 0\n\\item 0\n\\item 0\n\\item 0\n\\item 0\n\\item 0\n\\item 0\n\\item 0\n\\item 0\n\\item 0\n\\item 0\n\\item 0\n\\item 0\n\\item 0\n\\item 0\n\\item 0\n\\item 0\n\\item 0\n\\item 0\n\\item 0\n\\item 0\n\\item 0\n\\item 0\n\\item 0\n\\item 0\n\\item 0\n\\item 0\n\\item 0\n\\item 0\n\\item 0\n\\item 0\n\\item 0\n\\item 0\n\\item 0\n\\item 0\n\\item 0\n\\item 0\n\\item 0\n\\item 0\n\\item 0\n\\item 0\n\\item 0\n\\item 0\n\\item 0\n\\item 0\n\\item 0\n\\item 0\n\\item 0\n\\item 0\n\\item 0\n\\item 0\n\\item 0\n\\item 0\n\\item 0\n\\item 0\n\\item 0\n\\item 0\n\\item 0\n\\item 0\n\\item 0\n\\item 0\n\\item 0\n\\item 12\n\\item 0\n\\item 0\n\\item 0\n\\item 0\n\\item 0\n\\item 0\n\\item 0\n\\item 0\n\\item 0\n\\item 0\n\\item 0\n\\item 0\n\\item 0\n\\item 0\n\\item 0\n\\item 0\n\\item 0\n\\item 0\n\\item 0\n\\item 0\n\\item 0\n\\item 0\n\\item 0\n\\item 0\n\\item 0\n\\item 0\n\\item 0\n\\item 0\n\\item 0\n\\item 0\n\\item 0\n\\item 0\n\\item 0\n\\item 0\n\\item 0\n\\item 0\n\\item 0\n\\item 0\n\\item 0\n\\item 0\n\\item 0\n\\item 0\n\\item 0\n\\item 0\n\\item 0\n\\item 0\n\\item 0\n\\item 0\n\\item 0\n\\item 0\n\\item 0\n\\item 14\n\\item 40\n\\item 0\n\\item 0\n\\item 0\n\\item 0\n\\item 0\n\\item 0\n\\item 0\n\\item 0\n\\item 0\n\\item 0\n\\item 0\n\\end{enumerate*}\n",
            "text/plain": [
              "   [1]  0  0  0  0  0  0  0  0  0  0  0  0  0  0  0  0  0  0  0  0  0  0  0  0\n",
              "  [25]  0  0  0  0  0  0  0  0  0 27  8  2 42  0  0  0  0  0  0  0  0  0  0  0\n",
              "  [49]  0  0  0  0  0  0  0  0  0  0  0  0  0  0  0  0  0  0  0  0  0  0  0  0\n",
              "  [73]  0  0  0  0  0  0  0  0  0  0  0  0  0  0  0  0  0  0  0  0  0  0  0  0\n",
              "  [97]  0  0  0  0  0  0  0  0  0  0  0  0  0  0  0 12  0 28  0  0  0  0  0  0\n",
              " [121]  0  0  0  0  0  0  0  0  0  0  0  0  0  0  0  0  0  0  0  0  0  0  0  0\n",
              " [145]  0  0  0  0 19  0 42  0  0  0  0  0  0  0  0  0  0  0  0  0  0  0  0  0\n",
              " [169]  0  0  0  0  0  0  0  0  0  0  0  0  0  0  0  0  0  0  0  0  0  0  0  0\n",
              " [193]  0  0  0  0  0  0  0  0  0  0  0  0  0  0 34  0 14  0  0  0  0  0  0  0\n",
              " [217]  0  0  0  0  0  0  0  0  0  0  0  0  0  0  0  0  0  0  0  0  0  0  0  0\n",
              " [241]  0  0  0  0  0  0  0  0  0  0  0  0  0  0  0  0  0  0  0  0  0  0  0  0\n",
              " [265]  0  0  0  0  0  0  0  0  0  0  0  0  0  0  0  0  0  1  0  0  0  0  0  0\n",
              " [289]  0  0  0  0  0  0  0  0  0  0  0  0  0  0  0  0  0  0  0  0  0  0  0  0\n",
              " [313]  0  0  0  0  0  0  0  0  0  0  0  0  0  0  0  0  0  0  0  0  0  0  0  0\n",
              " [337]  0  0  0  0  0  0  0  0  0  0  0  0  0  0  0 18  0 60  0  0  0  0  0  0\n",
              " [361]  0  0  0  0  0  0  0  0  0  0  0  0  0  0  0  0  0  0  0  0  0  0  0  0\n",
              " [385]  0  0  0  0  0  0  0 17 15  3 48  0  0  0  0  0  0  0  0  0  0  0  0  0\n",
              " [409]  0  0  0  0  0  0  0  0  0  0  0  0  0  0  0  0  0  0  0  0  0  0  4  0\n",
              " [433] 13  0  0  0  0  0  0  0  0  0  0  0  0  0  0  0  0  0  0  0  0  0  0  0\n",
              " [457]  0  0  0  0  0  0  0  0  0  0  0  0  0  0  0  0  0  0  0  0  0  0  0  0\n",
              " [481]  0  0  0  0 18 14  0 44  0  0  0  0  0  0  0  0  0  0  0  0  0  0  0  0\n",
              " [505]  0  0  0  0  0  0  0  0  0  0  0  0  0  0  0  0  0  0  0  0  0  0  0  0\n",
              " [529]  0  0  0 38  0 23  0  0  0  0  0  0  0  0  0  0  0  0  0  0  0  0  0  0\n",
              " [553]  0  0  0  0  0  0  0  0  0  0  0  0  0  0  0  0  0  0  0  0  0  0  0  0\n",
              " [577]  0  0  0  0  0  0  0  0  0  0  0  0  0  0  0  0  0  0  0  0  0  0  0  0\n",
              " [601]  0  0  0  0  0  0  0  0  0  0  0  0  0  0  0  0  9 12  3  0  0  0  0  0\n",
              " [625]  0  0  0  0  0  0  0  0  0  0  0  0  0  0  0  0  0  0  0  0  0 28  0 20\n",
              " [649]  0  0  0  0  0  0  0  0  0  0  0  0  0  0  0 14  0  0  0  0  0  0  0  0\n",
              " [673]  0  0  0  0  0  0  0  0  0  0  0  0  0  0  0  0  0  0  0  0  0  0  0  0\n",
              " [697]  0  0  0  0  0  0  0  0  0  0  0  0  0 34  0 54  0  0  0  0  0  0  0  0\n",
              " [721]  0  0  0  0  0  0  0  0  0  0  0  0  0  0  0  0  0  0  0  0  0  0  0  0\n",
              " [745]  0  0  0  0  0  0  0  0  0  0  0  0  0  0  0  0  0  0  0  0  0  0  0  0\n",
              " [769]  0  0  0  0  0  0  0  0  0  0  0  0  0  0  0  0  0  0  0 25  4 29  0  0\n",
              " [793]  0  0  0  0  0  0  0  0  0  0  0  0  0  0  0  0  0  0  0  0  0  0  0  0\n",
              " [817]  0  0  0  0  0  0  0  0  0  0  0  0  0  0  0  0  0  0  0  0  0  0  0  0\n",
              " [841]  0  0 46  0 16  0  0  0  0  0  0  0  0  0  0  0  0  0  0  0  0  0  0  0\n",
              " [865]  0  0  0  0  0  0  0  0  0  0  0  0  0  0  0  0  0  0  0  0  0  0  0  0\n",
              " [889]  0  0  0  0  0 20  0 10  0  0  0  0  0  0  0  0  0  0  0  0  1  2  9  0\n",
              " [913]  0  0  0  0  0  0  0  0  0  0  0  0  0  0  0  0  0  0  0  0  0  0  0  0\n",
              " [937]  0  0  0  0  0  0  0  0  0  0  0  0  0  0  0  0  0  5  0 17  0  0  0  0\n",
              " [961]  0  0  0  0  0  0  0  0  0  0  0  0  0  0  0  0  0  0  0  0  0  0  0  0\n",
              " [985]  0  0  0  0  0  0  0  0 26 12  2 36  0  0  0  0  0  0  0  0  0  0  0 40\n",
              "[1009] 10  3 44  0  0  0  0  0  0  0  0  0  0  0  0  0  0  0  0  0  0  0  0  0\n",
              "[1033]  0  0  0  0  0  0  0  0  0  0  0  0  0  0  0  0  0  0  0  0  0  0  0  0\n",
              "[1057]  0  0  0  0  0  0  0  0  0  0  0  0  0  0  0  0  0  0  0  0  0  0  0  0\n",
              "[1081]  0  0  0  0  0  0  0  0  0  0  0  0  0  0  0  0  0  0  0  0  0  0  0 15\n",
              "[1105] 21 13 48  0  0  0  0  0  0  0  0  0  0  0  0  0  0  0  0  0  0  0  0  0\n",
              "[1129]  0  0  0  0  0  0  0  0  0  0  0  0  0  0  0  0  0  0  0  0  0  0  0  0\n",
              "[1153]  0  0  0  0  0  0  0  0  0  0  0  0  0  0  0  0  0  0  0  0  0  0 12  0\n",
              "[1177]  0  0  0  0  0  0  0  0  0  0  0  0  0  0  0  0  0  0  0  0  0  0  0  0\n",
              "[1201]  0  0  0  0  0  0  0  0  0  0  0  0  0  0  0  0  0  0  0  0  0  0  0  0\n",
              "[1225]  0  0 14 40  0  0  0  0  0  0  0  0  0  0  0"
            ]
          },
          "metadata": {}
        }
      ]
    },
    {
      "cell_type": "code",
      "source": [
        "total_codons_1 <- sum(codon_usage_1$Count)\n",
        "total_codons_1"
      ],
      "metadata": {
        "colab": {
          "base_uri": "https://localhost:8080/",
          "height": 34
        },
        "id": "geDRDwFdNjNh",
        "outputId": "27b8fe1a-c1d4-4c69-af2b-6e55f167465d"
      },
      "execution_count": null,
      "outputs": [
        {
          "output_type": "display_data",
          "data": {
            "text/html": [
              "1238"
            ],
            "text/markdown": "1238",
            "text/latex": "1238",
            "text/plain": [
              "[1] 1238"
            ]
          },
          "metadata": {}
        }
      ]
    },
    {
      "cell_type": "code",
      "source": [
        "# Calculation of the usage probability of each codon for the first sequence\n",
        "codon_usage_1$Probability <- codon_usage_1$Count / total_codons_1\n",
        "codon_usage_1$Probability"
      ],
      "metadata": {
        "colab": {
          "base_uri": "https://localhost:8080/",
          "height": 347
        },
        "id": "rBa9A_M8N0FZ",
        "outputId": "18e7e16e-02b9-4b74-8dff-d005eff71679"
      },
      "execution_count": null,
      "outputs": [
        {
          "output_type": "display_data",
          "data": {
            "text/html": [
              "<style>\n",
              ".list-inline {list-style: none; margin:0; padding: 0}\n",
              ".list-inline>li {display: inline-block}\n",
              ".list-inline>li:not(:last-child)::after {content: \"\\00b7\"; padding: 0 .5ex}\n",
              "</style>\n",
              "<ol class=list-inline><li>0</li><li>0</li><li>0</li><li>0</li><li>0</li><li>0</li><li>0</li><li>0</li><li>0</li><li>0</li><li>0</li><li>0</li><li>0</li><li>0</li><li>0</li><li>0</li><li>0</li><li>0</li><li>0</li><li>0</li><li>0</li><li>0</li><li>0</li><li>0</li><li>0</li><li>0</li><li>0</li><li>0</li><li>0</li><li>0</li><li>0</li><li>0</li><li>0</li><li>0.0218093699515347</li><li>0.00646203554119548</li><li>0.00161550888529887</li><li>0.0339256865912763</li><li>0</li><li>0</li><li>0</li><li>0</li><li>0</li><li>0</li><li>0</li><li>0</li><li>0</li><li>0</li><li>0</li><li>0</li><li>0</li><li>0</li><li>0</li><li>0</li><li>0</li><li>0</li><li>0</li><li>0</li><li>0</li><li>0</li><li>0</li><li>0</li><li>0</li><li>0</li><li>0</li><li>0</li><li>0</li><li>0</li><li>0</li><li>0</li><li>0</li><li>0</li><li>0</li><li>0</li><li>0</li><li>0</li><li>0</li><li>0</li><li>0</li><li>0</li><li>0</li><li>0</li><li>0</li><li>0</li><li>0</li><li>0</li><li>0</li><li>0</li><li>0</li><li>0</li><li>0</li><li>0</li><li>0</li><li>0</li><li>0</li><li>0</li><li>0</li><li>0</li><li>0</li><li>0</li><li>0</li><li>0</li><li>0</li><li>0</li><li>0</li><li>0</li><li>0</li><li>0</li><li>0</li><li>0</li><li>0</li><li>0</li><li>0.00969305331179321</li><li>0</li><li>0.0226171243941842</li><li>0</li><li>0</li><li>0</li><li>0</li><li>0</li><li>0</li><li>0</li><li>0</li><li>0</li><li>0</li><li>0</li><li>0</li><li>0</li><li>0</li><li>0</li><li>0</li><li>0</li><li>0</li><li>0</li><li>0</li><li>0</li><li>0</li><li>0</li><li>0</li><li>0</li><li>0</li><li>0</li><li>0</li><li>0</li><li>0</li><li>0</li><li>0</li><li>0</li><li>0</li><li>0.0153473344103393</li><li>0</li><li>0.0339256865912763</li><li>0</li><li>0</li><li>0</li><li>0</li><li>0</li><li>0</li><li>0</li><li>0</li><li>0</li><li>0</li><li>0</li><li>0</li><li>0</li><li>0</li><li>0</li><li>0</li><li>0</li><li>0</li><li>0</li><li>0</li><li>0</li><li>0</li><li>0</li><li>0</li><li>0</li><li>0</li><li>0</li><li>0</li><li>0</li><li>0</li><li>0</li><li>0</li><li>0</li><li>0</li><li>0</li><li>0</li><li>0</li><li>0</li><li>0</li><li>0</li><li>0</li><li>0</li><li>0</li><li>0</li><li>0</li><li>0</li><li>0</li><li>0</li><li>0</li><li>⋯</li><li>0</li><li>0</li><li>0</li><li>0</li><li>0</li><li>0</li><li>0</li><li>0</li><li>0</li><li>0</li><li>0</li><li>0</li><li>0</li><li>0</li><li>0</li><li>0</li><li>0</li><li>0</li><li>0</li><li>0</li><li>0</li><li>0</li><li>0</li><li>0</li><li>0</li><li>0</li><li>0</li><li>0</li><li>0</li><li>0</li><li>0</li><li>0</li><li>0</li><li>0</li><li>0</li><li>0</li><li>0</li><li>0</li><li>0</li><li>0</li><li>0</li><li>0</li><li>0</li><li>0</li><li>0</li><li>0</li><li>0</li><li>0</li><li>0</li><li>0</li><li>0</li><li>0</li><li>0</li><li>0</li><li>0</li><li>0</li><li>0</li><li>0</li><li>0</li><li>0</li><li>0</li><li>0</li><li>0</li><li>0</li><li>0.0121163166397415</li><li>0.0169628432956381</li><li>0.0105008077544426</li><li>0.0387722132471729</li><li>0</li><li>0</li><li>0</li><li>0</li><li>0</li><li>0</li><li>0</li><li>0</li><li>0</li><li>0</li><li>0</li><li>0</li><li>0</li><li>0</li><li>0</li><li>0</li><li>0</li><li>0</li><li>0</li><li>0</li><li>0</li><li>0</li><li>0</li><li>0</li><li>0</li><li>0</li><li>0</li><li>0</li><li>0</li><li>0</li><li>0</li><li>0</li><li>0</li><li>0</li><li>0</li><li>0</li><li>0</li><li>0</li><li>0</li><li>0</li><li>0</li><li>0</li><li>0</li><li>0</li><li>0</li><li>0</li><li>0</li><li>0</li><li>0</li><li>0</li><li>0</li><li>0</li><li>0</li><li>0</li><li>0</li><li>0</li><li>0</li><li>0</li><li>0</li><li>0</li><li>0</li><li>0</li><li>0</li><li>0</li><li>0</li><li>0</li><li>0</li><li>0.00969305331179321</li><li>0</li><li>0</li><li>0</li><li>0</li><li>0</li><li>0</li><li>0</li><li>0</li><li>0</li><li>0</li><li>0</li><li>0</li><li>0</li><li>0</li><li>0</li><li>0</li><li>0</li><li>0</li><li>0</li><li>0</li><li>0</li><li>0</li><li>0</li><li>0</li><li>0</li><li>0</li><li>0</li><li>0</li><li>0</li><li>0</li><li>0</li><li>0</li><li>0</li><li>0</li><li>0</li><li>0</li><li>0</li><li>0</li><li>0</li><li>0</li><li>0</li><li>0</li><li>0</li><li>0</li><li>0</li><li>0</li><li>0</li><li>0</li><li>0</li><li>0</li><li>0</li><li>0.0113085621970921</li><li>0.0323101777059774</li><li>0</li><li>0</li><li>0</li><li>0</li><li>0</li><li>0</li><li>0</li><li>0</li><li>0</li><li>0</li><li>0</li></ol>\n"
            ],
            "text/markdown": "1. 0\n2. 0\n3. 0\n4. 0\n5. 0\n6. 0\n7. 0\n8. 0\n9. 0\n10. 0\n11. 0\n12. 0\n13. 0\n14. 0\n15. 0\n16. 0\n17. 0\n18. 0\n19. 0\n20. 0\n21. 0\n22. 0\n23. 0\n24. 0\n25. 0\n26. 0\n27. 0\n28. 0\n29. 0\n30. 0\n31. 0\n32. 0\n33. 0\n34. 0.0218093699515347\n35. 0.00646203554119548\n36. 0.00161550888529887\n37. 0.0339256865912763\n38. 0\n39. 0\n40. 0\n41. 0\n42. 0\n43. 0\n44. 0\n45. 0\n46. 0\n47. 0\n48. 0\n49. 0\n50. 0\n51. 0\n52. 0\n53. 0\n54. 0\n55. 0\n56. 0\n57. 0\n58. 0\n59. 0\n60. 0\n61. 0\n62. 0\n63. 0\n64. 0\n65. 0\n66. 0\n67. 0\n68. 0\n69. 0\n70. 0\n71. 0\n72. 0\n73. 0\n74. 0\n75. 0\n76. 0\n77. 0\n78. 0\n79. 0\n80. 0\n81. 0\n82. 0\n83. 0\n84. 0\n85. 0\n86. 0\n87. 0\n88. 0\n89. 0\n90. 0\n91. 0\n92. 0\n93. 0\n94. 0\n95. 0\n96. 0\n97. 0\n98. 0\n99. 0\n100. 0\n101. 0\n102. 0\n103. 0\n104. 0\n105. 0\n106. 0\n107. 0\n108. 0\n109. 0\n110. 0\n111. 0\n112. 0.00969305331179321\n113. 0\n114. 0.0226171243941842\n115. 0\n116. 0\n117. 0\n118. 0\n119. 0\n120. 0\n121. 0\n122. 0\n123. 0\n124. 0\n125. 0\n126. 0\n127. 0\n128. 0\n129. 0\n130. 0\n131. 0\n132. 0\n133. 0\n134. 0\n135. 0\n136. 0\n137. 0\n138. 0\n139. 0\n140. 0\n141. 0\n142. 0\n143. 0\n144. 0\n145. 0\n146. 0\n147. 0\n148. 0\n149. 0.0153473344103393\n150. 0\n151. 0.0339256865912763\n152. 0\n153. 0\n154. 0\n155. 0\n156. 0\n157. 0\n158. 0\n159. 0\n160. 0\n161. 0\n162. 0\n163. 0\n164. 0\n165. 0\n166. 0\n167. 0\n168. 0\n169. 0\n170. 0\n171. 0\n172. 0\n173. 0\n174. 0\n175. 0\n176. 0\n177. 0\n178. 0\n179. 0\n180. 0\n181. 0\n182. 0\n183. 0\n184. 0\n185. 0\n186. 0\n187. 0\n188. 0\n189. 0\n190. 0\n191. 0\n192. 0\n193. 0\n194. 0\n195. 0\n196. 0\n197. 0\n198. 0\n199. 0\n200. 0\n201. ⋯\n202. 0\n203. 0\n204. 0\n205. 0\n206. 0\n207. 0\n208. 0\n209. 0\n210. 0\n211. 0\n212. 0\n213. 0\n214. 0\n215. 0\n216. 0\n217. 0\n218. 0\n219. 0\n220. 0\n221. 0\n222. 0\n223. 0\n224. 0\n225. 0\n226. 0\n227. 0\n228. 0\n229. 0\n230. 0\n231. 0\n232. 0\n233. 0\n234. 0\n235. 0\n236. 0\n237. 0\n238. 0\n239. 0\n240. 0\n241. 0\n242. 0\n243. 0\n244. 0\n245. 0\n246. 0\n247. 0\n248. 0\n249. 0\n250. 0\n251. 0\n252. 0\n253. 0\n254. 0\n255. 0\n256. 0\n257. 0\n258. 0\n259. 0\n260. 0\n261. 0\n262. 0\n263. 0\n264. 0\n265. 0\n266. 0.0121163166397415\n267. 0.0169628432956381\n268. 0.0105008077544426\n269. 0.0387722132471729\n270. 0\n271. 0\n272. 0\n273. 0\n274. 0\n275. 0\n276. 0\n277. 0\n278. 0\n279. 0\n280. 0\n281. 0\n282. 0\n283. 0\n284. 0\n285. 0\n286. 0\n287. 0\n288. 0\n289. 0\n290. 0\n291. 0\n292. 0\n293. 0\n294. 0\n295. 0\n296. 0\n297. 0\n298. 0\n299. 0\n300. 0\n301. 0\n302. 0\n303. 0\n304. 0\n305. 0\n306. 0\n307. 0\n308. 0\n309. 0\n310. 0\n311. 0\n312. 0\n313. 0\n314. 0\n315. 0\n316. 0\n317. 0\n318. 0\n319. 0\n320. 0\n321. 0\n322. 0\n323. 0\n324. 0\n325. 0\n326. 0\n327. 0\n328. 0\n329. 0\n330. 0\n331. 0\n332. 0\n333. 0\n334. 0\n335. 0\n336. 0\n337. 0.00969305331179321\n338. 0\n339. 0\n340. 0\n341. 0\n342. 0\n343. 0\n344. 0\n345. 0\n346. 0\n347. 0\n348. 0\n349. 0\n350. 0\n351. 0\n352. 0\n353. 0\n354. 0\n355. 0\n356. 0\n357. 0\n358. 0\n359. 0\n360. 0\n361. 0\n362. 0\n363. 0\n364. 0\n365. 0\n366. 0\n367. 0\n368. 0\n369. 0\n370. 0\n371. 0\n372. 0\n373. 0\n374. 0\n375. 0\n376. 0\n377. 0\n378. 0\n379. 0\n380. 0\n381. 0\n382. 0\n383. 0\n384. 0\n385. 0\n386. 0\n387. 0\n388. 0\n389. 0.0113085621970921\n390. 0.0323101777059774\n391. 0\n392. 0\n393. 0\n394. 0\n395. 0\n396. 0\n397. 0\n398. 0\n399. 0\n400. 0\n401. 0\n\n\n",
            "text/latex": "\\begin{enumerate*}\n\\item 0\n\\item 0\n\\item 0\n\\item 0\n\\item 0\n\\item 0\n\\item 0\n\\item 0\n\\item 0\n\\item 0\n\\item 0\n\\item 0\n\\item 0\n\\item 0\n\\item 0\n\\item 0\n\\item 0\n\\item 0\n\\item 0\n\\item 0\n\\item 0\n\\item 0\n\\item 0\n\\item 0\n\\item 0\n\\item 0\n\\item 0\n\\item 0\n\\item 0\n\\item 0\n\\item 0\n\\item 0\n\\item 0\n\\item 0.0218093699515347\n\\item 0.00646203554119548\n\\item 0.00161550888529887\n\\item 0.0339256865912763\n\\item 0\n\\item 0\n\\item 0\n\\item 0\n\\item 0\n\\item 0\n\\item 0\n\\item 0\n\\item 0\n\\item 0\n\\item 0\n\\item 0\n\\item 0\n\\item 0\n\\item 0\n\\item 0\n\\item 0\n\\item 0\n\\item 0\n\\item 0\n\\item 0\n\\item 0\n\\item 0\n\\item 0\n\\item 0\n\\item 0\n\\item 0\n\\item 0\n\\item 0\n\\item 0\n\\item 0\n\\item 0\n\\item 0\n\\item 0\n\\item 0\n\\item 0\n\\item 0\n\\item 0\n\\item 0\n\\item 0\n\\item 0\n\\item 0\n\\item 0\n\\item 0\n\\item 0\n\\item 0\n\\item 0\n\\item 0\n\\item 0\n\\item 0\n\\item 0\n\\item 0\n\\item 0\n\\item 0\n\\item 0\n\\item 0\n\\item 0\n\\item 0\n\\item 0\n\\item 0\n\\item 0\n\\item 0\n\\item 0\n\\item 0\n\\item 0\n\\item 0\n\\item 0\n\\item 0\n\\item 0\n\\item 0\n\\item 0\n\\item 0\n\\item 0\n\\item 0\n\\item 0.00969305331179321\n\\item 0\n\\item 0.0226171243941842\n\\item 0\n\\item 0\n\\item 0\n\\item 0\n\\item 0\n\\item 0\n\\item 0\n\\item 0\n\\item 0\n\\item 0\n\\item 0\n\\item 0\n\\item 0\n\\item 0\n\\item 0\n\\item 0\n\\item 0\n\\item 0\n\\item 0\n\\item 0\n\\item 0\n\\item 0\n\\item 0\n\\item 0\n\\item 0\n\\item 0\n\\item 0\n\\item 0\n\\item 0\n\\item 0\n\\item 0\n\\item 0\n\\item 0\n\\item 0\n\\item 0.0153473344103393\n\\item 0\n\\item 0.0339256865912763\n\\item 0\n\\item 0\n\\item 0\n\\item 0\n\\item 0\n\\item 0\n\\item 0\n\\item 0\n\\item 0\n\\item 0\n\\item 0\n\\item 0\n\\item 0\n\\item 0\n\\item 0\n\\item 0\n\\item 0\n\\item 0\n\\item 0\n\\item 0\n\\item 0\n\\item 0\n\\item 0\n\\item 0\n\\item 0\n\\item 0\n\\item 0\n\\item 0\n\\item 0\n\\item 0\n\\item 0\n\\item 0\n\\item 0\n\\item 0\n\\item 0\n\\item 0\n\\item 0\n\\item 0\n\\item 0\n\\item 0\n\\item 0\n\\item 0\n\\item 0\n\\item 0\n\\item 0\n\\item 0\n\\item 0\n\\item 0\n\\item 0\n\\item ⋯\n\\item 0\n\\item 0\n\\item 0\n\\item 0\n\\item 0\n\\item 0\n\\item 0\n\\item 0\n\\item 0\n\\item 0\n\\item 0\n\\item 0\n\\item 0\n\\item 0\n\\item 0\n\\item 0\n\\item 0\n\\item 0\n\\item 0\n\\item 0\n\\item 0\n\\item 0\n\\item 0\n\\item 0\n\\item 0\n\\item 0\n\\item 0\n\\item 0\n\\item 0\n\\item 0\n\\item 0\n\\item 0\n\\item 0\n\\item 0\n\\item 0\n\\item 0\n\\item 0\n\\item 0\n\\item 0\n\\item 0\n\\item 0\n\\item 0\n\\item 0\n\\item 0\n\\item 0\n\\item 0\n\\item 0\n\\item 0\n\\item 0\n\\item 0\n\\item 0\n\\item 0\n\\item 0\n\\item 0\n\\item 0\n\\item 0\n\\item 0\n\\item 0\n\\item 0\n\\item 0\n\\item 0\n\\item 0\n\\item 0\n\\item 0\n\\item 0.0121163166397415\n\\item 0.0169628432956381\n\\item 0.0105008077544426\n\\item 0.0387722132471729\n\\item 0\n\\item 0\n\\item 0\n\\item 0\n\\item 0\n\\item 0\n\\item 0\n\\item 0\n\\item 0\n\\item 0\n\\item 0\n\\item 0\n\\item 0\n\\item 0\n\\item 0\n\\item 0\n\\item 0\n\\item 0\n\\item 0\n\\item 0\n\\item 0\n\\item 0\n\\item 0\n\\item 0\n\\item 0\n\\item 0\n\\item 0\n\\item 0\n\\item 0\n\\item 0\n\\item 0\n\\item 0\n\\item 0\n\\item 0\n\\item 0\n\\item 0\n\\item 0\n\\item 0\n\\item 0\n\\item 0\n\\item 0\n\\item 0\n\\item 0\n\\item 0\n\\item 0\n\\item 0\n\\item 0\n\\item 0\n\\item 0\n\\item 0\n\\item 0\n\\item 0\n\\item 0\n\\item 0\n\\item 0\n\\item 0\n\\item 0\n\\item 0\n\\item 0\n\\item 0\n\\item 0\n\\item 0\n\\item 0\n\\item 0\n\\item 0\n\\item 0\n\\item 0\n\\item 0.00969305331179321\n\\item 0\n\\item 0\n\\item 0\n\\item 0\n\\item 0\n\\item 0\n\\item 0\n\\item 0\n\\item 0\n\\item 0\n\\item 0\n\\item 0\n\\item 0\n\\item 0\n\\item 0\n\\item 0\n\\item 0\n\\item 0\n\\item 0\n\\item 0\n\\item 0\n\\item 0\n\\item 0\n\\item 0\n\\item 0\n\\item 0\n\\item 0\n\\item 0\n\\item 0\n\\item 0\n\\item 0\n\\item 0\n\\item 0\n\\item 0\n\\item 0\n\\item 0\n\\item 0\n\\item 0\n\\item 0\n\\item 0\n\\item 0\n\\item 0\n\\item 0\n\\item 0\n\\item 0\n\\item 0\n\\item 0\n\\item 0\n\\item 0\n\\item 0\n\\item 0\n\\item 0.0113085621970921\n\\item 0.0323101777059774\n\\item 0\n\\item 0\n\\item 0\n\\item 0\n\\item 0\n\\item 0\n\\item 0\n\\item 0\n\\item 0\n\\item 0\n\\item 0\n\\end{enumerate*}\n",
            "text/plain": [
              "   [1] 0.0000000000 0.0000000000 0.0000000000 0.0000000000 0.0000000000\n",
              "   [6] 0.0000000000 0.0000000000 0.0000000000 0.0000000000 0.0000000000\n",
              "  [11] 0.0000000000 0.0000000000 0.0000000000 0.0000000000 0.0000000000\n",
              "  [16] 0.0000000000 0.0000000000 0.0000000000 0.0000000000 0.0000000000\n",
              "  [21] 0.0000000000 0.0000000000 0.0000000000 0.0000000000 0.0000000000\n",
              "  [26] 0.0000000000 0.0000000000 0.0000000000 0.0000000000 0.0000000000\n",
              "  [31] 0.0000000000 0.0000000000 0.0000000000 0.0218093700 0.0064620355\n",
              "  [36] 0.0016155089 0.0339256866 0.0000000000 0.0000000000 0.0000000000\n",
              "  [41] 0.0000000000 0.0000000000 0.0000000000 0.0000000000 0.0000000000\n",
              "  [46] 0.0000000000 0.0000000000 0.0000000000 0.0000000000 0.0000000000\n",
              "  [51] 0.0000000000 0.0000000000 0.0000000000 0.0000000000 0.0000000000\n",
              "  [56] 0.0000000000 0.0000000000 0.0000000000 0.0000000000 0.0000000000\n",
              "  [61] 0.0000000000 0.0000000000 0.0000000000 0.0000000000 0.0000000000\n",
              "  [66] 0.0000000000 0.0000000000 0.0000000000 0.0000000000 0.0000000000\n",
              "  [71] 0.0000000000 0.0000000000 0.0000000000 0.0000000000 0.0000000000\n",
              "  [76] 0.0000000000 0.0000000000 0.0000000000 0.0000000000 0.0000000000\n",
              "  [81] 0.0000000000 0.0000000000 0.0000000000 0.0000000000 0.0000000000\n",
              "  [86] 0.0000000000 0.0000000000 0.0000000000 0.0000000000 0.0000000000\n",
              "  [91] 0.0000000000 0.0000000000 0.0000000000 0.0000000000 0.0000000000\n",
              "  [96] 0.0000000000 0.0000000000 0.0000000000 0.0000000000 0.0000000000\n",
              " [101] 0.0000000000 0.0000000000 0.0000000000 0.0000000000 0.0000000000\n",
              " [106] 0.0000000000 0.0000000000 0.0000000000 0.0000000000 0.0000000000\n",
              " [111] 0.0000000000 0.0096930533 0.0000000000 0.0226171244 0.0000000000\n",
              " [116] 0.0000000000 0.0000000000 0.0000000000 0.0000000000 0.0000000000\n",
              " [121] 0.0000000000 0.0000000000 0.0000000000 0.0000000000 0.0000000000\n",
              " [126] 0.0000000000 0.0000000000 0.0000000000 0.0000000000 0.0000000000\n",
              " [131] 0.0000000000 0.0000000000 0.0000000000 0.0000000000 0.0000000000\n",
              " [136] 0.0000000000 0.0000000000 0.0000000000 0.0000000000 0.0000000000\n",
              " [141] 0.0000000000 0.0000000000 0.0000000000 0.0000000000 0.0000000000\n",
              " [146] 0.0000000000 0.0000000000 0.0000000000 0.0153473344 0.0000000000\n",
              " [151] 0.0339256866 0.0000000000 0.0000000000 0.0000000000 0.0000000000\n",
              " [156] 0.0000000000 0.0000000000 0.0000000000 0.0000000000 0.0000000000\n",
              " [161] 0.0000000000 0.0000000000 0.0000000000 0.0000000000 0.0000000000\n",
              " [166] 0.0000000000 0.0000000000 0.0000000000 0.0000000000 0.0000000000\n",
              " [171] 0.0000000000 0.0000000000 0.0000000000 0.0000000000 0.0000000000\n",
              " [176] 0.0000000000 0.0000000000 0.0000000000 0.0000000000 0.0000000000\n",
              " [181] 0.0000000000 0.0000000000 0.0000000000 0.0000000000 0.0000000000\n",
              " [186] 0.0000000000 0.0000000000 0.0000000000 0.0000000000 0.0000000000\n",
              " [191] 0.0000000000 0.0000000000 0.0000000000 0.0000000000 0.0000000000\n",
              " [196] 0.0000000000 0.0000000000 0.0000000000 0.0000000000 0.0000000000\n",
              " [201] 0.0000000000 0.0000000000 0.0000000000 0.0000000000 0.0000000000\n",
              " [206] 0.0000000000 0.0274636511 0.0000000000 0.0113085622 0.0000000000\n",
              " [211] 0.0000000000 0.0000000000 0.0000000000 0.0000000000 0.0000000000\n",
              " [216] 0.0000000000 0.0000000000 0.0000000000 0.0000000000 0.0000000000\n",
              " [221] 0.0000000000 0.0000000000 0.0000000000 0.0000000000 0.0000000000\n",
              " [226] 0.0000000000 0.0000000000 0.0000000000 0.0000000000 0.0000000000\n",
              " [231] 0.0000000000 0.0000000000 0.0000000000 0.0000000000 0.0000000000\n",
              " [236] 0.0000000000 0.0000000000 0.0000000000 0.0000000000 0.0000000000\n",
              " [241] 0.0000000000 0.0000000000 0.0000000000 0.0000000000 0.0000000000\n",
              " [246] 0.0000000000 0.0000000000 0.0000000000 0.0000000000 0.0000000000\n",
              " [251] 0.0000000000 0.0000000000 0.0000000000 0.0000000000 0.0000000000\n",
              " [256] 0.0000000000 0.0000000000 0.0000000000 0.0000000000 0.0000000000\n",
              " [261] 0.0000000000 0.0000000000 0.0000000000 0.0000000000 0.0000000000\n",
              " [266] 0.0000000000 0.0000000000 0.0000000000 0.0000000000 0.0000000000\n",
              " [271] 0.0000000000 0.0000000000 0.0000000000 0.0000000000 0.0000000000\n",
              " [276] 0.0000000000 0.0000000000 0.0000000000 0.0000000000 0.0000000000\n",
              " [281] 0.0000000000 0.0008077544 0.0000000000 0.0000000000 0.0000000000\n",
              " [286] 0.0000000000 0.0000000000 0.0000000000 0.0000000000 0.0000000000\n",
              " [291] 0.0000000000 0.0000000000 0.0000000000 0.0000000000 0.0000000000\n",
              " [296] 0.0000000000 0.0000000000 0.0000000000 0.0000000000 0.0000000000\n",
              " [301] 0.0000000000 0.0000000000 0.0000000000 0.0000000000 0.0000000000\n",
              " [306] 0.0000000000 0.0000000000 0.0000000000 0.0000000000 0.0000000000\n",
              " [311] 0.0000000000 0.0000000000 0.0000000000 0.0000000000 0.0000000000\n",
              " [316] 0.0000000000 0.0000000000 0.0000000000 0.0000000000 0.0000000000\n",
              " [321] 0.0000000000 0.0000000000 0.0000000000 0.0000000000 0.0000000000\n",
              " [326] 0.0000000000 0.0000000000 0.0000000000 0.0000000000 0.0000000000\n",
              " [331] 0.0000000000 0.0000000000 0.0000000000 0.0000000000 0.0000000000\n",
              " [336] 0.0000000000 0.0000000000 0.0000000000 0.0000000000 0.0000000000\n",
              " [341] 0.0000000000 0.0000000000 0.0000000000 0.0000000000 0.0000000000\n",
              " [346] 0.0000000000 0.0000000000 0.0000000000 0.0000000000 0.0000000000\n",
              " [351] 0.0000000000 0.0145395800 0.0000000000 0.0484652666 0.0000000000\n",
              " [356] 0.0000000000 0.0000000000 0.0000000000 0.0000000000 0.0000000000\n",
              " [361] 0.0000000000 0.0000000000 0.0000000000 0.0000000000 0.0000000000\n",
              " [366] 0.0000000000 0.0000000000 0.0000000000 0.0000000000 0.0000000000\n",
              " [371] 0.0000000000 0.0000000000 0.0000000000 0.0000000000 0.0000000000\n",
              " [376] 0.0000000000 0.0000000000 0.0000000000 0.0000000000 0.0000000000\n",
              " [381] 0.0000000000 0.0000000000 0.0000000000 0.0000000000 0.0000000000\n",
              " [386] 0.0000000000 0.0000000000 0.0000000000 0.0000000000 0.0000000000\n",
              " [391] 0.0000000000 0.0137318255 0.0121163166 0.0024232633 0.0387722132\n",
              " [396] 0.0000000000 0.0000000000 0.0000000000 0.0000000000 0.0000000000\n",
              " [401] 0.0000000000 0.0000000000 0.0000000000 0.0000000000 0.0000000000\n",
              " [406] 0.0000000000 0.0000000000 0.0000000000 0.0000000000 0.0000000000\n",
              " [411] 0.0000000000 0.0000000000 0.0000000000 0.0000000000 0.0000000000\n",
              " [416] 0.0000000000 0.0000000000 0.0000000000 0.0000000000 0.0000000000\n",
              " [421] 0.0000000000 0.0000000000 0.0000000000 0.0000000000 0.0000000000\n",
              " [426] 0.0000000000 0.0000000000 0.0000000000 0.0000000000 0.0000000000\n",
              " [431] 0.0032310178 0.0000000000 0.0105008078 0.0000000000 0.0000000000\n",
              " [436] 0.0000000000 0.0000000000 0.0000000000 0.0000000000 0.0000000000\n",
              " [441] 0.0000000000 0.0000000000 0.0000000000 0.0000000000 0.0000000000\n",
              " [446] 0.0000000000 0.0000000000 0.0000000000 0.0000000000 0.0000000000\n",
              " [451] 0.0000000000 0.0000000000 0.0000000000 0.0000000000 0.0000000000\n",
              " [456] 0.0000000000 0.0000000000 0.0000000000 0.0000000000 0.0000000000\n",
              " [461] 0.0000000000 0.0000000000 0.0000000000 0.0000000000 0.0000000000\n",
              " [466] 0.0000000000 0.0000000000 0.0000000000 0.0000000000 0.0000000000\n",
              " [471] 0.0000000000 0.0000000000 0.0000000000 0.0000000000 0.0000000000\n",
              " [476] 0.0000000000 0.0000000000 0.0000000000 0.0000000000 0.0000000000\n",
              " [481] 0.0000000000 0.0000000000 0.0000000000 0.0000000000 0.0145395800\n",
              " [486] 0.0113085622 0.0000000000 0.0355411955 0.0000000000 0.0000000000\n",
              " [491] 0.0000000000 0.0000000000 0.0000000000 0.0000000000 0.0000000000\n",
              " [496] 0.0000000000 0.0000000000 0.0000000000 0.0000000000 0.0000000000\n",
              " [501] 0.0000000000 0.0000000000 0.0000000000 0.0000000000 0.0000000000\n",
              " [506] 0.0000000000 0.0000000000 0.0000000000 0.0000000000 0.0000000000\n",
              " [511] 0.0000000000 0.0000000000 0.0000000000 0.0000000000 0.0000000000\n",
              " [516] 0.0000000000 0.0000000000 0.0000000000 0.0000000000 0.0000000000\n",
              " [521] 0.0000000000 0.0000000000 0.0000000000 0.0000000000 0.0000000000\n",
              " [526] 0.0000000000 0.0000000000 0.0000000000 0.0000000000 0.0000000000\n",
              " [531] 0.0000000000 0.0306946688 0.0000000000 0.0185783522 0.0000000000\n",
              " [536] 0.0000000000 0.0000000000 0.0000000000 0.0000000000 0.0000000000\n",
              " [541] 0.0000000000 0.0000000000 0.0000000000 0.0000000000 0.0000000000\n",
              " [546] 0.0000000000 0.0000000000 0.0000000000 0.0000000000 0.0000000000\n",
              " [551] 0.0000000000 0.0000000000 0.0000000000 0.0000000000 0.0000000000\n",
              " [556] 0.0000000000 0.0000000000 0.0000000000 0.0000000000 0.0000000000\n",
              " [561] 0.0000000000 0.0000000000 0.0000000000 0.0000000000 0.0000000000\n",
              " [566] 0.0000000000 0.0000000000 0.0000000000 0.0000000000 0.0000000000\n",
              " [571] 0.0000000000 0.0000000000 0.0000000000 0.0000000000 0.0000000000\n",
              " [576] 0.0000000000 0.0000000000 0.0000000000 0.0000000000 0.0000000000\n",
              " [581] 0.0000000000 0.0000000000 0.0000000000 0.0000000000 0.0000000000\n",
              " [586] 0.0000000000 0.0000000000 0.0000000000 0.0000000000 0.0000000000\n",
              " [591] 0.0000000000 0.0000000000 0.0000000000 0.0000000000 0.0000000000\n",
              " [596] 0.0000000000 0.0000000000 0.0000000000 0.0000000000 0.0000000000\n",
              " [601] 0.0000000000 0.0000000000 0.0000000000 0.0000000000 0.0000000000\n",
              " [606] 0.0000000000 0.0000000000 0.0000000000 0.0000000000 0.0000000000\n",
              " [611] 0.0000000000 0.0000000000 0.0000000000 0.0000000000 0.0000000000\n",
              " [616] 0.0000000000 0.0072697900 0.0096930533 0.0024232633 0.0000000000\n",
              " [621] 0.0000000000 0.0000000000 0.0000000000 0.0000000000 0.0000000000\n",
              " [626] 0.0000000000 0.0000000000 0.0000000000 0.0000000000 0.0000000000\n",
              " [631] 0.0000000000 0.0000000000 0.0000000000 0.0000000000 0.0000000000\n",
              " [636] 0.0000000000 0.0000000000 0.0000000000 0.0000000000 0.0000000000\n",
              " [641] 0.0000000000 0.0000000000 0.0000000000 0.0000000000 0.0000000000\n",
              " [646] 0.0226171244 0.0000000000 0.0161550889 0.0000000000 0.0000000000\n",
              " [651] 0.0000000000 0.0000000000 0.0000000000 0.0000000000 0.0000000000\n",
              " [656] 0.0000000000 0.0000000000 0.0000000000 0.0000000000 0.0000000000\n",
              " [661] 0.0000000000 0.0000000000 0.0000000000 0.0113085622 0.0000000000\n",
              " [666] 0.0000000000 0.0000000000 0.0000000000 0.0000000000 0.0000000000\n",
              " [671] 0.0000000000 0.0000000000 0.0000000000 0.0000000000 0.0000000000\n",
              " [676] 0.0000000000 0.0000000000 0.0000000000 0.0000000000 0.0000000000\n",
              " [681] 0.0000000000 0.0000000000 0.0000000000 0.0000000000 0.0000000000\n",
              " [686] 0.0000000000 0.0000000000 0.0000000000 0.0000000000 0.0000000000\n",
              " [691] 0.0000000000 0.0000000000 0.0000000000 0.0000000000 0.0000000000\n",
              " [696] 0.0000000000 0.0000000000 0.0000000000 0.0000000000 0.0000000000\n",
              " [701] 0.0000000000 0.0000000000 0.0000000000 0.0000000000 0.0000000000\n",
              " [706] 0.0000000000 0.0000000000 0.0000000000 0.0000000000 0.0274636511\n",
              " [711] 0.0000000000 0.0436187399 0.0000000000 0.0000000000 0.0000000000\n",
              " [716] 0.0000000000 0.0000000000 0.0000000000 0.0000000000 0.0000000000\n",
              " [721] 0.0000000000 0.0000000000 0.0000000000 0.0000000000 0.0000000000\n",
              " [726] 0.0000000000 0.0000000000 0.0000000000 0.0000000000 0.0000000000\n",
              " [731] 0.0000000000 0.0000000000 0.0000000000 0.0000000000 0.0000000000\n",
              " [736] 0.0000000000 0.0000000000 0.0000000000 0.0000000000 0.0000000000\n",
              " [741] 0.0000000000 0.0000000000 0.0000000000 0.0000000000 0.0000000000\n",
              " [746] 0.0000000000 0.0000000000 0.0000000000 0.0000000000 0.0000000000\n",
              " [751] 0.0000000000 0.0000000000 0.0000000000 0.0000000000 0.0000000000\n",
              " [756] 0.0000000000 0.0000000000 0.0000000000 0.0000000000 0.0000000000\n",
              " [761] 0.0000000000 0.0000000000 0.0000000000 0.0000000000 0.0000000000\n",
              " [766] 0.0000000000 0.0000000000 0.0000000000 0.0000000000 0.0000000000\n",
              " [771] 0.0000000000 0.0000000000 0.0000000000 0.0000000000 0.0000000000\n",
              " [776] 0.0000000000 0.0000000000 0.0000000000 0.0000000000 0.0000000000\n",
              " [781] 0.0000000000 0.0000000000 0.0000000000 0.0000000000 0.0000000000\n",
              " [786] 0.0000000000 0.0000000000 0.0201938611 0.0032310178 0.0234248788\n",
              " [791] 0.0000000000 0.0000000000 0.0000000000 0.0000000000 0.0000000000\n",
              " [796] 0.0000000000 0.0000000000 0.0000000000 0.0000000000 0.0000000000\n",
              " [801] 0.0000000000 0.0000000000 0.0000000000 0.0000000000 0.0000000000\n",
              " [806] 0.0000000000 0.0000000000 0.0000000000 0.0000000000 0.0000000000\n",
              " [811] 0.0000000000 0.0000000000 0.0000000000 0.0000000000 0.0000000000\n",
              " [816] 0.0000000000 0.0000000000 0.0000000000 0.0000000000 0.0000000000\n",
              " [821] 0.0000000000 0.0000000000 0.0000000000 0.0000000000 0.0000000000\n",
              " [826] 0.0000000000 0.0000000000 0.0000000000 0.0000000000 0.0000000000\n",
              " [831] 0.0000000000 0.0000000000 0.0000000000 0.0000000000 0.0000000000\n",
              " [836] 0.0000000000 0.0000000000 0.0000000000 0.0000000000 0.0000000000\n",
              " [841] 0.0000000000 0.0000000000 0.0371567044 0.0000000000 0.0129240711\n",
              " [846] 0.0000000000 0.0000000000 0.0000000000 0.0000000000 0.0000000000\n",
              " [851] 0.0000000000 0.0000000000 0.0000000000 0.0000000000 0.0000000000\n",
              " [856] 0.0000000000 0.0000000000 0.0000000000 0.0000000000 0.0000000000\n",
              " [861] 0.0000000000 0.0000000000 0.0000000000 0.0000000000 0.0000000000\n",
              " [866] 0.0000000000 0.0000000000 0.0000000000 0.0000000000 0.0000000000\n",
              " [871] 0.0000000000 0.0000000000 0.0000000000 0.0000000000 0.0000000000\n",
              " [876] 0.0000000000 0.0000000000 0.0000000000 0.0000000000 0.0000000000\n",
              " [881] 0.0000000000 0.0000000000 0.0000000000 0.0000000000 0.0000000000\n",
              " [886] 0.0000000000 0.0000000000 0.0000000000 0.0000000000 0.0000000000\n",
              " [891] 0.0000000000 0.0000000000 0.0000000000 0.0161550889 0.0000000000\n",
              " [896] 0.0080775444 0.0000000000 0.0000000000 0.0000000000 0.0000000000\n",
              " [901] 0.0000000000 0.0000000000 0.0000000000 0.0000000000 0.0000000000\n",
              " [906] 0.0000000000 0.0000000000 0.0000000000 0.0008077544 0.0016155089\n",
              " [911] 0.0072697900 0.0000000000 0.0000000000 0.0000000000 0.0000000000\n",
              " [916] 0.0000000000 0.0000000000 0.0000000000 0.0000000000 0.0000000000\n",
              " [921] 0.0000000000 0.0000000000 0.0000000000 0.0000000000 0.0000000000\n",
              " [926] 0.0000000000 0.0000000000 0.0000000000 0.0000000000 0.0000000000\n",
              " [931] 0.0000000000 0.0000000000 0.0000000000 0.0000000000 0.0000000000\n",
              " [936] 0.0000000000 0.0000000000 0.0000000000 0.0000000000 0.0000000000\n",
              " [941] 0.0000000000 0.0000000000 0.0000000000 0.0000000000 0.0000000000\n",
              " [946] 0.0000000000 0.0000000000 0.0000000000 0.0000000000 0.0000000000\n",
              " [951] 0.0000000000 0.0000000000 0.0000000000 0.0040387722 0.0000000000\n",
              " [956] 0.0137318255 0.0000000000 0.0000000000 0.0000000000 0.0000000000\n",
              " [961] 0.0000000000 0.0000000000 0.0000000000 0.0000000000 0.0000000000\n",
              " [966] 0.0000000000 0.0000000000 0.0000000000 0.0000000000 0.0000000000\n",
              " [971] 0.0000000000 0.0000000000 0.0000000000 0.0000000000 0.0000000000\n",
              " [976] 0.0000000000 0.0000000000 0.0000000000 0.0000000000 0.0000000000\n",
              " [981] 0.0000000000 0.0000000000 0.0000000000 0.0000000000 0.0000000000\n",
              " [986] 0.0000000000 0.0000000000 0.0000000000 0.0000000000 0.0000000000\n",
              " [991] 0.0000000000 0.0000000000 0.0210016155 0.0096930533 0.0016155089\n",
              " [996] 0.0290791599 0.0000000000 0.0000000000 0.0000000000 0.0000000000\n",
              "[1001] 0.0000000000 0.0000000000 0.0000000000 0.0000000000 0.0000000000\n",
              "[1006] 0.0000000000 0.0000000000 0.0323101777 0.0080775444 0.0024232633\n",
              "[1011] 0.0355411955 0.0000000000 0.0000000000 0.0000000000 0.0000000000\n",
              "[1016] 0.0000000000 0.0000000000 0.0000000000 0.0000000000 0.0000000000\n",
              "[1021] 0.0000000000 0.0000000000 0.0000000000 0.0000000000 0.0000000000\n",
              "[1026] 0.0000000000 0.0000000000 0.0000000000 0.0000000000 0.0000000000\n",
              "[1031] 0.0000000000 0.0000000000 0.0000000000 0.0000000000 0.0000000000\n",
              "[1036] 0.0000000000 0.0000000000 0.0000000000 0.0000000000 0.0000000000\n",
              "[1041] 0.0000000000 0.0000000000 0.0000000000 0.0000000000 0.0000000000\n",
              "[1046] 0.0000000000 0.0000000000 0.0000000000 0.0000000000 0.0000000000\n",
              "[1051] 0.0000000000 0.0000000000 0.0000000000 0.0000000000 0.0000000000\n",
              "[1056] 0.0000000000 0.0000000000 0.0000000000 0.0000000000 0.0000000000\n",
              "[1061] 0.0000000000 0.0000000000 0.0000000000 0.0000000000 0.0000000000\n",
              "[1066] 0.0000000000 0.0000000000 0.0000000000 0.0000000000 0.0000000000\n",
              "[1071] 0.0000000000 0.0000000000 0.0000000000 0.0000000000 0.0000000000\n",
              "[1076] 0.0000000000 0.0000000000 0.0000000000 0.0000000000 0.0000000000\n",
              "[1081] 0.0000000000 0.0000000000 0.0000000000 0.0000000000 0.0000000000\n",
              "[1086] 0.0000000000 0.0000000000 0.0000000000 0.0000000000 0.0000000000\n",
              "[1091] 0.0000000000 0.0000000000 0.0000000000 0.0000000000 0.0000000000\n",
              "[1096] 0.0000000000 0.0000000000 0.0000000000 0.0000000000 0.0000000000\n",
              "[1101] 0.0000000000 0.0000000000 0.0000000000 0.0121163166 0.0169628433\n",
              "[1106] 0.0105008078 0.0387722132 0.0000000000 0.0000000000 0.0000000000\n",
              "[1111] 0.0000000000 0.0000000000 0.0000000000 0.0000000000 0.0000000000\n",
              "[1116] 0.0000000000 0.0000000000 0.0000000000 0.0000000000 0.0000000000\n",
              "[1121] 0.0000000000 0.0000000000 0.0000000000 0.0000000000 0.0000000000\n",
              "[1126] 0.0000000000 0.0000000000 0.0000000000 0.0000000000 0.0000000000\n",
              "[1131] 0.0000000000 0.0000000000 0.0000000000 0.0000000000 0.0000000000\n",
              "[1136] 0.0000000000 0.0000000000 0.0000000000 0.0000000000 0.0000000000\n",
              "[1141] 0.0000000000 0.0000000000 0.0000000000 0.0000000000 0.0000000000\n",
              "[1146] 0.0000000000 0.0000000000 0.0000000000 0.0000000000 0.0000000000\n",
              "[1151] 0.0000000000 0.0000000000 0.0000000000 0.0000000000 0.0000000000\n",
              "[1156] 0.0000000000 0.0000000000 0.0000000000 0.0000000000 0.0000000000\n",
              "[1161] 0.0000000000 0.0000000000 0.0000000000 0.0000000000 0.0000000000\n",
              "[1166] 0.0000000000 0.0000000000 0.0000000000 0.0000000000 0.0000000000\n",
              "[1171] 0.0000000000 0.0000000000 0.0000000000 0.0000000000 0.0096930533\n",
              "[1176] 0.0000000000 0.0000000000 0.0000000000 0.0000000000 0.0000000000\n",
              "[1181] 0.0000000000 0.0000000000 0.0000000000 0.0000000000 0.0000000000\n",
              "[1186] 0.0000000000 0.0000000000 0.0000000000 0.0000000000 0.0000000000\n",
              "[1191] 0.0000000000 0.0000000000 0.0000000000 0.0000000000 0.0000000000\n",
              "[1196] 0.0000000000 0.0000000000 0.0000000000 0.0000000000 0.0000000000\n",
              "[1201] 0.0000000000 0.0000000000 0.0000000000 0.0000000000 0.0000000000\n",
              "[1206] 0.0000000000 0.0000000000 0.0000000000 0.0000000000 0.0000000000\n",
              "[1211] 0.0000000000 0.0000000000 0.0000000000 0.0000000000 0.0000000000\n",
              "[1216] 0.0000000000 0.0000000000 0.0000000000 0.0000000000 0.0000000000\n",
              "[1221] 0.0000000000 0.0000000000 0.0000000000 0.0000000000 0.0000000000\n",
              "[1226] 0.0000000000 0.0113085622 0.0323101777 0.0000000000 0.0000000000\n",
              "[1231] 0.0000000000 0.0000000000 0.0000000000 0.0000000000 0.0000000000\n",
              "[1236] 0.0000000000 0.0000000000 0.0000000000 0.0000000000"
            ]
          },
          "metadata": {}
        }
      ]
    },
    {
      "cell_type": "markdown",
      "source": [
        "The codon usage is calculated for the first sequence"
      ],
      "metadata": {
        "id": "3sJ0Nwqacxah"
      }
    },
    {
      "cell_type": "code",
      "source": [
        "# Full names of amino acids are defined\n",
        "amino_acid_names <- data.frame(\n",
        "  Abbreviation = c('A', 'C', 'D', 'E', 'F', 'G', 'H', 'I', 'K', 'L',\n",
        "                   'M', 'N', 'P', 'Q', 'R', 'S', 'T', 'V', 'W', 'Y', 'End'),\n",
        "  FullName = c('Alanine', 'Cysteine', 'Aspartic Acid', 'Glutamic Acid',\n",
        "               'Phenylalanine', 'Glycine', 'Histidine', 'Isoleucine',\n",
        "               'Lysine', 'Leucine', 'Methionine', 'Asparagine',\n",
        "               'Proline', 'Glutamine', 'Arginine', 'Serine',\n",
        "               'Threonine', 'Valine', 'Tryptophan', 'Tyrosine', 'Termination')\n",
        ")"
      ],
      "metadata": {
        "id": "dRDlSQZxPZd8"
      },
      "execution_count": null,
      "outputs": []
    },
    {
      "cell_type": "code",
      "source": [
        "# Merging the full names of codon into codon usage data frame for the first sequence\n",
        "codon_usage_1 <- merge(codon_usage_1, amino_acid_names,\n",
        "                     by.x = \"AminoAcid\", by.y = \"Abbreviation\", all.x = TRUE)"
      ],
      "metadata": {
        "id": "icd9EtzyPyA8"
      },
      "execution_count": null,
      "outputs": []
    },
    {
      "cell_type": "code",
      "source": [
        "codon_usage_1"
      ],
      "metadata": {
        "colab": {
          "base_uri": "https://localhost:8080/",
          "height": 2010
        },
        "id": "NpDmRvrYgmud",
        "outputId": "d70fca56-081d-4cc9-ae0c-9a2cdc488e33"
      },
      "execution_count": null,
      "outputs": [
        {
          "output_type": "display_data",
          "data": {
            "text/html": [
              "<table class=\"dataframe\">\n",
              "<caption>A data.frame: 1239 × 5</caption>\n",
              "<thead>\n",
              "\t<tr><th scope=col>AminoAcid</th><th scope=col>Codon</th><th scope=col>Count</th><th scope=col>Probability</th><th scope=col>FullName</th></tr>\n",
              "\t<tr><th scope=col>&lt;fct&gt;</th><th scope=col>&lt;fct&gt;</th><th scope=col>&lt;int&gt;</th><th scope=col>&lt;dbl&gt;</th><th scope=col>&lt;chr&gt;</th></tr>\n",
              "</thead>\n",
              "<tbody>\n",
              "\t<tr><td>A</td><td>AAA</td><td>0</td><td>0</td><td>Alanine</td></tr>\n",
              "\t<tr><td>A</td><td>AAC</td><td>0</td><td>0</td><td>Alanine</td></tr>\n",
              "\t<tr><td>A</td><td>AAG</td><td>0</td><td>0</td><td>Alanine</td></tr>\n",
              "\t<tr><td>A</td><td>AAT</td><td>0</td><td>0</td><td>Alanine</td></tr>\n",
              "\t<tr><td>A</td><td>ACA</td><td>0</td><td>0</td><td>Alanine</td></tr>\n",
              "\t<tr><td>A</td><td>ACC</td><td>0</td><td>0</td><td>Alanine</td></tr>\n",
              "\t<tr><td>A</td><td>ACG</td><td>0</td><td>0</td><td>Alanine</td></tr>\n",
              "\t<tr><td>A</td><td>ACT</td><td>0</td><td>0</td><td>Alanine</td></tr>\n",
              "\t<tr><td>A</td><td>AGA</td><td>0</td><td>0</td><td>Alanine</td></tr>\n",
              "\t<tr><td>A</td><td>AGC</td><td>0</td><td>0</td><td>Alanine</td></tr>\n",
              "\t<tr><td>A</td><td>AGG</td><td>0</td><td>0</td><td>Alanine</td></tr>\n",
              "\t<tr><td>A</td><td>AGT</td><td>0</td><td>0</td><td>Alanine</td></tr>\n",
              "\t<tr><td>A</td><td>ATA</td><td>0</td><td>0</td><td>Alanine</td></tr>\n",
              "\t<tr><td>A</td><td>ATC</td><td>0</td><td>0</td><td>Alanine</td></tr>\n",
              "\t<tr><td>A</td><td>ATG</td><td>0</td><td>0</td><td>Alanine</td></tr>\n",
              "\t<tr><td>A</td><td>ATT</td><td>0</td><td>0</td><td>Alanine</td></tr>\n",
              "\t<tr><td>A</td><td>CAA</td><td>0</td><td>0</td><td>Alanine</td></tr>\n",
              "\t<tr><td>A</td><td>CAC</td><td>0</td><td>0</td><td>Alanine</td></tr>\n",
              "\t<tr><td>A</td><td>CAG</td><td>0</td><td>0</td><td>Alanine</td></tr>\n",
              "\t<tr><td>A</td><td>CAT</td><td>0</td><td>0</td><td>Alanine</td></tr>\n",
              "\t<tr><td>A</td><td>CCA</td><td>0</td><td>0</td><td>Alanine</td></tr>\n",
              "\t<tr><td>A</td><td>CCC</td><td>0</td><td>0</td><td>Alanine</td></tr>\n",
              "\t<tr><td>A</td><td>CCT</td><td>0</td><td>0</td><td>Alanine</td></tr>\n",
              "\t<tr><td>A</td><td>CGC</td><td>0</td><td>0</td><td>Alanine</td></tr>\n",
              "\t<tr><td>A</td><td>CGG</td><td>0</td><td>0</td><td>Alanine</td></tr>\n",
              "\t<tr><td>A</td><td>CGT</td><td>0</td><td>0</td><td>Alanine</td></tr>\n",
              "\t<tr><td>A</td><td>CTA</td><td>0</td><td>0</td><td>Alanine</td></tr>\n",
              "\t<tr><td>A</td><td>CTC</td><td>0</td><td>0</td><td>Alanine</td></tr>\n",
              "\t<tr><td>A</td><td>CTG</td><td>0</td><td>0</td><td>Alanine</td></tr>\n",
              "\t<tr><td>A</td><td>GAA</td><td>0</td><td>0</td><td>Alanine</td></tr>\n",
              "\t<tr><td>⋮</td><td>⋮</td><td>⋮</td><td>⋮</td><td>⋮</td></tr>\n",
              "\t<tr><td>Y</td><td>GAA</td><td> 0</td><td>0.00000000</td><td>Tyrosine</td></tr>\n",
              "\t<tr><td>Y</td><td>GAC</td><td> 0</td><td>0.00000000</td><td>Tyrosine</td></tr>\n",
              "\t<tr><td>Y</td><td>GAG</td><td> 0</td><td>0.00000000</td><td>Tyrosine</td></tr>\n",
              "\t<tr><td>Y</td><td>GAT</td><td> 0</td><td>0.00000000</td><td>Tyrosine</td></tr>\n",
              "\t<tr><td>Y</td><td>GCA</td><td> 0</td><td>0.00000000</td><td>Tyrosine</td></tr>\n",
              "\t<tr><td>Y</td><td>GCC</td><td> 0</td><td>0.00000000</td><td>Tyrosine</td></tr>\n",
              "\t<tr><td>Y</td><td>GCG</td><td> 0</td><td>0.00000000</td><td>Tyrosine</td></tr>\n",
              "\t<tr><td>Y</td><td>GCT</td><td> 0</td><td>0.00000000</td><td>Tyrosine</td></tr>\n",
              "\t<tr><td>Y</td><td>GGA</td><td> 0</td><td>0.00000000</td><td>Tyrosine</td></tr>\n",
              "\t<tr><td>Y</td><td>GGC</td><td> 0</td><td>0.00000000</td><td>Tyrosine</td></tr>\n",
              "\t<tr><td>Y</td><td>GGG</td><td> 0</td><td>0.00000000</td><td>Tyrosine</td></tr>\n",
              "\t<tr><td>Y</td><td>GGT</td><td> 0</td><td>0.00000000</td><td>Tyrosine</td></tr>\n",
              "\t<tr><td>Y</td><td>GTA</td><td> 0</td><td>0.00000000</td><td>Tyrosine</td></tr>\n",
              "\t<tr><td>Y</td><td>GTC</td><td> 0</td><td>0.00000000</td><td>Tyrosine</td></tr>\n",
              "\t<tr><td>Y</td><td>GTG</td><td> 0</td><td>0.00000000</td><td>Tyrosine</td></tr>\n",
              "\t<tr><td>Y</td><td>GTT</td><td> 0</td><td>0.00000000</td><td>Tyrosine</td></tr>\n",
              "\t<tr><td>Y</td><td>TAA</td><td> 0</td><td>0.00000000</td><td>Tyrosine</td></tr>\n",
              "\t<tr><td>Y</td><td>TAC</td><td>14</td><td>0.01130856</td><td>Tyrosine</td></tr>\n",
              "\t<tr><td>Y</td><td>TAT</td><td>40</td><td>0.03231018</td><td>Tyrosine</td></tr>\n",
              "\t<tr><td>Y</td><td>TCA</td><td> 0</td><td>0.00000000</td><td>Tyrosine</td></tr>\n",
              "\t<tr><td>Y</td><td>TCC</td><td> 0</td><td>0.00000000</td><td>Tyrosine</td></tr>\n",
              "\t<tr><td>Y</td><td>TCG</td><td> 0</td><td>0.00000000</td><td>Tyrosine</td></tr>\n",
              "\t<tr><td>Y</td><td>TCT</td><td> 0</td><td>0.00000000</td><td>Tyrosine</td></tr>\n",
              "\t<tr><td>Y</td><td>TGC</td><td> 0</td><td>0.00000000</td><td>Tyrosine</td></tr>\n",
              "\t<tr><td>Y</td><td>TGG</td><td> 0</td><td>0.00000000</td><td>Tyrosine</td></tr>\n",
              "\t<tr><td>Y</td><td>TGT</td><td> 0</td><td>0.00000000</td><td>Tyrosine</td></tr>\n",
              "\t<tr><td>Y</td><td>TTA</td><td> 0</td><td>0.00000000</td><td>Tyrosine</td></tr>\n",
              "\t<tr><td>Y</td><td>TTC</td><td> 0</td><td>0.00000000</td><td>Tyrosine</td></tr>\n",
              "\t<tr><td>Y</td><td>TTG</td><td> 0</td><td>0.00000000</td><td>Tyrosine</td></tr>\n",
              "\t<tr><td>Y</td><td>TTT</td><td> 0</td><td>0.00000000</td><td>Tyrosine</td></tr>\n",
              "</tbody>\n",
              "</table>\n"
            ],
            "text/markdown": "\nA data.frame: 1239 × 5\n\n| AminoAcid &lt;fct&gt; | Codon &lt;fct&gt; | Count &lt;int&gt; | Probability &lt;dbl&gt; | FullName &lt;chr&gt; |\n|---|---|---|---|---|\n| A | AAA | 0 | 0 | Alanine |\n| A | AAC | 0 | 0 | Alanine |\n| A | AAG | 0 | 0 | Alanine |\n| A | AAT | 0 | 0 | Alanine |\n| A | ACA | 0 | 0 | Alanine |\n| A | ACC | 0 | 0 | Alanine |\n| A | ACG | 0 | 0 | Alanine |\n| A | ACT | 0 | 0 | Alanine |\n| A | AGA | 0 | 0 | Alanine |\n| A | AGC | 0 | 0 | Alanine |\n| A | AGG | 0 | 0 | Alanine |\n| A | AGT | 0 | 0 | Alanine |\n| A | ATA | 0 | 0 | Alanine |\n| A | ATC | 0 | 0 | Alanine |\n| A | ATG | 0 | 0 | Alanine |\n| A | ATT | 0 | 0 | Alanine |\n| A | CAA | 0 | 0 | Alanine |\n| A | CAC | 0 | 0 | Alanine |\n| A | CAG | 0 | 0 | Alanine |\n| A | CAT | 0 | 0 | Alanine |\n| A | CCA | 0 | 0 | Alanine |\n| A | CCC | 0 | 0 | Alanine |\n| A | CCT | 0 | 0 | Alanine |\n| A | CGC | 0 | 0 | Alanine |\n| A | CGG | 0 | 0 | Alanine |\n| A | CGT | 0 | 0 | Alanine |\n| A | CTA | 0 | 0 | Alanine |\n| A | CTC | 0 | 0 | Alanine |\n| A | CTG | 0 | 0 | Alanine |\n| A | GAA | 0 | 0 | Alanine |\n| ⋮ | ⋮ | ⋮ | ⋮ | ⋮ |\n| Y | GAA |  0 | 0.00000000 | Tyrosine |\n| Y | GAC |  0 | 0.00000000 | Tyrosine |\n| Y | GAG |  0 | 0.00000000 | Tyrosine |\n| Y | GAT |  0 | 0.00000000 | Tyrosine |\n| Y | GCA |  0 | 0.00000000 | Tyrosine |\n| Y | GCC |  0 | 0.00000000 | Tyrosine |\n| Y | GCG |  0 | 0.00000000 | Tyrosine |\n| Y | GCT |  0 | 0.00000000 | Tyrosine |\n| Y | GGA |  0 | 0.00000000 | Tyrosine |\n| Y | GGC |  0 | 0.00000000 | Tyrosine |\n| Y | GGG |  0 | 0.00000000 | Tyrosine |\n| Y | GGT |  0 | 0.00000000 | Tyrosine |\n| Y | GTA |  0 | 0.00000000 | Tyrosine |\n| Y | GTC |  0 | 0.00000000 | Tyrosine |\n| Y | GTG |  0 | 0.00000000 | Tyrosine |\n| Y | GTT |  0 | 0.00000000 | Tyrosine |\n| Y | TAA |  0 | 0.00000000 | Tyrosine |\n| Y | TAC | 14 | 0.01130856 | Tyrosine |\n| Y | TAT | 40 | 0.03231018 | Tyrosine |\n| Y | TCA |  0 | 0.00000000 | Tyrosine |\n| Y | TCC |  0 | 0.00000000 | Tyrosine |\n| Y | TCG |  0 | 0.00000000 | Tyrosine |\n| Y | TCT |  0 | 0.00000000 | Tyrosine |\n| Y | TGC |  0 | 0.00000000 | Tyrosine |\n| Y | TGG |  0 | 0.00000000 | Tyrosine |\n| Y | TGT |  0 | 0.00000000 | Tyrosine |\n| Y | TTA |  0 | 0.00000000 | Tyrosine |\n| Y | TTC |  0 | 0.00000000 | Tyrosine |\n| Y | TTG |  0 | 0.00000000 | Tyrosine |\n| Y | TTT |  0 | 0.00000000 | Tyrosine |\n\n",
            "text/latex": "A data.frame: 1239 × 5\n\\begin{tabular}{lllll}\n AminoAcid & Codon & Count & Probability & FullName\\\\\n <fct> & <fct> & <int> & <dbl> & <chr>\\\\\n\\hline\n\t A & AAA & 0 & 0 & Alanine\\\\\n\t A & AAC & 0 & 0 & Alanine\\\\\n\t A & AAG & 0 & 0 & Alanine\\\\\n\t A & AAT & 0 & 0 & Alanine\\\\\n\t A & ACA & 0 & 0 & Alanine\\\\\n\t A & ACC & 0 & 0 & Alanine\\\\\n\t A & ACG & 0 & 0 & Alanine\\\\\n\t A & ACT & 0 & 0 & Alanine\\\\\n\t A & AGA & 0 & 0 & Alanine\\\\\n\t A & AGC & 0 & 0 & Alanine\\\\\n\t A & AGG & 0 & 0 & Alanine\\\\\n\t A & AGT & 0 & 0 & Alanine\\\\\n\t A & ATA & 0 & 0 & Alanine\\\\\n\t A & ATC & 0 & 0 & Alanine\\\\\n\t A & ATG & 0 & 0 & Alanine\\\\\n\t A & ATT & 0 & 0 & Alanine\\\\\n\t A & CAA & 0 & 0 & Alanine\\\\\n\t A & CAC & 0 & 0 & Alanine\\\\\n\t A & CAG & 0 & 0 & Alanine\\\\\n\t A & CAT & 0 & 0 & Alanine\\\\\n\t A & CCA & 0 & 0 & Alanine\\\\\n\t A & CCC & 0 & 0 & Alanine\\\\\n\t A & CCT & 0 & 0 & Alanine\\\\\n\t A & CGC & 0 & 0 & Alanine\\\\\n\t A & CGG & 0 & 0 & Alanine\\\\\n\t A & CGT & 0 & 0 & Alanine\\\\\n\t A & CTA & 0 & 0 & Alanine\\\\\n\t A & CTC & 0 & 0 & Alanine\\\\\n\t A & CTG & 0 & 0 & Alanine\\\\\n\t A & GAA & 0 & 0 & Alanine\\\\\n\t ⋮ & ⋮ & ⋮ & ⋮ & ⋮\\\\\n\t Y & GAA &  0 & 0.00000000 & Tyrosine\\\\\n\t Y & GAC &  0 & 0.00000000 & Tyrosine\\\\\n\t Y & GAG &  0 & 0.00000000 & Tyrosine\\\\\n\t Y & GAT &  0 & 0.00000000 & Tyrosine\\\\\n\t Y & GCA &  0 & 0.00000000 & Tyrosine\\\\\n\t Y & GCC &  0 & 0.00000000 & Tyrosine\\\\\n\t Y & GCG &  0 & 0.00000000 & Tyrosine\\\\\n\t Y & GCT &  0 & 0.00000000 & Tyrosine\\\\\n\t Y & GGA &  0 & 0.00000000 & Tyrosine\\\\\n\t Y & GGC &  0 & 0.00000000 & Tyrosine\\\\\n\t Y & GGG &  0 & 0.00000000 & Tyrosine\\\\\n\t Y & GGT &  0 & 0.00000000 & Tyrosine\\\\\n\t Y & GTA &  0 & 0.00000000 & Tyrosine\\\\\n\t Y & GTC &  0 & 0.00000000 & Tyrosine\\\\\n\t Y & GTG &  0 & 0.00000000 & Tyrosine\\\\\n\t Y & GTT &  0 & 0.00000000 & Tyrosine\\\\\n\t Y & TAA &  0 & 0.00000000 & Tyrosine\\\\\n\t Y & TAC & 14 & 0.01130856 & Tyrosine\\\\\n\t Y & TAT & 40 & 0.03231018 & Tyrosine\\\\\n\t Y & TCA &  0 & 0.00000000 & Tyrosine\\\\\n\t Y & TCC &  0 & 0.00000000 & Tyrosine\\\\\n\t Y & TCG &  0 & 0.00000000 & Tyrosine\\\\\n\t Y & TCT &  0 & 0.00000000 & Tyrosine\\\\\n\t Y & TGC &  0 & 0.00000000 & Tyrosine\\\\\n\t Y & TGG &  0 & 0.00000000 & Tyrosine\\\\\n\t Y & TGT &  0 & 0.00000000 & Tyrosine\\\\\n\t Y & TTA &  0 & 0.00000000 & Tyrosine\\\\\n\t Y & TTC &  0 & 0.00000000 & Tyrosine\\\\\n\t Y & TTG &  0 & 0.00000000 & Tyrosine\\\\\n\t Y & TTT &  0 & 0.00000000 & Tyrosine\\\\\n\\end{tabular}\n",
            "text/plain": [
              "     AminoAcid Codon Count Probability FullName\n",
              "1    A         AAA   0     0           Alanine \n",
              "2    A         AAC   0     0           Alanine \n",
              "3    A         AAG   0     0           Alanine \n",
              "4    A         AAT   0     0           Alanine \n",
              "5    A         ACA   0     0           Alanine \n",
              "6    A         ACC   0     0           Alanine \n",
              "7    A         ACG   0     0           Alanine \n",
              "8    A         ACT   0     0           Alanine \n",
              "9    A         AGA   0     0           Alanine \n",
              "10   A         AGC   0     0           Alanine \n",
              "11   A         AGG   0     0           Alanine \n",
              "12   A         AGT   0     0           Alanine \n",
              "13   A         ATA   0     0           Alanine \n",
              "14   A         ATC   0     0           Alanine \n",
              "15   A         ATG   0     0           Alanine \n",
              "16   A         ATT   0     0           Alanine \n",
              "17   A         CAA   0     0           Alanine \n",
              "18   A         CAC   0     0           Alanine \n",
              "19   A         CAG   0     0           Alanine \n",
              "20   A         CAT   0     0           Alanine \n",
              "21   A         CCA   0     0           Alanine \n",
              "22   A         CCC   0     0           Alanine \n",
              "23   A         CCT   0     0           Alanine \n",
              "24   A         CGC   0     0           Alanine \n",
              "25   A         CGG   0     0           Alanine \n",
              "26   A         CGT   0     0           Alanine \n",
              "27   A         CTA   0     0           Alanine \n",
              "28   A         CTC   0     0           Alanine \n",
              "29   A         CTG   0     0           Alanine \n",
              "30   A         GAA   0     0           Alanine \n",
              "⋮    ⋮         ⋮     ⋮     ⋮           ⋮       \n",
              "1210 Y         GAA    0    0.00000000  Tyrosine\n",
              "1211 Y         GAC    0    0.00000000  Tyrosine\n",
              "1212 Y         GAG    0    0.00000000  Tyrosine\n",
              "1213 Y         GAT    0    0.00000000  Tyrosine\n",
              "1214 Y         GCA    0    0.00000000  Tyrosine\n",
              "1215 Y         GCC    0    0.00000000  Tyrosine\n",
              "1216 Y         GCG    0    0.00000000  Tyrosine\n",
              "1217 Y         GCT    0    0.00000000  Tyrosine\n",
              "1218 Y         GGA    0    0.00000000  Tyrosine\n",
              "1219 Y         GGC    0    0.00000000  Tyrosine\n",
              "1220 Y         GGG    0    0.00000000  Tyrosine\n",
              "1221 Y         GGT    0    0.00000000  Tyrosine\n",
              "1222 Y         GTA    0    0.00000000  Tyrosine\n",
              "1223 Y         GTC    0    0.00000000  Tyrosine\n",
              "1224 Y         GTG    0    0.00000000  Tyrosine\n",
              "1225 Y         GTT    0    0.00000000  Tyrosine\n",
              "1226 Y         TAA    0    0.00000000  Tyrosine\n",
              "1227 Y         TAC   14    0.01130856  Tyrosine\n",
              "1228 Y         TAT   40    0.03231018  Tyrosine\n",
              "1229 Y         TCA    0    0.00000000  Tyrosine\n",
              "1230 Y         TCC    0    0.00000000  Tyrosine\n",
              "1231 Y         TCG    0    0.00000000  Tyrosine\n",
              "1232 Y         TCT    0    0.00000000  Tyrosine\n",
              "1233 Y         TGC    0    0.00000000  Tyrosine\n",
              "1234 Y         TGG    0    0.00000000  Tyrosine\n",
              "1235 Y         TGT    0    0.00000000  Tyrosine\n",
              "1236 Y         TTA    0    0.00000000  Tyrosine\n",
              "1237 Y         TTC    0    0.00000000  Tyrosine\n",
              "1238 Y         TTG    0    0.00000000  Tyrosine\n",
              "1239 Y         TTT    0    0.00000000  Tyrosine"
            ]
          },
          "metadata": {}
        }
      ]
    },
    {
      "cell_type": "markdown",
      "source": [
        "Codons are named by amino acids with usage probability"
      ],
      "metadata": {
        "id": "GeCO4jgCg2Be"
      }
    },
    {
      "cell_type": "code",
      "source": [
        "# Output the codon usage with usage probability and codon full names for the first sequence, save to file in csv format named \"codon_usage_1.csv\"\n",
        "output_1 <- codon_usage_1[codon_usage_1$Count > 0, ]\n",
        "colnames(output_1) <- c(\"Amino_acids\", \"Codon\", \"Count\", \"Probability\", \"Full Name\")\n",
        "print(output_1)\n",
        "write.csv(output_1,\"./Bioinformatics Exercise/codon_usage_1.csv\",row.names=F)"
      ],
      "metadata": {
        "colab": {
          "base_uri": "https://localhost:8080/"
        },
        "id": "m2lqPwxPSTJS",
        "outputId": "b88717ef-8775-4772-c6fc-cdf16d4098dc"
      },
      "execution_count": null,
      "outputs": [
        {
          "output_type": "stream",
          "name": "stdout",
          "text": [
            "     Amino_acids Codon Count  Probability     Full Name\n",
            "34             A   GCA    27 0.0218093700       Alanine\n",
            "35             A   GCC     8 0.0064620355       Alanine\n",
            "36             A   GCG     2 0.0016155089       Alanine\n",
            "37             A   GCT    42 0.0339256866       Alanine\n",
            "112            C   TGC    12 0.0096930533      Cysteine\n",
            "114            C   TGT    28 0.0226171244      Cysteine\n",
            "149            D   GAC    19 0.0153473344 Aspartic Acid\n",
            "151            D   GAT    42 0.0339256866 Aspartic Acid\n",
            "207            E   GAA    34 0.0274636511 Glutamic Acid\n",
            "209            E   GAG    14 0.0113085622 Glutamic Acid\n",
            "282          End   TAA     1 0.0008077544   Termination\n",
            "352            F   TTC    18 0.0145395800 Phenylalanine\n",
            "354            F   TTT    60 0.0484652666 Phenylalanine\n",
            "392            G   GGA    17 0.0137318255       Glycine\n",
            "393            G   GGC    15 0.0121163166       Glycine\n",
            "394            G   GGG     3 0.0024232633       Glycine\n",
            "395            G   GGT    48 0.0387722132       Glycine\n",
            "431            H   CAC     4 0.0032310178     Histidine\n",
            "433            H   CAT    13 0.0105008078     Histidine\n",
            "485            I   ATA    18 0.0145395800    Isoleucine\n",
            "486            I   ATC    14 0.0113085622    Isoleucine\n",
            "488            I   ATT    44 0.0355411955    Isoleucine\n",
            "532            K   AAA    38 0.0306946688        Lysine\n",
            "534            K   AAG    23 0.0185783522        Lysine\n",
            "617            L   CTA     9 0.0072697900       Leucine\n",
            "618            L   CTC    12 0.0096930533       Leucine\n",
            "619            L   CTG     3 0.0024232633       Leucine\n",
            "646            L   TTA    28 0.0226171244       Leucine\n",
            "648            L   TTG    20 0.0161550889       Leucine\n",
            "664            M   ATG    14 0.0113085622    Methionine\n",
            "710            N   AAC    34 0.0274636511    Asparagine\n",
            "712            N   AAT    54 0.0436187399    Asparagine\n",
            "788            P   CCA    25 0.0201938611       Proline\n",
            "789            P   CCC     4 0.0032310178       Proline\n",
            "790            P   CCT    29 0.0234248788       Proline\n",
            "843            Q   CAA    46 0.0371567044     Glutamine\n",
            "845            Q   CAG    16 0.0129240711     Glutamine\n",
            "894            R   AGA    20 0.0161550889      Arginine\n",
            "896            R   AGG    10 0.0080775444      Arginine\n",
            "909            R   CGC     1 0.0008077544      Arginine\n",
            "910            R   CGG     2 0.0016155089      Arginine\n",
            "911            R   CGT     9 0.0072697900      Arginine\n",
            "954            S   AGC     5 0.0040387722        Serine\n",
            "956            S   AGT    17 0.0137318255        Serine\n",
            "993            S   TCA    26 0.0210016155        Serine\n",
            "994            S   TCC    12 0.0096930533        Serine\n",
            "995            S   TCG     2 0.0016155089        Serine\n",
            "996            S   TCT    36 0.0290791599        Serine\n",
            "1008           T   ACA    40 0.0323101777     Threonine\n",
            "1009           T   ACC    10 0.0080775444     Threonine\n",
            "1010           T   ACG     3 0.0024232633     Threonine\n",
            "1011           T   ACT    44 0.0355411955     Threonine\n",
            "1104           V   GTA    15 0.0121163166        Valine\n",
            "1105           V   GTC    21 0.0169628433        Valine\n",
            "1106           V   GTG    13 0.0105008078        Valine\n",
            "1107           V   GTT    48 0.0387722132        Valine\n",
            "1175           W   TGG    12 0.0096930533    Tryptophan\n",
            "1227           Y   TAC    14 0.0113085622      Tyrosine\n",
            "1228           Y   TAT    40 0.0323101777      Tyrosine\n"
          ]
        }
      ]
    },
    {
      "cell_type": "markdown",
      "source": [
        "\n",
        "\n",
        "---\n",
        "\n",
        "\n",
        "Codon usage for the *second sequence* is also calculated as follows for\n",
        "comparison"
      ],
      "metadata": {
        "id": "vrqDNvBWhryJ"
      }
    },
    {
      "cell_type": "code",
      "source": [
        "dna_sequences"
      ],
      "metadata": {
        "colab": {
          "base_uri": "https://localhost:8080/",
          "height": 104
        },
        "id": "jleHR6paDmvV",
        "outputId": "5153857a-898c-47fe-f9bb-ede0b9813e71"
      },
      "execution_count": null,
      "outputs": [
        {
          "output_type": "display_data",
          "data": {
            "text/plain": [
              "DNAStringSet object of length 2:\n",
              "    width seq                                               names               \n",
              "[1]  3822 \u001b[47m\u001b[30mA\u001b[39m\u001b[49m\u001b[47m\u001b[30mT\u001b[39m\u001b[49m\u001b[47m\u001b[30mG\u001b[39m\u001b[49m\u001b[47m\u001b[30mT\u001b[39m\u001b[49m\u001b[47m\u001b[30mT\u001b[39m\u001b[49m\u001b[47m\u001b[30mT\u001b[39m\u001b[49m\u001b[47m\u001b[30mG\u001b[39m\u001b[49m\u001b[47m\u001b[30mT\u001b[39m\u001b[49m\u001b[47m\u001b[30mT\u001b[39m\u001b[49m\u001b[47m\u001b[30mT\u001b[39m\u001b[49m\u001b[47m\u001b[30mT\u001b[39m\u001b[49m\u001b[47m\u001b[30mT\u001b[39m\u001b[49m\u001b[47m\u001b[30mC\u001b[39m\u001b[49m\u001b[47m\u001b[30mT\u001b[39m\u001b[49m\u001b[47m\u001b[30mT\u001b[39m\u001b[49m\u001b[47m\u001b[30mG\u001b[39m\u001b[49m\u001b[47m\u001b[30mT\u001b[39m\u001b[49m\u001b[47m\u001b[30mT\u001b[39m\u001b[49m\u001b[47m\u001b[30mT\u001b[39m\u001b[49m\u001b[47m\u001b[30mT\u001b[39m\u001b[49m\u001b[47m\u001b[30mA\u001b[39m\u001b[49m\u001b[47m\u001b[30mT\u001b[39m\u001b[49m\u001b[47m\u001b[30mT\u001b[39m\u001b[49m...\u001b[47m\u001b[30mG\u001b[39m\u001b[49m\u001b[47m\u001b[30mA\u001b[39m\u001b[49m\u001b[47m\u001b[30mG\u001b[39m\u001b[49m\u001b[47m\u001b[30mT\u001b[39m\u001b[49m\u001b[47m\u001b[30mC\u001b[39m\u001b[49m\u001b[47m\u001b[30mA\u001b[39m\u001b[49m\u001b[47m\u001b[30mA\u001b[39m\u001b[49m\u001b[47m\u001b[30mA\u001b[39m\u001b[49m\u001b[47m\u001b[30mT\u001b[39m\u001b[49m\u001b[47m\u001b[30mT\u001b[39m\u001b[49m\u001b[47m\u001b[30mA\u001b[39m\u001b[49m\u001b[47m\u001b[30mC\u001b[39m\u001b[49m\u001b[47m\u001b[30mA\u001b[39m\u001b[49m\u001b[47m\u001b[30mT\u001b[39m\u001b[49m\u001b[47m\u001b[30mT\u001b[39m\u001b[49m\u001b[47m\u001b[30mA\u001b[39m\u001b[49m\u001b[47m\u001b[30mC\u001b[39m\u001b[49m\u001b[47m\u001b[30mA\u001b[39m\u001b[49m\u001b[47m\u001b[30mC\u001b[39m\u001b[49m\u001b[47m\u001b[30mA\u001b[39m\u001b[49m\u001b[47m\u001b[30mT\u001b[39m\u001b[49m\u001b[47m\u001b[30mA\u001b[39m\u001b[49m\u001b[47m\u001b[30mA\u001b[39m\u001b[49m WHP1939_3582\n",
              "[2]  3822 \u001b[47m\u001b[30mA\u001b[39m\u001b[49m\u001b[47m\u001b[30mT\u001b[39m\u001b[49m\u001b[47m\u001b[30mG\u001b[39m\u001b[49m\u001b[47m\u001b[30mT\u001b[39m\u001b[49m\u001b[47m\u001b[30mT\u001b[39m\u001b[49m\u001b[47m\u001b[30mT\u001b[39m\u001b[49m\u001b[47m\u001b[30mG\u001b[39m\u001b[49m\u001b[47m\u001b[30mG\u001b[39m\u001b[49m\u001b[47m\u001b[30mT\u001b[39m\u001b[49m\u001b[47m\u001b[30mT\u001b[39m\u001b[49m\u001b[47m\u001b[30mT\u001b[39m\u001b[49m\u001b[47m\u001b[30mT\u001b[39m\u001b[49m\u001b[47m\u001b[30mC\u001b[39m\u001b[49m\u001b[47m\u001b[30mT\u001b[39m\u001b[49m\u001b[47m\u001b[30mT\u001b[39m\u001b[49m\u001b[47m\u001b[30mG\u001b[39m\u001b[49m\u001b[47m\u001b[30mT\u001b[39m\u001b[49m\u001b[47m\u001b[30mT\u001b[39m\u001b[49m\u001b[47m\u001b[30mT\u001b[39m\u001b[49m\u001b[47m\u001b[30mT\u001b[39m\u001b[49m\u001b[47m\u001b[30mA\u001b[39m\u001b[49m\u001b[47m\u001b[30mT\u001b[39m\u001b[49m\u001b[47m\u001b[30mT\u001b[39m\u001b[49m...\u001b[47m\u001b[30mG\u001b[39m\u001b[49m\u001b[47m\u001b[30mA\u001b[39m\u001b[49m\u001b[47m\u001b[30mG\u001b[39m\u001b[49m\u001b[47m\u001b[30mT\u001b[39m\u001b[49m\u001b[47m\u001b[30mC\u001b[39m\u001b[49m\u001b[47m\u001b[30mA\u001b[39m\u001b[49m\u001b[47m\u001b[30mA\u001b[39m\u001b[49m\u001b[47m\u001b[30mA\u001b[39m\u001b[49m\u001b[47m\u001b[30mT\u001b[39m\u001b[49m\u001b[47m\u001b[30mT\u001b[39m\u001b[49m\u001b[47m\u001b[30mA\u001b[39m\u001b[49m\u001b[47m\u001b[30mC\u001b[39m\u001b[49m\u001b[47m\u001b[30mA\u001b[39m\u001b[49m\u001b[47m\u001b[30mT\u001b[39m\u001b[49m\u001b[47m\u001b[30mT\u001b[39m\u001b[49m\u001b[47m\u001b[30mA\u001b[39m\u001b[49m\u001b[47m\u001b[30mC\u001b[39m\u001b[49m\u001b[47m\u001b[30mA\u001b[39m\u001b[49m\u001b[47m\u001b[30mC\u001b[39m\u001b[49m\u001b[47m\u001b[30mA\u001b[39m\u001b[49m\u001b[47m\u001b[30mT\u001b[39m\u001b[49m\u001b[47m\u001b[30mA\u001b[39m\u001b[49m\u001b[47m\u001b[30mA\u001b[39m\u001b[49m WHP8107-A4v1_1082351"
            ]
          },
          "metadata": {}
        }
      ]
    },
    {
      "cell_type": "code",
      "source": [
        "# The second sequence is also extracted and converted to a string\n",
        "second_sequence <- dna_sequences[[2]]\n",
        "dna_sequence_2 <- as.character(second_sequence)\n",
        "dna_sequence_2"
      ],
      "metadata": {
        "colab": {
          "base_uri": "https://localhost:8080/",
          "height": 124
        },
        "id": "I57n3Xy2iObh",
        "outputId": "df1f8b1b-787b-4ba3-f258-272024818720"
      },
      "execution_count": null,
      "outputs": [
        {
          "output_type": "display_data",
          "data": {
            "text/html": [
              "'ATGTTTGGTTTTCTTGTTTTATTGCCACTAGTCTCTAGTCAGTGTGTTAATCTTATAACCAGAACTCAAT---------CATACACTAATTCTTTCACACGTGGTGTTTATTACCCTGACAAAGTTTTCAGATCCTCAGTTTTACATTCAACTCAGGACTTGTTCTTACCTTTCTTTTCCAATGTTACTTGGTTCCATGCTA------TCTCTGGGACCAATGGTACTAAGAGGTTTGATAACCCTGTCCTACCATTTAATGATGGTGTTTATTTTGCTTCCACTGAGAAGTCTAACATAATAAGAGGCTGGATTTTTGGTACTACTTTAGATTCGAAGACCCAGTCCCTACTTATTGTTAATAACGCTACTAATGTTGTTATTAAAGTCTGTGAATTTCAATTTTGTAATGATCCATTTTTGGATGTTTATTACCACAAAAACAACAAAAGTTGGATGGAAAGTGAGTTCAGAGTTTATTCTAGTGCGAATAATTGCACTTTTGAATATGTCTCTCAGCCTTTTCTTATGGACCTTGAAGGAAAACAGGGTAATTTCAAAAATCTTAGGGAATTTGTGTTTAAGAATATTGATGGTTATTTTAAAATATATTCTAAGCACACGCCTATTAATTTAGGGCGTGATCTCCCTCAGGGTTTTTCGGCTTTAGAACCATTGGTAGATTTGCCAATAGGTATTAACATCACTAGGTTTCAAACTTTACTTGCTTTACATAGAAGTTATTTGACTCCTGGTGATTCTTCTTCAGGTTGGACAGCTGGTGCTGCAGCTTATTATGTGGGTTATCTTCAACCTAGGACTTTTCTATTAAAATATAATGAAAATGGAACCATTACAGATGCTGTAGACTGTGCACTTGACCCTCTCTCAGAAACAAAGTGTACGTTGAAATCCTTCACTGTAGAAAAAGGAATCTATCAAACTTCTAACTTTAGAGTCCAACCAACAGAATCTATTGTTAGATTTCCTAATATTACAAACTTGTGCCCTTTTGATGAAGTTTTTAACGCCACCAGATTTGCATCTGTTTATGCTTGGAACAGGAAGAAAATCAGCAACTGTGTTGCTGATTATTCTGTCCTATATAATTTCGCACCATTTTTCGCTTTTAAGTGTTATGGAGTGTCTCCTACTAAATTAAATGATCTCTGCTTTACTAATGTCTATGCAGATTCATTTGTAATTAGAGGTAATGAAGTCAGCCAAATCGCTCCAGGGCAAACTGGAAATATTGCTGATTATAATTATAAATTACCAGATGATTTTACAGGCTGCGTTATAGCTTGGAATTCTAACAAGCTTGATTCTAAGGTTGGTGGTAATTATAATTACCGGTATAGATTGTTTAGGAAGTCTAATCTCAAACCTTTTGAGAGAGATATTTCAACTGAAATCTATCAGGCCGGTAACAAACCTTGTAATGGTGTTGCAGGTGTTAATTGTTACTTTCCTTTACAATCATATGGTTTCCGACCCACTTATGGTGTTGGTCACCAACCATACAGAGTAGTAGTACTTTCTTTTGAACTTCTACATGCACCAGCAACTGTTTGTGGACCTAAAAAGTCTACTAATTTGGTTAAAAACAAATGTGTCAATTTCAACTTCAATGGTTTAACAGGCACAGGTGTTCTTACTGAGTCTAACAAAAAGTTTCTGCCTTTCCAACAATTTGGCAGAGACATTGCTGACACTACTGATGCTGTCCGTGATCCACAGACACTTGAGATTCTTGACATTACACCATGTTCTTTTGGTGGTGTCAGTGTTATAACACCAGGAACAAATACTTCTAACCAGGTTGCTGTTCTTTATCAGGGTGTTAACTGCACAGAAGTCCCTGTTGCTATTCATGCAGATCAACTTACTCCTACTTGGCGTGTTTATTCTACAGGTTCTAATGTTTTTCAAACACGTGCAGGCTGTTTAATAGGGGCTGAATATGTCAACAACTCATATGAGTGTGACATACCCATTGGTGCAGGTATATGCGCTAGTTATCAGACTCAGACTAAGTCTCATCGGCGGGCACGTAGTGTAGTTAGTCAATCCATCATTGCCTACACTATGTCACTTGGTGCAGAAAATTCAGTTGCTTACTCTAATAACTCTATTGCCATACCCACAAATTTTACTATTAGTGTTACCACAGAAATTCTACCAGTGTCTATGACCAAGACATCAGTAGATTGTACAATGTACATTTGTGGTGATTCAACTGAATGCAGCAATCTTTTGTTGCAATATGGCAGTTTTTGTACACAATTAAAACGTGCTTTAACTGGAATAGCTGTTGAACAAGACAAAAACACCCAAGAAGTTTTTGCACAAGTCAAACAAATTTACAAAACACCACCAATTAAATATTTTGGTGGTTTTAATTTTTCACAAATATTACCAGATCCATCAAAACCAAGCAAGAGGTCATTTATTGAAGATCTACTTTTCAACAAAGTGACACTTGCAGATGCTGGCTTCATCAAACAATATGGTGATTGCCTTGGTGATATTGCTGCTAGAGACCTCATTTGTGCACAAAAGTTTAATGGCCTTACTGTTTTGCCACCTTTGCTCACAGATGAAATGATTGCTCAATACACTTCTGCACTGTTAGCGGGTACAATCACTTCTGGTTGGACCTTTGGTGCAGGTGCTGCATTACAAATACCATTTGCTATGCAAATGGCTTATAGGTTTAATGGTATTGGAGTTACACAGAATGTTCTCTATGAGAACCAAAAATTGATTGCCAACCAATTTAATAGTGCTATTGGCAAAATTCAAGACTCACTTTCTTCCACAGCAAGTGCACTTGGAAAACTTCAAGATGTGGTCAACCATAATGCACAAGCTTTAAACACGCTTGTTAAACAACTTAGCTCCAAATTTGGTGCAATTTCAAGTGTTTTAAATGATATCCTTTCACGTCTTGACAAAGTTGAGGCTGAAGTGCAAATTGATAGGTTGATCACAGGCAGACTTCAAAGTTTGCAGACATATGTGACTCAACAATTAATTAGAGCTGCAGAAATCAGAGCTTCTGCTAATCTTGCTGCTACTAAAATGTCAGAGTGTGTACTTGGACAATCAAAAAGAGTTGATTTTTGTGGAAAGGGCTATCATCTTATGTCCTTCCCTCAGTCAGCACCTCATGGTGTAGTCTTCTTGCATGTGACTTATGTCCCTGCACAAGAAAAGAACTTCACAACTGCTCCTGCCATTTGTCATGATGGAAAAGCACACTTTCCTCGTGAAGGTGTCTTTGTTTCAAATGGCACACACTGGTTTGTAACACAAAGGAATTTTTATGAACCACAAATCATTACTACAGACAACACATTTGTGTCTGGTAACTGTGATGTTGTAATAGGAATTGTCAACAACACAGTTTATGATCCTTTGCAACCTGAATTAGATTCATTCAAGGAGGAGTTAGATAAATATTTTAAGAATCATACATCACCAGATGTTGATTTAGGTGACATCTCTGGCATTAATGCTTCAGTTGTAAACATTCAAAAAGAAATTGACCGCCTCAATGAGGTTGCCAAGAATTTAAATGAATCTCTCATCGATCTCCAAGAACTTGGAAAGTATGAGCAGTATATAAAATGGCCATGGTACATTTGGCTAGGTTTTATAGCTGGCTTGATTGCCATAGTAATGGTGACAATTATGCTTTGCTGTATGACCAGTTGCTGTAGTTGTCTCAAGGGCTGTTGTTCTTGTGGATCCTGCTGCAAATTTGATGAAGACGACTCTGAGCCAGTGCTCAAAGGAGTCAAATTACATTACACATAA'"
            ],
            "text/markdown": "'ATGTTTGGTTTTCTTGTTTTATTGCCACTAGTCTCTAGTCAGTGTGTTAATCTTATAACCAGAACTCAAT---------CATACACTAATTCTTTCACACGTGGTGTTTATTACCCTGACAAAGTTTTCAGATCCTCAGTTTTACATTCAACTCAGGACTTGTTCTTACCTTTCTTTTCCAATGTTACTTGGTTCCATGCTA------TCTCTGGGACCAATGGTACTAAGAGGTTTGATAACCCTGTCCTACCATTTAATGATGGTGTTTATTTTGCTTCCACTGAGAAGTCTAACATAATAAGAGGCTGGATTTTTGGTACTACTTTAGATTCGAAGACCCAGTCCCTACTTATTGTTAATAACGCTACTAATGTTGTTATTAAAGTCTGTGAATTTCAATTTTGTAATGATCCATTTTTGGATGTTTATTACCACAAAAACAACAAAAGTTGGATGGAAAGTGAGTTCAGAGTTTATTCTAGTGCGAATAATTGCACTTTTGAATATGTCTCTCAGCCTTTTCTTATGGACCTTGAAGGAAAACAGGGTAATTTCAAAAATCTTAGGGAATTTGTGTTTAAGAATATTGATGGTTATTTTAAAATATATTCTAAGCACACGCCTATTAATTTAGGGCGTGATCTCCCTCAGGGTTTTTCGGCTTTAGAACCATTGGTAGATTTGCCAATAGGTATTAACATCACTAGGTTTCAAACTTTACTTGCTTTACATAGAAGTTATTTGACTCCTGGTGATTCTTCTTCAGGTTGGACAGCTGGTGCTGCAGCTTATTATGTGGGTTATCTTCAACCTAGGACTTTTCTATTAAAATATAATGAAAATGGAACCATTACAGATGCTGTAGACTGTGCACTTGACCCTCTCTCAGAAACAAAGTGTACGTTGAAATCCTTCACTGTAGAAAAAGGAATCTATCAAACTTCTAACTTTAGAGTCCAACCAACAGAATCTATTGTTAGATTTCCTAATATTACAAACTTGTGCCCTTTTGATGAAGTTTTTAACGCCACCAGATTTGCATCTGTTTATGCTTGGAACAGGAAGAAAATCAGCAACTGTGTTGCTGATTATTCTGTCCTATATAATTTCGCACCATTTTTCGCTTTTAAGTGTTATGGAGTGTCTCCTACTAAATTAAATGATCTCTGCTTTACTAATGTCTATGCAGATTCATTTGTAATTAGAGGTAATGAAGTCAGCCAAATCGCTCCAGGGCAAACTGGAAATATTGCTGATTATAATTATAAATTACCAGATGATTTTACAGGCTGCGTTATAGCTTGGAATTCTAACAAGCTTGATTCTAAGGTTGGTGGTAATTATAATTACCGGTATAGATTGTTTAGGAAGTCTAATCTCAAACCTTTTGAGAGAGATATTTCAACTGAAATCTATCAGGCCGGTAACAAACCTTGTAATGGTGTTGCAGGTGTTAATTGTTACTTTCCTTTACAATCATATGGTTTCCGACCCACTTATGGTGTTGGTCACCAACCATACAGAGTAGTAGTACTTTCTTTTGAACTTCTACATGCACCAGCAACTGTTTGTGGACCTAAAAAGTCTACTAATTTGGTTAAAAACAAATGTGTCAATTTCAACTTCAATGGTTTAACAGGCACAGGTGTTCTTACTGAGTCTAACAAAAAGTTTCTGCCTTTCCAACAATTTGGCAGAGACATTGCTGACACTACTGATGCTGTCCGTGATCCACAGACACTTGAGATTCTTGACATTACACCATGTTCTTTTGGTGGTGTCAGTGTTATAACACCAGGAACAAATACTTCTAACCAGGTTGCTGTTCTTTATCAGGGTGTTAACTGCACAGAAGTCCCTGTTGCTATTCATGCAGATCAACTTACTCCTACTTGGCGTGTTTATTCTACAGGTTCTAATGTTTTTCAAACACGTGCAGGCTGTTTAATAGGGGCTGAATATGTCAACAACTCATATGAGTGTGACATACCCATTGGTGCAGGTATATGCGCTAGTTATCAGACTCAGACTAAGTCTCATCGGCGGGCACGTAGTGTAGTTAGTCAATCCATCATTGCCTACACTATGTCACTTGGTGCAGAAAATTCAGTTGCTTACTCTAATAACTCTATTGCCATACCCACAAATTTTACTATTAGTGTTACCACAGAAATTCTACCAGTGTCTATGACCAAGACATCAGTAGATTGTACAATGTACATTTGTGGTGATTCAACTGAATGCAGCAATCTTTTGTTGCAATATGGCAGTTTTTGTACACAATTAAAACGTGCTTTAACTGGAATAGCTGTTGAACAAGACAAAAACACCCAAGAAGTTTTTGCACAAGTCAAACAAATTTACAAAACACCACCAATTAAATATTTTGGTGGTTTTAATTTTTCACAAATATTACCAGATCCATCAAAACCAAGCAAGAGGTCATTTATTGAAGATCTACTTTTCAACAAAGTGACACTTGCAGATGCTGGCTTCATCAAACAATATGGTGATTGCCTTGGTGATATTGCTGCTAGAGACCTCATTTGTGCACAAAAGTTTAATGGCCTTACTGTTTTGCCACCTTTGCTCACAGATGAAATGATTGCTCAATACACTTCTGCACTGTTAGCGGGTACAATCACTTCTGGTTGGACCTTTGGTGCAGGTGCTGCATTACAAATACCATTTGCTATGCAAATGGCTTATAGGTTTAATGGTATTGGAGTTACACAGAATGTTCTCTATGAGAACCAAAAATTGATTGCCAACCAATTTAATAGTGCTATTGGCAAAATTCAAGACTCACTTTCTTCCACAGCAAGTGCACTTGGAAAACTTCAAGATGTGGTCAACCATAATGCACAAGCTTTAAACACGCTTGTTAAACAACTTAGCTCCAAATTTGGTGCAATTTCAAGTGTTTTAAATGATATCCTTTCACGTCTTGACAAAGTTGAGGCTGAAGTGCAAATTGATAGGTTGATCACAGGCAGACTTCAAAGTTTGCAGACATATGTGACTCAACAATTAATTAGAGCTGCAGAAATCAGAGCTTCTGCTAATCTTGCTGCTACTAAAATGTCAGAGTGTGTACTTGGACAATCAAAAAGAGTTGATTTTTGTGGAAAGGGCTATCATCTTATGTCCTTCCCTCAGTCAGCACCTCATGGTGTAGTCTTCTTGCATGTGACTTATGTCCCTGCACAAGAAAAGAACTTCACAACTGCTCCTGCCATTTGTCATGATGGAAAAGCACACTTTCCTCGTGAAGGTGTCTTTGTTTCAAATGGCACACACTGGTTTGTAACACAAAGGAATTTTTATGAACCACAAATCATTACTACAGACAACACATTTGTGTCTGGTAACTGTGATGTTGTAATAGGAATTGTCAACAACACAGTTTATGATCCTTTGCAACCTGAATTAGATTCATTCAAGGAGGAGTTAGATAAATATTTTAAGAATCATACATCACCAGATGTTGATTTAGGTGACATCTCTGGCATTAATGCTTCAGTTGTAAACATTCAAAAAGAAATTGACCGCCTCAATGAGGTTGCCAAGAATTTAAATGAATCTCTCATCGATCTCCAAGAACTTGGAAAGTATGAGCAGTATATAAAATGGCCATGGTACATTTGGCTAGGTTTTATAGCTGGCTTGATTGCCATAGTAATGGTGACAATTATGCTTTGCTGTATGACCAGTTGCTGTAGTTGTCTCAAGGGCTGTTGTTCTTGTGGATCCTGCTGCAAATTTGATGAAGACGACTCTGAGCCAGTGCTCAAAGGAGTCAAATTACATTACACATAA'",
            "text/latex": "'ATGTTTGGTTTTCTTGTTTTATTGCCACTAGTCTCTAGTCAGTGTGTTAATCTTATAACCAGAACTCAAT---------CATACACTAATTCTTTCACACGTGGTGTTTATTACCCTGACAAAGTTTTCAGATCCTCAGTTTTACATTCAACTCAGGACTTGTTCTTACCTTTCTTTTCCAATGTTACTTGGTTCCATGCTA------TCTCTGGGACCAATGGTACTAAGAGGTTTGATAACCCTGTCCTACCATTTAATGATGGTGTTTATTTTGCTTCCACTGAGAAGTCTAACATAATAAGAGGCTGGATTTTTGGTACTACTTTAGATTCGAAGACCCAGTCCCTACTTATTGTTAATAACGCTACTAATGTTGTTATTAAAGTCTGTGAATTTCAATTTTGTAATGATCCATTTTTGGATGTTTATTACCACAAAAACAACAAAAGTTGGATGGAAAGTGAGTTCAGAGTTTATTCTAGTGCGAATAATTGCACTTTTGAATATGTCTCTCAGCCTTTTCTTATGGACCTTGAAGGAAAACAGGGTAATTTCAAAAATCTTAGGGAATTTGTGTTTAAGAATATTGATGGTTATTTTAAAATATATTCTAAGCACACGCCTATTAATTTAGGGCGTGATCTCCCTCAGGGTTTTTCGGCTTTAGAACCATTGGTAGATTTGCCAATAGGTATTAACATCACTAGGTTTCAAACTTTACTTGCTTTACATAGAAGTTATTTGACTCCTGGTGATTCTTCTTCAGGTTGGACAGCTGGTGCTGCAGCTTATTATGTGGGTTATCTTCAACCTAGGACTTTTCTATTAAAATATAATGAAAATGGAACCATTACAGATGCTGTAGACTGTGCACTTGACCCTCTCTCAGAAACAAAGTGTACGTTGAAATCCTTCACTGTAGAAAAAGGAATCTATCAAACTTCTAACTTTAGAGTCCAACCAACAGAATCTATTGTTAGATTTCCTAATATTACAAACTTGTGCCCTTTTGATGAAGTTTTTAACGCCACCAGATTTGCATCTGTTTATGCTTGGAACAGGAAGAAAATCAGCAACTGTGTTGCTGATTATTCTGTCCTATATAATTTCGCACCATTTTTCGCTTTTAAGTGTTATGGAGTGTCTCCTACTAAATTAAATGATCTCTGCTTTACTAATGTCTATGCAGATTCATTTGTAATTAGAGGTAATGAAGTCAGCCAAATCGCTCCAGGGCAAACTGGAAATATTGCTGATTATAATTATAAATTACCAGATGATTTTACAGGCTGCGTTATAGCTTGGAATTCTAACAAGCTTGATTCTAAGGTTGGTGGTAATTATAATTACCGGTATAGATTGTTTAGGAAGTCTAATCTCAAACCTTTTGAGAGAGATATTTCAACTGAAATCTATCAGGCCGGTAACAAACCTTGTAATGGTGTTGCAGGTGTTAATTGTTACTTTCCTTTACAATCATATGGTTTCCGACCCACTTATGGTGTTGGTCACCAACCATACAGAGTAGTAGTACTTTCTTTTGAACTTCTACATGCACCAGCAACTGTTTGTGGACCTAAAAAGTCTACTAATTTGGTTAAAAACAAATGTGTCAATTTCAACTTCAATGGTTTAACAGGCACAGGTGTTCTTACTGAGTCTAACAAAAAGTTTCTGCCTTTCCAACAATTTGGCAGAGACATTGCTGACACTACTGATGCTGTCCGTGATCCACAGACACTTGAGATTCTTGACATTACACCATGTTCTTTTGGTGGTGTCAGTGTTATAACACCAGGAACAAATACTTCTAACCAGGTTGCTGTTCTTTATCAGGGTGTTAACTGCACAGAAGTCCCTGTTGCTATTCATGCAGATCAACTTACTCCTACTTGGCGTGTTTATTCTACAGGTTCTAATGTTTTTCAAACACGTGCAGGCTGTTTAATAGGGGCTGAATATGTCAACAACTCATATGAGTGTGACATACCCATTGGTGCAGGTATATGCGCTAGTTATCAGACTCAGACTAAGTCTCATCGGCGGGCACGTAGTGTAGTTAGTCAATCCATCATTGCCTACACTATGTCACTTGGTGCAGAAAATTCAGTTGCTTACTCTAATAACTCTATTGCCATACCCACAAATTTTACTATTAGTGTTACCACAGAAATTCTACCAGTGTCTATGACCAAGACATCAGTAGATTGTACAATGTACATTTGTGGTGATTCAACTGAATGCAGCAATCTTTTGTTGCAATATGGCAGTTTTTGTACACAATTAAAACGTGCTTTAACTGGAATAGCTGTTGAACAAGACAAAAACACCCAAGAAGTTTTTGCACAAGTCAAACAAATTTACAAAACACCACCAATTAAATATTTTGGTGGTTTTAATTTTTCACAAATATTACCAGATCCATCAAAACCAAGCAAGAGGTCATTTATTGAAGATCTACTTTTCAACAAAGTGACACTTGCAGATGCTGGCTTCATCAAACAATATGGTGATTGCCTTGGTGATATTGCTGCTAGAGACCTCATTTGTGCACAAAAGTTTAATGGCCTTACTGTTTTGCCACCTTTGCTCACAGATGAAATGATTGCTCAATACACTTCTGCACTGTTAGCGGGTACAATCACTTCTGGTTGGACCTTTGGTGCAGGTGCTGCATTACAAATACCATTTGCTATGCAAATGGCTTATAGGTTTAATGGTATTGGAGTTACACAGAATGTTCTCTATGAGAACCAAAAATTGATTGCCAACCAATTTAATAGTGCTATTGGCAAAATTCAAGACTCACTTTCTTCCACAGCAAGTGCACTTGGAAAACTTCAAGATGTGGTCAACCATAATGCACAAGCTTTAAACACGCTTGTTAAACAACTTAGCTCCAAATTTGGTGCAATTTCAAGTGTTTTAAATGATATCCTTTCACGTCTTGACAAAGTTGAGGCTGAAGTGCAAATTGATAGGTTGATCACAGGCAGACTTCAAAGTTTGCAGACATATGTGACTCAACAATTAATTAGAGCTGCAGAAATCAGAGCTTCTGCTAATCTTGCTGCTACTAAAATGTCAGAGTGTGTACTTGGACAATCAAAAAGAGTTGATTTTTGTGGAAAGGGCTATCATCTTATGTCCTTCCCTCAGTCAGCACCTCATGGTGTAGTCTTCTTGCATGTGACTTATGTCCCTGCACAAGAAAAGAACTTCACAACTGCTCCTGCCATTTGTCATGATGGAAAAGCACACTTTCCTCGTGAAGGTGTCTTTGTTTCAAATGGCACACACTGGTTTGTAACACAAAGGAATTTTTATGAACCACAAATCATTACTACAGACAACACATTTGTGTCTGGTAACTGTGATGTTGTAATAGGAATTGTCAACAACACAGTTTATGATCCTTTGCAACCTGAATTAGATTCATTCAAGGAGGAGTTAGATAAATATTTTAAGAATCATACATCACCAGATGTTGATTTAGGTGACATCTCTGGCATTAATGCTTCAGTTGTAAACATTCAAAAAGAAATTGACCGCCTCAATGAGGTTGCCAAGAATTTAAATGAATCTCTCATCGATCTCCAAGAACTTGGAAAGTATGAGCAGTATATAAAATGGCCATGGTACATTTGGCTAGGTTTTATAGCTGGCTTGATTGCCATAGTAATGGTGACAATTATGCTTTGCTGTATGACCAGTTGCTGTAGTTGTCTCAAGGGCTGTTGTTCTTGTGGATCCTGCTGCAAATTTGATGAAGACGACTCTGAGCCAGTGCTCAAAGGAGTCAAATTACATTACACATAA'",
            "text/plain": [
              "[1] \"ATGTTTGGTTTTCTTGTTTTATTGCCACTAGTCTCTAGTCAGTGTGTTAATCTTATAACCAGAACTCAAT---------CATACACTAATTCTTTCACACGTGGTGTTTATTACCCTGACAAAGTTTTCAGATCCTCAGTTTTACATTCAACTCAGGACTTGTTCTTACCTTTCTTTTCCAATGTTACTTGGTTCCATGCTA------TCTCTGGGACCAATGGTACTAAGAGGTTTGATAACCCTGTCCTACCATTTAATGATGGTGTTTATTTTGCTTCCACTGAGAAGTCTAACATAATAAGAGGCTGGATTTTTGGTACTACTTTAGATTCGAAGACCCAGTCCCTACTTATTGTTAATAACGCTACTAATGTTGTTATTAAAGTCTGTGAATTTCAATTTTGTAATGATCCATTTTTGGATGTTTATTACCACAAAAACAACAAAAGTTGGATGGAAAGTGAGTTCAGAGTTTATTCTAGTGCGAATAATTGCACTTTTGAATATGTCTCTCAGCCTTTTCTTATGGACCTTGAAGGAAAACAGGGTAATTTCAAAAATCTTAGGGAATTTGTGTTTAAGAATATTGATGGTTATTTTAAAATATATTCTAAGCACACGCCTATTAATTTAGGGCGTGATCTCCCTCAGGGTTTTTCGGCTTTAGAACCATTGGTAGATTTGCCAATAGGTATTAACATCACTAGGTTTCAAACTTTACTTGCTTTACATAGAAGTTATTTGACTCCTGGTGATTCTTCTTCAGGTTGGACAGCTGGTGCTGCAGCTTATTATGTGGGTTATCTTCAACCTAGGACTTTTCTATTAAAATATAATGAAAATGGAACCATTACAGATGCTGTAGACTGTGCACTTGACCCTCTCTCAGAAACAAAGTGTACGTTGAAATCCTTCACTGTAGAAAAAGGAATCTATCAAACTTCTAACTTTAGAGTCCAACCAACAGAATCTATTGTTAGATTTCCTAATATTACAAACTTGTGCCCTTTTGATGAAGTTTTTAACGCCACCAGATTTGCATCTGTTTATGCTTGGAACAGGAAGAAAATCAGCAACTGTGTTGCTGATTATTCTGTCCTATATAATTTCGCACCATTTTTCGCTTTTAAGTGTTATGGAGTGTCTCCTACTAAATTAAATGATCTCTGCTTTACTAATGTCTATGCAGATTCATTTGTAATTAGAGGTAATGAAGTCAGCCAAATCGCTCCAGGGCAAACTGGAAATATTGCTGATTATAATTATAAATTACCAGATGATTTTACAGGCTGCGTTATAGCTTGGAATTCTAACAAGCTTGATTCTAAGGTTGGTGGTAATTATAATTACCGGTATAGATTGTTTAGGAAGTCTAATCTCAAACCTTTTGAGAGAGATATTTCAACTGAAATCTATCAGGCCGGTAACAAACCTTGTAATGGTGTTGCAGGTGTTAATTGTTACTTTCCTTTACAATCATATGGTTTCCGACCCACTTATGGTGTTGGTCACCAACCATACAGAGTAGTAGTACTTTCTTTTGAACTTCTACATGCACCAGCAACTGTTTGTGGACCTAAAAAGTCTACTAATTTGGTTAAAAACAAATGTGTCAATTTCAACTTCAATGGTTTAACAGGCACAGGTGTTCTTACTGAGTCTAACAAAAAGTTTCTGCCTTTCCAACAATTTGGCAGAGACATTGCTGACACTACTGATGCTGTCCGTGATCCACAGACACTTGAGATTCTTGACATTACACCATGTTCTTTTGGTGGTGTCAGTGTTATAACACCAGGAACAAATACTTCTAACCAGGTTGCTGTTCTTTATCAGGGTGTTAACTGCACAGAAGTCCCTGTTGCTATTCATGCAGATCAACTTACTCCTACTTGGCGTGTTTATTCTACAGGTTCTAATGTTTTTCAAACACGTGCAGGCTGTTTAATAGGGGCTGAATATGTCAACAACTCATATGAGTGTGACATACCCATTGGTGCAGGTATATGCGCTAGTTATCAGACTCAGACTAAGTCTCATCGGCGGGCACGTAGTGTAGTTAGTCAATCCATCATTGCCTACACTATGTCACTTGGTGCAGAAAATTCAGTTGCTTACTCTAATAACTCTATTGCCATACCCACAAATTTTACTATTAGTGTTACCACAGAAATTCTACCAGTGTCTATGACCAAGACATCAGTAGATTGTACAATGTACATTTGTGGTGATTCAACTGAATGCAGCAATCTTTTGTTGCAATATGGCAGTTTTTGTACACAATTAAAACGTGCTTTAACTGGAATAGCTGTTGAACAAGACAAAAACACCCAAGAAGTTTTTGCACAAGTCAAACAAATTTACAAAACACCACCAATTAAATATTTTGGTGGTTTTAATTTTTCACAAATATTACCAGATCCATCAAAACCAAGCAAGAGGTCATTTATTGAAGATCTACTTTTCAACAAAGTGACACTTGCAGATGCTGGCTTCATCAAACAATATGGTGATTGCCTTGGTGATATTGCTGCTAGAGACCTCATTTGTGCACAAAAGTTTAATGGCCTTACTGTTTTGCCACCTTTGCTCACAGATGAAATGATTGCTCAATACACTTCTGCACTGTTAGCGGGTACAATCACTTCTGGTTGGACCTTTGGTGCAGGTGCTGCATTACAAATACCATTTGCTATGCAAATGGCTTATAGGTTTAATGGTATTGGAGTTACACAGAATGTTCTCTATGAGAACCAAAAATTGATTGCCAACCAATTTAATAGTGCTATTGGCAAAATTCAAGACTCACTTTCTTCCACAGCAAGTGCACTTGGAAAACTTCAAGATGTGGTCAACCATAATGCACAAGCTTTAAACACGCTTGTTAAACAACTTAGCTCCAAATTTGGTGCAATTTCAAGTGTTTTAAATGATATCCTTTCACGTCTTGACAAAGTTGAGGCTGAAGTGCAAATTGATAGGTTGATCACAGGCAGACTTCAAAGTTTGCAGACATATGTGACTCAACAATTAATTAGAGCTGCAGAAATCAGAGCTTCTGCTAATCTTGCTGCTACTAAAATGTCAGAGTGTGTACTTGGACAATCAAAAAGAGTTGATTTTTGTGGAAAGGGCTATCATCTTATGTCCTTCCCTCAGTCAGCACCTCATGGTGTAGTCTTCTTGCATGTGACTTATGTCCCTGCACAAGAAAAGAACTTCACAACTGCTCCTGCCATTTGTCATGATGGAAAAGCACACTTTCCTCGTGAAGGTGTCTTTGTTTCAAATGGCACACACTGGTTTGTAACACAAAGGAATTTTTATGAACCACAAATCATTACTACAGACAACACATTTGTGTCTGGTAACTGTGATGTTGTAATAGGAATTGTCAACAACACAGTTTATGATCCTTTGCAACCTGAATTAGATTCATTCAAGGAGGAGTTAGATAAATATTTTAAGAATCATACATCACCAGATGTTGATTTAGGTGACATCTCTGGCATTAATGCTTCAGTTGTAAACATTCAAAAAGAAATTGACCGCCTCAATGAGGTTGCCAAGAATTTAAATGAATCTCTCATCGATCTCCAAGAACTTGGAAAGTATGAGCAGTATATAAAATGGCCATGGTACATTTGGCTAGGTTTTATAGCTGGCTTGATTGCCATAGTAATGGTGACAATTATGCTTTGCTGTATGACCAGTTGCTGTAGTTGTCTCAAGGGCTGTTGTTCTTGTGGATCCTGCTGCAAATTTGATGAAGACGACTCTGAGCCAGTGCTCAAAGGAGTCAAATTACATTACACATAA\""
            ]
          },
          "metadata": {}
        }
      ]
    },
    {
      "cell_type": "code",
      "source": [
        "# Split the second sequence into codons\n",
        "codons <- sapply(seq(1, nchar(dna_sequence_2) - 2, by = 3),\n",
        "                 function(i) substring(dna_sequence_2, i, i + 2))\n",
        "codons"
      ],
      "metadata": {
        "colab": {
          "base_uri": "https://localhost:8080/",
          "height": 607
        },
        "id": "U5AfO2fSjYH6",
        "outputId": "3c239f42-5280-4405-aaac-81fc7e3e2ead"
      },
      "execution_count": null,
      "outputs": [
        {
          "output_type": "display_data",
          "data": {
            "text/html": [
              "<style>\n",
              ".list-inline {list-style: none; margin:0; padding: 0}\n",
              ".list-inline>li {display: inline-block}\n",
              ".list-inline>li:not(:last-child)::after {content: \"\\00b7\"; padding: 0 .5ex}\n",
              "</style>\n",
              "<ol class=list-inline><li>'ATG'</li><li>'TTT'</li><li>'GGT'</li><li>'TTT'</li><li>'CTT'</li><li>'GTT'</li><li>'TTA'</li><li>'TTG'</li><li>'CCA'</li><li>'CTA'</li><li>'GTC'</li><li>'TCT'</li><li>'AGT'</li><li>'CAG'</li><li>'TGT'</li><li>'GTT'</li><li>'AAT'</li><li>'CTT'</li><li>'ATA'</li><li>'ACC'</li><li>'AGA'</li><li>'ACT'</li><li>'CAA'</li><li>'T--'</li><li>'---'</li><li>'---'</li><li>'-CA'</li><li>'TAC'</li><li>'ACT'</li><li>'AAT'</li><li>'TCT'</li><li>'TTC'</li><li>'ACA'</li><li>'CGT'</li><li>'GGT'</li><li>'GTT'</li><li>'TAT'</li><li>'TAC'</li><li>'CCT'</li><li>'GAC'</li><li>'AAA'</li><li>'GTT'</li><li>'TTC'</li><li>'AGA'</li><li>'TCC'</li><li>'TCA'</li><li>'GTT'</li><li>'TTA'</li><li>'CAT'</li><li>'TCA'</li><li>'ACT'</li><li>'CAG'</li><li>'GAC'</li><li>'TTG'</li><li>'TTC'</li><li>'TTA'</li><li>'CCT'</li><li>'TTC'</li><li>'TTT'</li><li>'TCC'</li><li>'AAT'</li><li>'GTT'</li><li>'ACT'</li><li>'TGG'</li><li>'TTC'</li><li>'CAT'</li><li>'GCT'</li><li>'A--'</li><li>'---'</li><li>'-TC'</li><li>'TCT'</li><li>'GGG'</li><li>'ACC'</li><li>'AAT'</li><li>'GGT'</li><li>'ACT'</li><li>'AAG'</li><li>'AGG'</li><li>'TTT'</li><li>'GAT'</li><li>'AAC'</li><li>'CCT'</li><li>'GTC'</li><li>'CTA'</li><li>'CCA'</li><li>'TTT'</li><li>'AAT'</li><li>'GAT'</li><li>'GGT'</li><li>'GTT'</li><li>'TAT'</li><li>'TTT'</li><li>'GCT'</li><li>'TCC'</li><li>'ACT'</li><li>'GAG'</li><li>'AAG'</li><li>'TCT'</li><li>'AAC'</li><li>'ATA'</li><li>'ATA'</li><li>'AGA'</li><li>'GGC'</li><li>'TGG'</li><li>'ATT'</li><li>'TTT'</li><li>'GGT'</li><li>'ACT'</li><li>'ACT'</li><li>'TTA'</li><li>'GAT'</li><li>'TCG'</li><li>'AAG'</li><li>'ACC'</li><li>'CAG'</li><li>'TCC'</li><li>'CTA'</li><li>'CTT'</li><li>'ATT'</li><li>'GTT'</li><li>'AAT'</li><li>'AAC'</li><li>'GCT'</li><li>'ACT'</li><li>'AAT'</li><li>'GTT'</li><li>'GTT'</li><li>'ATT'</li><li>'AAA'</li><li>'GTC'</li><li>'TGT'</li><li>'GAA'</li><li>'TTT'</li><li>'CAA'</li><li>'TTT'</li><li>'TGT'</li><li>'AAT'</li><li>'GAT'</li><li>'CCA'</li><li>'TTT'</li><li>'TTG'</li><li>'GAT'</li><li>'GTT'</li><li>'TAT'</li><li>'TAC'</li><li>'CAC'</li><li>'AAA'</li><li>'AAC'</li><li>'AAC'</li><li>'AAA'</li><li>'AGT'</li><li>'TGG'</li><li>'ATG'</li><li>'GAA'</li><li>'AGT'</li><li>'GAG'</li><li>'TTC'</li><li>'AGA'</li><li>'GTT'</li><li>'TAT'</li><li>'TCT'</li><li>'AGT'</li><li>'GCG'</li><li>'AAT'</li><li>'AAT'</li><li>'TGC'</li><li>'ACT'</li><li>'TTT'</li><li>'GAA'</li><li>'TAT'</li><li>'GTC'</li><li>'TCT'</li><li>'CAG'</li><li>'CCT'</li><li>'TTT'</li><li>'CTT'</li><li>'ATG'</li><li>'GAC'</li><li>'CTT'</li><li>'GAA'</li><li>'GGA'</li><li>'AAA'</li><li>'CAG'</li><li>'GGT'</li><li>'AAT'</li><li>'TTC'</li><li>'AAA'</li><li>'AAT'</li><li>'CTT'</li><li>'AGG'</li><li>'GAA'</li><li>'TTT'</li><li>'GTG'</li><li>'TTT'</li><li>'AAG'</li><li>'AAT'</li><li>'ATT'</li><li>'GAT'</li><li>'GGT'</li><li>'TAT'</li><li>⋯</li><li>'TTC'</li><li>'ACA'</li><li>'ACT'</li><li>'GCT'</li><li>'CCT'</li><li>'GCC'</li><li>'ATT'</li><li>'TGT'</li><li>'CAT'</li><li>'GAT'</li><li>'GGA'</li><li>'AAA'</li><li>'GCA'</li><li>'CAC'</li><li>'TTT'</li><li>'CCT'</li><li>'CGT'</li><li>'GAA'</li><li>'GGT'</li><li>'GTC'</li><li>'TTT'</li><li>'GTT'</li><li>'TCA'</li><li>'AAT'</li><li>'GGC'</li><li>'ACA'</li><li>'CAC'</li><li>'TGG'</li><li>'TTT'</li><li>'GTA'</li><li>'ACA'</li><li>'CAA'</li><li>'AGG'</li><li>'AAT'</li><li>'TTT'</li><li>'TAT'</li><li>'GAA'</li><li>'CCA'</li><li>'CAA'</li><li>'ATC'</li><li>'ATT'</li><li>'ACT'</li><li>'ACA'</li><li>'GAC'</li><li>'AAC'</li><li>'ACA'</li><li>'TTT'</li><li>'GTG'</li><li>'TCT'</li><li>'GGT'</li><li>'AAC'</li><li>'TGT'</li><li>'GAT'</li><li>'GTT'</li><li>'GTA'</li><li>'ATA'</li><li>'GGA'</li><li>'ATT'</li><li>'GTC'</li><li>'AAC'</li><li>'AAC'</li><li>'ACA'</li><li>'GTT'</li><li>'TAT'</li><li>'GAT'</li><li>'CCT'</li><li>'TTG'</li><li>'CAA'</li><li>'CCT'</li><li>'GAA'</li><li>'TTA'</li><li>'GAT'</li><li>'TCA'</li><li>'TTC'</li><li>'AAG'</li><li>'GAG'</li><li>'GAG'</li><li>'TTA'</li><li>'GAT'</li><li>'AAA'</li><li>'TAT'</li><li>'TTT'</li><li>'AAG'</li><li>'AAT'</li><li>'CAT'</li><li>'ACA'</li><li>'TCA'</li><li>'CCA'</li><li>'GAT'</li><li>'GTT'</li><li>'GAT'</li><li>'TTA'</li><li>'GGT'</li><li>'GAC'</li><li>'ATC'</li><li>'TCT'</li><li>'GGC'</li><li>'ATT'</li><li>'AAT'</li><li>'GCT'</li><li>'TCA'</li><li>'GTT'</li><li>'GTA'</li><li>'AAC'</li><li>'ATT'</li><li>'CAA'</li><li>'AAA'</li><li>'GAA'</li><li>'ATT'</li><li>'GAC'</li><li>'CGC'</li><li>'CTC'</li><li>'AAT'</li><li>'GAG'</li><li>'GTT'</li><li>'GCC'</li><li>'AAG'</li><li>'AAT'</li><li>'TTA'</li><li>'AAT'</li><li>'GAA'</li><li>'TCT'</li><li>'CTC'</li><li>'ATC'</li><li>'GAT'</li><li>'CTC'</li><li>'CAA'</li><li>'GAA'</li><li>'CTT'</li><li>'GGA'</li><li>'AAG'</li><li>'TAT'</li><li>'GAG'</li><li>'CAG'</li><li>'TAT'</li><li>'ATA'</li><li>'AAA'</li><li>'TGG'</li><li>'CCA'</li><li>'TGG'</li><li>'TAC'</li><li>'ATT'</li><li>'TGG'</li><li>'CTA'</li><li>'GGT'</li><li>'TTT'</li><li>'ATA'</li><li>'GCT'</li><li>'GGC'</li><li>'TTG'</li><li>'ATT'</li><li>'GCC'</li><li>'ATA'</li><li>'GTA'</li><li>'ATG'</li><li>'GTG'</li><li>'ACA'</li><li>'ATT'</li><li>'ATG'</li><li>'CTT'</li><li>'TGC'</li><li>'TGT'</li><li>'ATG'</li><li>'ACC'</li><li>'AGT'</li><li>'TGC'</li><li>'TGT'</li><li>'AGT'</li><li>'TGT'</li><li>'CTC'</li><li>'AAG'</li><li>'GGC'</li><li>'TGT'</li><li>'TGT'</li><li>'TCT'</li><li>'TGT'</li><li>'GGA'</li><li>'TCC'</li><li>'TGC'</li><li>'TGC'</li><li>'AAA'</li><li>'TTT'</li><li>'GAT'</li><li>'GAA'</li><li>'GAC'</li><li>'GAC'</li><li>'TCT'</li><li>'GAG'</li><li>'CCA'</li><li>'GTG'</li><li>'CTC'</li><li>'AAA'</li><li>'GGA'</li><li>'GTC'</li><li>'AAA'</li><li>'TTA'</li><li>'CAT'</li><li>'TAC'</li><li>'ACA'</li><li>'TAA'</li></ol>\n"
            ],
            "text/markdown": "1. 'ATG'\n2. 'TTT'\n3. 'GGT'\n4. 'TTT'\n5. 'CTT'\n6. 'GTT'\n7. 'TTA'\n8. 'TTG'\n9. 'CCA'\n10. 'CTA'\n11. 'GTC'\n12. 'TCT'\n13. 'AGT'\n14. 'CAG'\n15. 'TGT'\n16. 'GTT'\n17. 'AAT'\n18. 'CTT'\n19. 'ATA'\n20. 'ACC'\n21. 'AGA'\n22. 'ACT'\n23. 'CAA'\n24. 'T--'\n25. '---'\n26. '---'\n27. '-CA'\n28. 'TAC'\n29. 'ACT'\n30. 'AAT'\n31. 'TCT'\n32. 'TTC'\n33. 'ACA'\n34. 'CGT'\n35. 'GGT'\n36. 'GTT'\n37. 'TAT'\n38. 'TAC'\n39. 'CCT'\n40. 'GAC'\n41. 'AAA'\n42. 'GTT'\n43. 'TTC'\n44. 'AGA'\n45. 'TCC'\n46. 'TCA'\n47. 'GTT'\n48. 'TTA'\n49. 'CAT'\n50. 'TCA'\n51. 'ACT'\n52. 'CAG'\n53. 'GAC'\n54. 'TTG'\n55. 'TTC'\n56. 'TTA'\n57. 'CCT'\n58. 'TTC'\n59. 'TTT'\n60. 'TCC'\n61. 'AAT'\n62. 'GTT'\n63. 'ACT'\n64. 'TGG'\n65. 'TTC'\n66. 'CAT'\n67. 'GCT'\n68. 'A--'\n69. '---'\n70. '-TC'\n71. 'TCT'\n72. 'GGG'\n73. 'ACC'\n74. 'AAT'\n75. 'GGT'\n76. 'ACT'\n77. 'AAG'\n78. 'AGG'\n79. 'TTT'\n80. 'GAT'\n81. 'AAC'\n82. 'CCT'\n83. 'GTC'\n84. 'CTA'\n85. 'CCA'\n86. 'TTT'\n87. 'AAT'\n88. 'GAT'\n89. 'GGT'\n90. 'GTT'\n91. 'TAT'\n92. 'TTT'\n93. 'GCT'\n94. 'TCC'\n95. 'ACT'\n96. 'GAG'\n97. 'AAG'\n98. 'TCT'\n99. 'AAC'\n100. 'ATA'\n101. 'ATA'\n102. 'AGA'\n103. 'GGC'\n104. 'TGG'\n105. 'ATT'\n106. 'TTT'\n107. 'GGT'\n108. 'ACT'\n109. 'ACT'\n110. 'TTA'\n111. 'GAT'\n112. 'TCG'\n113. 'AAG'\n114. 'ACC'\n115. 'CAG'\n116. 'TCC'\n117. 'CTA'\n118. 'CTT'\n119. 'ATT'\n120. 'GTT'\n121. 'AAT'\n122. 'AAC'\n123. 'GCT'\n124. 'ACT'\n125. 'AAT'\n126. 'GTT'\n127. 'GTT'\n128. 'ATT'\n129. 'AAA'\n130. 'GTC'\n131. 'TGT'\n132. 'GAA'\n133. 'TTT'\n134. 'CAA'\n135. 'TTT'\n136. 'TGT'\n137. 'AAT'\n138. 'GAT'\n139. 'CCA'\n140. 'TTT'\n141. 'TTG'\n142. 'GAT'\n143. 'GTT'\n144. 'TAT'\n145. 'TAC'\n146. 'CAC'\n147. 'AAA'\n148. 'AAC'\n149. 'AAC'\n150. 'AAA'\n151. 'AGT'\n152. 'TGG'\n153. 'ATG'\n154. 'GAA'\n155. 'AGT'\n156. 'GAG'\n157. 'TTC'\n158. 'AGA'\n159. 'GTT'\n160. 'TAT'\n161. 'TCT'\n162. 'AGT'\n163. 'GCG'\n164. 'AAT'\n165. 'AAT'\n166. 'TGC'\n167. 'ACT'\n168. 'TTT'\n169. 'GAA'\n170. 'TAT'\n171. 'GTC'\n172. 'TCT'\n173. 'CAG'\n174. 'CCT'\n175. 'TTT'\n176. 'CTT'\n177. 'ATG'\n178. 'GAC'\n179. 'CTT'\n180. 'GAA'\n181. 'GGA'\n182. 'AAA'\n183. 'CAG'\n184. 'GGT'\n185. 'AAT'\n186. 'TTC'\n187. 'AAA'\n188. 'AAT'\n189. 'CTT'\n190. 'AGG'\n191. 'GAA'\n192. 'TTT'\n193. 'GTG'\n194. 'TTT'\n195. 'AAG'\n196. 'AAT'\n197. 'ATT'\n198. 'GAT'\n199. 'GGT'\n200. 'TAT'\n201. ⋯\n202. 'TTC'\n203. 'ACA'\n204. 'ACT'\n205. 'GCT'\n206. 'CCT'\n207. 'GCC'\n208. 'ATT'\n209. 'TGT'\n210. 'CAT'\n211. 'GAT'\n212. 'GGA'\n213. 'AAA'\n214. 'GCA'\n215. 'CAC'\n216. 'TTT'\n217. 'CCT'\n218. 'CGT'\n219. 'GAA'\n220. 'GGT'\n221. 'GTC'\n222. 'TTT'\n223. 'GTT'\n224. 'TCA'\n225. 'AAT'\n226. 'GGC'\n227. 'ACA'\n228. 'CAC'\n229. 'TGG'\n230. 'TTT'\n231. 'GTA'\n232. 'ACA'\n233. 'CAA'\n234. 'AGG'\n235. 'AAT'\n236. 'TTT'\n237. 'TAT'\n238. 'GAA'\n239. 'CCA'\n240. 'CAA'\n241. 'ATC'\n242. 'ATT'\n243. 'ACT'\n244. 'ACA'\n245. 'GAC'\n246. 'AAC'\n247. 'ACA'\n248. 'TTT'\n249. 'GTG'\n250. 'TCT'\n251. 'GGT'\n252. 'AAC'\n253. 'TGT'\n254. 'GAT'\n255. 'GTT'\n256. 'GTA'\n257. 'ATA'\n258. 'GGA'\n259. 'ATT'\n260. 'GTC'\n261. 'AAC'\n262. 'AAC'\n263. 'ACA'\n264. 'GTT'\n265. 'TAT'\n266. 'GAT'\n267. 'CCT'\n268. 'TTG'\n269. 'CAA'\n270. 'CCT'\n271. 'GAA'\n272. 'TTA'\n273. 'GAT'\n274. 'TCA'\n275. 'TTC'\n276. 'AAG'\n277. 'GAG'\n278. 'GAG'\n279. 'TTA'\n280. 'GAT'\n281. 'AAA'\n282. 'TAT'\n283. 'TTT'\n284. 'AAG'\n285. 'AAT'\n286. 'CAT'\n287. 'ACA'\n288. 'TCA'\n289. 'CCA'\n290. 'GAT'\n291. 'GTT'\n292. 'GAT'\n293. 'TTA'\n294. 'GGT'\n295. 'GAC'\n296. 'ATC'\n297. 'TCT'\n298. 'GGC'\n299. 'ATT'\n300. 'AAT'\n301. 'GCT'\n302. 'TCA'\n303. 'GTT'\n304. 'GTA'\n305. 'AAC'\n306. 'ATT'\n307. 'CAA'\n308. 'AAA'\n309. 'GAA'\n310. 'ATT'\n311. 'GAC'\n312. 'CGC'\n313. 'CTC'\n314. 'AAT'\n315. 'GAG'\n316. 'GTT'\n317. 'GCC'\n318. 'AAG'\n319. 'AAT'\n320. 'TTA'\n321. 'AAT'\n322. 'GAA'\n323. 'TCT'\n324. 'CTC'\n325. 'ATC'\n326. 'GAT'\n327. 'CTC'\n328. 'CAA'\n329. 'GAA'\n330. 'CTT'\n331. 'GGA'\n332. 'AAG'\n333. 'TAT'\n334. 'GAG'\n335. 'CAG'\n336. 'TAT'\n337. 'ATA'\n338. 'AAA'\n339. 'TGG'\n340. 'CCA'\n341. 'TGG'\n342. 'TAC'\n343. 'ATT'\n344. 'TGG'\n345. 'CTA'\n346. 'GGT'\n347. 'TTT'\n348. 'ATA'\n349. 'GCT'\n350. 'GGC'\n351. 'TTG'\n352. 'ATT'\n353. 'GCC'\n354. 'ATA'\n355. 'GTA'\n356. 'ATG'\n357. 'GTG'\n358. 'ACA'\n359. 'ATT'\n360. 'ATG'\n361. 'CTT'\n362. 'TGC'\n363. 'TGT'\n364. 'ATG'\n365. 'ACC'\n366. 'AGT'\n367. 'TGC'\n368. 'TGT'\n369. 'AGT'\n370. 'TGT'\n371. 'CTC'\n372. 'AAG'\n373. 'GGC'\n374. 'TGT'\n375. 'TGT'\n376. 'TCT'\n377. 'TGT'\n378. 'GGA'\n379. 'TCC'\n380. 'TGC'\n381. 'TGC'\n382. 'AAA'\n383. 'TTT'\n384. 'GAT'\n385. 'GAA'\n386. 'GAC'\n387. 'GAC'\n388. 'TCT'\n389. 'GAG'\n390. 'CCA'\n391. 'GTG'\n392. 'CTC'\n393. 'AAA'\n394. 'GGA'\n395. 'GTC'\n396. 'AAA'\n397. 'TTA'\n398. 'CAT'\n399. 'TAC'\n400. 'ACA'\n401. 'TAA'\n\n\n",
            "text/latex": "\\begin{enumerate*}\n\\item 'ATG'\n\\item 'TTT'\n\\item 'GGT'\n\\item 'TTT'\n\\item 'CTT'\n\\item 'GTT'\n\\item 'TTA'\n\\item 'TTG'\n\\item 'CCA'\n\\item 'CTA'\n\\item 'GTC'\n\\item 'TCT'\n\\item 'AGT'\n\\item 'CAG'\n\\item 'TGT'\n\\item 'GTT'\n\\item 'AAT'\n\\item 'CTT'\n\\item 'ATA'\n\\item 'ACC'\n\\item 'AGA'\n\\item 'ACT'\n\\item 'CAA'\n\\item 'T--'\n\\item '---'\n\\item '---'\n\\item '-CA'\n\\item 'TAC'\n\\item 'ACT'\n\\item 'AAT'\n\\item 'TCT'\n\\item 'TTC'\n\\item 'ACA'\n\\item 'CGT'\n\\item 'GGT'\n\\item 'GTT'\n\\item 'TAT'\n\\item 'TAC'\n\\item 'CCT'\n\\item 'GAC'\n\\item 'AAA'\n\\item 'GTT'\n\\item 'TTC'\n\\item 'AGA'\n\\item 'TCC'\n\\item 'TCA'\n\\item 'GTT'\n\\item 'TTA'\n\\item 'CAT'\n\\item 'TCA'\n\\item 'ACT'\n\\item 'CAG'\n\\item 'GAC'\n\\item 'TTG'\n\\item 'TTC'\n\\item 'TTA'\n\\item 'CCT'\n\\item 'TTC'\n\\item 'TTT'\n\\item 'TCC'\n\\item 'AAT'\n\\item 'GTT'\n\\item 'ACT'\n\\item 'TGG'\n\\item 'TTC'\n\\item 'CAT'\n\\item 'GCT'\n\\item 'A--'\n\\item '---'\n\\item '-TC'\n\\item 'TCT'\n\\item 'GGG'\n\\item 'ACC'\n\\item 'AAT'\n\\item 'GGT'\n\\item 'ACT'\n\\item 'AAG'\n\\item 'AGG'\n\\item 'TTT'\n\\item 'GAT'\n\\item 'AAC'\n\\item 'CCT'\n\\item 'GTC'\n\\item 'CTA'\n\\item 'CCA'\n\\item 'TTT'\n\\item 'AAT'\n\\item 'GAT'\n\\item 'GGT'\n\\item 'GTT'\n\\item 'TAT'\n\\item 'TTT'\n\\item 'GCT'\n\\item 'TCC'\n\\item 'ACT'\n\\item 'GAG'\n\\item 'AAG'\n\\item 'TCT'\n\\item 'AAC'\n\\item 'ATA'\n\\item 'ATA'\n\\item 'AGA'\n\\item 'GGC'\n\\item 'TGG'\n\\item 'ATT'\n\\item 'TTT'\n\\item 'GGT'\n\\item 'ACT'\n\\item 'ACT'\n\\item 'TTA'\n\\item 'GAT'\n\\item 'TCG'\n\\item 'AAG'\n\\item 'ACC'\n\\item 'CAG'\n\\item 'TCC'\n\\item 'CTA'\n\\item 'CTT'\n\\item 'ATT'\n\\item 'GTT'\n\\item 'AAT'\n\\item 'AAC'\n\\item 'GCT'\n\\item 'ACT'\n\\item 'AAT'\n\\item 'GTT'\n\\item 'GTT'\n\\item 'ATT'\n\\item 'AAA'\n\\item 'GTC'\n\\item 'TGT'\n\\item 'GAA'\n\\item 'TTT'\n\\item 'CAA'\n\\item 'TTT'\n\\item 'TGT'\n\\item 'AAT'\n\\item 'GAT'\n\\item 'CCA'\n\\item 'TTT'\n\\item 'TTG'\n\\item 'GAT'\n\\item 'GTT'\n\\item 'TAT'\n\\item 'TAC'\n\\item 'CAC'\n\\item 'AAA'\n\\item 'AAC'\n\\item 'AAC'\n\\item 'AAA'\n\\item 'AGT'\n\\item 'TGG'\n\\item 'ATG'\n\\item 'GAA'\n\\item 'AGT'\n\\item 'GAG'\n\\item 'TTC'\n\\item 'AGA'\n\\item 'GTT'\n\\item 'TAT'\n\\item 'TCT'\n\\item 'AGT'\n\\item 'GCG'\n\\item 'AAT'\n\\item 'AAT'\n\\item 'TGC'\n\\item 'ACT'\n\\item 'TTT'\n\\item 'GAA'\n\\item 'TAT'\n\\item 'GTC'\n\\item 'TCT'\n\\item 'CAG'\n\\item 'CCT'\n\\item 'TTT'\n\\item 'CTT'\n\\item 'ATG'\n\\item 'GAC'\n\\item 'CTT'\n\\item 'GAA'\n\\item 'GGA'\n\\item 'AAA'\n\\item 'CAG'\n\\item 'GGT'\n\\item 'AAT'\n\\item 'TTC'\n\\item 'AAA'\n\\item 'AAT'\n\\item 'CTT'\n\\item 'AGG'\n\\item 'GAA'\n\\item 'TTT'\n\\item 'GTG'\n\\item 'TTT'\n\\item 'AAG'\n\\item 'AAT'\n\\item 'ATT'\n\\item 'GAT'\n\\item 'GGT'\n\\item 'TAT'\n\\item ⋯\n\\item 'TTC'\n\\item 'ACA'\n\\item 'ACT'\n\\item 'GCT'\n\\item 'CCT'\n\\item 'GCC'\n\\item 'ATT'\n\\item 'TGT'\n\\item 'CAT'\n\\item 'GAT'\n\\item 'GGA'\n\\item 'AAA'\n\\item 'GCA'\n\\item 'CAC'\n\\item 'TTT'\n\\item 'CCT'\n\\item 'CGT'\n\\item 'GAA'\n\\item 'GGT'\n\\item 'GTC'\n\\item 'TTT'\n\\item 'GTT'\n\\item 'TCA'\n\\item 'AAT'\n\\item 'GGC'\n\\item 'ACA'\n\\item 'CAC'\n\\item 'TGG'\n\\item 'TTT'\n\\item 'GTA'\n\\item 'ACA'\n\\item 'CAA'\n\\item 'AGG'\n\\item 'AAT'\n\\item 'TTT'\n\\item 'TAT'\n\\item 'GAA'\n\\item 'CCA'\n\\item 'CAA'\n\\item 'ATC'\n\\item 'ATT'\n\\item 'ACT'\n\\item 'ACA'\n\\item 'GAC'\n\\item 'AAC'\n\\item 'ACA'\n\\item 'TTT'\n\\item 'GTG'\n\\item 'TCT'\n\\item 'GGT'\n\\item 'AAC'\n\\item 'TGT'\n\\item 'GAT'\n\\item 'GTT'\n\\item 'GTA'\n\\item 'ATA'\n\\item 'GGA'\n\\item 'ATT'\n\\item 'GTC'\n\\item 'AAC'\n\\item 'AAC'\n\\item 'ACA'\n\\item 'GTT'\n\\item 'TAT'\n\\item 'GAT'\n\\item 'CCT'\n\\item 'TTG'\n\\item 'CAA'\n\\item 'CCT'\n\\item 'GAA'\n\\item 'TTA'\n\\item 'GAT'\n\\item 'TCA'\n\\item 'TTC'\n\\item 'AAG'\n\\item 'GAG'\n\\item 'GAG'\n\\item 'TTA'\n\\item 'GAT'\n\\item 'AAA'\n\\item 'TAT'\n\\item 'TTT'\n\\item 'AAG'\n\\item 'AAT'\n\\item 'CAT'\n\\item 'ACA'\n\\item 'TCA'\n\\item 'CCA'\n\\item 'GAT'\n\\item 'GTT'\n\\item 'GAT'\n\\item 'TTA'\n\\item 'GGT'\n\\item 'GAC'\n\\item 'ATC'\n\\item 'TCT'\n\\item 'GGC'\n\\item 'ATT'\n\\item 'AAT'\n\\item 'GCT'\n\\item 'TCA'\n\\item 'GTT'\n\\item 'GTA'\n\\item 'AAC'\n\\item 'ATT'\n\\item 'CAA'\n\\item 'AAA'\n\\item 'GAA'\n\\item 'ATT'\n\\item 'GAC'\n\\item 'CGC'\n\\item 'CTC'\n\\item 'AAT'\n\\item 'GAG'\n\\item 'GTT'\n\\item 'GCC'\n\\item 'AAG'\n\\item 'AAT'\n\\item 'TTA'\n\\item 'AAT'\n\\item 'GAA'\n\\item 'TCT'\n\\item 'CTC'\n\\item 'ATC'\n\\item 'GAT'\n\\item 'CTC'\n\\item 'CAA'\n\\item 'GAA'\n\\item 'CTT'\n\\item 'GGA'\n\\item 'AAG'\n\\item 'TAT'\n\\item 'GAG'\n\\item 'CAG'\n\\item 'TAT'\n\\item 'ATA'\n\\item 'AAA'\n\\item 'TGG'\n\\item 'CCA'\n\\item 'TGG'\n\\item 'TAC'\n\\item 'ATT'\n\\item 'TGG'\n\\item 'CTA'\n\\item 'GGT'\n\\item 'TTT'\n\\item 'ATA'\n\\item 'GCT'\n\\item 'GGC'\n\\item 'TTG'\n\\item 'ATT'\n\\item 'GCC'\n\\item 'ATA'\n\\item 'GTA'\n\\item 'ATG'\n\\item 'GTG'\n\\item 'ACA'\n\\item 'ATT'\n\\item 'ATG'\n\\item 'CTT'\n\\item 'TGC'\n\\item 'TGT'\n\\item 'ATG'\n\\item 'ACC'\n\\item 'AGT'\n\\item 'TGC'\n\\item 'TGT'\n\\item 'AGT'\n\\item 'TGT'\n\\item 'CTC'\n\\item 'AAG'\n\\item 'GGC'\n\\item 'TGT'\n\\item 'TGT'\n\\item 'TCT'\n\\item 'TGT'\n\\item 'GGA'\n\\item 'TCC'\n\\item 'TGC'\n\\item 'TGC'\n\\item 'AAA'\n\\item 'TTT'\n\\item 'GAT'\n\\item 'GAA'\n\\item 'GAC'\n\\item 'GAC'\n\\item 'TCT'\n\\item 'GAG'\n\\item 'CCA'\n\\item 'GTG'\n\\item 'CTC'\n\\item 'AAA'\n\\item 'GGA'\n\\item 'GTC'\n\\item 'AAA'\n\\item 'TTA'\n\\item 'CAT'\n\\item 'TAC'\n\\item 'ACA'\n\\item 'TAA'\n\\end{enumerate*}\n",
            "text/plain": [
              "   [1] \"ATG\" \"TTT\" \"GGT\" \"TTT\" \"CTT\" \"GTT\" \"TTA\" \"TTG\" \"CCA\" \"CTA\" \"GTC\" \"TCT\"\n",
              "  [13] \"AGT\" \"CAG\" \"TGT\" \"GTT\" \"AAT\" \"CTT\" \"ATA\" \"ACC\" \"AGA\" \"ACT\" \"CAA\" \"T--\"\n",
              "  [25] \"---\" \"---\" \"-CA\" \"TAC\" \"ACT\" \"AAT\" \"TCT\" \"TTC\" \"ACA\" \"CGT\" \"GGT\" \"GTT\"\n",
              "  [37] \"TAT\" \"TAC\" \"CCT\" \"GAC\" \"AAA\" \"GTT\" \"TTC\" \"AGA\" \"TCC\" \"TCA\" \"GTT\" \"TTA\"\n",
              "  [49] \"CAT\" \"TCA\" \"ACT\" \"CAG\" \"GAC\" \"TTG\" \"TTC\" \"TTA\" \"CCT\" \"TTC\" \"TTT\" \"TCC\"\n",
              "  [61] \"AAT\" \"GTT\" \"ACT\" \"TGG\" \"TTC\" \"CAT\" \"GCT\" \"A--\" \"---\" \"-TC\" \"TCT\" \"GGG\"\n",
              "  [73] \"ACC\" \"AAT\" \"GGT\" \"ACT\" \"AAG\" \"AGG\" \"TTT\" \"GAT\" \"AAC\" \"CCT\" \"GTC\" \"CTA\"\n",
              "  [85] \"CCA\" \"TTT\" \"AAT\" \"GAT\" \"GGT\" \"GTT\" \"TAT\" \"TTT\" \"GCT\" \"TCC\" \"ACT\" \"GAG\"\n",
              "  [97] \"AAG\" \"TCT\" \"AAC\" \"ATA\" \"ATA\" \"AGA\" \"GGC\" \"TGG\" \"ATT\" \"TTT\" \"GGT\" \"ACT\"\n",
              " [109] \"ACT\" \"TTA\" \"GAT\" \"TCG\" \"AAG\" \"ACC\" \"CAG\" \"TCC\" \"CTA\" \"CTT\" \"ATT\" \"GTT\"\n",
              " [121] \"AAT\" \"AAC\" \"GCT\" \"ACT\" \"AAT\" \"GTT\" \"GTT\" \"ATT\" \"AAA\" \"GTC\" \"TGT\" \"GAA\"\n",
              " [133] \"TTT\" \"CAA\" \"TTT\" \"TGT\" \"AAT\" \"GAT\" \"CCA\" \"TTT\" \"TTG\" \"GAT\" \"GTT\" \"TAT\"\n",
              " [145] \"TAC\" \"CAC\" \"AAA\" \"AAC\" \"AAC\" \"AAA\" \"AGT\" \"TGG\" \"ATG\" \"GAA\" \"AGT\" \"GAG\"\n",
              " [157] \"TTC\" \"AGA\" \"GTT\" \"TAT\" \"TCT\" \"AGT\" \"GCG\" \"AAT\" \"AAT\" \"TGC\" \"ACT\" \"TTT\"\n",
              " [169] \"GAA\" \"TAT\" \"GTC\" \"TCT\" \"CAG\" \"CCT\" \"TTT\" \"CTT\" \"ATG\" \"GAC\" \"CTT\" \"GAA\"\n",
              " [181] \"GGA\" \"AAA\" \"CAG\" \"GGT\" \"AAT\" \"TTC\" \"AAA\" \"AAT\" \"CTT\" \"AGG\" \"GAA\" \"TTT\"\n",
              " [193] \"GTG\" \"TTT\" \"AAG\" \"AAT\" \"ATT\" \"GAT\" \"GGT\" \"TAT\" \"TTT\" \"AAA\" \"ATA\" \"TAT\"\n",
              " [205] \"TCT\" \"AAG\" \"CAC\" \"ACG\" \"CCT\" \"ATT\" \"AAT\" \"TTA\" \"GGG\" \"CGT\" \"GAT\" \"CTC\"\n",
              " [217] \"CCT\" \"CAG\" \"GGT\" \"TTT\" \"TCG\" \"GCT\" \"TTA\" \"GAA\" \"CCA\" \"TTG\" \"GTA\" \"GAT\"\n",
              " [229] \"TTG\" \"CCA\" \"ATA\" \"GGT\" \"ATT\" \"AAC\" \"ATC\" \"ACT\" \"AGG\" \"TTT\" \"CAA\" \"ACT\"\n",
              " [241] \"TTA\" \"CTT\" \"GCT\" \"TTA\" \"CAT\" \"AGA\" \"AGT\" \"TAT\" \"TTG\" \"ACT\" \"CCT\" \"GGT\"\n",
              " [253] \"GAT\" \"TCT\" \"TCT\" \"TCA\" \"GGT\" \"TGG\" \"ACA\" \"GCT\" \"GGT\" \"GCT\" \"GCA\" \"GCT\"\n",
              " [265] \"TAT\" \"TAT\" \"GTG\" \"GGT\" \"TAT\" \"CTT\" \"CAA\" \"CCT\" \"AGG\" \"ACT\" \"TTT\" \"CTA\"\n",
              " [277] \"TTA\" \"AAA\" \"TAT\" \"AAT\" \"GAA\" \"AAT\" \"GGA\" \"ACC\" \"ATT\" \"ACA\" \"GAT\" \"GCT\"\n",
              " [289] \"GTA\" \"GAC\" \"TGT\" \"GCA\" \"CTT\" \"GAC\" \"CCT\" \"CTC\" \"TCA\" \"GAA\" \"ACA\" \"AAG\"\n",
              " [301] \"TGT\" \"ACG\" \"TTG\" \"AAA\" \"TCC\" \"TTC\" \"ACT\" \"GTA\" \"GAA\" \"AAA\" \"GGA\" \"ATC\"\n",
              " [313] \"TAT\" \"CAA\" \"ACT\" \"TCT\" \"AAC\" \"TTT\" \"AGA\" \"GTC\" \"CAA\" \"CCA\" \"ACA\" \"GAA\"\n",
              " [325] \"TCT\" \"ATT\" \"GTT\" \"AGA\" \"TTT\" \"CCT\" \"AAT\" \"ATT\" \"ACA\" \"AAC\" \"TTG\" \"TGC\"\n",
              " [337] \"CCT\" \"TTT\" \"GAT\" \"GAA\" \"GTT\" \"TTT\" \"AAC\" \"GCC\" \"ACC\" \"AGA\" \"TTT\" \"GCA\"\n",
              " [349] \"TCT\" \"GTT\" \"TAT\" \"GCT\" \"TGG\" \"AAC\" \"AGG\" \"AAG\" \"AAA\" \"ATC\" \"AGC\" \"AAC\"\n",
              " [361] \"TGT\" \"GTT\" \"GCT\" \"GAT\" \"TAT\" \"TCT\" \"GTC\" \"CTA\" \"TAT\" \"AAT\" \"TTC\" \"GCA\"\n",
              " [373] \"CCA\" \"TTT\" \"TTC\" \"GCT\" \"TTT\" \"AAG\" \"TGT\" \"TAT\" \"GGA\" \"GTG\" \"TCT\" \"CCT\"\n",
              " [385] \"ACT\" \"AAA\" \"TTA\" \"AAT\" \"GAT\" \"CTC\" \"TGC\" \"TTT\" \"ACT\" \"AAT\" \"GTC\" \"TAT\"\n",
              " [397] \"GCA\" \"GAT\" \"TCA\" \"TTT\" \"GTA\" \"ATT\" \"AGA\" \"GGT\" \"AAT\" \"GAA\" \"GTC\" \"AGC\"\n",
              " [409] \"CAA\" \"ATC\" \"GCT\" \"CCA\" \"GGG\" \"CAA\" \"ACT\" \"GGA\" \"AAT\" \"ATT\" \"GCT\" \"GAT\"\n",
              " [421] \"TAT\" \"AAT\" \"TAT\" \"AAA\" \"TTA\" \"CCA\" \"GAT\" \"GAT\" \"TTT\" \"ACA\" \"GGC\" \"TGC\"\n",
              " [433] \"GTT\" \"ATA\" \"GCT\" \"TGG\" \"AAT\" \"TCT\" \"AAC\" \"AAG\" \"CTT\" \"GAT\" \"TCT\" \"AAG\"\n",
              " [445] \"GTT\" \"GGT\" \"GGT\" \"AAT\" \"TAT\" \"AAT\" \"TAC\" \"CGG\" \"TAT\" \"AGA\" \"TTG\" \"TTT\"\n",
              " [457] \"AGG\" \"AAG\" \"TCT\" \"AAT\" \"CTC\" \"AAA\" \"CCT\" \"TTT\" \"GAG\" \"AGA\" \"GAT\" \"ATT\"\n",
              " [469] \"TCA\" \"ACT\" \"GAA\" \"ATC\" \"TAT\" \"CAG\" \"GCC\" \"GGT\" \"AAC\" \"AAA\" \"CCT\" \"TGT\"\n",
              " [481] \"AAT\" \"GGT\" \"GTT\" \"GCA\" \"GGT\" \"GTT\" \"AAT\" \"TGT\" \"TAC\" \"TTT\" \"CCT\" \"TTA\"\n",
              " [493] \"CAA\" \"TCA\" \"TAT\" \"GGT\" \"TTC\" \"CGA\" \"CCC\" \"ACT\" \"TAT\" \"GGT\" \"GTT\" \"GGT\"\n",
              " [505] \"CAC\" \"CAA\" \"CCA\" \"TAC\" \"AGA\" \"GTA\" \"GTA\" \"GTA\" \"CTT\" \"TCT\" \"TTT\" \"GAA\"\n",
              " [517] \"CTT\" \"CTA\" \"CAT\" \"GCA\" \"CCA\" \"GCA\" \"ACT\" \"GTT\" \"TGT\" \"GGA\" \"CCT\" \"AAA\"\n",
              " [529] \"AAG\" \"TCT\" \"ACT\" \"AAT\" \"TTG\" \"GTT\" \"AAA\" \"AAC\" \"AAA\" \"TGT\" \"GTC\" \"AAT\"\n",
              " [541] \"TTC\" \"AAC\" \"TTC\" \"AAT\" \"GGT\" \"TTA\" \"ACA\" \"GGC\" \"ACA\" \"GGT\" \"GTT\" \"CTT\"\n",
              " [553] \"ACT\" \"GAG\" \"TCT\" \"AAC\" \"AAA\" \"AAG\" \"TTT\" \"CTG\" \"CCT\" \"TTC\" \"CAA\" \"CAA\"\n",
              " [565] \"TTT\" \"GGC\" \"AGA\" \"GAC\" \"ATT\" \"GCT\" \"GAC\" \"ACT\" \"ACT\" \"GAT\" \"GCT\" \"GTC\"\n",
              " [577] \"CGT\" \"GAT\" \"CCA\" \"CAG\" \"ACA\" \"CTT\" \"GAG\" \"ATT\" \"CTT\" \"GAC\" \"ATT\" \"ACA\"\n",
              " [589] \"CCA\" \"TGT\" \"TCT\" \"TTT\" \"GGT\" \"GGT\" \"GTC\" \"AGT\" \"GTT\" \"ATA\" \"ACA\" \"CCA\"\n",
              " [601] \"GGA\" \"ACA\" \"AAT\" \"ACT\" \"TCT\" \"AAC\" \"CAG\" \"GTT\" \"GCT\" \"GTT\" \"CTT\" \"TAT\"\n",
              " [613] \"CAG\" \"GGT\" \"GTT\" \"AAC\" \"TGC\" \"ACA\" \"GAA\" \"GTC\" \"CCT\" \"GTT\" \"GCT\" \"ATT\"\n",
              " [625] \"CAT\" \"GCA\" \"GAT\" \"CAA\" \"CTT\" \"ACT\" \"CCT\" \"ACT\" \"TGG\" \"CGT\" \"GTT\" \"TAT\"\n",
              " [637] \"TCT\" \"ACA\" \"GGT\" \"TCT\" \"AAT\" \"GTT\" \"TTT\" \"CAA\" \"ACA\" \"CGT\" \"GCA\" \"GGC\"\n",
              " [649] \"TGT\" \"TTA\" \"ATA\" \"GGG\" \"GCT\" \"GAA\" \"TAT\" \"GTC\" \"AAC\" \"AAC\" \"TCA\" \"TAT\"\n",
              " [661] \"GAG\" \"TGT\" \"GAC\" \"ATA\" \"CCC\" \"ATT\" \"GGT\" \"GCA\" \"GGT\" \"ATA\" \"TGC\" \"GCT\"\n",
              " [673] \"AGT\" \"TAT\" \"CAG\" \"ACT\" \"CAG\" \"ACT\" \"AAG\" \"TCT\" \"CAT\" \"CGG\" \"CGG\" \"GCA\"\n",
              " [685] \"CGT\" \"AGT\" \"GTA\" \"GTT\" \"AGT\" \"CAA\" \"TCC\" \"ATC\" \"ATT\" \"GCC\" \"TAC\" \"ACT\"\n",
              " [697] \"ATG\" \"TCA\" \"CTT\" \"GGT\" \"GCA\" \"GAA\" \"AAT\" \"TCA\" \"GTT\" \"GCT\" \"TAC\" \"TCT\"\n",
              " [709] \"AAT\" \"AAC\" \"TCT\" \"ATT\" \"GCC\" \"ATA\" \"CCC\" \"ACA\" \"AAT\" \"TTT\" \"ACT\" \"ATT\"\n",
              " [721] \"AGT\" \"GTT\" \"ACC\" \"ACA\" \"GAA\" \"ATT\" \"CTA\" \"CCA\" \"GTG\" \"TCT\" \"ATG\" \"ACC\"\n",
              " [733] \"AAG\" \"ACA\" \"TCA\" \"GTA\" \"GAT\" \"TGT\" \"ACA\" \"ATG\" \"TAC\" \"ATT\" \"TGT\" \"GGT\"\n",
              " [745] \"GAT\" \"TCA\" \"ACT\" \"GAA\" \"TGC\" \"AGC\" \"AAT\" \"CTT\" \"TTG\" \"TTG\" \"CAA\" \"TAT\"\n",
              " [757] \"GGC\" \"AGT\" \"TTT\" \"TGT\" \"ACA\" \"CAA\" \"TTA\" \"AAA\" \"CGT\" \"GCT\" \"TTA\" \"ACT\"\n",
              " [769] \"GGA\" \"ATA\" \"GCT\" \"GTT\" \"GAA\" \"CAA\" \"GAC\" \"AAA\" \"AAC\" \"ACC\" \"CAA\" \"GAA\"\n",
              " [781] \"GTT\" \"TTT\" \"GCA\" \"CAA\" \"GTC\" \"AAA\" \"CAA\" \"ATT\" \"TAC\" \"AAA\" \"ACA\" \"CCA\"\n",
              " [793] \"CCA\" \"ATT\" \"AAA\" \"TAT\" \"TTT\" \"GGT\" \"GGT\" \"TTT\" \"AAT\" \"TTT\" \"TCA\" \"CAA\"\n",
              " [805] \"ATA\" \"TTA\" \"CCA\" \"GAT\" \"CCA\" \"TCA\" \"AAA\" \"CCA\" \"AGC\" \"AAG\" \"AGG\" \"TCA\"\n",
              " [817] \"TTT\" \"ATT\" \"GAA\" \"GAT\" \"CTA\" \"CTT\" \"TTC\" \"AAC\" \"AAA\" \"GTG\" \"ACA\" \"CTT\"\n",
              " [829] \"GCA\" \"GAT\" \"GCT\" \"GGC\" \"TTC\" \"ATC\" \"AAA\" \"CAA\" \"TAT\" \"GGT\" \"GAT\" \"TGC\"\n",
              " [841] \"CTT\" \"GGT\" \"GAT\" \"ATT\" \"GCT\" \"GCT\" \"AGA\" \"GAC\" \"CTC\" \"ATT\" \"TGT\" \"GCA\"\n",
              " [853] \"CAA\" \"AAG\" \"TTT\" \"AAT\" \"GGC\" \"CTT\" \"ACT\" \"GTT\" \"TTG\" \"CCA\" \"CCT\" \"TTG\"\n",
              " [865] \"CTC\" \"ACA\" \"GAT\" \"GAA\" \"ATG\" \"ATT\" \"GCT\" \"CAA\" \"TAC\" \"ACT\" \"TCT\" \"GCA\"\n",
              " [877] \"CTG\" \"TTA\" \"GCG\" \"GGT\" \"ACA\" \"ATC\" \"ACT\" \"TCT\" \"GGT\" \"TGG\" \"ACC\" \"TTT\"\n",
              " [889] \"GGT\" \"GCA\" \"GGT\" \"GCT\" \"GCA\" \"TTA\" \"CAA\" \"ATA\" \"CCA\" \"TTT\" \"GCT\" \"ATG\"\n",
              " [901] \"CAA\" \"ATG\" \"GCT\" \"TAT\" \"AGG\" \"TTT\" \"AAT\" \"GGT\" \"ATT\" \"GGA\" \"GTT\" \"ACA\"\n",
              " [913] \"CAG\" \"AAT\" \"GTT\" \"CTC\" \"TAT\" \"GAG\" \"AAC\" \"CAA\" \"AAA\" \"TTG\" \"ATT\" \"GCC\"\n",
              " [925] \"AAC\" \"CAA\" \"TTT\" \"AAT\" \"AGT\" \"GCT\" \"ATT\" \"GGC\" \"AAA\" \"ATT\" \"CAA\" \"GAC\"\n",
              " [937] \"TCA\" \"CTT\" \"TCT\" \"TCC\" \"ACA\" \"GCA\" \"AGT\" \"GCA\" \"CTT\" \"GGA\" \"AAA\" \"CTT\"\n",
              " [949] \"CAA\" \"GAT\" \"GTG\" \"GTC\" \"AAC\" \"CAT\" \"AAT\" \"GCA\" \"CAA\" \"GCT\" \"TTA\" \"AAC\"\n",
              " [961] \"ACG\" \"CTT\" \"GTT\" \"AAA\" \"CAA\" \"CTT\" \"AGC\" \"TCC\" \"AAA\" \"TTT\" \"GGT\" \"GCA\"\n",
              " [973] \"ATT\" \"TCA\" \"AGT\" \"GTT\" \"TTA\" \"AAT\" \"GAT\" \"ATC\" \"CTT\" \"TCA\" \"CGT\" \"CTT\"\n",
              " [985] \"GAC\" \"AAA\" \"GTT\" \"GAG\" \"GCT\" \"GAA\" \"GTG\" \"CAA\" \"ATT\" \"GAT\" \"AGG\" \"TTG\"\n",
              " [997] \"ATC\" \"ACA\" \"GGC\" \"AGA\" \"CTT\" \"CAA\" \"AGT\" \"TTG\" \"CAG\" \"ACA\" \"TAT\" \"GTG\"\n",
              "[1009] \"ACT\" \"CAA\" \"CAA\" \"TTA\" \"ATT\" \"AGA\" \"GCT\" \"GCA\" \"GAA\" \"ATC\" \"AGA\" \"GCT\"\n",
              "[1021] \"TCT\" \"GCT\" \"AAT\" \"CTT\" \"GCT\" \"GCT\" \"ACT\" \"AAA\" \"ATG\" \"TCA\" \"GAG\" \"TGT\"\n",
              "[1033] \"GTA\" \"CTT\" \"GGA\" \"CAA\" \"TCA\" \"AAA\" \"AGA\" \"GTT\" \"GAT\" \"TTT\" \"TGT\" \"GGA\"\n",
              "[1045] \"AAG\" \"GGC\" \"TAT\" \"CAT\" \"CTT\" \"ATG\" \"TCC\" \"TTC\" \"CCT\" \"CAG\" \"TCA\" \"GCA\"\n",
              "[1057] \"CCT\" \"CAT\" \"GGT\" \"GTA\" \"GTC\" \"TTC\" \"TTG\" \"CAT\" \"GTG\" \"ACT\" \"TAT\" \"GTC\"\n",
              "[1069] \"CCT\" \"GCA\" \"CAA\" \"GAA\" \"AAG\" \"AAC\" \"TTC\" \"ACA\" \"ACT\" \"GCT\" \"CCT\" \"GCC\"\n",
              "[1081] \"ATT\" \"TGT\" \"CAT\" \"GAT\" \"GGA\" \"AAA\" \"GCA\" \"CAC\" \"TTT\" \"CCT\" \"CGT\" \"GAA\"\n",
              "[1093] \"GGT\" \"GTC\" \"TTT\" \"GTT\" \"TCA\" \"AAT\" \"GGC\" \"ACA\" \"CAC\" \"TGG\" \"TTT\" \"GTA\"\n",
              "[1105] \"ACA\" \"CAA\" \"AGG\" \"AAT\" \"TTT\" \"TAT\" \"GAA\" \"CCA\" \"CAA\" \"ATC\" \"ATT\" \"ACT\"\n",
              "[1117] \"ACA\" \"GAC\" \"AAC\" \"ACA\" \"TTT\" \"GTG\" \"TCT\" \"GGT\" \"AAC\" \"TGT\" \"GAT\" \"GTT\"\n",
              "[1129] \"GTA\" \"ATA\" \"GGA\" \"ATT\" \"GTC\" \"AAC\" \"AAC\" \"ACA\" \"GTT\" \"TAT\" \"GAT\" \"CCT\"\n",
              "[1141] \"TTG\" \"CAA\" \"CCT\" \"GAA\" \"TTA\" \"GAT\" \"TCA\" \"TTC\" \"AAG\" \"GAG\" \"GAG\" \"TTA\"\n",
              "[1153] \"GAT\" \"AAA\" \"TAT\" \"TTT\" \"AAG\" \"AAT\" \"CAT\" \"ACA\" \"TCA\" \"CCA\" \"GAT\" \"GTT\"\n",
              "[1165] \"GAT\" \"TTA\" \"GGT\" \"GAC\" \"ATC\" \"TCT\" \"GGC\" \"ATT\" \"AAT\" \"GCT\" \"TCA\" \"GTT\"\n",
              "[1177] \"GTA\" \"AAC\" \"ATT\" \"CAA\" \"AAA\" \"GAA\" \"ATT\" \"GAC\" \"CGC\" \"CTC\" \"AAT\" \"GAG\"\n",
              "[1189] \"GTT\" \"GCC\" \"AAG\" \"AAT\" \"TTA\" \"AAT\" \"GAA\" \"TCT\" \"CTC\" \"ATC\" \"GAT\" \"CTC\"\n",
              "[1201] \"CAA\" \"GAA\" \"CTT\" \"GGA\" \"AAG\" \"TAT\" \"GAG\" \"CAG\" \"TAT\" \"ATA\" \"AAA\" \"TGG\"\n",
              "[1213] \"CCA\" \"TGG\" \"TAC\" \"ATT\" \"TGG\" \"CTA\" \"GGT\" \"TTT\" \"ATA\" \"GCT\" \"GGC\" \"TTG\"\n",
              "[1225] \"ATT\" \"GCC\" \"ATA\" \"GTA\" \"ATG\" \"GTG\" \"ACA\" \"ATT\" \"ATG\" \"CTT\" \"TGC\" \"TGT\"\n",
              "[1237] \"ATG\" \"ACC\" \"AGT\" \"TGC\" \"TGT\" \"AGT\" \"TGT\" \"CTC\" \"AAG\" \"GGC\" \"TGT\" \"TGT\"\n",
              "[1249] \"TCT\" \"TGT\" \"GGA\" \"TCC\" \"TGC\" \"TGC\" \"AAA\" \"TTT\" \"GAT\" \"GAA\" \"GAC\" \"GAC\"\n",
              "[1261] \"TCT\" \"GAG\" \"CCA\" \"GTG\" \"CTC\" \"AAA\" \"GGA\" \"GTC\" \"AAA\" \"TTA\" \"CAT\" \"TAC\"\n",
              "[1273] \"ACA\" \"TAA\""
            ]
          },
          "metadata": {}
        }
      ]
    },
    {
      "cell_type": "code",
      "source": [
        "# A data frame is created to store results\n",
        "results_2 <- data.frame(\n",
        "  Codon = codons,\n",
        "  AminoAcid = sapply(codons, function(codon) {\n",
        "    if (codon %in% names(codon_table)) {\n",
        "      return(codon_table[[codon]])  # Return the corresponding amino acid\n",
        "    } else {\n",
        "      return(NA)  # Return NA for codons not in the table\n",
        "    }\n",
        "  })\n",
        ")"
      ],
      "metadata": {
        "id": "bTxZ9DQeqvFg"
      },
      "execution_count": null,
      "outputs": []
    },
    {
      "cell_type": "code",
      "source": [
        "# NA values are filtered out\n",
        "results_2 <- results_2[!is.na(results_2$AminoAcid), ]"
      ],
      "metadata": {
        "id": "c8r-__b0qvFi"
      },
      "execution_count": null,
      "outputs": []
    },
    {
      "cell_type": "code",
      "source": [
        "# Load the results with no NA values\n",
        "results_2"
      ],
      "metadata": {
        "colab": {
          "base_uri": "https://localhost:8080/",
          "height": 2010
        },
        "outputId": "6f22f45b-d091-4cf6-b45d-3615a09a6023",
        "id": "u3P-e34xqvFj"
      },
      "execution_count": null,
      "outputs": [
        {
          "output_type": "display_data",
          "data": {
            "text/html": [
              "<table class=\"dataframe\">\n",
              "<caption>A data.frame: 1231 × 2</caption>\n",
              "<thead>\n",
              "\t<tr><th></th><th scope=col>Codon</th><th scope=col>AminoAcid</th></tr>\n",
              "\t<tr><th></th><th scope=col>&lt;chr&gt;</th><th scope=col>&lt;chr&gt;</th></tr>\n",
              "</thead>\n",
              "<tbody>\n",
              "\t<tr><th scope=row>1</th><td>ATG</td><td>M</td></tr>\n",
              "\t<tr><th scope=row>2</th><td>TTT</td><td>F</td></tr>\n",
              "\t<tr><th scope=row>3</th><td>GGT</td><td>G</td></tr>\n",
              "\t<tr><th scope=row>4</th><td>TTT</td><td>F</td></tr>\n",
              "\t<tr><th scope=row>6</th><td>GTT</td><td>V</td></tr>\n",
              "\t<tr><th scope=row>7</th><td>TTA</td><td>L</td></tr>\n",
              "\t<tr><th scope=row>8</th><td>TTG</td><td>L</td></tr>\n",
              "\t<tr><th scope=row>9</th><td>CCA</td><td>P</td></tr>\n",
              "\t<tr><th scope=row>10</th><td>CTA</td><td>L</td></tr>\n",
              "\t<tr><th scope=row>11</th><td>GTC</td><td>V</td></tr>\n",
              "\t<tr><th scope=row>12</th><td>TCT</td><td>S</td></tr>\n",
              "\t<tr><th scope=row>13</th><td>AGT</td><td>S</td></tr>\n",
              "\t<tr><th scope=row>14</th><td>CAG</td><td>Q</td></tr>\n",
              "\t<tr><th scope=row>15</th><td>TGT</td><td>C</td></tr>\n",
              "\t<tr><th scope=row>16</th><td>GTT</td><td>V</td></tr>\n",
              "\t<tr><th scope=row>17</th><td>AAT</td><td>N</td></tr>\n",
              "\t<tr><th scope=row>19</th><td>ATA</td><td>I</td></tr>\n",
              "\t<tr><th scope=row>20</th><td>ACC</td><td>T</td></tr>\n",
              "\t<tr><th scope=row>21</th><td>AGA</td><td>R</td></tr>\n",
              "\t<tr><th scope=row>22</th><td>ACT</td><td>T</td></tr>\n",
              "\t<tr><th scope=row>23</th><td>CAA</td><td>Q</td></tr>\n",
              "\t<tr><th scope=row>28</th><td>TAC</td><td>Y</td></tr>\n",
              "\t<tr><th scope=row>29</th><td>ACT</td><td>T</td></tr>\n",
              "\t<tr><th scope=row>30</th><td>AAT</td><td>N</td></tr>\n",
              "\t<tr><th scope=row>31</th><td>TCT</td><td>S</td></tr>\n",
              "\t<tr><th scope=row>32</th><td>TTC</td><td>F</td></tr>\n",
              "\t<tr><th scope=row>33</th><td>ACA</td><td>T</td></tr>\n",
              "\t<tr><th scope=row>34</th><td>CGT</td><td>R</td></tr>\n",
              "\t<tr><th scope=row>35</th><td>GGT</td><td>G</td></tr>\n",
              "\t<tr><th scope=row>36</th><td>GTT</td><td>V</td></tr>\n",
              "\t<tr><th scope=row>⋮</th><td>⋮</td><td>⋮</td></tr>\n",
              "\t<tr><th scope=row>1245</th><td>AAG</td><td>K  </td></tr>\n",
              "\t<tr><th scope=row>1246</th><td>GGC</td><td>G  </td></tr>\n",
              "\t<tr><th scope=row>1247</th><td>TGT</td><td>C  </td></tr>\n",
              "\t<tr><th scope=row>1248</th><td>TGT</td><td>C  </td></tr>\n",
              "\t<tr><th scope=row>1249</th><td>TCT</td><td>S  </td></tr>\n",
              "\t<tr><th scope=row>1250</th><td>TGT</td><td>C  </td></tr>\n",
              "\t<tr><th scope=row>1251</th><td>GGA</td><td>G  </td></tr>\n",
              "\t<tr><th scope=row>1252</th><td>TCC</td><td>S  </td></tr>\n",
              "\t<tr><th scope=row>1253</th><td>TGC</td><td>C  </td></tr>\n",
              "\t<tr><th scope=row>1254</th><td>TGC</td><td>C  </td></tr>\n",
              "\t<tr><th scope=row>1255</th><td>AAA</td><td>K  </td></tr>\n",
              "\t<tr><th scope=row>1256</th><td>TTT</td><td>F  </td></tr>\n",
              "\t<tr><th scope=row>1257</th><td>GAT</td><td>D  </td></tr>\n",
              "\t<tr><th scope=row>1258</th><td>GAA</td><td>E  </td></tr>\n",
              "\t<tr><th scope=row>1259</th><td>GAC</td><td>D  </td></tr>\n",
              "\t<tr><th scope=row>1260</th><td>GAC</td><td>D  </td></tr>\n",
              "\t<tr><th scope=row>1261</th><td>TCT</td><td>S  </td></tr>\n",
              "\t<tr><th scope=row>1262</th><td>GAG</td><td>E  </td></tr>\n",
              "\t<tr><th scope=row>1263</th><td>CCA</td><td>P  </td></tr>\n",
              "\t<tr><th scope=row>1264</th><td>GTG</td><td>V  </td></tr>\n",
              "\t<tr><th scope=row>1265</th><td>CTC</td><td>L  </td></tr>\n",
              "\t<tr><th scope=row>1266</th><td>AAA</td><td>K  </td></tr>\n",
              "\t<tr><th scope=row>1267</th><td>GGA</td><td>G  </td></tr>\n",
              "\t<tr><th scope=row>1268</th><td>GTC</td><td>V  </td></tr>\n",
              "\t<tr><th scope=row>1269</th><td>AAA</td><td>K  </td></tr>\n",
              "\t<tr><th scope=row>1270</th><td>TTA</td><td>L  </td></tr>\n",
              "\t<tr><th scope=row>1271</th><td>CAT</td><td>H  </td></tr>\n",
              "\t<tr><th scope=row>1272</th><td>TAC</td><td>Y  </td></tr>\n",
              "\t<tr><th scope=row>1273</th><td>ACA</td><td>T  </td></tr>\n",
              "\t<tr><th scope=row>1274</th><td>TAA</td><td>End</td></tr>\n",
              "</tbody>\n",
              "</table>\n"
            ],
            "text/markdown": "\nA data.frame: 1231 × 2\n\n| <!--/--> | Codon &lt;chr&gt; | AminoAcid &lt;chr&gt; |\n|---|---|---|\n| 1 | ATG | M |\n| 2 | TTT | F |\n| 3 | GGT | G |\n| 4 | TTT | F |\n| 6 | GTT | V |\n| 7 | TTA | L |\n| 8 | TTG | L |\n| 9 | CCA | P |\n| 10 | CTA | L |\n| 11 | GTC | V |\n| 12 | TCT | S |\n| 13 | AGT | S |\n| 14 | CAG | Q |\n| 15 | TGT | C |\n| 16 | GTT | V |\n| 17 | AAT | N |\n| 19 | ATA | I |\n| 20 | ACC | T |\n| 21 | AGA | R |\n| 22 | ACT | T |\n| 23 | CAA | Q |\n| 28 | TAC | Y |\n| 29 | ACT | T |\n| 30 | AAT | N |\n| 31 | TCT | S |\n| 32 | TTC | F |\n| 33 | ACA | T |\n| 34 | CGT | R |\n| 35 | GGT | G |\n| 36 | GTT | V |\n| ⋮ | ⋮ | ⋮ |\n| 1245 | AAG | K   |\n| 1246 | GGC | G   |\n| 1247 | TGT | C   |\n| 1248 | TGT | C   |\n| 1249 | TCT | S   |\n| 1250 | TGT | C   |\n| 1251 | GGA | G   |\n| 1252 | TCC | S   |\n| 1253 | TGC | C   |\n| 1254 | TGC | C   |\n| 1255 | AAA | K   |\n| 1256 | TTT | F   |\n| 1257 | GAT | D   |\n| 1258 | GAA | E   |\n| 1259 | GAC | D   |\n| 1260 | GAC | D   |\n| 1261 | TCT | S   |\n| 1262 | GAG | E   |\n| 1263 | CCA | P   |\n| 1264 | GTG | V   |\n| 1265 | CTC | L   |\n| 1266 | AAA | K   |\n| 1267 | GGA | G   |\n| 1268 | GTC | V   |\n| 1269 | AAA | K   |\n| 1270 | TTA | L   |\n| 1271 | CAT | H   |\n| 1272 | TAC | Y   |\n| 1273 | ACA | T   |\n| 1274 | TAA | End |\n\n",
            "text/latex": "A data.frame: 1231 × 2\n\\begin{tabular}{r|ll}\n  & Codon & AminoAcid\\\\\n  & <chr> & <chr>\\\\\n\\hline\n\t1 & ATG & M\\\\\n\t2 & TTT & F\\\\\n\t3 & GGT & G\\\\\n\t4 & TTT & F\\\\\n\t6 & GTT & V\\\\\n\t7 & TTA & L\\\\\n\t8 & TTG & L\\\\\n\t9 & CCA & P\\\\\n\t10 & CTA & L\\\\\n\t11 & GTC & V\\\\\n\t12 & TCT & S\\\\\n\t13 & AGT & S\\\\\n\t14 & CAG & Q\\\\\n\t15 & TGT & C\\\\\n\t16 & GTT & V\\\\\n\t17 & AAT & N\\\\\n\t19 & ATA & I\\\\\n\t20 & ACC & T\\\\\n\t21 & AGA & R\\\\\n\t22 & ACT & T\\\\\n\t23 & CAA & Q\\\\\n\t28 & TAC & Y\\\\\n\t29 & ACT & T\\\\\n\t30 & AAT & N\\\\\n\t31 & TCT & S\\\\\n\t32 & TTC & F\\\\\n\t33 & ACA & T\\\\\n\t34 & CGT & R\\\\\n\t35 & GGT & G\\\\\n\t36 & GTT & V\\\\\n\t⋮ & ⋮ & ⋮\\\\\n\t1245 & AAG & K  \\\\\n\t1246 & GGC & G  \\\\\n\t1247 & TGT & C  \\\\\n\t1248 & TGT & C  \\\\\n\t1249 & TCT & S  \\\\\n\t1250 & TGT & C  \\\\\n\t1251 & GGA & G  \\\\\n\t1252 & TCC & S  \\\\\n\t1253 & TGC & C  \\\\\n\t1254 & TGC & C  \\\\\n\t1255 & AAA & K  \\\\\n\t1256 & TTT & F  \\\\\n\t1257 & GAT & D  \\\\\n\t1258 & GAA & E  \\\\\n\t1259 & GAC & D  \\\\\n\t1260 & GAC & D  \\\\\n\t1261 & TCT & S  \\\\\n\t1262 & GAG & E  \\\\\n\t1263 & CCA & P  \\\\\n\t1264 & GTG & V  \\\\\n\t1265 & CTC & L  \\\\\n\t1266 & AAA & K  \\\\\n\t1267 & GGA & G  \\\\\n\t1268 & GTC & V  \\\\\n\t1269 & AAA & K  \\\\\n\t1270 & TTA & L  \\\\\n\t1271 & CAT & H  \\\\\n\t1272 & TAC & Y  \\\\\n\t1273 & ACA & T  \\\\\n\t1274 & TAA & End\\\\\n\\end{tabular}\n",
            "text/plain": [
              "     Codon AminoAcid\n",
              "1    ATG   M        \n",
              "2    TTT   F        \n",
              "3    GGT   G        \n",
              "4    TTT   F        \n",
              "6    GTT   V        \n",
              "7    TTA   L        \n",
              "8    TTG   L        \n",
              "9    CCA   P        \n",
              "10   CTA   L        \n",
              "11   GTC   V        \n",
              "12   TCT   S        \n",
              "13   AGT   S        \n",
              "14   CAG   Q        \n",
              "15   TGT   C        \n",
              "16   GTT   V        \n",
              "17   AAT   N        \n",
              "19   ATA   I        \n",
              "20   ACC   T        \n",
              "21   AGA   R        \n",
              "22   ACT   T        \n",
              "23   CAA   Q        \n",
              "28   TAC   Y        \n",
              "29   ACT   T        \n",
              "30   AAT   N        \n",
              "31   TCT   S        \n",
              "32   TTC   F        \n",
              "33   ACA   T        \n",
              "34   CGT   R        \n",
              "35   GGT   G        \n",
              "36   GTT   V        \n",
              "⋮    ⋮     ⋮        \n",
              "1245 AAG   K        \n",
              "1246 GGC   G        \n",
              "1247 TGT   C        \n",
              "1248 TGT   C        \n",
              "1249 TCT   S        \n",
              "1250 TGT   C        \n",
              "1251 GGA   G        \n",
              "1252 TCC   S        \n",
              "1253 TGC   C        \n",
              "1254 TGC   C        \n",
              "1255 AAA   K        \n",
              "1256 TTT   F        \n",
              "1257 GAT   D        \n",
              "1258 GAA   E        \n",
              "1259 GAC   D        \n",
              "1260 GAC   D        \n",
              "1261 TCT   S        \n",
              "1262 GAG   E        \n",
              "1263 CCA   P        \n",
              "1264 GTG   V        \n",
              "1265 CTC   L        \n",
              "1266 AAA   K        \n",
              "1267 GGA   G        \n",
              "1268 GTC   V        \n",
              "1269 AAA   K        \n",
              "1270 TTA   L        \n",
              "1271 CAT   H        \n",
              "1272 TAC   Y        \n",
              "1273 ACA   T        \n",
              "1274 TAA   End      "
            ]
          },
          "metadata": {}
        }
      ]
    },
    {
      "cell_type": "markdown",
      "source": [
        "After filtering out codons with \"NA\" values, the number of codons remaining is 1231 (which indicates (1274-1231=43) 43 codons with name \"NA\" are removed from the list."
      ],
      "metadata": {
        "id": "iQxRK4FWqvFj"
      }
    },
    {
      "cell_type": "code",
      "source": [
        "# Calculation of the frequency of each codon\n",
        "codon_usage_2 <- as.data.frame(table(results_2$Codon, results_2$AminoAcid))\n",
        "colnames(codon_usage_2) <- c(\"Codon\", \"AminoAcid\", \"Count\")"
      ],
      "metadata": {
        "id": "mN_3qqnJqvFj"
      },
      "execution_count": null,
      "outputs": []
    },
    {
      "cell_type": "code",
      "source": [
        "# Calculation of the total number of codons\n",
        "codon_usage_2$Count"
      ],
      "metadata": {
        "colab": {
          "base_uri": "https://localhost:8080/",
          "height": 277
        },
        "outputId": "ba49c56a-1871-4cbe-9cd1-c2242d03afa0",
        "id": "iK-FybZhqvFk"
      },
      "execution_count": null,
      "outputs": [
        {
          "output_type": "display_data",
          "data": {
            "text/html": [
              "<style>\n",
              ".list-inline {list-style: none; margin:0; padding: 0}\n",
              ".list-inline>li {display: inline-block}\n",
              ".list-inline>li:not(:last-child)::after {content: \"\\00b7\"; padding: 0 .5ex}\n",
              "</style>\n",
              "<ol class=list-inline><li>0</li><li>0</li><li>0</li><li>0</li><li>0</li><li>0</li><li>0</li><li>0</li><li>0</li><li>0</li><li>0</li><li>0</li><li>0</li><li>0</li><li>0</li><li>0</li><li>0</li><li>0</li><li>0</li><li>0</li><li>0</li><li>0</li><li>0</li><li>0</li><li>0</li><li>0</li><li>0</li><li>0</li><li>0</li><li>0</li><li>0</li><li>0</li><li>0</li><li>0</li><li>27</li><li>8</li><li>2</li><li>42</li><li>0</li><li>0</li><li>0</li><li>0</li><li>0</li><li>0</li><li>0</li><li>0</li><li>0</li><li>0</li><li>0</li><li>0</li><li>0</li><li>0</li><li>0</li><li>0</li><li>0</li><li>0</li><li>0</li><li>0</li><li>0</li><li>0</li><li>0</li><li>0</li><li>0</li><li>0</li><li>0</li><li>0</li><li>0</li><li>0</li><li>0</li><li>0</li><li>0</li><li>0</li><li>0</li><li>0</li><li>0</li><li>0</li><li>0</li><li>0</li><li>0</li><li>0</li><li>0</li><li>0</li><li>0</li><li>0</li><li>0</li><li>0</li><li>0</li><li>0</li><li>0</li><li>0</li><li>0</li><li>0</li><li>0</li><li>0</li><li>0</li><li>0</li><li>0</li><li>0</li><li>0</li><li>0</li><li>0</li><li>0</li><li>0</li><li>0</li><li>0</li><li>0</li><li>0</li><li>0</li><li>0</li><li>0</li><li>0</li><li>0</li><li>0</li><li>12</li><li>0</li><li>28</li><li>0</li><li>0</li><li>0</li><li>0</li><li>0</li><li>0</li><li>0</li><li>0</li><li>0</li><li>0</li><li>0</li><li>0</li><li>0</li><li>0</li><li>0</li><li>0</li><li>0</li><li>0</li><li>0</li><li>0</li><li>0</li><li>0</li><li>0</li><li>0</li><li>0</li><li>0</li><li>0</li><li>0</li><li>0</li><li>0</li><li>0</li><li>0</li><li>0</li><li>0</li><li>0</li><li>18</li><li>0</li><li>43</li><li>0</li><li>0</li><li>0</li><li>0</li><li>0</li><li>0</li><li>0</li><li>0</li><li>0</li><li>0</li><li>0</li><li>0</li><li>0</li><li>0</li><li>0</li><li>0</li><li>0</li><li>0</li><li>0</li><li>0</li><li>0</li><li>0</li><li>0</li><li>0</li><li>0</li><li>0</li><li>0</li><li>0</li><li>0</li><li>0</li><li>0</li><li>0</li><li>0</li><li>0</li><li>0</li><li>0</li><li>0</li><li>0</li><li>0</li><li>0</li><li>0</li><li>0</li><li>0</li><li>0</li><li>0</li><li>0</li><li>⋯</li><li>0</li><li>0</li><li>0</li><li>0</li><li>0</li><li>0</li><li>0</li><li>0</li><li>0</li><li>0</li><li>0</li><li>0</li><li>0</li><li>0</li><li>0</li><li>0</li><li>0</li><li>0</li><li>0</li><li>0</li><li>0</li><li>0</li><li>0</li><li>0</li><li>0</li><li>0</li><li>0</li><li>0</li><li>0</li><li>0</li><li>0</li><li>0</li><li>0</li><li>0</li><li>0</li><li>0</li><li>0</li><li>0</li><li>0</li><li>0</li><li>0</li><li>0</li><li>0</li><li>0</li><li>0</li><li>0</li><li>0</li><li>0</li><li>0</li><li>0</li><li>0</li><li>0</li><li>0</li><li>0</li><li>0</li><li>0</li><li>0</li><li>0</li><li>0</li><li>0</li><li>0</li><li>0</li><li>15</li><li>20</li><li>12</li><li>49</li><li>0</li><li>0</li><li>0</li><li>0</li><li>0</li><li>0</li><li>0</li><li>0</li><li>0</li><li>0</li><li>0</li><li>0</li><li>0</li><li>0</li><li>0</li><li>0</li><li>0</li><li>0</li><li>0</li><li>0</li><li>0</li><li>0</li><li>0</li><li>0</li><li>0</li><li>0</li><li>0</li><li>0</li><li>0</li><li>0</li><li>0</li><li>0</li><li>0</li><li>0</li><li>0</li><li>0</li><li>0</li><li>0</li><li>0</li><li>0</li><li>0</li><li>0</li><li>0</li><li>0</li><li>0</li><li>0</li><li>0</li><li>0</li><li>0</li><li>0</li><li>0</li><li>0</li><li>0</li><li>0</li><li>0</li><li>0</li><li>0</li><li>0</li><li>0</li><li>0</li><li>0</li><li>0</li><li>0</li><li>0</li><li>0</li><li>0</li><li>0</li><li>0</li><li>12</li><li>0</li><li>0</li><li>0</li><li>0</li><li>0</li><li>0</li><li>0</li><li>0</li><li>0</li><li>0</li><li>0</li><li>0</li><li>0</li><li>0</li><li>0</li><li>0</li><li>0</li><li>0</li><li>0</li><li>0</li><li>0</li><li>0</li><li>0</li><li>0</li><li>0</li><li>0</li><li>0</li><li>0</li><li>0</li><li>0</li><li>0</li><li>0</li><li>0</li><li>0</li><li>0</li><li>0</li><li>0</li><li>0</li><li>0</li><li>0</li><li>0</li><li>0</li><li>0</li><li>0</li><li>0</li><li>0</li><li>0</li><li>0</li><li>0</li><li>0</li><li>0</li><li>0</li><li>13</li><li>43</li><li>0</li><li>0</li><li>0</li><li>0</li><li>0</li><li>0</li><li>0</li><li>0</li><li>0</li><li>0</li><li>0</li></ol>\n"
            ],
            "text/markdown": "1. 0\n2. 0\n3. 0\n4. 0\n5. 0\n6. 0\n7. 0\n8. 0\n9. 0\n10. 0\n11. 0\n12. 0\n13. 0\n14. 0\n15. 0\n16. 0\n17. 0\n18. 0\n19. 0\n20. 0\n21. 0\n22. 0\n23. 0\n24. 0\n25. 0\n26. 0\n27. 0\n28. 0\n29. 0\n30. 0\n31. 0\n32. 0\n33. 0\n34. 0\n35. 27\n36. 8\n37. 2\n38. 42\n39. 0\n40. 0\n41. 0\n42. 0\n43. 0\n44. 0\n45. 0\n46. 0\n47. 0\n48. 0\n49. 0\n50. 0\n51. 0\n52. 0\n53. 0\n54. 0\n55. 0\n56. 0\n57. 0\n58. 0\n59. 0\n60. 0\n61. 0\n62. 0\n63. 0\n64. 0\n65. 0\n66. 0\n67. 0\n68. 0\n69. 0\n70. 0\n71. 0\n72. 0\n73. 0\n74. 0\n75. 0\n76. 0\n77. 0\n78. 0\n79. 0\n80. 0\n81. 0\n82. 0\n83. 0\n84. 0\n85. 0\n86. 0\n87. 0\n88. 0\n89. 0\n90. 0\n91. 0\n92. 0\n93. 0\n94. 0\n95. 0\n96. 0\n97. 0\n98. 0\n99. 0\n100. 0\n101. 0\n102. 0\n103. 0\n104. 0\n105. 0\n106. 0\n107. 0\n108. 0\n109. 0\n110. 0\n111. 0\n112. 0\n113. 0\n114. 12\n115. 0\n116. 28\n117. 0\n118. 0\n119. 0\n120. 0\n121. 0\n122. 0\n123. 0\n124. 0\n125. 0\n126. 0\n127. 0\n128. 0\n129. 0\n130. 0\n131. 0\n132. 0\n133. 0\n134. 0\n135. 0\n136. 0\n137. 0\n138. 0\n139. 0\n140. 0\n141. 0\n142. 0\n143. 0\n144. 0\n145. 0\n146. 0\n147. 0\n148. 0\n149. 0\n150. 0\n151. 0\n152. 18\n153. 0\n154. 43\n155. 0\n156. 0\n157. 0\n158. 0\n159. 0\n160. 0\n161. 0\n162. 0\n163. 0\n164. 0\n165. 0\n166. 0\n167. 0\n168. 0\n169. 0\n170. 0\n171. 0\n172. 0\n173. 0\n174. 0\n175. 0\n176. 0\n177. 0\n178. 0\n179. 0\n180. 0\n181. 0\n182. 0\n183. 0\n184. 0\n185. 0\n186. 0\n187. 0\n188. 0\n189. 0\n190. 0\n191. 0\n192. 0\n193. 0\n194. 0\n195. 0\n196. 0\n197. 0\n198. 0\n199. 0\n200. 0\n201. ⋯\n202. 0\n203. 0\n204. 0\n205. 0\n206. 0\n207. 0\n208. 0\n209. 0\n210. 0\n211. 0\n212. 0\n213. 0\n214. 0\n215. 0\n216. 0\n217. 0\n218. 0\n219. 0\n220. 0\n221. 0\n222. 0\n223. 0\n224. 0\n225. 0\n226. 0\n227. 0\n228. 0\n229. 0\n230. 0\n231. 0\n232. 0\n233. 0\n234. 0\n235. 0\n236. 0\n237. 0\n238. 0\n239. 0\n240. 0\n241. 0\n242. 0\n243. 0\n244. 0\n245. 0\n246. 0\n247. 0\n248. 0\n249. 0\n250. 0\n251. 0\n252. 0\n253. 0\n254. 0\n255. 0\n256. 0\n257. 0\n258. 0\n259. 0\n260. 0\n261. 0\n262. 0\n263. 0\n264. 15\n265. 20\n266. 12\n267. 49\n268. 0\n269. 0\n270. 0\n271. 0\n272. 0\n273. 0\n274. 0\n275. 0\n276. 0\n277. 0\n278. 0\n279. 0\n280. 0\n281. 0\n282. 0\n283. 0\n284. 0\n285. 0\n286. 0\n287. 0\n288. 0\n289. 0\n290. 0\n291. 0\n292. 0\n293. 0\n294. 0\n295. 0\n296. 0\n297. 0\n298. 0\n299. 0\n300. 0\n301. 0\n302. 0\n303. 0\n304. 0\n305. 0\n306. 0\n307. 0\n308. 0\n309. 0\n310. 0\n311. 0\n312. 0\n313. 0\n314. 0\n315. 0\n316. 0\n317. 0\n318. 0\n319. 0\n320. 0\n321. 0\n322. 0\n323. 0\n324. 0\n325. 0\n326. 0\n327. 0\n328. 0\n329. 0\n330. 0\n331. 0\n332. 0\n333. 0\n334. 0\n335. 0\n336. 12\n337. 0\n338. 0\n339. 0\n340. 0\n341. 0\n342. 0\n343. 0\n344. 0\n345. 0\n346. 0\n347. 0\n348. 0\n349. 0\n350. 0\n351. 0\n352. 0\n353. 0\n354. 0\n355. 0\n356. 0\n357. 0\n358. 0\n359. 0\n360. 0\n361. 0\n362. 0\n363. 0\n364. 0\n365. 0\n366. 0\n367. 0\n368. 0\n369. 0\n370. 0\n371. 0\n372. 0\n373. 0\n374. 0\n375. 0\n376. 0\n377. 0\n378. 0\n379. 0\n380. 0\n381. 0\n382. 0\n383. 0\n384. 0\n385. 0\n386. 0\n387. 0\n388. 0\n389. 13\n390. 43\n391. 0\n392. 0\n393. 0\n394. 0\n395. 0\n396. 0\n397. 0\n398. 0\n399. 0\n400. 0\n401. 0\n\n\n",
            "text/latex": "\\begin{enumerate*}\n\\item 0\n\\item 0\n\\item 0\n\\item 0\n\\item 0\n\\item 0\n\\item 0\n\\item 0\n\\item 0\n\\item 0\n\\item 0\n\\item 0\n\\item 0\n\\item 0\n\\item 0\n\\item 0\n\\item 0\n\\item 0\n\\item 0\n\\item 0\n\\item 0\n\\item 0\n\\item 0\n\\item 0\n\\item 0\n\\item 0\n\\item 0\n\\item 0\n\\item 0\n\\item 0\n\\item 0\n\\item 0\n\\item 0\n\\item 0\n\\item 27\n\\item 8\n\\item 2\n\\item 42\n\\item 0\n\\item 0\n\\item 0\n\\item 0\n\\item 0\n\\item 0\n\\item 0\n\\item 0\n\\item 0\n\\item 0\n\\item 0\n\\item 0\n\\item 0\n\\item 0\n\\item 0\n\\item 0\n\\item 0\n\\item 0\n\\item 0\n\\item 0\n\\item 0\n\\item 0\n\\item 0\n\\item 0\n\\item 0\n\\item 0\n\\item 0\n\\item 0\n\\item 0\n\\item 0\n\\item 0\n\\item 0\n\\item 0\n\\item 0\n\\item 0\n\\item 0\n\\item 0\n\\item 0\n\\item 0\n\\item 0\n\\item 0\n\\item 0\n\\item 0\n\\item 0\n\\item 0\n\\item 0\n\\item 0\n\\item 0\n\\item 0\n\\item 0\n\\item 0\n\\item 0\n\\item 0\n\\item 0\n\\item 0\n\\item 0\n\\item 0\n\\item 0\n\\item 0\n\\item 0\n\\item 0\n\\item 0\n\\item 0\n\\item 0\n\\item 0\n\\item 0\n\\item 0\n\\item 0\n\\item 0\n\\item 0\n\\item 0\n\\item 0\n\\item 0\n\\item 0\n\\item 0\n\\item 12\n\\item 0\n\\item 28\n\\item 0\n\\item 0\n\\item 0\n\\item 0\n\\item 0\n\\item 0\n\\item 0\n\\item 0\n\\item 0\n\\item 0\n\\item 0\n\\item 0\n\\item 0\n\\item 0\n\\item 0\n\\item 0\n\\item 0\n\\item 0\n\\item 0\n\\item 0\n\\item 0\n\\item 0\n\\item 0\n\\item 0\n\\item 0\n\\item 0\n\\item 0\n\\item 0\n\\item 0\n\\item 0\n\\item 0\n\\item 0\n\\item 0\n\\item 0\n\\item 0\n\\item 18\n\\item 0\n\\item 43\n\\item 0\n\\item 0\n\\item 0\n\\item 0\n\\item 0\n\\item 0\n\\item 0\n\\item 0\n\\item 0\n\\item 0\n\\item 0\n\\item 0\n\\item 0\n\\item 0\n\\item 0\n\\item 0\n\\item 0\n\\item 0\n\\item 0\n\\item 0\n\\item 0\n\\item 0\n\\item 0\n\\item 0\n\\item 0\n\\item 0\n\\item 0\n\\item 0\n\\item 0\n\\item 0\n\\item 0\n\\item 0\n\\item 0\n\\item 0\n\\item 0\n\\item 0\n\\item 0\n\\item 0\n\\item 0\n\\item 0\n\\item 0\n\\item 0\n\\item 0\n\\item 0\n\\item 0\n\\item 0\n\\item ⋯\n\\item 0\n\\item 0\n\\item 0\n\\item 0\n\\item 0\n\\item 0\n\\item 0\n\\item 0\n\\item 0\n\\item 0\n\\item 0\n\\item 0\n\\item 0\n\\item 0\n\\item 0\n\\item 0\n\\item 0\n\\item 0\n\\item 0\n\\item 0\n\\item 0\n\\item 0\n\\item 0\n\\item 0\n\\item 0\n\\item 0\n\\item 0\n\\item 0\n\\item 0\n\\item 0\n\\item 0\n\\item 0\n\\item 0\n\\item 0\n\\item 0\n\\item 0\n\\item 0\n\\item 0\n\\item 0\n\\item 0\n\\item 0\n\\item 0\n\\item 0\n\\item 0\n\\item 0\n\\item 0\n\\item 0\n\\item 0\n\\item 0\n\\item 0\n\\item 0\n\\item 0\n\\item 0\n\\item 0\n\\item 0\n\\item 0\n\\item 0\n\\item 0\n\\item 0\n\\item 0\n\\item 0\n\\item 0\n\\item 15\n\\item 20\n\\item 12\n\\item 49\n\\item 0\n\\item 0\n\\item 0\n\\item 0\n\\item 0\n\\item 0\n\\item 0\n\\item 0\n\\item 0\n\\item 0\n\\item 0\n\\item 0\n\\item 0\n\\item 0\n\\item 0\n\\item 0\n\\item 0\n\\item 0\n\\item 0\n\\item 0\n\\item 0\n\\item 0\n\\item 0\n\\item 0\n\\item 0\n\\item 0\n\\item 0\n\\item 0\n\\item 0\n\\item 0\n\\item 0\n\\item 0\n\\item 0\n\\item 0\n\\item 0\n\\item 0\n\\item 0\n\\item 0\n\\item 0\n\\item 0\n\\item 0\n\\item 0\n\\item 0\n\\item 0\n\\item 0\n\\item 0\n\\item 0\n\\item 0\n\\item 0\n\\item 0\n\\item 0\n\\item 0\n\\item 0\n\\item 0\n\\item 0\n\\item 0\n\\item 0\n\\item 0\n\\item 0\n\\item 0\n\\item 0\n\\item 0\n\\item 0\n\\item 0\n\\item 0\n\\item 0\n\\item 0\n\\item 0\n\\item 12\n\\item 0\n\\item 0\n\\item 0\n\\item 0\n\\item 0\n\\item 0\n\\item 0\n\\item 0\n\\item 0\n\\item 0\n\\item 0\n\\item 0\n\\item 0\n\\item 0\n\\item 0\n\\item 0\n\\item 0\n\\item 0\n\\item 0\n\\item 0\n\\item 0\n\\item 0\n\\item 0\n\\item 0\n\\item 0\n\\item 0\n\\item 0\n\\item 0\n\\item 0\n\\item 0\n\\item 0\n\\item 0\n\\item 0\n\\item 0\n\\item 0\n\\item 0\n\\item 0\n\\item 0\n\\item 0\n\\item 0\n\\item 0\n\\item 0\n\\item 0\n\\item 0\n\\item 0\n\\item 0\n\\item 0\n\\item 0\n\\item 0\n\\item 0\n\\item 0\n\\item 0\n\\item 13\n\\item 43\n\\item 0\n\\item 0\n\\item 0\n\\item 0\n\\item 0\n\\item 0\n\\item 0\n\\item 0\n\\item 0\n\\item 0\n\\item 0\n\\end{enumerate*}\n",
            "text/plain": [
              "   [1]  0  0  0  0  0  0  0  0  0  0  0  0  0  0  0  0  0  0  0  0  0  0  0  0\n",
              "  [25]  0  0  0  0  0  0  0  0  0  0 27  8  2 42  0  0  0  0  0  0  0  0  0  0\n",
              "  [49]  0  0  0  0  0  0  0  0  0  0  0  0  0  0  0  0  0  0  0  0  0  0  0  0\n",
              "  [73]  0  0  0  0  0  0  0  0  0  0  0  0  0  0  0  0  0  0  0  0  0  0  0  0\n",
              "  [97]  0  0  0  0  0  0  0  0  0  0  0  0  0  0  0  0  0 12  0 28  0  0  0  0\n",
              " [121]  0  0  0  0  0  0  0  0  0  0  0  0  0  0  0  0  0  0  0  0  0  0  0  0\n",
              " [145]  0  0  0  0  0  0  0 18  0 43  0  0  0  0  0  0  0  0  0  0  0  0  0  0\n",
              " [169]  0  0  0  0  0  0  0  0  0  0  0  0  0  0  0  0  0  0  0  0  0  0  0  0\n",
              " [193]  0  0  0  0  0  0  0  0  0  0  0  0  0  0  0  0  0  0 33  0 14  0  0  0\n",
              " [217]  0  0  0  0  0  0  0  0  0  0  0  0  0  0  0  0  0  0  0  0  0  0  0  0\n",
              " [241]  0  0  0  0  0  0  0  0  0  0  0  0  0  0  0  0  0  0  0  0  0  0  0  0\n",
              " [265]  0  0  0  0  0  0  0  0  0  0  0  0  0  0  0  0  0  0  0  0  0  0  1  0\n",
              " [289]  0  0  0  0  0  0  0  0  0  0  0  0  0  0  0  0  0  0  0  0  0  0  0  0\n",
              " [313]  0  0  0  0  0  0  0  0  0  0  0  0  0  0  0  0  0  0  0  0  0  0  0  0\n",
              " [337]  0  0  0  0  0  0  0  0  0  0  0  0  0  0  0  0  0  0  0  0  0 20  0 58\n",
              " [361]  0  0  0  0  0  0  0  0  0  0  0  0  0  0  0  0  0  0  0  0  0  0  0  0\n",
              " [385]  0  0  0  0  0  0  0  0  0  0  0  0  0  0 17 15  4 47  0  0  0  0  0  0\n",
              " [409]  0  0  0  0  0  0  0  0  0  0  0  0  0  0  0  0  0  0  0  0  0  0  0  0\n",
              " [433]  0  0  0  0  0  5  0 13  0  0  0  0  0  0  0  0  0  0  0  0  0  0  0  0\n",
              " [457]  0  0  0  0  0  0  0  0  0  0  0  0  0  0  0  0  0  0  0  0  0  0  0  0\n",
              " [481]  0  0  0  0  0  0  0  0  0  0  0  0 18 14  0 44  0  0  0  0  0  0  0  0\n",
              " [505]  0  0  0  0  0  0  0  0  0  0  0  0  0  0  0  0  0  0  0  0  0  0  0  0\n",
              " [529]  0  0  0  0  0  0  0  0  0  0  0  0 42  0 24  0  0  0  0  0  0  0  0  0\n",
              " [553]  0  0  0  0  0  0  0  0  0  0  0  0  0  0  0  0  0  0  0  0  0  0  0  0\n",
              " [577]  0  0  0  0  0  0  0  0  0  0  0  0  0  0  0  0  0  0  0  0  0  0  0  0\n",
              " [601]  0  0  0  0  0  0  0  0  0  0  0  0  0  0  0  0  0  0  0  0  0  0  0  0\n",
              " [625]  0  0  0  9 12  2  0  0  0  0  0  0  0  0  0  0  0  0  0  0  0  0  0  0\n",
              " [649]  0  0  0  0  0  0  0  0 27  0 20  0  0  0  0  0  0  0  0  0  0  0  0  0\n",
              " [673]  0  0 14  0  0  0  0  0  0  0  0  0  0  0  0  0  0  0  0  0  0  0  0  0\n",
              " [697]  0  0  0  0  0  0  0  0  0  0  0  0  0  0  0  0  0  0  0  0  0  0  0  0\n",
              " [721]  0 33  0 53  0  0  0  0  0  0  0  0  0  0  0  0  0  0  0  0  0  0  0  0\n",
              " [745]  0  0  0  0  0  0  0  0  0  0  0  0  0  0  0  0  0  0  0  0  0  0  0  0\n",
              " [769]  0  0  0  0  0  0  0  0  0  0  0  0  0  0  0  0  0  0  0  0  0  0  0  0\n",
              " [793]  0  0  0  0  0  0  0  0 26  3 27  0  0  0  0  0  0  0  0  0  0  0  0  0\n",
              " [817]  0  0  0  0  0  0  0  0  0  0  0  0  0  0  0  0  0  0  0  0  0  0  0  0\n",
              " [841]  0  0  0  0  0  0  0  0  0  0  0  0  0  0  0  0 44  0 16  0  0  0  0  0\n",
              " [865]  0  0  0  0  0  0  0  0  0  0  0  0  0  0  0  0  0  0  0  0  0  0  0  0\n",
              " [889]  0  0  0  0  0  0  0  0  0  0  0  0  0  0  0  0  0  0  0  0 18  0 10  0\n",
              " [913]  0  0  0  0  0  0  0  0  0  0  0  1  1  3  9  0  0  0  0  0  0  0  0  0\n",
              " [937]  0  0  0  0  0  0  0  0  0  0  0  0  0  0  0  0  0  0  0  0  0  0  0  0\n",
              " [961]  0  0  0  0  0  0  0  0  0  5  0 17  0  0  0  0  0  0  0  0  0  0  0  0\n",
              " [985]  0  0  0  0  0  0  0  0  0  0  0  0  0  0  0  0  0  0  0  0  0  0  0  0\n",
              "[1009]  0 25 10  2 37  0  0  0  0  0  0  0  0  0  0  0 38 10  3 43  0  0  0  0\n",
              "[1033]  0  0  0  0  0  0  0  0  0  0  0  0  0  0  0  0  0  0  0  0  0  0  0  0\n",
              "[1057]  0  0  0  0  0  0  0  0  0  0  0  0  0  0  0  0  0  0  0  0  0  0  0  0\n",
              "[1081]  0  0  0  0  0  0  0  0  0  0  0  0  0  0  0  0  0  0  0  0  0  0  0  0\n",
              "[1105]  0  0  0  0  0  0  0  0  0  0  0  0  0  0  0  0  0  0 15 20 12 49  0  0\n",
              "[1129]  0  0  0  0  0  0  0  0  0  0  0  0  0  0  0  0  0  0  0  0  0  0  0  0\n",
              "[1153]  0  0  0  0  0  0  0  0  0  0  0  0  0  0  0  0  0  0  0  0  0  0  0  0\n",
              "[1177]  0  0  0  0  0  0  0  0  0  0  0  0  0  0  0  0  0  0 12  0  0  0  0  0\n",
              "[1201]  0  0  0  0  0  0  0  0  0  0  0  0  0  0  0  0  0  0  0  0  0  0  0  0\n",
              "[1225]  0  0  0  0  0  0  0  0  0  0  0  0  0  0  0  0  0  0  0  0  0  0  0 13\n",
              "[1249] 43  0  0  0  0  0  0  0  0  0  0  0"
            ]
          },
          "metadata": {}
        }
      ]
    },
    {
      "cell_type": "code",
      "source": [
        "total_codons_2 <- sum(codon_usage_2$Count)\n",
        "total_codons_2"
      ],
      "metadata": {
        "colab": {
          "base_uri": "https://localhost:8080/",
          "height": 34
        },
        "outputId": "a969f2fb-e755-4c13-db24-90bfcafd41a7",
        "id": "b897Ac5MqvFl"
      },
      "execution_count": null,
      "outputs": [
        {
          "output_type": "display_data",
          "data": {
            "text/html": [
              "1231"
            ],
            "text/markdown": "1231",
            "text/latex": "1231",
            "text/plain": [
              "[1] 1231"
            ]
          },
          "metadata": {}
        }
      ]
    },
    {
      "cell_type": "code",
      "source": [
        "# Calculation of the usage probability of each codon for the second sequence\n",
        "codon_usage_2$Probability <- codon_usage_2$Count / total_codons_2\n",
        "codon_usage_2$Probability"
      ],
      "metadata": {
        "colab": {
          "base_uri": "https://localhost:8080/",
          "height": 347
        },
        "outputId": "ae040f5b-fed7-438d-8de1-37825f1c5648",
        "id": "Vnsbu0n4qvFl"
      },
      "execution_count": null,
      "outputs": [
        {
          "output_type": "display_data",
          "data": {
            "text/html": [
              "<style>\n",
              ".list-inline {list-style: none; margin:0; padding: 0}\n",
              ".list-inline>li {display: inline-block}\n",
              ".list-inline>li:not(:last-child)::after {content: \"\\00b7\"; padding: 0 .5ex}\n",
              "</style>\n",
              "<ol class=list-inline><li>0</li><li>0</li><li>0</li><li>0</li><li>0</li><li>0</li><li>0</li><li>0</li><li>0</li><li>0</li><li>0</li><li>0</li><li>0</li><li>0</li><li>0</li><li>0</li><li>0</li><li>0</li><li>0</li><li>0</li><li>0</li><li>0</li><li>0</li><li>0</li><li>0</li><li>0</li><li>0</li><li>0</li><li>0</li><li>0</li><li>0</li><li>0</li><li>0</li><li>0</li><li>0.0219333874898457</li><li>0.00649878147847279</li><li>0.0016246953696182</li><li>0.0341186027619821</li><li>0</li><li>0</li><li>0</li><li>0</li><li>0</li><li>0</li><li>0</li><li>0</li><li>0</li><li>0</li><li>0</li><li>0</li><li>0</li><li>0</li><li>0</li><li>0</li><li>0</li><li>0</li><li>0</li><li>0</li><li>0</li><li>0</li><li>0</li><li>0</li><li>0</li><li>0</li><li>0</li><li>0</li><li>0</li><li>0</li><li>0</li><li>0</li><li>0</li><li>0</li><li>0</li><li>0</li><li>0</li><li>0</li><li>0</li><li>0</li><li>0</li><li>0</li><li>0</li><li>0</li><li>0</li><li>0</li><li>0</li><li>0</li><li>0</li><li>0</li><li>0</li><li>0</li><li>0</li><li>0</li><li>0</li><li>0</li><li>0</li><li>0</li><li>0</li><li>0</li><li>0</li><li>0</li><li>0</li><li>0</li><li>0</li><li>0</li><li>0</li><li>0</li><li>0</li><li>0</li><li>0</li><li>0</li><li>0</li><li>0</li><li>0</li><li>0.00974817221770918</li><li>0</li><li>0.0227457351746548</li><li>0</li><li>0</li><li>0</li><li>0</li><li>0</li><li>0</li><li>0</li><li>0</li><li>0</li><li>0</li><li>0</li><li>0</li><li>0</li><li>0</li><li>0</li><li>0</li><li>0</li><li>0</li><li>0</li><li>0</li><li>0</li><li>0</li><li>0</li><li>0</li><li>0</li><li>0</li><li>0</li><li>0</li><li>0</li><li>0</li><li>0</li><li>0</li><li>0</li><li>0</li><li>0</li><li>0.0146222583265638</li><li>0</li><li>0.0349309504467912</li><li>0</li><li>0</li><li>0</li><li>0</li><li>0</li><li>0</li><li>0</li><li>0</li><li>0</li><li>0</li><li>0</li><li>0</li><li>0</li><li>0</li><li>0</li><li>0</li><li>0</li><li>0</li><li>0</li><li>0</li><li>0</li><li>0</li><li>0</li><li>0</li><li>0</li><li>0</li><li>0</li><li>0</li><li>0</li><li>0</li><li>0</li><li>0</li><li>0</li><li>0</li><li>0</li><li>0</li><li>0</li><li>0</li><li>0</li><li>0</li><li>0</li><li>0</li><li>0</li><li>0</li><li>0</li><li>0</li><li>⋯</li><li>0</li><li>0</li><li>0</li><li>0</li><li>0</li><li>0</li><li>0</li><li>0</li><li>0</li><li>0</li><li>0</li><li>0</li><li>0</li><li>0</li><li>0</li><li>0</li><li>0</li><li>0</li><li>0</li><li>0</li><li>0</li><li>0</li><li>0</li><li>0</li><li>0</li><li>0</li><li>0</li><li>0</li><li>0</li><li>0</li><li>0</li><li>0</li><li>0</li><li>0</li><li>0</li><li>0</li><li>0</li><li>0</li><li>0</li><li>0</li><li>0</li><li>0</li><li>0</li><li>0</li><li>0</li><li>0</li><li>0</li><li>0</li><li>0</li><li>0</li><li>0</li><li>0</li><li>0</li><li>0</li><li>0</li><li>0</li><li>0</li><li>0</li><li>0</li><li>0</li><li>0</li><li>0</li><li>0.0121852152721365</li><li>0.016246953696182</li><li>0.00974817221770918</li><li>0.0398050365556458</li><li>0</li><li>0</li><li>0</li><li>0</li><li>0</li><li>0</li><li>0</li><li>0</li><li>0</li><li>0</li><li>0</li><li>0</li><li>0</li><li>0</li><li>0</li><li>0</li><li>0</li><li>0</li><li>0</li><li>0</li><li>0</li><li>0</li><li>0</li><li>0</li><li>0</li><li>0</li><li>0</li><li>0</li><li>0</li><li>0</li><li>0</li><li>0</li><li>0</li><li>0</li><li>0</li><li>0</li><li>0</li><li>0</li><li>0</li><li>0</li><li>0</li><li>0</li><li>0</li><li>0</li><li>0</li><li>0</li><li>0</li><li>0</li><li>0</li><li>0</li><li>0</li><li>0</li><li>0</li><li>0</li><li>0</li><li>0</li><li>0</li><li>0</li><li>0</li><li>0</li><li>0</li><li>0</li><li>0</li><li>0</li><li>0</li><li>0</li><li>0</li><li>0</li><li>0.00974817221770918</li><li>0</li><li>0</li><li>0</li><li>0</li><li>0</li><li>0</li><li>0</li><li>0</li><li>0</li><li>0</li><li>0</li><li>0</li><li>0</li><li>0</li><li>0</li><li>0</li><li>0</li><li>0</li><li>0</li><li>0</li><li>0</li><li>0</li><li>0</li><li>0</li><li>0</li><li>0</li><li>0</li><li>0</li><li>0</li><li>0</li><li>0</li><li>0</li><li>0</li><li>0</li><li>0</li><li>0</li><li>0</li><li>0</li><li>0</li><li>0</li><li>0</li><li>0</li><li>0</li><li>0</li><li>0</li><li>0</li><li>0</li><li>0</li><li>0</li><li>0</li><li>0</li><li>0</li><li>0.0105605199025183</li><li>0.0349309504467912</li><li>0</li><li>0</li><li>0</li><li>0</li><li>0</li><li>0</li><li>0</li><li>0</li><li>0</li><li>0</li><li>0</li></ol>\n"
            ],
            "text/markdown": "1. 0\n2. 0\n3. 0\n4. 0\n5. 0\n6. 0\n7. 0\n8. 0\n9. 0\n10. 0\n11. 0\n12. 0\n13. 0\n14. 0\n15. 0\n16. 0\n17. 0\n18. 0\n19. 0\n20. 0\n21. 0\n22. 0\n23. 0\n24. 0\n25. 0\n26. 0\n27. 0\n28. 0\n29. 0\n30. 0\n31. 0\n32. 0\n33. 0\n34. 0\n35. 0.0219333874898457\n36. 0.00649878147847279\n37. 0.0016246953696182\n38. 0.0341186027619821\n39. 0\n40. 0\n41. 0\n42. 0\n43. 0\n44. 0\n45. 0\n46. 0\n47. 0\n48. 0\n49. 0\n50. 0\n51. 0\n52. 0\n53. 0\n54. 0\n55. 0\n56. 0\n57. 0\n58. 0\n59. 0\n60. 0\n61. 0\n62. 0\n63. 0\n64. 0\n65. 0\n66. 0\n67. 0\n68. 0\n69. 0\n70. 0\n71. 0\n72. 0\n73. 0\n74. 0\n75. 0\n76. 0\n77. 0\n78. 0\n79. 0\n80. 0\n81. 0\n82. 0\n83. 0\n84. 0\n85. 0\n86. 0\n87. 0\n88. 0\n89. 0\n90. 0\n91. 0\n92. 0\n93. 0\n94. 0\n95. 0\n96. 0\n97. 0\n98. 0\n99. 0\n100. 0\n101. 0\n102. 0\n103. 0\n104. 0\n105. 0\n106. 0\n107. 0\n108. 0\n109. 0\n110. 0\n111. 0\n112. 0\n113. 0\n114. 0.00974817221770918\n115. 0\n116. 0.0227457351746548\n117. 0\n118. 0\n119. 0\n120. 0\n121. 0\n122. 0\n123. 0\n124. 0\n125. 0\n126. 0\n127. 0\n128. 0\n129. 0\n130. 0\n131. 0\n132. 0\n133. 0\n134. 0\n135. 0\n136. 0\n137. 0\n138. 0\n139. 0\n140. 0\n141. 0\n142. 0\n143. 0\n144. 0\n145. 0\n146. 0\n147. 0\n148. 0\n149. 0\n150. 0\n151. 0\n152. 0.0146222583265638\n153. 0\n154. 0.0349309504467912\n155. 0\n156. 0\n157. 0\n158. 0\n159. 0\n160. 0\n161. 0\n162. 0\n163. 0\n164. 0\n165. 0\n166. 0\n167. 0\n168. 0\n169. 0\n170. 0\n171. 0\n172. 0\n173. 0\n174. 0\n175. 0\n176. 0\n177. 0\n178. 0\n179. 0\n180. 0\n181. 0\n182. 0\n183. 0\n184. 0\n185. 0\n186. 0\n187. 0\n188. 0\n189. 0\n190. 0\n191. 0\n192. 0\n193. 0\n194. 0\n195. 0\n196. 0\n197. 0\n198. 0\n199. 0\n200. 0\n201. ⋯\n202. 0\n203. 0\n204. 0\n205. 0\n206. 0\n207. 0\n208. 0\n209. 0\n210. 0\n211. 0\n212. 0\n213. 0\n214. 0\n215. 0\n216. 0\n217. 0\n218. 0\n219. 0\n220. 0\n221. 0\n222. 0\n223. 0\n224. 0\n225. 0\n226. 0\n227. 0\n228. 0\n229. 0\n230. 0\n231. 0\n232. 0\n233. 0\n234. 0\n235. 0\n236. 0\n237. 0\n238. 0\n239. 0\n240. 0\n241. 0\n242. 0\n243. 0\n244. 0\n245. 0\n246. 0\n247. 0\n248. 0\n249. 0\n250. 0\n251. 0\n252. 0\n253. 0\n254. 0\n255. 0\n256. 0\n257. 0\n258. 0\n259. 0\n260. 0\n261. 0\n262. 0\n263. 0\n264. 0.0121852152721365\n265. 0.016246953696182\n266. 0.00974817221770918\n267. 0.0398050365556458\n268. 0\n269. 0\n270. 0\n271. 0\n272. 0\n273. 0\n274. 0\n275. 0\n276. 0\n277. 0\n278. 0\n279. 0\n280. 0\n281. 0\n282. 0\n283. 0\n284. 0\n285. 0\n286. 0\n287. 0\n288. 0\n289. 0\n290. 0\n291. 0\n292. 0\n293. 0\n294. 0\n295. 0\n296. 0\n297. 0\n298. 0\n299. 0\n300. 0\n301. 0\n302. 0\n303. 0\n304. 0\n305. 0\n306. 0\n307. 0\n308. 0\n309. 0\n310. 0\n311. 0\n312. 0\n313. 0\n314. 0\n315. 0\n316. 0\n317. 0\n318. 0\n319. 0\n320. 0\n321. 0\n322. 0\n323. 0\n324. 0\n325. 0\n326. 0\n327. 0\n328. 0\n329. 0\n330. 0\n331. 0\n332. 0\n333. 0\n334. 0\n335. 0\n336. 0.00974817221770918\n337. 0\n338. 0\n339. 0\n340. 0\n341. 0\n342. 0\n343. 0\n344. 0\n345. 0\n346. 0\n347. 0\n348. 0\n349. 0\n350. 0\n351. 0\n352. 0\n353. 0\n354. 0\n355. 0\n356. 0\n357. 0\n358. 0\n359. 0\n360. 0\n361. 0\n362. 0\n363. 0\n364. 0\n365. 0\n366. 0\n367. 0\n368. 0\n369. 0\n370. 0\n371. 0\n372. 0\n373. 0\n374. 0\n375. 0\n376. 0\n377. 0\n378. 0\n379. 0\n380. 0\n381. 0\n382. 0\n383. 0\n384. 0\n385. 0\n386. 0\n387. 0\n388. 0\n389. 0.0105605199025183\n390. 0.0349309504467912\n391. 0\n392. 0\n393. 0\n394. 0\n395. 0\n396. 0\n397. 0\n398. 0\n399. 0\n400. 0\n401. 0\n\n\n",
            "text/latex": "\\begin{enumerate*}\n\\item 0\n\\item 0\n\\item 0\n\\item 0\n\\item 0\n\\item 0\n\\item 0\n\\item 0\n\\item 0\n\\item 0\n\\item 0\n\\item 0\n\\item 0\n\\item 0\n\\item 0\n\\item 0\n\\item 0\n\\item 0\n\\item 0\n\\item 0\n\\item 0\n\\item 0\n\\item 0\n\\item 0\n\\item 0\n\\item 0\n\\item 0\n\\item 0\n\\item 0\n\\item 0\n\\item 0\n\\item 0\n\\item 0\n\\item 0\n\\item 0.0219333874898457\n\\item 0.00649878147847279\n\\item 0.0016246953696182\n\\item 0.0341186027619821\n\\item 0\n\\item 0\n\\item 0\n\\item 0\n\\item 0\n\\item 0\n\\item 0\n\\item 0\n\\item 0\n\\item 0\n\\item 0\n\\item 0\n\\item 0\n\\item 0\n\\item 0\n\\item 0\n\\item 0\n\\item 0\n\\item 0\n\\item 0\n\\item 0\n\\item 0\n\\item 0\n\\item 0\n\\item 0\n\\item 0\n\\item 0\n\\item 0\n\\item 0\n\\item 0\n\\item 0\n\\item 0\n\\item 0\n\\item 0\n\\item 0\n\\item 0\n\\item 0\n\\item 0\n\\item 0\n\\item 0\n\\item 0\n\\item 0\n\\item 0\n\\item 0\n\\item 0\n\\item 0\n\\item 0\n\\item 0\n\\item 0\n\\item 0\n\\item 0\n\\item 0\n\\item 0\n\\item 0\n\\item 0\n\\item 0\n\\item 0\n\\item 0\n\\item 0\n\\item 0\n\\item 0\n\\item 0\n\\item 0\n\\item 0\n\\item 0\n\\item 0\n\\item 0\n\\item 0\n\\item 0\n\\item 0\n\\item 0\n\\item 0\n\\item 0\n\\item 0\n\\item 0\n\\item 0.00974817221770918\n\\item 0\n\\item 0.0227457351746548\n\\item 0\n\\item 0\n\\item 0\n\\item 0\n\\item 0\n\\item 0\n\\item 0\n\\item 0\n\\item 0\n\\item 0\n\\item 0\n\\item 0\n\\item 0\n\\item 0\n\\item 0\n\\item 0\n\\item 0\n\\item 0\n\\item 0\n\\item 0\n\\item 0\n\\item 0\n\\item 0\n\\item 0\n\\item 0\n\\item 0\n\\item 0\n\\item 0\n\\item 0\n\\item 0\n\\item 0\n\\item 0\n\\item 0\n\\item 0\n\\item 0\n\\item 0.0146222583265638\n\\item 0\n\\item 0.0349309504467912\n\\item 0\n\\item 0\n\\item 0\n\\item 0\n\\item 0\n\\item 0\n\\item 0\n\\item 0\n\\item 0\n\\item 0\n\\item 0\n\\item 0\n\\item 0\n\\item 0\n\\item 0\n\\item 0\n\\item 0\n\\item 0\n\\item 0\n\\item 0\n\\item 0\n\\item 0\n\\item 0\n\\item 0\n\\item 0\n\\item 0\n\\item 0\n\\item 0\n\\item 0\n\\item 0\n\\item 0\n\\item 0\n\\item 0\n\\item 0\n\\item 0\n\\item 0\n\\item 0\n\\item 0\n\\item 0\n\\item 0\n\\item 0\n\\item 0\n\\item 0\n\\item 0\n\\item 0\n\\item 0\n\\item ⋯\n\\item 0\n\\item 0\n\\item 0\n\\item 0\n\\item 0\n\\item 0\n\\item 0\n\\item 0\n\\item 0\n\\item 0\n\\item 0\n\\item 0\n\\item 0\n\\item 0\n\\item 0\n\\item 0\n\\item 0\n\\item 0\n\\item 0\n\\item 0\n\\item 0\n\\item 0\n\\item 0\n\\item 0\n\\item 0\n\\item 0\n\\item 0\n\\item 0\n\\item 0\n\\item 0\n\\item 0\n\\item 0\n\\item 0\n\\item 0\n\\item 0\n\\item 0\n\\item 0\n\\item 0\n\\item 0\n\\item 0\n\\item 0\n\\item 0\n\\item 0\n\\item 0\n\\item 0\n\\item 0\n\\item 0\n\\item 0\n\\item 0\n\\item 0\n\\item 0\n\\item 0\n\\item 0\n\\item 0\n\\item 0\n\\item 0\n\\item 0\n\\item 0\n\\item 0\n\\item 0\n\\item 0\n\\item 0\n\\item 0.0121852152721365\n\\item 0.016246953696182\n\\item 0.00974817221770918\n\\item 0.0398050365556458\n\\item 0\n\\item 0\n\\item 0\n\\item 0\n\\item 0\n\\item 0\n\\item 0\n\\item 0\n\\item 0\n\\item 0\n\\item 0\n\\item 0\n\\item 0\n\\item 0\n\\item 0\n\\item 0\n\\item 0\n\\item 0\n\\item 0\n\\item 0\n\\item 0\n\\item 0\n\\item 0\n\\item 0\n\\item 0\n\\item 0\n\\item 0\n\\item 0\n\\item 0\n\\item 0\n\\item 0\n\\item 0\n\\item 0\n\\item 0\n\\item 0\n\\item 0\n\\item 0\n\\item 0\n\\item 0\n\\item 0\n\\item 0\n\\item 0\n\\item 0\n\\item 0\n\\item 0\n\\item 0\n\\item 0\n\\item 0\n\\item 0\n\\item 0\n\\item 0\n\\item 0\n\\item 0\n\\item 0\n\\item 0\n\\item 0\n\\item 0\n\\item 0\n\\item 0\n\\item 0\n\\item 0\n\\item 0\n\\item 0\n\\item 0\n\\item 0\n\\item 0\n\\item 0\n\\item 0\n\\item 0.00974817221770918\n\\item 0\n\\item 0\n\\item 0\n\\item 0\n\\item 0\n\\item 0\n\\item 0\n\\item 0\n\\item 0\n\\item 0\n\\item 0\n\\item 0\n\\item 0\n\\item 0\n\\item 0\n\\item 0\n\\item 0\n\\item 0\n\\item 0\n\\item 0\n\\item 0\n\\item 0\n\\item 0\n\\item 0\n\\item 0\n\\item 0\n\\item 0\n\\item 0\n\\item 0\n\\item 0\n\\item 0\n\\item 0\n\\item 0\n\\item 0\n\\item 0\n\\item 0\n\\item 0\n\\item 0\n\\item 0\n\\item 0\n\\item 0\n\\item 0\n\\item 0\n\\item 0\n\\item 0\n\\item 0\n\\item 0\n\\item 0\n\\item 0\n\\item 0\n\\item 0\n\\item 0\n\\item 0.0105605199025183\n\\item 0.0349309504467912\n\\item 0\n\\item 0\n\\item 0\n\\item 0\n\\item 0\n\\item 0\n\\item 0\n\\item 0\n\\item 0\n\\item 0\n\\item 0\n\\end{enumerate*}\n",
            "text/plain": [
              "   [1] 0.0000000000 0.0000000000 0.0000000000 0.0000000000 0.0000000000\n",
              "   [6] 0.0000000000 0.0000000000 0.0000000000 0.0000000000 0.0000000000\n",
              "  [11] 0.0000000000 0.0000000000 0.0000000000 0.0000000000 0.0000000000\n",
              "  [16] 0.0000000000 0.0000000000 0.0000000000 0.0000000000 0.0000000000\n",
              "  [21] 0.0000000000 0.0000000000 0.0000000000 0.0000000000 0.0000000000\n",
              "  [26] 0.0000000000 0.0000000000 0.0000000000 0.0000000000 0.0000000000\n",
              "  [31] 0.0000000000 0.0000000000 0.0000000000 0.0000000000 0.0219333875\n",
              "  [36] 0.0064987815 0.0016246954 0.0341186028 0.0000000000 0.0000000000\n",
              "  [41] 0.0000000000 0.0000000000 0.0000000000 0.0000000000 0.0000000000\n",
              "  [46] 0.0000000000 0.0000000000 0.0000000000 0.0000000000 0.0000000000\n",
              "  [51] 0.0000000000 0.0000000000 0.0000000000 0.0000000000 0.0000000000\n",
              "  [56] 0.0000000000 0.0000000000 0.0000000000 0.0000000000 0.0000000000\n",
              "  [61] 0.0000000000 0.0000000000 0.0000000000 0.0000000000 0.0000000000\n",
              "  [66] 0.0000000000 0.0000000000 0.0000000000 0.0000000000 0.0000000000\n",
              "  [71] 0.0000000000 0.0000000000 0.0000000000 0.0000000000 0.0000000000\n",
              "  [76] 0.0000000000 0.0000000000 0.0000000000 0.0000000000 0.0000000000\n",
              "  [81] 0.0000000000 0.0000000000 0.0000000000 0.0000000000 0.0000000000\n",
              "  [86] 0.0000000000 0.0000000000 0.0000000000 0.0000000000 0.0000000000\n",
              "  [91] 0.0000000000 0.0000000000 0.0000000000 0.0000000000 0.0000000000\n",
              "  [96] 0.0000000000 0.0000000000 0.0000000000 0.0000000000 0.0000000000\n",
              " [101] 0.0000000000 0.0000000000 0.0000000000 0.0000000000 0.0000000000\n",
              " [106] 0.0000000000 0.0000000000 0.0000000000 0.0000000000 0.0000000000\n",
              " [111] 0.0000000000 0.0000000000 0.0000000000 0.0097481722 0.0000000000\n",
              " [116] 0.0227457352 0.0000000000 0.0000000000 0.0000000000 0.0000000000\n",
              " [121] 0.0000000000 0.0000000000 0.0000000000 0.0000000000 0.0000000000\n",
              " [126] 0.0000000000 0.0000000000 0.0000000000 0.0000000000 0.0000000000\n",
              " [131] 0.0000000000 0.0000000000 0.0000000000 0.0000000000 0.0000000000\n",
              " [136] 0.0000000000 0.0000000000 0.0000000000 0.0000000000 0.0000000000\n",
              " [141] 0.0000000000 0.0000000000 0.0000000000 0.0000000000 0.0000000000\n",
              " [146] 0.0000000000 0.0000000000 0.0000000000 0.0000000000 0.0000000000\n",
              " [151] 0.0000000000 0.0146222583 0.0000000000 0.0349309504 0.0000000000\n",
              " [156] 0.0000000000 0.0000000000 0.0000000000 0.0000000000 0.0000000000\n",
              " [161] 0.0000000000 0.0000000000 0.0000000000 0.0000000000 0.0000000000\n",
              " [166] 0.0000000000 0.0000000000 0.0000000000 0.0000000000 0.0000000000\n",
              " [171] 0.0000000000 0.0000000000 0.0000000000 0.0000000000 0.0000000000\n",
              " [176] 0.0000000000 0.0000000000 0.0000000000 0.0000000000 0.0000000000\n",
              " [181] 0.0000000000 0.0000000000 0.0000000000 0.0000000000 0.0000000000\n",
              " [186] 0.0000000000 0.0000000000 0.0000000000 0.0000000000 0.0000000000\n",
              " [191] 0.0000000000 0.0000000000 0.0000000000 0.0000000000 0.0000000000\n",
              " [196] 0.0000000000 0.0000000000 0.0000000000 0.0000000000 0.0000000000\n",
              " [201] 0.0000000000 0.0000000000 0.0000000000 0.0000000000 0.0000000000\n",
              " [206] 0.0000000000 0.0000000000 0.0000000000 0.0000000000 0.0000000000\n",
              " [211] 0.0268074736 0.0000000000 0.0113728676 0.0000000000 0.0000000000\n",
              " [216] 0.0000000000 0.0000000000 0.0000000000 0.0000000000 0.0000000000\n",
              " [221] 0.0000000000 0.0000000000 0.0000000000 0.0000000000 0.0000000000\n",
              " [226] 0.0000000000 0.0000000000 0.0000000000 0.0000000000 0.0000000000\n",
              " [231] 0.0000000000 0.0000000000 0.0000000000 0.0000000000 0.0000000000\n",
              " [236] 0.0000000000 0.0000000000 0.0000000000 0.0000000000 0.0000000000\n",
              " [241] 0.0000000000 0.0000000000 0.0000000000 0.0000000000 0.0000000000\n",
              " [246] 0.0000000000 0.0000000000 0.0000000000 0.0000000000 0.0000000000\n",
              " [251] 0.0000000000 0.0000000000 0.0000000000 0.0000000000 0.0000000000\n",
              " [256] 0.0000000000 0.0000000000 0.0000000000 0.0000000000 0.0000000000\n",
              " [261] 0.0000000000 0.0000000000 0.0000000000 0.0000000000 0.0000000000\n",
              " [266] 0.0000000000 0.0000000000 0.0000000000 0.0000000000 0.0000000000\n",
              " [271] 0.0000000000 0.0000000000 0.0000000000 0.0000000000 0.0000000000\n",
              " [276] 0.0000000000 0.0000000000 0.0000000000 0.0000000000 0.0000000000\n",
              " [281] 0.0000000000 0.0000000000 0.0000000000 0.0000000000 0.0000000000\n",
              " [286] 0.0000000000 0.0008123477 0.0000000000 0.0000000000 0.0000000000\n",
              " [291] 0.0000000000 0.0000000000 0.0000000000 0.0000000000 0.0000000000\n",
              " [296] 0.0000000000 0.0000000000 0.0000000000 0.0000000000 0.0000000000\n",
              " [301] 0.0000000000 0.0000000000 0.0000000000 0.0000000000 0.0000000000\n",
              " [306] 0.0000000000 0.0000000000 0.0000000000 0.0000000000 0.0000000000\n",
              " [311] 0.0000000000 0.0000000000 0.0000000000 0.0000000000 0.0000000000\n",
              " [316] 0.0000000000 0.0000000000 0.0000000000 0.0000000000 0.0000000000\n",
              " [321] 0.0000000000 0.0000000000 0.0000000000 0.0000000000 0.0000000000\n",
              " [326] 0.0000000000 0.0000000000 0.0000000000 0.0000000000 0.0000000000\n",
              " [331] 0.0000000000 0.0000000000 0.0000000000 0.0000000000 0.0000000000\n",
              " [336] 0.0000000000 0.0000000000 0.0000000000 0.0000000000 0.0000000000\n",
              " [341] 0.0000000000 0.0000000000 0.0000000000 0.0000000000 0.0000000000\n",
              " [346] 0.0000000000 0.0000000000 0.0000000000 0.0000000000 0.0000000000\n",
              " [351] 0.0000000000 0.0000000000 0.0000000000 0.0000000000 0.0000000000\n",
              " [356] 0.0000000000 0.0000000000 0.0162469537 0.0000000000 0.0471161657\n",
              " [361] 0.0000000000 0.0000000000 0.0000000000 0.0000000000 0.0000000000\n",
              " [366] 0.0000000000 0.0000000000 0.0000000000 0.0000000000 0.0000000000\n",
              " [371] 0.0000000000 0.0000000000 0.0000000000 0.0000000000 0.0000000000\n",
              " [376] 0.0000000000 0.0000000000 0.0000000000 0.0000000000 0.0000000000\n",
              " [381] 0.0000000000 0.0000000000 0.0000000000 0.0000000000 0.0000000000\n",
              " [386] 0.0000000000 0.0000000000 0.0000000000 0.0000000000 0.0000000000\n",
              " [391] 0.0000000000 0.0000000000 0.0000000000 0.0000000000 0.0000000000\n",
              " [396] 0.0000000000 0.0000000000 0.0000000000 0.0138099106 0.0121852153\n",
              " [401] 0.0032493907 0.0381803412 0.0000000000 0.0000000000 0.0000000000\n",
              " [406] 0.0000000000 0.0000000000 0.0000000000 0.0000000000 0.0000000000\n",
              " [411] 0.0000000000 0.0000000000 0.0000000000 0.0000000000 0.0000000000\n",
              " [416] 0.0000000000 0.0000000000 0.0000000000 0.0000000000 0.0000000000\n",
              " [421] 0.0000000000 0.0000000000 0.0000000000 0.0000000000 0.0000000000\n",
              " [426] 0.0000000000 0.0000000000 0.0000000000 0.0000000000 0.0000000000\n",
              " [431] 0.0000000000 0.0000000000 0.0000000000 0.0000000000 0.0000000000\n",
              " [436] 0.0000000000 0.0000000000 0.0040617384 0.0000000000 0.0105605199\n",
              " [441] 0.0000000000 0.0000000000 0.0000000000 0.0000000000 0.0000000000\n",
              " [446] 0.0000000000 0.0000000000 0.0000000000 0.0000000000 0.0000000000\n",
              " [451] 0.0000000000 0.0000000000 0.0000000000 0.0000000000 0.0000000000\n",
              " [456] 0.0000000000 0.0000000000 0.0000000000 0.0000000000 0.0000000000\n",
              " [461] 0.0000000000 0.0000000000 0.0000000000 0.0000000000 0.0000000000\n",
              " [466] 0.0000000000 0.0000000000 0.0000000000 0.0000000000 0.0000000000\n",
              " [471] 0.0000000000 0.0000000000 0.0000000000 0.0000000000 0.0000000000\n",
              " [476] 0.0000000000 0.0000000000 0.0000000000 0.0000000000 0.0000000000\n",
              " [481] 0.0000000000 0.0000000000 0.0000000000 0.0000000000 0.0000000000\n",
              " [486] 0.0000000000 0.0000000000 0.0000000000 0.0000000000 0.0000000000\n",
              " [491] 0.0000000000 0.0000000000 0.0146222583 0.0113728676 0.0000000000\n",
              " [496] 0.0357432981 0.0000000000 0.0000000000 0.0000000000 0.0000000000\n",
              " [501] 0.0000000000 0.0000000000 0.0000000000 0.0000000000 0.0000000000\n",
              " [506] 0.0000000000 0.0000000000 0.0000000000 0.0000000000 0.0000000000\n",
              " [511] 0.0000000000 0.0000000000 0.0000000000 0.0000000000 0.0000000000\n",
              " [516] 0.0000000000 0.0000000000 0.0000000000 0.0000000000 0.0000000000\n",
              " [521] 0.0000000000 0.0000000000 0.0000000000 0.0000000000 0.0000000000\n",
              " [526] 0.0000000000 0.0000000000 0.0000000000 0.0000000000 0.0000000000\n",
              " [531] 0.0000000000 0.0000000000 0.0000000000 0.0000000000 0.0000000000\n",
              " [536] 0.0000000000 0.0000000000 0.0000000000 0.0000000000 0.0000000000\n",
              " [541] 0.0341186028 0.0000000000 0.0194963444 0.0000000000 0.0000000000\n",
              " [546] 0.0000000000 0.0000000000 0.0000000000 0.0000000000 0.0000000000\n",
              " [551] 0.0000000000 0.0000000000 0.0000000000 0.0000000000 0.0000000000\n",
              " [556] 0.0000000000 0.0000000000 0.0000000000 0.0000000000 0.0000000000\n",
              " [561] 0.0000000000 0.0000000000 0.0000000000 0.0000000000 0.0000000000\n",
              " [566] 0.0000000000 0.0000000000 0.0000000000 0.0000000000 0.0000000000\n",
              " [571] 0.0000000000 0.0000000000 0.0000000000 0.0000000000 0.0000000000\n",
              " [576] 0.0000000000 0.0000000000 0.0000000000 0.0000000000 0.0000000000\n",
              " [581] 0.0000000000 0.0000000000 0.0000000000 0.0000000000 0.0000000000\n",
              " [586] 0.0000000000 0.0000000000 0.0000000000 0.0000000000 0.0000000000\n",
              " [591] 0.0000000000 0.0000000000 0.0000000000 0.0000000000 0.0000000000\n",
              " [596] 0.0000000000 0.0000000000 0.0000000000 0.0000000000 0.0000000000\n",
              " [601] 0.0000000000 0.0000000000 0.0000000000 0.0000000000 0.0000000000\n",
              " [606] 0.0000000000 0.0000000000 0.0000000000 0.0000000000 0.0000000000\n",
              " [611] 0.0000000000 0.0000000000 0.0000000000 0.0000000000 0.0000000000\n",
              " [616] 0.0000000000 0.0000000000 0.0000000000 0.0000000000 0.0000000000\n",
              " [621] 0.0000000000 0.0000000000 0.0000000000 0.0000000000 0.0000000000\n",
              " [626] 0.0000000000 0.0000000000 0.0073111292 0.0097481722 0.0016246954\n",
              " [631] 0.0000000000 0.0000000000 0.0000000000 0.0000000000 0.0000000000\n",
              " [636] 0.0000000000 0.0000000000 0.0000000000 0.0000000000 0.0000000000\n",
              " [641] 0.0000000000 0.0000000000 0.0000000000 0.0000000000 0.0000000000\n",
              " [646] 0.0000000000 0.0000000000 0.0000000000 0.0000000000 0.0000000000\n",
              " [651] 0.0000000000 0.0000000000 0.0000000000 0.0000000000 0.0000000000\n",
              " [656] 0.0000000000 0.0219333875 0.0000000000 0.0162469537 0.0000000000\n",
              " [661] 0.0000000000 0.0000000000 0.0000000000 0.0000000000 0.0000000000\n",
              " [666] 0.0000000000 0.0000000000 0.0000000000 0.0000000000 0.0000000000\n",
              " [671] 0.0000000000 0.0000000000 0.0000000000 0.0000000000 0.0113728676\n",
              " [676] 0.0000000000 0.0000000000 0.0000000000 0.0000000000 0.0000000000\n",
              " [681] 0.0000000000 0.0000000000 0.0000000000 0.0000000000 0.0000000000\n",
              " [686] 0.0000000000 0.0000000000 0.0000000000 0.0000000000 0.0000000000\n",
              " [691] 0.0000000000 0.0000000000 0.0000000000 0.0000000000 0.0000000000\n",
              " [696] 0.0000000000 0.0000000000 0.0000000000 0.0000000000 0.0000000000\n",
              " [701] 0.0000000000 0.0000000000 0.0000000000 0.0000000000 0.0000000000\n",
              " [706] 0.0000000000 0.0000000000 0.0000000000 0.0000000000 0.0000000000\n",
              " [711] 0.0000000000 0.0000000000 0.0000000000 0.0000000000 0.0000000000\n",
              " [716] 0.0000000000 0.0000000000 0.0000000000 0.0000000000 0.0000000000\n",
              " [721] 0.0000000000 0.0268074736 0.0000000000 0.0430544273 0.0000000000\n",
              " [726] 0.0000000000 0.0000000000 0.0000000000 0.0000000000 0.0000000000\n",
              " [731] 0.0000000000 0.0000000000 0.0000000000 0.0000000000 0.0000000000\n",
              " [736] 0.0000000000 0.0000000000 0.0000000000 0.0000000000 0.0000000000\n",
              " [741] 0.0000000000 0.0000000000 0.0000000000 0.0000000000 0.0000000000\n",
              " [746] 0.0000000000 0.0000000000 0.0000000000 0.0000000000 0.0000000000\n",
              " [751] 0.0000000000 0.0000000000 0.0000000000 0.0000000000 0.0000000000\n",
              " [756] 0.0000000000 0.0000000000 0.0000000000 0.0000000000 0.0000000000\n",
              " [761] 0.0000000000 0.0000000000 0.0000000000 0.0000000000 0.0000000000\n",
              " [766] 0.0000000000 0.0000000000 0.0000000000 0.0000000000 0.0000000000\n",
              " [771] 0.0000000000 0.0000000000 0.0000000000 0.0000000000 0.0000000000\n",
              " [776] 0.0000000000 0.0000000000 0.0000000000 0.0000000000 0.0000000000\n",
              " [781] 0.0000000000 0.0000000000 0.0000000000 0.0000000000 0.0000000000\n",
              " [786] 0.0000000000 0.0000000000 0.0000000000 0.0000000000 0.0000000000\n",
              " [791] 0.0000000000 0.0000000000 0.0000000000 0.0000000000 0.0000000000\n",
              " [796] 0.0000000000 0.0000000000 0.0000000000 0.0000000000 0.0000000000\n",
              " [801] 0.0211210398 0.0024370431 0.0219333875 0.0000000000 0.0000000000\n",
              " [806] 0.0000000000 0.0000000000 0.0000000000 0.0000000000 0.0000000000\n",
              " [811] 0.0000000000 0.0000000000 0.0000000000 0.0000000000 0.0000000000\n",
              " [816] 0.0000000000 0.0000000000 0.0000000000 0.0000000000 0.0000000000\n",
              " [821] 0.0000000000 0.0000000000 0.0000000000 0.0000000000 0.0000000000\n",
              " [826] 0.0000000000 0.0000000000 0.0000000000 0.0000000000 0.0000000000\n",
              " [831] 0.0000000000 0.0000000000 0.0000000000 0.0000000000 0.0000000000\n",
              " [836] 0.0000000000 0.0000000000 0.0000000000 0.0000000000 0.0000000000\n",
              " [841] 0.0000000000 0.0000000000 0.0000000000 0.0000000000 0.0000000000\n",
              " [846] 0.0000000000 0.0000000000 0.0000000000 0.0000000000 0.0000000000\n",
              " [851] 0.0000000000 0.0000000000 0.0000000000 0.0000000000 0.0000000000\n",
              " [856] 0.0000000000 0.0357432981 0.0000000000 0.0129975630 0.0000000000\n",
              " [861] 0.0000000000 0.0000000000 0.0000000000 0.0000000000 0.0000000000\n",
              " [866] 0.0000000000 0.0000000000 0.0000000000 0.0000000000 0.0000000000\n",
              " [871] 0.0000000000 0.0000000000 0.0000000000 0.0000000000 0.0000000000\n",
              " [876] 0.0000000000 0.0000000000 0.0000000000 0.0000000000 0.0000000000\n",
              " [881] 0.0000000000 0.0000000000 0.0000000000 0.0000000000 0.0000000000\n",
              " [886] 0.0000000000 0.0000000000 0.0000000000 0.0000000000 0.0000000000\n",
              " [891] 0.0000000000 0.0000000000 0.0000000000 0.0000000000 0.0000000000\n",
              " [896] 0.0000000000 0.0000000000 0.0000000000 0.0000000000 0.0000000000\n",
              " [901] 0.0000000000 0.0000000000 0.0000000000 0.0000000000 0.0000000000\n",
              " [906] 0.0000000000 0.0000000000 0.0000000000 0.0146222583 0.0000000000\n",
              " [911] 0.0081234768 0.0000000000 0.0000000000 0.0000000000 0.0000000000\n",
              " [916] 0.0000000000 0.0000000000 0.0000000000 0.0000000000 0.0000000000\n",
              " [921] 0.0000000000 0.0000000000 0.0000000000 0.0008123477 0.0008123477\n",
              " [926] 0.0024370431 0.0073111292 0.0000000000 0.0000000000 0.0000000000\n",
              " [931] 0.0000000000 0.0000000000 0.0000000000 0.0000000000 0.0000000000\n",
              " [936] 0.0000000000 0.0000000000 0.0000000000 0.0000000000 0.0000000000\n",
              " [941] 0.0000000000 0.0000000000 0.0000000000 0.0000000000 0.0000000000\n",
              " [946] 0.0000000000 0.0000000000 0.0000000000 0.0000000000 0.0000000000\n",
              " [951] 0.0000000000 0.0000000000 0.0000000000 0.0000000000 0.0000000000\n",
              " [956] 0.0000000000 0.0000000000 0.0000000000 0.0000000000 0.0000000000\n",
              " [961] 0.0000000000 0.0000000000 0.0000000000 0.0000000000 0.0000000000\n",
              " [966] 0.0000000000 0.0000000000 0.0000000000 0.0000000000 0.0040617384\n",
              " [971] 0.0000000000 0.0138099106 0.0000000000 0.0000000000 0.0000000000\n",
              " [976] 0.0000000000 0.0000000000 0.0000000000 0.0000000000 0.0000000000\n",
              " [981] 0.0000000000 0.0000000000 0.0000000000 0.0000000000 0.0000000000\n",
              " [986] 0.0000000000 0.0000000000 0.0000000000 0.0000000000 0.0000000000\n",
              " [991] 0.0000000000 0.0000000000 0.0000000000 0.0000000000 0.0000000000\n",
              " [996] 0.0000000000 0.0000000000 0.0000000000 0.0000000000 0.0000000000\n",
              "[1001] 0.0000000000 0.0000000000 0.0000000000 0.0000000000 0.0000000000\n",
              "[1006] 0.0000000000 0.0000000000 0.0000000000 0.0000000000 0.0203086921\n",
              "[1011] 0.0081234768 0.0016246954 0.0300568643 0.0000000000 0.0000000000\n",
              "[1016] 0.0000000000 0.0000000000 0.0000000000 0.0000000000 0.0000000000\n",
              "[1021] 0.0000000000 0.0000000000 0.0000000000 0.0000000000 0.0308692120\n",
              "[1026] 0.0081234768 0.0024370431 0.0349309504 0.0000000000 0.0000000000\n",
              "[1031] 0.0000000000 0.0000000000 0.0000000000 0.0000000000 0.0000000000\n",
              "[1036] 0.0000000000 0.0000000000 0.0000000000 0.0000000000 0.0000000000\n",
              "[1041] 0.0000000000 0.0000000000 0.0000000000 0.0000000000 0.0000000000\n",
              "[1046] 0.0000000000 0.0000000000 0.0000000000 0.0000000000 0.0000000000\n",
              "[1051] 0.0000000000 0.0000000000 0.0000000000 0.0000000000 0.0000000000\n",
              "[1056] 0.0000000000 0.0000000000 0.0000000000 0.0000000000 0.0000000000\n",
              "[1061] 0.0000000000 0.0000000000 0.0000000000 0.0000000000 0.0000000000\n",
              "[1066] 0.0000000000 0.0000000000 0.0000000000 0.0000000000 0.0000000000\n",
              "[1071] 0.0000000000 0.0000000000 0.0000000000 0.0000000000 0.0000000000\n",
              "[1076] 0.0000000000 0.0000000000 0.0000000000 0.0000000000 0.0000000000\n",
              "[1081] 0.0000000000 0.0000000000 0.0000000000 0.0000000000 0.0000000000\n",
              "[1086] 0.0000000000 0.0000000000 0.0000000000 0.0000000000 0.0000000000\n",
              "[1091] 0.0000000000 0.0000000000 0.0000000000 0.0000000000 0.0000000000\n",
              "[1096] 0.0000000000 0.0000000000 0.0000000000 0.0000000000 0.0000000000\n",
              "[1101] 0.0000000000 0.0000000000 0.0000000000 0.0000000000 0.0000000000\n",
              "[1106] 0.0000000000 0.0000000000 0.0000000000 0.0000000000 0.0000000000\n",
              "[1111] 0.0000000000 0.0000000000 0.0000000000 0.0000000000 0.0000000000\n",
              "[1116] 0.0000000000 0.0000000000 0.0000000000 0.0000000000 0.0000000000\n",
              "[1121] 0.0000000000 0.0000000000 0.0121852153 0.0162469537 0.0097481722\n",
              "[1126] 0.0398050366 0.0000000000 0.0000000000 0.0000000000 0.0000000000\n",
              "[1131] 0.0000000000 0.0000000000 0.0000000000 0.0000000000 0.0000000000\n",
              "[1136] 0.0000000000 0.0000000000 0.0000000000 0.0000000000 0.0000000000\n",
              "[1141] 0.0000000000 0.0000000000 0.0000000000 0.0000000000 0.0000000000\n",
              "[1146] 0.0000000000 0.0000000000 0.0000000000 0.0000000000 0.0000000000\n",
              "[1151] 0.0000000000 0.0000000000 0.0000000000 0.0000000000 0.0000000000\n",
              "[1156] 0.0000000000 0.0000000000 0.0000000000 0.0000000000 0.0000000000\n",
              "[1161] 0.0000000000 0.0000000000 0.0000000000 0.0000000000 0.0000000000\n",
              "[1166] 0.0000000000 0.0000000000 0.0000000000 0.0000000000 0.0000000000\n",
              "[1171] 0.0000000000 0.0000000000 0.0000000000 0.0000000000 0.0000000000\n",
              "[1176] 0.0000000000 0.0000000000 0.0000000000 0.0000000000 0.0000000000\n",
              "[1181] 0.0000000000 0.0000000000 0.0000000000 0.0000000000 0.0000000000\n",
              "[1186] 0.0000000000 0.0000000000 0.0000000000 0.0000000000 0.0000000000\n",
              "[1191] 0.0000000000 0.0000000000 0.0000000000 0.0000000000 0.0097481722\n",
              "[1196] 0.0000000000 0.0000000000 0.0000000000 0.0000000000 0.0000000000\n",
              "[1201] 0.0000000000 0.0000000000 0.0000000000 0.0000000000 0.0000000000\n",
              "[1206] 0.0000000000 0.0000000000 0.0000000000 0.0000000000 0.0000000000\n",
              "[1211] 0.0000000000 0.0000000000 0.0000000000 0.0000000000 0.0000000000\n",
              "[1216] 0.0000000000 0.0000000000 0.0000000000 0.0000000000 0.0000000000\n",
              "[1221] 0.0000000000 0.0000000000 0.0000000000 0.0000000000 0.0000000000\n",
              "[1226] 0.0000000000 0.0000000000 0.0000000000 0.0000000000 0.0000000000\n",
              "[1231] 0.0000000000 0.0000000000 0.0000000000 0.0000000000 0.0000000000\n",
              "[1236] 0.0000000000 0.0000000000 0.0000000000 0.0000000000 0.0000000000\n",
              "[1241] 0.0000000000 0.0000000000 0.0000000000 0.0000000000 0.0000000000\n",
              "[1246] 0.0000000000 0.0000000000 0.0105605199 0.0349309504 0.0000000000\n",
              "[1251] 0.0000000000 0.0000000000 0.0000000000 0.0000000000 0.0000000000\n",
              "[1256] 0.0000000000 0.0000000000 0.0000000000 0.0000000000 0.0000000000"
            ]
          },
          "metadata": {}
        }
      ]
    },
    {
      "cell_type": "code",
      "source": [
        "# Merging the full names of condon into codon usage data frame\n",
        "codon_usage_2 <- merge(codon_usage_2, amino_acid_names,\n",
        "                     by.x = \"AminoAcid\", by.y = \"Abbreviation\", all.x = TRUE)"
      ],
      "metadata": {
        "id": "CMHr_deLqvFl"
      },
      "execution_count": null,
      "outputs": []
    },
    {
      "cell_type": "markdown",
      "source": [
        "Codons are named by amino acid with usage probability"
      ],
      "metadata": {
        "id": "24fXY4gYqvFm"
      }
    },
    {
      "cell_type": "code",
      "source": [
        "# Output the codon usage with usage probability and codon full names for the second sequence, save to file in csv format named \"codon_usage_2.csv\"\n",
        "output_2 <- codon_usage_2[codon_usage_2$Count > 0, ]\n",
        "colnames(output_2) <- c(\"Amino_acids\", \"Codon\", \"Count\", \"Probability\", \"Full Name\")\n",
        "print(output_2)\n",
        "write.csv(output,\"./Bioinformatics Exercise/codon_usage_2.csv\",row.names=F)"
      ],
      "metadata": {
        "colab": {
          "base_uri": "https://localhost:8080/"
        },
        "outputId": "c2279eb7-261a-4bc2-ff83-1c4c24277ffe",
        "id": "pyNjsaKpqvFm"
      },
      "execution_count": null,
      "outputs": [
        {
          "output_type": "stream",
          "name": "stdout",
          "text": [
            "     Amino_acids Codon Count  Probability     Full Name\n",
            "35             A   GCA    27 0.0219333875       Alanine\n",
            "36             A   GCC     8 0.0064987815       Alanine\n",
            "37             A   GCG     2 0.0016246954       Alanine\n",
            "38             A   GCT    42 0.0341186028       Alanine\n",
            "114            C   TGC    12 0.0097481722      Cysteine\n",
            "116            C   TGT    28 0.0227457352      Cysteine\n",
            "152            D   GAC    18 0.0146222583 Aspartic Acid\n",
            "154            D   GAT    43 0.0349309504 Aspartic Acid\n",
            "211            E   GAA    33 0.0268074736 Glutamic Acid\n",
            "213            E   GAG    14 0.0113728676 Glutamic Acid\n",
            "287          End   TAA     1 0.0008123477   Termination\n",
            "358            F   TTC    20 0.0162469537 Phenylalanine\n",
            "360            F   TTT    58 0.0471161657 Phenylalanine\n",
            "399            G   GGA    17 0.0138099106       Glycine\n",
            "400            G   GGC    15 0.0121852153       Glycine\n",
            "401            G   GGG     4 0.0032493907       Glycine\n",
            "402            G   GGT    47 0.0381803412       Glycine\n",
            "438            H   CAC     5 0.0040617384     Histidine\n",
            "440            H   CAT    13 0.0105605199     Histidine\n",
            "493            I   ATA    18 0.0146222583    Isoleucine\n",
            "494            I   ATC    14 0.0113728676    Isoleucine\n",
            "496            I   ATT    44 0.0357432981    Isoleucine\n",
            "541            K   AAA    42 0.0341186028        Lysine\n",
            "543            K   AAG    24 0.0194963444        Lysine\n",
            "628            L   CTA     9 0.0073111292       Leucine\n",
            "629            L   CTC    12 0.0097481722       Leucine\n",
            "630            L   CTG     2 0.0016246954       Leucine\n",
            "657            L   TTA    27 0.0219333875       Leucine\n",
            "659            L   TTG    20 0.0162469537       Leucine\n",
            "675            M   ATG    14 0.0113728676    Methionine\n",
            "722            N   AAC    33 0.0268074736    Asparagine\n",
            "724            N   AAT    53 0.0430544273    Asparagine\n",
            "801            P   CCA    26 0.0211210398       Proline\n",
            "802            P   CCC     3 0.0024370431       Proline\n",
            "803            P   CCT    27 0.0219333875       Proline\n",
            "857            Q   CAA    44 0.0357432981     Glutamine\n",
            "859            Q   CAG    16 0.0129975630     Glutamine\n",
            "909            R   AGA    18 0.0146222583      Arginine\n",
            "911            R   AGG    10 0.0081234768      Arginine\n",
            "924            R   CGA     1 0.0008123477      Arginine\n",
            "925            R   CGC     1 0.0008123477      Arginine\n",
            "926            R   CGG     3 0.0024370431      Arginine\n",
            "927            R   CGT     9 0.0073111292      Arginine\n",
            "970            S   AGC     5 0.0040617384        Serine\n",
            "972            S   AGT    17 0.0138099106        Serine\n",
            "1010           S   TCA    25 0.0203086921        Serine\n",
            "1011           S   TCC    10 0.0081234768        Serine\n",
            "1012           S   TCG     2 0.0016246954        Serine\n",
            "1013           S   TCT    37 0.0300568643        Serine\n",
            "1025           T   ACA    38 0.0308692120     Threonine\n",
            "1026           T   ACC    10 0.0081234768     Threonine\n",
            "1027           T   ACG     3 0.0024370431     Threonine\n",
            "1028           T   ACT    43 0.0349309504     Threonine\n",
            "1123           V   GTA    15 0.0121852153        Valine\n",
            "1124           V   GTC    20 0.0162469537        Valine\n",
            "1125           V   GTG    12 0.0097481722        Valine\n",
            "1126           V   GTT    49 0.0398050366        Valine\n",
            "1195           W   TGG    12 0.0097481722    Tryptophan\n",
            "1248           Y   TAC    13 0.0105605199      Tyrosine\n",
            "1249           Y   TAT    43 0.0349309504      Tyrosine\n"
          ]
        }
      ]
    },
    {
      "cell_type": "markdown",
      "source": [
        "Codon usages for both sequences are generated, since codon usage may affect the host translational mechanisms, therefore it is important to study the codon usage for the spike coding region in order to understand its impact on translation. As seen from the above results, after eliminating the \"NA\" codons for both sequences, the total codons for sequence 1 is 1238 and for sequence 2 is 1231. As a result, the codon usage probability for the two sequences may differ from each other as illustrated in the data frames shown above."
      ],
      "metadata": {
        "id": "S6yYHasKd1Zw"
      }
    },
    {
      "cell_type": "markdown",
      "source": [
        "## **4. Reproducibility and Data Organization**\n",
        "As shown from the data generated above, filtered and extracted data from the well organized files can be reproduced successfully. It is important to maintain a good data organization practices in bioinformatics workflows as data reproducibility plays a crucial role in generating same results everytime the Colab notebook is run."
      ],
      "metadata": {
        "id": "3JtX6ZFobeBn"
      }
    },
    {
      "cell_type": "markdown",
      "source": [
        "## **5. Reflection on Bioinformatics Data Skills**\n",
        "Two randomly selected sequences are chosen for data analysis, by using set seed function in R, the same results can be reproduced everytime and thus enhance reproducibility for users. When extracting and filtering sequences for certain data analysis, clear and precise data filing name should be created for ease of understanding and application. Filtered data should be stored in a easy-to-understand naming format in order for better data extraction and reproducibility. Files in the directory should be checked to ensure the names are correct for such purpose.\n",
        "\n",
        "---\n",
        "\n"
      ],
      "metadata": {
        "id": "aawFrFfFa84T"
      }
    },
    {
      "cell_type": "code",
      "source": [],
      "metadata": {
        "id": "s-J8fOtE44eh"
      },
      "execution_count": null,
      "outputs": []
    },
    {
      "cell_type": "code",
      "source": [],
      "metadata": {
        "id": "md-nYnxA44aK"
      },
      "execution_count": null,
      "outputs": []
    },
    {
      "cell_type": "code",
      "source": [],
      "metadata": {
        "id": "phgvhs6f44WQ"
      },
      "execution_count": null,
      "outputs": []
    },
    {
      "cell_type": "code",
      "source": [],
      "metadata": {
        "id": "eQDn8E9b44Sh"
      },
      "execution_count": null,
      "outputs": []
    },
    {
      "cell_type": "code",
      "source": [],
      "metadata": {
        "id": "1qr23eax44Ob"
      },
      "execution_count": null,
      "outputs": []
    },
    {
      "cell_type": "code",
      "source": [],
      "metadata": {
        "id": "RnY-I3fr44KX"
      },
      "execution_count": null,
      "outputs": []
    },
    {
      "cell_type": "code",
      "source": [],
      "metadata": {
        "id": "_rJYIu3K44GU"
      },
      "execution_count": null,
      "outputs": []
    },
    {
      "cell_type": "code",
      "source": [],
      "metadata": {
        "id": "9B6Ilprs44Ca"
      },
      "execution_count": null,
      "outputs": []
    },
    {
      "cell_type": "code",
      "source": [],
      "metadata": {
        "id": "xMLOWxJV43-K"
      },
      "execution_count": null,
      "outputs": []
    },
    {
      "cell_type": "code",
      "source": [],
      "metadata": {
        "id": "jgoV2lyd436C"
      },
      "execution_count": null,
      "outputs": []
    },
    {
      "cell_type": "code",
      "source": [],
      "metadata": {
        "id": "LQsbM-WA431a"
      },
      "execution_count": null,
      "outputs": []
    },
    {
      "cell_type": "code",
      "source": [],
      "metadata": {
        "id": "t4hun0mH43w4"
      },
      "execution_count": null,
      "outputs": []
    },
    {
      "cell_type": "code",
      "source": [],
      "metadata": {
        "id": "YZyFosDc43ro"
      },
      "execution_count": null,
      "outputs": []
    },
    {
      "cell_type": "code",
      "source": [],
      "metadata": {
        "id": "vBUo9kHj43lK"
      },
      "execution_count": null,
      "outputs": []
    },
    {
      "cell_type": "code",
      "source": [],
      "metadata": {
        "id": "rNS0nxib43bj"
      },
      "execution_count": null,
      "outputs": []
    },
    {
      "cell_type": "code",
      "source": [],
      "metadata": {
        "id": "ZWPupD3s24z4"
      },
      "execution_count": null,
      "outputs": []
    },
    {
      "cell_type": "code",
      "source": [],
      "metadata": {
        "id": "vpBquT5Y24rd"
      },
      "execution_count": null,
      "outputs": []
    },
    {
      "cell_type": "code",
      "source": [],
      "metadata": {
        "id": "2nrlrvJC24g_"
      },
      "execution_count": null,
      "outputs": []
    },
    {
      "cell_type": "code",
      "source": [],
      "metadata": {
        "id": "2QSqXdfL24VY"
      },
      "execution_count": null,
      "outputs": []
    },
    {
      "cell_type": "code",
      "source": [],
      "metadata": {
        "id": "eBGCAswn24Nr"
      },
      "execution_count": null,
      "outputs": []
    },
    {
      "cell_type": "code",
      "source": [],
      "metadata": {
        "id": "j8CNnsS324F3"
      },
      "execution_count": null,
      "outputs": []
    },
    {
      "cell_type": "code",
      "source": [],
      "metadata": {
        "id": "iezGPBk6239U"
      },
      "execution_count": null,
      "outputs": []
    },
    {
      "cell_type": "code",
      "source": [],
      "metadata": {
        "id": "7laUQkAa230n"
      },
      "execution_count": null,
      "outputs": []
    },
    {
      "cell_type": "code",
      "source": [],
      "metadata": {
        "id": "gtQavV5v23q4"
      },
      "execution_count": null,
      "outputs": []
    },
    {
      "cell_type": "code",
      "source": [],
      "metadata": {
        "id": "Oqym5dtD23Sl"
      },
      "execution_count": null,
      "outputs": []
    },
    {
      "cell_type": "code",
      "source": [],
      "metadata": {
        "id": "uBNgeNS92_cw"
      },
      "execution_count": null,
      "outputs": []
    },
    {
      "cell_type": "code",
      "source": [],
      "metadata": {
        "id": "rk8Pz2W62_ZX"
      },
      "execution_count": null,
      "outputs": []
    },
    {
      "cell_type": "code",
      "source": [],
      "metadata": {
        "id": "41Wm5Kjw2_WV"
      },
      "execution_count": null,
      "outputs": []
    },
    {
      "cell_type": "code",
      "source": [],
      "metadata": {
        "id": "4IzQaXLa2_TS"
      },
      "execution_count": null,
      "outputs": []
    },
    {
      "cell_type": "code",
      "source": [],
      "metadata": {
        "id": "pEe3BhuK2_QM"
      },
      "execution_count": null,
      "outputs": []
    },
    {
      "cell_type": "code",
      "source": [],
      "metadata": {
        "id": "dHlgUcSV2_NG"
      },
      "execution_count": null,
      "outputs": []
    },
    {
      "cell_type": "code",
      "source": [],
      "metadata": {
        "id": "jdhB8jB52_J4"
      },
      "execution_count": null,
      "outputs": []
    },
    {
      "cell_type": "code",
      "source": [],
      "metadata": {
        "id": "mbfo5ItG2_Gt"
      },
      "execution_count": null,
      "outputs": []
    },
    {
      "cell_type": "code",
      "source": [],
      "metadata": {
        "id": "RGIxGae42_DP"
      },
      "execution_count": null,
      "outputs": []
    },
    {
      "cell_type": "code",
      "source": [],
      "metadata": {
        "id": "3ZrlqxIo2-_O"
      },
      "execution_count": null,
      "outputs": []
    },
    {
      "cell_type": "code",
      "source": [],
      "metadata": {
        "id": "RRjMxd_Z2-77"
      },
      "execution_count": null,
      "outputs": []
    },
    {
      "cell_type": "code",
      "source": [],
      "metadata": {
        "id": "Oq4uHUk-2-26"
      },
      "execution_count": null,
      "outputs": []
    },
    {
      "cell_type": "code",
      "source": [],
      "metadata": {
        "id": "syHMhM6a3J8X"
      },
      "execution_count": null,
      "outputs": []
    },
    {
      "cell_type": "code",
      "source": [],
      "metadata": {
        "id": "xiJMJoiz3J4Y"
      },
      "execution_count": null,
      "outputs": []
    },
    {
      "cell_type": "code",
      "source": [],
      "metadata": {
        "id": "llP3JgxQ3J0b"
      },
      "execution_count": null,
      "outputs": []
    },
    {
      "cell_type": "code",
      "source": [],
      "metadata": {
        "id": "qvTKzLcB3JxE"
      },
      "execution_count": null,
      "outputs": []
    },
    {
      "cell_type": "code",
      "source": [],
      "metadata": {
        "id": "Vy19uKeh3JtZ"
      },
      "execution_count": null,
      "outputs": []
    },
    {
      "cell_type": "code",
      "source": [],
      "metadata": {
        "id": "F6LdPMMU3JqP"
      },
      "execution_count": null,
      "outputs": []
    },
    {
      "cell_type": "code",
      "source": [],
      "metadata": {
        "id": "bidKfZO93Jmq"
      },
      "execution_count": null,
      "outputs": []
    },
    {
      "cell_type": "code",
      "source": [],
      "metadata": {
        "id": "WkKNRWSS3Jjn"
      },
      "execution_count": null,
      "outputs": []
    },
    {
      "cell_type": "code",
      "source": [],
      "metadata": {
        "id": "OJZFzkQP3JgO"
      },
      "execution_count": null,
      "outputs": []
    },
    {
      "cell_type": "code",
      "source": [],
      "metadata": {
        "id": "wM9nIH8U3Jcy"
      },
      "execution_count": null,
      "outputs": []
    },
    {
      "cell_type": "code",
      "source": [],
      "metadata": {
        "id": "eRDAzX4g3JYR"
      },
      "execution_count": null,
      "outputs": []
    },
    {
      "cell_type": "code",
      "source": [],
      "metadata": {
        "id": "32TzL_SB3JU4"
      },
      "execution_count": null,
      "outputs": []
    },
    {
      "cell_type": "code",
      "source": [],
      "metadata": {
        "id": "jQ7hqjdQ3JRU"
      },
      "execution_count": null,
      "outputs": []
    },
    {
      "cell_type": "code",
      "source": [],
      "metadata": {
        "id": "3ocn0Fgi3JN5"
      },
      "execution_count": null,
      "outputs": []
    },
    {
      "cell_type": "code",
      "source": [],
      "metadata": {
        "id": "WcNdoqZI3JKi"
      },
      "execution_count": null,
      "outputs": []
    },
    {
      "cell_type": "code",
      "source": [],
      "metadata": {
        "id": "2UwWAajs3JHK"
      },
      "execution_count": null,
      "outputs": []
    },
    {
      "cell_type": "code",
      "source": [],
      "metadata": {
        "id": "-k4a8v2z3JDx"
      },
      "execution_count": null,
      "outputs": []
    },
    {
      "cell_type": "code",
      "source": [],
      "metadata": {
        "id": "SnJxMl0M3JAe"
      },
      "execution_count": null,
      "outputs": []
    },
    {
      "cell_type": "code",
      "source": [],
      "metadata": {
        "id": "lCzmszqC3I9O"
      },
      "execution_count": null,
      "outputs": []
    },
    {
      "cell_type": "code",
      "source": [],
      "metadata": {
        "id": "TmZIzRbq3I5h"
      },
      "execution_count": null,
      "outputs": []
    },
    {
      "cell_type": "code",
      "source": [],
      "metadata": {
        "id": "MAISO67h3I2A"
      },
      "execution_count": null,
      "outputs": []
    },
    {
      "cell_type": "code",
      "source": [],
      "metadata": {
        "id": "QULPki_-3IyU"
      },
      "execution_count": null,
      "outputs": []
    },
    {
      "cell_type": "code",
      "source": [],
      "metadata": {
        "id": "dnH6pMc73Iup"
      },
      "execution_count": null,
      "outputs": []
    },
    {
      "cell_type": "code",
      "source": [],
      "metadata": {
        "id": "32rvUiyR3IrQ"
      },
      "execution_count": null,
      "outputs": []
    },
    {
      "cell_type": "code",
      "source": [],
      "metadata": {
        "id": "6khXscgG3Inm"
      },
      "execution_count": null,
      "outputs": []
    },
    {
      "cell_type": "code",
      "source": [],
      "metadata": {
        "id": "IEvVMKsp3Ij3"
      },
      "execution_count": null,
      "outputs": []
    },
    {
      "cell_type": "code",
      "source": [],
      "metadata": {
        "id": "deS1x8rl3IgP"
      },
      "execution_count": null,
      "outputs": []
    },
    {
      "cell_type": "code",
      "source": [],
      "metadata": {
        "id": "pWCGUyjr3IcU"
      },
      "execution_count": null,
      "outputs": []
    },
    {
      "cell_type": "code",
      "source": [],
      "metadata": {
        "id": "npoZ2vIa3IYl"
      },
      "execution_count": null,
      "outputs": []
    },
    {
      "cell_type": "code",
      "source": [],
      "metadata": {
        "id": "rinuKA_X3IVU"
      },
      "execution_count": null,
      "outputs": []
    },
    {
      "cell_type": "code",
      "source": [],
      "metadata": {
        "id": "CYtd80oI3IRS"
      },
      "execution_count": null,
      "outputs": []
    },
    {
      "cell_type": "code",
      "source": [],
      "metadata": {
        "id": "fohbJ6282-s1"
      },
      "execution_count": null,
      "outputs": []
    }
  ]
}